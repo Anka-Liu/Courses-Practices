{
 "cells": [
  {
   "cell_type": "code",
   "execution_count": 1,
   "metadata": {},
   "outputs": [],
   "source": [
    "import pandas as pd \n"
   ]
  },
  {
   "cell_type": "code",
   "execution_count": 2,
   "metadata": {},
   "outputs": [],
   "source": [
    "sdc=pd.read_excel(\"C:/Users/ankaa/Downloads/Datasets/Property Data Compiled.xlsx\")\n",
    "pdc=pd.read_excel(\"C:/Users/ankaa/Downloads/Datasets/Sales Data Compiled.xlsx\")"
   ]
  },
  {
   "cell_type": "code",
   "execution_count": 14,
   "metadata": {},
   "outputs": [],
   "source": [
    "buyer_zip_code=pdc.groupby('Buyer Zip Code')['Buyer Zip Code'].count()\n",
    "buyer_state=pdc.groupby(\"Buyer State\")[\"Buyer State\"].count()\n",
    "buyer_city=pdc.groupby(\"Buyer City\")[\"Buyer City\"].count()\n",
    "\n",
    "seller_zip_code=pdc.groupby(\"Seller Zip Code\")[\"Seller Zip Code\"].count()\n",
    "seller_state=pdc.groupby(\"Seller State\")[\"Seller State\"].count()\n",
    "seller_city=pdc.groupby(\"Seller City\")[\"Seller City\"].count()"
   ]
  },
  {
   "cell_type": "code",
   "execution_count": 19,
   "metadata": {},
   "outputs": [],
   "source": [
    "pdc[\"Total by buyer zip code\"]=pdc[\"Buyer Zip Code\"].map(buyer_zip_code)\n",
    "pdc[\"Total by buyer state\"]=pdc[\"Buyer State\"].map(buyer_state)\n",
    "pdc[\"Total by buyer city\"]=pdc[\"Buyer City\"].map(buyer_city)\n",
    "\n",
    "pdc[\"Total by seller zip code\"]=pdc[\"Seller Zip Code\"].map(seller_zip_code)\n",
    "pdc[\"Total by seller state\"]=pdc[\"Seller State\"].map(seller_state)\n",
    "pdc[\"Total by seller city\"]=pdc[\"Seller City\"].map(seller_city)"
   ]
  },
  {
   "cell_type": "code",
   "execution_count": null,
   "metadata": {},
   "outputs": [],
   "source": []
  }
 ],
 "metadata": {
  "kernelspec": {
   "display_name": "Python 3",
   "language": "python",
   "name": "python3"
  },
  "language_info": {
   "codemirror_mode": {
    "name": "ipython",
    "version": 3
   },
   "file_extension": ".py",
   "mimetype": "text/x-python",
   "name": "python",
   "nbconvert_exporter": "python",
   "pygments_lexer": "ipython3",
   "version": "3.7.4"
  }
 },
 "nbformat": 4,
 "nbformat_minor": 2
}
