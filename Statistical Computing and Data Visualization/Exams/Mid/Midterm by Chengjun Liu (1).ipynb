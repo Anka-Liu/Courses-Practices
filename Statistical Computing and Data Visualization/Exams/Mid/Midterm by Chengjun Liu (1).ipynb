{
 "cells": [
  {
   "cell_type": "markdown",
   "metadata": {},
   "source": [
    "# Midterm-Fall 2019 by Chengjun Liu"
   ]
  },
  {
   "cell_type": "markdown",
   "metadata": {},
   "source": [
    "## Case 1"
   ]
  },
  {
   "cell_type": "markdown",
   "metadata": {},
   "source": [
    "1.(2 points) What is the average attrition rate for each recruiting channel? Sort your result in descending\n",
    "attrition rate order."
   ]
  },
  {
   "cell_type": "code",
   "execution_count": 152,
   "metadata": {},
   "outputs": [],
   "source": [
    "import pandas as pd\n",
    "import numpy as np"
   ]
  },
  {
   "cell_type": "code",
   "execution_count": 153,
   "metadata": {},
   "outputs": [
    {
     "data": {
      "text/html": [
       "<div>\n",
       "<style scoped>\n",
       "    .dataframe tbody tr th:only-of-type {\n",
       "        vertical-align: middle;\n",
       "    }\n",
       "\n",
       "    .dataframe tbody tr th {\n",
       "        vertical-align: top;\n",
       "    }\n",
       "\n",
       "    .dataframe thead th {\n",
       "        text-align: right;\n",
       "    }\n",
       "</style>\n",
       "<table border=\"1\" class=\"dataframe\">\n",
       "  <thead>\n",
       "    <tr style=\"text-align: right;\">\n",
       "      <th></th>\n",
       "      <th>attrition</th>\n",
       "      <th>performance_rating</th>\n",
       "      <th>sales_quota_pct</th>\n",
       "      <th>recruiting_source</th>\n",
       "    </tr>\n",
       "  </thead>\n",
       "  <tbody>\n",
       "    <tr>\n",
       "      <td>0</td>\n",
       "      <td>1</td>\n",
       "      <td>3</td>\n",
       "      <td>1.088190</td>\n",
       "      <td>Applied Online</td>\n",
       "    </tr>\n",
       "    <tr>\n",
       "      <td>1</td>\n",
       "      <td>0</td>\n",
       "      <td>3</td>\n",
       "      <td>2.394173</td>\n",
       "      <td>NaN</td>\n",
       "    </tr>\n",
       "    <tr>\n",
       "      <td>2</td>\n",
       "      <td>1</td>\n",
       "      <td>2</td>\n",
       "      <td>0.497530</td>\n",
       "      <td>Campus</td>\n",
       "    </tr>\n",
       "    <tr>\n",
       "      <td>3</td>\n",
       "      <td>0</td>\n",
       "      <td>2</td>\n",
       "      <td>2.513958</td>\n",
       "      <td>NaN</td>\n",
       "    </tr>\n",
       "    <tr>\n",
       "      <td>4</td>\n",
       "      <td>0</td>\n",
       "      <td>3</td>\n",
       "      <td>1.424789</td>\n",
       "      <td>Applied Online</td>\n",
       "    </tr>\n",
       "  </tbody>\n",
       "</table>\n",
       "</div>"
      ],
      "text/plain": [
       "   attrition  performance_rating  sales_quota_pct recruiting_source\n",
       "0          1                   3         1.088190    Applied Online\n",
       "1          0                   3         2.394173               NaN\n",
       "2          1                   2         0.497530            Campus\n",
       "3          0                   2         2.513958               NaN\n",
       "4          0                   3         1.424789    Applied Online"
      ]
     },
     "execution_count": 153,
     "metadata": {},
     "output_type": "execute_result"
    }
   ],
   "source": [
    "recruitment=pd.read_csv('recruitment.csv')\n",
    "recruitment.head()"
   ]
  },
  {
   "cell_type": "code",
   "execution_count": 154,
   "metadata": {},
   "outputs": [
    {
     "data": {
      "text/plain": [
       "recruiting_source\n",
       "Search Firm       0.500000\n",
       "Referral          0.333333\n",
       "Campus            0.285714\n",
       "Applied Online    0.246154\n",
       "Name: attrition, dtype: float64"
      ]
     },
     "execution_count": 154,
     "metadata": {},
     "output_type": "execute_result"
    }
   ],
   "source": [
    "recruitment.groupby('recruiting_source')['attrition'].mean().sort_values(ascending=False)"
   ]
  },
  {
   "cell_type": "markdown",
   "metadata": {},
   "source": [
    "2. (2 points) Create a new variable called “performance_cat”. What is the average attrition rate for\n",
    "both employee categories (low performers vs. high performers)\n"
   ]
  },
  {
   "cell_type": "code",
   "execution_count": 155,
   "metadata": {},
   "outputs": [],
   "source": [
    "def perform_cat(x):\n",
    "    if x==1 or x==2:\n",
    "        return 'Low Performance'\n",
    "    else:\n",
    "        return 'High Performance'\n",
    "\n",
    "\n",
    "\n",
    "recruitment['performance_cat']=recruitment['performance_rating'].apply(perform_cat)"
   ]
  },
  {
   "cell_type": "code",
   "execution_count": 156,
   "metadata": {},
   "outputs": [
    {
     "data": {
      "text/html": [
       "<div>\n",
       "<style scoped>\n",
       "    .dataframe tbody tr th:only-of-type {\n",
       "        vertical-align: middle;\n",
       "    }\n",
       "\n",
       "    .dataframe tbody tr th {\n",
       "        vertical-align: top;\n",
       "    }\n",
       "\n",
       "    .dataframe thead th {\n",
       "        text-align: right;\n",
       "    }\n",
       "</style>\n",
       "<table border=\"1\" class=\"dataframe\">\n",
       "  <thead>\n",
       "    <tr style=\"text-align: right;\">\n",
       "      <th></th>\n",
       "      <th>attrition</th>\n",
       "      <th>performance_rating</th>\n",
       "      <th>sales_quota_pct</th>\n",
       "      <th>recruiting_source</th>\n",
       "      <th>performance_cat</th>\n",
       "    </tr>\n",
       "  </thead>\n",
       "  <tbody>\n",
       "    <tr>\n",
       "      <td>0</td>\n",
       "      <td>1</td>\n",
       "      <td>3</td>\n",
       "      <td>1.088190</td>\n",
       "      <td>Applied Online</td>\n",
       "      <td>High Performance</td>\n",
       "    </tr>\n",
       "    <tr>\n",
       "      <td>1</td>\n",
       "      <td>0</td>\n",
       "      <td>3</td>\n",
       "      <td>2.394173</td>\n",
       "      <td>NaN</td>\n",
       "      <td>High Performance</td>\n",
       "    </tr>\n",
       "    <tr>\n",
       "      <td>2</td>\n",
       "      <td>1</td>\n",
       "      <td>2</td>\n",
       "      <td>0.497530</td>\n",
       "      <td>Campus</td>\n",
       "      <td>Low Performance</td>\n",
       "    </tr>\n",
       "    <tr>\n",
       "      <td>3</td>\n",
       "      <td>0</td>\n",
       "      <td>2</td>\n",
       "      <td>2.513958</td>\n",
       "      <td>NaN</td>\n",
       "      <td>Low Performance</td>\n",
       "    </tr>\n",
       "    <tr>\n",
       "      <td>4</td>\n",
       "      <td>0</td>\n",
       "      <td>3</td>\n",
       "      <td>1.424789</td>\n",
       "      <td>Applied Online</td>\n",
       "      <td>High Performance</td>\n",
       "    </tr>\n",
       "  </tbody>\n",
       "</table>\n",
       "</div>"
      ],
      "text/plain": [
       "   attrition  performance_rating  sales_quota_pct recruiting_source  \\\n",
       "0          1                   3         1.088190    Applied Online   \n",
       "1          0                   3         2.394173               NaN   \n",
       "2          1                   2         0.497530            Campus   \n",
       "3          0                   2         2.513958               NaN   \n",
       "4          0                   3         1.424789    Applied Online   \n",
       "\n",
       "    performance_cat  \n",
       "0  High Performance  \n",
       "1  High Performance  \n",
       "2   Low Performance  \n",
       "3   Low Performance  \n",
       "4  High Performance  "
      ]
     },
     "execution_count": 156,
     "metadata": {},
     "output_type": "execute_result"
    }
   ],
   "source": [
    "recruitment.head()"
   ]
  },
  {
   "cell_type": "code",
   "execution_count": 157,
   "metadata": {},
   "outputs": [
    {
     "data": {
      "text/plain": [
       "performance_cat\n",
       "High Performance    0.213213\n",
       "Low Performance     0.212389\n",
       "Name: attrition, dtype: float64"
      ]
     },
     "execution_count": 157,
     "metadata": {},
     "output_type": "execute_result"
    }
   ],
   "source": [
    "recruitment.groupby('performance_cat')['attrition'].mean()"
   ]
  },
  {
   "cell_type": "markdown",
   "metadata": {},
   "source": [
    "3. (2 points) Create a barchart (exact copy of the one below) to show the the average sales quota for all\n",
    "employees hired through different channels."
   ]
  },
  {
   "cell_type": "code",
   "execution_count": 158,
   "metadata": {},
   "outputs": [
    {
     "data": {
      "text/html": [
       "<div>\n",
       "<style scoped>\n",
       "    .dataframe tbody tr th:only-of-type {\n",
       "        vertical-align: middle;\n",
       "    }\n",
       "\n",
       "    .dataframe tbody tr th {\n",
       "        vertical-align: top;\n",
       "    }\n",
       "\n",
       "    .dataframe thead th {\n",
       "        text-align: right;\n",
       "    }\n",
       "</style>\n",
       "<table border=\"1\" class=\"dataframe\">\n",
       "  <thead>\n",
       "    <tr style=\"text-align: right;\">\n",
       "      <th></th>\n",
       "      <th>recruiting_source</th>\n",
       "      <th>Rate</th>\n",
       "    </tr>\n",
       "  </thead>\n",
       "  <tbody>\n",
       "    <tr>\n",
       "      <td>0</td>\n",
       "      <td>Search Firm</td>\n",
       "      <td>0.886960</td>\n",
       "    </tr>\n",
       "    <tr>\n",
       "      <td>1</td>\n",
       "      <td>Campus</td>\n",
       "      <td>0.908035</td>\n",
       "    </tr>\n",
       "    <tr>\n",
       "      <td>2</td>\n",
       "      <td>Referral</td>\n",
       "      <td>1.023198</td>\n",
       "    </tr>\n",
       "    <tr>\n",
       "      <td>3</td>\n",
       "      <td>Applied Online</td>\n",
       "      <td>1.058590</td>\n",
       "    </tr>\n",
       "  </tbody>\n",
       "</table>\n",
       "</div>"
      ],
      "text/plain": [
       "  recruiting_source      Rate\n",
       "0       Search Firm  0.886960\n",
       "1            Campus  0.908035\n",
       "2          Referral  1.023198\n",
       "3    Applied Online  1.058590"
      ]
     },
     "execution_count": 158,
     "metadata": {},
     "output_type": "execute_result"
    }
   ],
   "source": [
    "import matplotlib.pyplot as plt\n",
    "%matplotlib inline\n",
    "channel=recruitment.groupby('recruiting_source')['sales_quota_pct'].mean().sort_values().reset_index(name='Rate')\n",
    "channel.head()"
   ]
  },
  {
   "cell_type": "code",
   "execution_count": 159,
   "metadata": {},
   "outputs": [
    {
     "data": {
      "image/png": "[encoded data removed]",
      "text/plain": [
       "<Figure size 576x216 with 1 Axes>"
      ]
     },
     "metadata": {
      "needs_background": "light"
     },
     "output_type": "display_data"
    }
   ],
   "source": [
    "plt.figure(figsize=(8,3))\n",
    "plt.bar(channel['recruiting_source'],channel['Rate'],width=0.4)\n",
    "ax=plt.gca()\n",
    "ax.set_yticklabels([str(i)+'%' for i in np.arange(0,101,20)])\n",
    "plt.axhline(y=1,linestyle='dotted',color='red',label='at 100%')\n",
    "plt.title('Average Sales Quota percent for each Recruiting Channel')\n",
    "plt.legend()\n",
    "plt.show()"
   ]
  },
  {
   "cell_type": "markdown",
   "metadata": {},
   "source": [
    "## Case 2"
   ]
  },
  {
   "cell_type": "markdown",
   "metadata": {},
   "source": [
    "4. (2 points) Create a side-by-side boxplot (see below) to show the distribution of satisfaction scores for\n",
    "your bank (“Financial Savings”) and your competitors."
   ]
  },
  {
   "cell_type": "code",
   "execution_count": 160,
   "metadata": {},
   "outputs": [
    {
     "data": {
      "text/html": [
       "<div>\n",
       "<style scoped>\n",
       "    .dataframe tbody tr th:only-of-type {\n",
       "        vertical-align: middle;\n",
       "    }\n",
       "\n",
       "    .dataframe tbody tr th {\n",
       "        vertical-align: top;\n",
       "    }\n",
       "\n",
       "    .dataframe thead th {\n",
       "        text-align: right;\n",
       "    }\n",
       "</style>\n",
       "<table border=\"1\" class=\"dataframe\">\n",
       "  <thead>\n",
       "    <tr style=\"text-align: right;\">\n",
       "      <th></th>\n",
       "      <th>Bank</th>\n",
       "      <th>Year</th>\n",
       "      <th>Score</th>\n",
       "    </tr>\n",
       "  </thead>\n",
       "  <tbody>\n",
       "    <tr>\n",
       "      <td>0</td>\n",
       "      <td>Bank 1</td>\n",
       "      <td>2013</td>\n",
       "      <td>824.526701</td>\n",
       "    </tr>\n",
       "    <tr>\n",
       "      <td>1</td>\n",
       "      <td>Bank 1</td>\n",
       "      <td>2014</td>\n",
       "      <td>846.194064</td>\n",
       "    </tr>\n",
       "    <tr>\n",
       "      <td>2</td>\n",
       "      <td>Bank 1</td>\n",
       "      <td>2015</td>\n",
       "      <td>845.596861</td>\n",
       "    </tr>\n",
       "    <tr>\n",
       "      <td>3</td>\n",
       "      <td>Bank 1</td>\n",
       "      <td>2016</td>\n",
       "      <td>846.757909</td>\n",
       "    </tr>\n",
       "    <tr>\n",
       "      <td>4</td>\n",
       "      <td>Bank 1</td>\n",
       "      <td>2017</td>\n",
       "      <td>865.308433</td>\n",
       "    </tr>\n",
       "  </tbody>\n",
       "</table>\n",
       "</div>"
      ],
      "text/plain": [
       "     Bank  Year       Score\n",
       "0  Bank 1  2013  824.526701\n",
       "1  Bank 1  2014  846.194064\n",
       "2  Bank 1  2015  845.596861\n",
       "3  Bank 1  2016  846.757909\n",
       "4  Bank 1  2017  865.308433"
      ]
     },
     "execution_count": 160,
     "metadata": {},
     "output_type": "execute_result"
    }
   ],
   "source": [
    "bankindex=pd.read_csv('bankindex.csv')\n",
    "bankindex.head()"
   ]
  },
  {
   "cell_type": "code",
   "execution_count": 161,
   "metadata": {},
   "outputs": [],
   "source": [
    "Bank1=bankindex[bankindex['Bank']=='Bank 1']\n",
    "Bank2=bankindex[bankindex['Bank']=='Bank 2']\n",
    "Bank3=bankindex[bankindex['Bank']=='Bank 3']\n",
    "Bank4=bankindex[bankindex['Bank']=='Bank 4']\n",
    "Bank5=bankindex[bankindex['Bank']=='Bank 5']\n",
    "Bank6=bankindex[bankindex['Bank']=='Bank 6']\n",
    "Bank7=bankindex[bankindex['Bank']=='Bank 7']\n",
    "Bank8=bankindex[bankindex['Bank']=='Bank 8']\n",
    "Bank9=bankindex[bankindex['Bank']=='Bank 9']\n",
    "Financial=bankindex[bankindex['Bank']=='Financial Savings']\n",
    "banklist=['Bank1','Bank2','Bank3','Bank4','Bank5','Bank6','Bank7','Bank8','Bank9','Financial Savings']"
   ]
  },
  {
   "cell_type": "code",
   "execution_count": 162,
   "metadata": {},
   "outputs": [
    {
     "data": {
      "image/png": "[encoded data removed]",
      "text/plain": [
       "<Figure size 864x432 with 1 Axes>"
      ]
     },
     "metadata": {
      "needs_background": "light"
     },
     "output_type": "display_data"
    }
   ],
   "source": [
    "plt.figure(figsize=(12,6))\n",
    "plt.boxplot([Bank1['Score'],Bank2['Score'],\\\n",
    "             Bank3['Score'],Bank4['Score'],\\\n",
    "             Bank5['Score'],Bank6['Score'],\\\n",
    "             Bank7['Score'],Bank8['Score'],\\\n",
    "             Bank9['Score'],Financial['Score']],labels=banklist)\n",
    "plt.ylabel('Satisfaction Score')\n",
    "plt.title('Distribution of Bank Satisfaction Scores (2013-2020)')\n",
    "plt.show()"
   ]
  },
  {
   "cell_type": "markdown",
   "metadata": {},
   "source": [
    "5. (2 points) Reproduce an exact copy of the following plot that compares your bank’s performance to\n",
    "your competitors as well as the industry average pver the years (2013-2020) (Note that the industry\n",
    "average is added at the very end of the dataset).\n"
   ]
  },
  {
   "cell_type": "code",
   "execution_count": 163,
   "metadata": {},
   "outputs": [
    {
     "name": "stdout",
     "output_type": "stream",
     "text": [
      "[2013 2014 2015 2016 2017 2018 2019 2020]\n",
      "['Bank 1' 'Bank 10' 'Bank 11' 'Bank 12' 'Bank 13' 'Bank 14' 'Bank 15'\n",
      " 'Bank 16' 'Bank 17' 'Bank 18' 'Bank 19' 'Bank 2' 'Bank 20' 'Bank 21'\n",
      " 'Bank 22' 'Bank 3' 'Bank 4' 'Bank 5' 'Bank 6' 'Bank 7' 'Bank 8' 'Bank 9'\n",
      " 'Financial Savings' 'Industry Average']\n"
     ]
    }
   ],
   "source": [
    "banklist=bankindex['Bank'].unique()\n",
    "year=bankindex['Year'].unique()\n",
    "print(year)\n",
    "print(banklist)"
   ]
  },
  {
   "cell_type": "code",
   "execution_count": 164,
   "metadata": {
    "scrolled": false
   },
   "outputs": [
    {
     "data": {
      "image/png": "[encoded data removed]",
      "text/plain": [
       "<Figure size 864x432 with 1 Axes>"
      ]
     },
     "metadata": {
      "needs_background": "light"
     },
     "output_type": "display_data"
    }
   ],
   "source": [
    "plt.figure(figsize=(12,6))\n",
    "for i in np.arange(22):\n",
    "    plt.plot(year,bankindex.loc[bankindex['Bank']==banklist[i],'Score'],color='grey',alpha=0.2)\n",
    "\n",
    "plt.plot(year,bankindex.loc[bankindex['Bank']==banklist[22],'Score'],color='green')\n",
    "plt.plot(year,bankindex.loc[bankindex['Bank']==banklist[23],'Score'],color='orange')\n",
    "plt.xlim((2013,2021))\n",
    "plt.ylim(695.4001584350001,900)\n",
    "plt.axvspan(xmin=2019,xmax=2020,color='grey',alpha=0.3)\n",
    "\n",
    "greenend=bankindex[bankindex['Bank']=='Financial Savings']\n",
    "greenend=greenend[greenend['Year']==2020]['Score']\n",
    "\n",
    "orangeend=bankindex[bankindex['Bank']=='Industry Average']\n",
    "orangeend=orangeend[orangeend['Year']==2020]['Score']\n",
    "\n",
    "plt.figtext(x=0.81,y=0.683,s='Industry avg',color='orange')\n",
    "plt.figtext(x=0.81,y=0.63,s='Financial\\nSavings',color='green')\n",
    "plt.figtext(x=0.707,y=0.14,s='Foretasted\\nSavings')\n",
    "plt.ylabel('Score')\n",
    "plt.xlabel('Year')\n",
    "plt.title('Satisfaction Scores (2013-2020)')\n",
    "plt.show()\n",
    "#bottom,top=plt.ylim()\n",
    "#print(bottom)"
   ]
  },
  {
   "cell_type": "code",
   "execution_count": null,
   "metadata": {},
   "outputs": [],
   "source": []
  },
  {
   "cell_type": "code",
   "execution_count": null,
   "metadata": {},
   "outputs": [],
   "source": []
  },
  {
   "cell_type": "code",
   "execution_count": null,
   "metadata": {},
   "outputs": [],
   "source": []
  }
 ],
 "metadata": {
  "kernelspec": {
   "display_name": "Python 3",
   "language": "python",
   "name": "python3"
  },
  "language_info": {
   "codemirror_mode": {
    "name": "ipython",
    "version": 3
   },
   "file_extension": ".py",
   "mimetype": "text/x-python",
   "name": "python",
   "nbconvert_exporter": "python",
   "pygments_lexer": "ipython3",
   "version": "3.7.1"
  }
 },
 "nbformat": 4,
 "nbformat_minor": 2
}
