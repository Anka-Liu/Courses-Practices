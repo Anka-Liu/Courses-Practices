{
 "cells": [
  {
   "cell_type": "markdown",
   "metadata": {},
   "source": [
    "1. Did you go over Lectures 1, 2a, 2b, Python tutorials 1 and 2, Weekly exercises 1 and 2, and Lecture 2aEx\n",
    "before writing this homework? If you haven’t, please do so first. This homework, like every other homework,\n",
    "only covers a small part of our covered materials. How many hours outside class time did you spend on DSO\n",
    "530 each week on average so far? (an honest answer will help the instructor adjust the pace if necessary).\n"
   ]
  },
  {
   "cell_type": "markdown",
   "metadata": {},
   "source": [
    "Answer:\n",
    "\n",
    "Yes, I have looked through the lectures, Python tutorials and exercises.\n",
    "I spend 5 hours on average every week."
   ]
  },
  {
   "cell_type": "markdown",
   "metadata": {},
   "source": [
    "2. For a regression equation log y = 1 + 50 log x, how does changes in y associated with changes in x? (You\n",
    "don’t have to type latex math formulas; as long as your derivation is readable by the grader, it is fine; you\n",
    "might need Python to help get the answer).\n"
   ]
  },
  {
   "cell_type": "markdown",
   "metadata": {},
   "source": [
    "Answer:\n",
    "\n",
    "Assume there is an increase of $1\\%$ in independent variable $x$ (that is, $(1+1\\%)x$), Let $log y = 1 + 50 log x$:\n",
    "$$ \\begin{aligned}\n",
    "1 + 50 log((1+1\\%)x)= & 1 + 50 (log(x)+log(1.01)) \\\\\n",
    "=& 1+ 50log(x)+50\\times log(1.01) \\\\\n",
    "=& log(y)+ 50 \\times log(1.01)\\\\\n",
    "=& log(y)+log(1.01^{50})\\\\\n",
    "=& log(y\\times 1.01^{50})\n",
    "\\end{aligned} $$\n",
    "\n",
    "Because $1.01^{50}=e^{log(1.01^{50})}=e^{50\\times log(1.01)}\\approx e^{50\\times (1.01-1)}=e^{0.5}\\approx 0.5+1=1.5$:\n",
    "$$ \\begin{aligned}\n",
    "log(y\\times 1.01^{50})\\approx & log(1.5\\times y)\n",
    "\\end{aligned} $$\n",
    "\n",
    "We have $log((1+50\\%)\\times y)\\approx 1 + 50 log((1+1\\%)x)$ , approximately $50\\%$ increase on $y$.\n",
    "\n",
    "Alternatively:\n",
    "\n",
    "$$ \\begin{aligned}\n",
    "e^{log y} =& y \\\\\n",
    "=& e^{1 + 50 log x}\\\\\n",
    "=& e\\times e^{50 log x}\\\\\n",
    "=&  e\\times x^{50}\n",
    "\\end{aligned} $$\n",
    "\n",
    "$$ \\begin{aligned}\n",
    "e^{1 + 50 log((1+1\\%)x)}=&e\\times e^{50 log((1+1\\%)x)}\\\\\n",
    "=& e\\times (1.01x)^{50}\\\\\n",
    "=& e\\times x^{50}\\times 1.01^{50}\\\\\n",
    "=& y \\times 1.01^{50}\n",
    "\\end{aligned} $$\n",
    "\n",
    "They reach the same result: $x$ increases 1%, $y$ increases $ 1.01^{50} -1$, or approximately $50\\%$.\n",
    "\n",
    "Inversely, $1\\%$ increase in $y$ means $1\\%/50=0.02\\%$ increase in $x$."
   ]
  },
  {
   "cell_type": "markdown",
   "metadata": {},
   "source": [
    "3. Recall that in Lecture 2b, we regress medv on PTRATIO and RM using the Boston housing data. Repeat\n",
    "this regression, but normalize both features before running the regression. Compared with what you see in\n",
    "the Lecture, do you get a different R2\n",
    ", or do you get the same one?"
   ]
  },
  {
   "cell_type": "code",
   "execution_count": 1,
   "metadata": {
    "ExecuteTime": {
     "end_time": "2020-02-13T05:55:25.914966Z",
     "start_time": "2020-02-13T05:55:24.757386Z"
    }
   },
   "outputs": [],
   "source": [
    "from sklearn.datasets import load_boston\n",
    "import pandas as pd\n",
    "from sklearn.preprocessing import MinMaxScaler\n",
    "from sklearn.linear_model import LinearRegression"
   ]
  },
  {
   "cell_type": "code",
   "execution_count": 2,
   "metadata": {
    "ExecuteTime": {
     "end_time": "2020-02-13T05:55:25.925377Z",
     "start_time": "2020-02-13T05:55:25.916887Z"
    }
   },
   "outputs": [],
   "source": [
    "Boston=load_boston()"
   ]
  },
  {
   "cell_type": "code",
   "execution_count": 3,
   "metadata": {
    "ExecuteTime": {
     "end_time": "2020-02-13T05:55:25.956295Z",
     "start_time": "2020-02-13T05:55:25.927374Z"
    }
   },
   "outputs": [
    {
     "data": {
      "text/html": [
       "<div>\n",
       "<style scoped>\n",
       "    .dataframe tbody tr th:only-of-type {\n",
       "        vertical-align: middle;\n",
       "    }\n",
       "\n",
       "    .dataframe tbody tr th {\n",
       "        vertical-align: top;\n",
       "    }\n",
       "\n",
       "    .dataframe thead th {\n",
       "        text-align: right;\n",
       "    }\n",
       "</style>\n",
       "<table border=\"1\" class=\"dataframe\">\n",
       "  <thead>\n",
       "    <tr style=\"text-align: right;\">\n",
       "      <th></th>\n",
       "      <th>CRIM</th>\n",
       "      <th>ZN</th>\n",
       "      <th>INDUS</th>\n",
       "      <th>CHAS</th>\n",
       "      <th>NOX</th>\n",
       "      <th>RM</th>\n",
       "      <th>AGE</th>\n",
       "      <th>DIS</th>\n",
       "      <th>RAD</th>\n",
       "      <th>TAX</th>\n",
       "      <th>PTRATIO</th>\n",
       "      <th>B</th>\n",
       "      <th>LSTAT</th>\n",
       "    </tr>\n",
       "  </thead>\n",
       "  <tbody>\n",
       "    <tr>\n",
       "      <th>0</th>\n",
       "      <td>0.00632</td>\n",
       "      <td>18.0</td>\n",
       "      <td>2.31</td>\n",
       "      <td>0.0</td>\n",
       "      <td>0.538</td>\n",
       "      <td>6.575</td>\n",
       "      <td>65.2</td>\n",
       "      <td>4.0900</td>\n",
       "      <td>1.0</td>\n",
       "      <td>296.0</td>\n",
       "      <td>15.3</td>\n",
       "      <td>396.90</td>\n",
       "      <td>4.98</td>\n",
       "    </tr>\n",
       "    <tr>\n",
       "      <th>1</th>\n",
       "      <td>0.02731</td>\n",
       "      <td>0.0</td>\n",
       "      <td>7.07</td>\n",
       "      <td>0.0</td>\n",
       "      <td>0.469</td>\n",
       "      <td>6.421</td>\n",
       "      <td>78.9</td>\n",
       "      <td>4.9671</td>\n",
       "      <td>2.0</td>\n",
       "      <td>242.0</td>\n",
       "      <td>17.8</td>\n",
       "      <td>396.90</td>\n",
       "      <td>9.14</td>\n",
       "    </tr>\n",
       "    <tr>\n",
       "      <th>2</th>\n",
       "      <td>0.02729</td>\n",
       "      <td>0.0</td>\n",
       "      <td>7.07</td>\n",
       "      <td>0.0</td>\n",
       "      <td>0.469</td>\n",
       "      <td>7.185</td>\n",
       "      <td>61.1</td>\n",
       "      <td>4.9671</td>\n",
       "      <td>2.0</td>\n",
       "      <td>242.0</td>\n",
       "      <td>17.8</td>\n",
       "      <td>392.83</td>\n",
       "      <td>4.03</td>\n",
       "    </tr>\n",
       "    <tr>\n",
       "      <th>3</th>\n",
       "      <td>0.03237</td>\n",
       "      <td>0.0</td>\n",
       "      <td>2.18</td>\n",
       "      <td>0.0</td>\n",
       "      <td>0.458</td>\n",
       "      <td>6.998</td>\n",
       "      <td>45.8</td>\n",
       "      <td>6.0622</td>\n",
       "      <td>3.0</td>\n",
       "      <td>222.0</td>\n",
       "      <td>18.7</td>\n",
       "      <td>394.63</td>\n",
       "      <td>2.94</td>\n",
       "    </tr>\n",
       "    <tr>\n",
       "      <th>4</th>\n",
       "      <td>0.06905</td>\n",
       "      <td>0.0</td>\n",
       "      <td>2.18</td>\n",
       "      <td>0.0</td>\n",
       "      <td>0.458</td>\n",
       "      <td>7.147</td>\n",
       "      <td>54.2</td>\n",
       "      <td>6.0622</td>\n",
       "      <td>3.0</td>\n",
       "      <td>222.0</td>\n",
       "      <td>18.7</td>\n",
       "      <td>396.90</td>\n",
       "      <td>5.33</td>\n",
       "    </tr>\n",
       "  </tbody>\n",
       "</table>\n",
       "</div>"
      ],
      "text/plain": [
       "      CRIM    ZN  INDUS  CHAS    NOX     RM   AGE     DIS  RAD    TAX  \\\n",
       "0  0.00632  18.0   2.31   0.0  0.538  6.575  65.2  4.0900  1.0  296.0   \n",
       "1  0.02731   0.0   7.07   0.0  0.469  6.421  78.9  4.9671  2.0  242.0   \n",
       "2  0.02729   0.0   7.07   0.0  0.469  7.185  61.1  4.9671  2.0  242.0   \n",
       "3  0.03237   0.0   2.18   0.0  0.458  6.998  45.8  6.0622  3.0  222.0   \n",
       "4  0.06905   0.0   2.18   0.0  0.458  7.147  54.2  6.0622  3.0  222.0   \n",
       "\n",
       "   PTRATIO       B  LSTAT  \n",
       "0     15.3  396.90   4.98  \n",
       "1     17.8  396.90   9.14  \n",
       "2     17.8  392.83   4.03  \n",
       "3     18.7  394.63   2.94  \n",
       "4     18.7  396.90   5.33  "
      ]
     },
     "execution_count": 3,
     "metadata": {},
     "output_type": "execute_result"
    }
   ],
   "source": [
    "Boston_Data=pd.DataFrame(Boston.data,columns=Boston.feature_names)\n",
    "Boston_Data.head()"
   ]
  },
  {
   "cell_type": "code",
   "execution_count": 4,
   "metadata": {
    "ExecuteTime": {
     "end_time": "2020-02-13T05:55:25.963277Z",
     "start_time": "2020-02-13T05:55:25.957293Z"
    }
   },
   "outputs": [],
   "source": [
    "X=Boston_Data[[\"PTRATIO\",\"RM\"]].values\n",
    "y=Boston.target"
   ]
  },
  {
   "cell_type": "code",
   "execution_count": 5,
   "metadata": {
    "ExecuteTime": {
     "end_time": "2020-02-13T05:55:25.970292Z",
     "start_time": "2020-02-13T05:55:25.964272Z"
    }
   },
   "outputs": [],
   "source": [
    "# We scale both features using normalization of min-max \n",
    "mm=MinMaxScaler()\n",
    "X=mm.fit_transform(X)"
   ]
  },
  {
   "cell_type": "code",
   "execution_count": 6,
   "metadata": {
    "ExecuteTime": {
     "end_time": "2020-02-13T05:55:25.984258Z",
     "start_time": "2020-02-13T05:55:25.972251Z"
    }
   },
   "outputs": [
    {
     "name": "stdout",
     "output_type": "stream",
     "text": [
      "R square after normalization: 0.5612534621272918\n"
     ]
    }
   ],
   "source": [
    "lr=LinearRegression()\n",
    "lr.fit(X,y)\n",
    "print(\"R square after normalization:\",lr.score(X,y))"
   ]
  },
  {
   "cell_type": "markdown",
   "metadata": {},
   "source": [
    "The R Square of regression on normalized features is the same as original regression, proving normalization doesn't affect r-square because scaling doesn't influence the correlation between features and dependent variable."
   ]
  },
  {
   "cell_type": "markdown",
   "metadata": {},
   "source": [
    "4. Split the Boston housing data into two parts with 30% as test data. Use random_state = 1 in this split.\n",
    "Because this is a regression problem, you don’t want to use stratify = y part of the code from our Python\n",
    "tutorial. Regress medv on LSTAT and RM using the training data. Compute R2 on both the training data and\n",
    "the test data.\n"
   ]
  },
  {
   "cell_type": "code",
   "execution_count": 7,
   "metadata": {
    "ExecuteTime": {
     "end_time": "2020-02-13T05:55:25.989207Z",
     "start_time": "2020-02-13T05:55:25.985218Z"
    }
   },
   "outputs": [],
   "source": [
    "from sklearn.model_selection import train_test_split"
   ]
  },
  {
   "cell_type": "code",
   "execution_count": 8,
   "metadata": {
    "ExecuteTime": {
     "end_time": "2020-02-13T05:55:25.999180Z",
     "start_time": "2020-02-13T05:55:25.993197Z"
    }
   },
   "outputs": [],
   "source": [
    "X=Boston_Data[[\"LSTAT\",\"RM\"]].values\n",
    "y=Boston.target\n",
    "\n",
    "X_train,X_test,y_train,y_test=train_test_split(X,y,test_size=0.3,random_state=1)"
   ]
  },
  {
   "cell_type": "code",
   "execution_count": 9,
   "metadata": {
    "ExecuteTime": {
     "end_time": "2020-02-13T05:55:26.008158Z",
     "start_time": "2020-02-13T05:55:26.002172Z"
    }
   },
   "outputs": [],
   "source": [
    "lr=LinearRegression()\n",
    "lr.fit(X_train,y_train);"
   ]
  },
  {
   "cell_type": "code",
   "execution_count": 10,
   "metadata": {
    "ExecuteTime": {
     "end_time": "2020-02-13T05:55:26.019138Z",
     "start_time": "2020-02-13T05:55:26.010153Z"
    }
   },
   "outputs": [
    {
     "name": "stdout",
     "output_type": "stream",
     "text": [
      "R Square for training set: 0.6099162694401526\n",
      "R Square for test set: 0.6843090583339466\n"
     ]
    }
   ],
   "source": [
    "print(\"R Square for training set:\",lr.score(X_train,y_train))\n",
    "print(\"R Square for test set:\",lr.score(X_test,y_test))"
   ]
  },
  {
   "cell_type": "markdown",
   "metadata": {},
   "source": [
    "5. Use the first 30 rows of the training set you got in problem 4 as the new training set, regress medv on\n",
    "LSTAT and RM again. How much is the R2 on this training set? How much is R2\n",
    "if you evaluate this new\n",
    "regression line’s performance using the test data in problem 4?\n"
   ]
  },
  {
   "cell_type": "code",
   "execution_count": 11,
   "metadata": {
    "ExecuteTime": {
     "end_time": "2020-02-13T05:55:26.026148Z",
     "start_time": "2020-02-13T05:55:26.022121Z"
    }
   },
   "outputs": [],
   "source": [
    "new_X=X[:30,:]\n",
    "new_y=y[:30]"
   ]
  },
  {
   "cell_type": "code",
   "execution_count": 12,
   "metadata": {
    "ExecuteTime": {
     "end_time": "2020-02-13T05:55:26.035099Z",
     "start_time": "2020-02-13T05:55:26.028111Z"
    }
   },
   "outputs": [
    {
     "name": "stdout",
     "output_type": "stream",
     "text": [
      "R Square of selected 30-row training set: 0.6911690180235888\n",
      "R Square of test data on regression of trained 30-row training set: 0.7085118171135107\n"
     ]
    }
   ],
   "source": [
    "lr=LinearRegression()\n",
    "lr.fit(new_X,new_y)\n",
    "\n",
    "print(\"R Square of selected 30-row training set:\",lr.score(new_X,new_y))\n",
    "print(\"R Square of test data on regression of trained 30-row training set:\",lr.score(X_test,y_test))"
   ]
  },
  {
   "cell_type": "code",
   "execution_count": null,
   "metadata": {},
   "outputs": [],
   "source": []
  }
 ],
 "metadata": {
  "kernelspec": {
   "display_name": "Python 3",
   "language": "python",
   "name": "python3"
  },
  "language_info": {
   "codemirror_mode": {
    "name": "ipython",
    "version": 3
   },
   "file_extension": ".py",
   "mimetype": "text/x-python",
   "name": "python",
   "nbconvert_exporter": "python",
   "pygments_lexer": "ipython3",
   "version": "3.7.4"
  },
  "toc": {
   "base_numbering": 1,
   "nav_menu": {},
   "number_sections": true,
   "sideBar": true,
   "skip_h1_title": false,
   "title_cell": "Table of Contents",
   "title_sidebar": "Contents",
   "toc_cell": false,
   "toc_position": {},
   "toc_section_display": true,
   "toc_window_display": false
  },
  "varInspector": {
   "cols": {
    "lenName": 16,
    "lenType": 16,
    "lenVar": 40
   },
   "kernels_config": {
    "python": {
     "delete_cmd_postfix": "",
     "delete_cmd_prefix": "del ",
     "library": "var_list.py",
     "varRefreshCmd": "print(var_dic_list())"
    },
    "r": {
     "delete_cmd_postfix": ") ",
     "delete_cmd_prefix": "rm(",
     "library": "var_list.r",
     "varRefreshCmd": "cat(var_dic_list()) "
    }
   },
   "types_to_exclude": [
    "module",
    "function",
    "builtin_function_or_method",
    "instance",
    "_Feature"
   ],
   "window_display": false
  }
 },
 "nbformat": 4,
 "nbformat_minor": 2
}
