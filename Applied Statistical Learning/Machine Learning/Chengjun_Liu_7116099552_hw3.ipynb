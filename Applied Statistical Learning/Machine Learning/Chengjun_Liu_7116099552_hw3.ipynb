{
 "cells": [
  {
   "cell_type": "markdown",
   "metadata": {
    "ExecuteTime": {
     "end_time": "2020-04-14T02:09:41.236041Z",
     "start_time": "2020-04-14T02:09:41.229035Z"
    }
   },
   "source": [
    "**1. Did you review up to and including lecture 6 and tutorial 6? If you haven’t, please do so first. This\n",
    "homework, like every other homework, only covers a small part of the course contents.**"
   ]
  },
  {
   "cell_type": "markdown",
   "metadata": {},
   "source": [
    "Yes, I reviewed the lectures and tutorials up to 6."
   ]
  },
  {
   "cell_type": "markdown",
   "metadata": {},
   "source": [
    "**2. Are the following statements correct? (1) Ridge regression tends to give sparser models compared to\n",
    "LASSO. (2) Backward stepwise selection can be applied to situations in which the number of predictors is\n",
    "more than the sample size.**"
   ]
  },
  {
   "cell_type": "markdown",
   "metadata": {},
   "source": [
    "(1) Not correct. On the contrary, LASSO regression tends to give sparser models compared to Ridge regression. Due to the property of L1 Regularization that corners of the parameter contour in the optimization representing more zero parameters tend to contact maximization contours, the ability of LASSO to shrink more features to zero for sparser models is stronger than that of Ridge, which can not fully diminish features due to L2 Regularization. \n",
    "\n",
    "(2) Not correct. On the contrary, it is forward stepwise selection can be applied to situations in which the number of predictors is more than the sample size. It is because for sparse datasets, the set of significant features tends to be smaller, so forward stepwise selection, which starts from zero features and adds features stepwise, can fit the best model from smaller feature sizes and quickly reach a smaller size of sparse features. While for backward selection, it requires that the number of samples n is larger thanthe number of variables p to fit full models, so it's not suitable for more predictors than sample size. "
   ]
  },
  {
   "cell_type": "markdown",
   "metadata": {},
   "source": [
    "**3. Explain why best subset selection is a computationally intensive method**"
   ]
  },
  {
   "cell_type": "markdown",
   "metadata": {},
   "source": [
    "The best subset selection requires that full combinations of features are all tested to find the best models so that we don't miss any possible better combinations. However, the total feature combinations are $\\sum_{1}^{p} {p \\choose i} = 2^n-1$. As total features increase, the computation increases exponentially ($O(2^n)$). So it is intensive for a larger set of features. "
   ]
  },
  {
   "cell_type": "markdown",
   "metadata": {},
   "source": [
    "**4. What is the imbalance ratio in training.csv? Train Logisitic Regression method with the training\n",
    "dataset in the file training.csv. Then on the test dataset in the file test.csv, calculate the classification\n",
    "error using 1/2 as the threshold of the trained sigmoid function.**"
   ]
  },
  {
   "cell_type": "code",
   "execution_count": 15,
   "metadata": {
    "ExecuteTime": {
     "end_time": "2020-04-14T03:10:31.688837Z",
     "start_time": "2020-04-14T03:10:31.684850Z"
    }
   },
   "outputs": [],
   "source": [
    "import pandas as pd \n",
    "import statsmodels.formula.api as smf"
   ]
  },
  {
   "cell_type": "code",
   "execution_count": 3,
   "metadata": {
    "ExecuteTime": {
     "end_time": "2020-04-14T02:50:35.039521Z",
     "start_time": "2020-04-14T02:50:35.018544Z"
    }
   },
   "outputs": [
    {
     "data": {
      "text/html": [
       "<div>\n",
       "<style scoped>\n",
       "    .dataframe tbody tr th:only-of-type {\n",
       "        vertical-align: middle;\n",
       "    }\n",
       "\n",
       "    .dataframe tbody tr th {\n",
       "        vertical-align: top;\n",
       "    }\n",
       "\n",
       "    .dataframe thead th {\n",
       "        text-align: right;\n",
       "    }\n",
       "</style>\n",
       "<table border=\"1\" class=\"dataframe\">\n",
       "  <thead>\n",
       "    <tr style=\"text-align: right;\">\n",
       "      <th></th>\n",
       "      <th>Index</th>\n",
       "      <th>V1</th>\n",
       "      <th>V2</th>\n",
       "      <th>V3</th>\n",
       "      <th>train_y</th>\n",
       "    </tr>\n",
       "  </thead>\n",
       "  <tbody>\n",
       "    <tr>\n",
       "      <td>0</td>\n",
       "      <td>1</td>\n",
       "      <td>0.735768</td>\n",
       "      <td>1.182321</td>\n",
       "      <td>0.593134</td>\n",
       "      <td>0</td>\n",
       "    </tr>\n",
       "    <tr>\n",
       "      <td>1</td>\n",
       "      <td>2</td>\n",
       "      <td>0.926873</td>\n",
       "      <td>1.413204</td>\n",
       "      <td>2.713978</td>\n",
       "      <td>0</td>\n",
       "    </tr>\n",
       "    <tr>\n",
       "      <td>2</td>\n",
       "      <td>3</td>\n",
       "      <td>1.127243</td>\n",
       "      <td>0.331993</td>\n",
       "      <td>-1.135993</td>\n",
       "      <td>0</td>\n",
       "    </tr>\n",
       "    <tr>\n",
       "      <td>3</td>\n",
       "      <td>4</td>\n",
       "      <td>-0.665470</td>\n",
       "      <td>0.663649</td>\n",
       "      <td>-0.463150</td>\n",
       "      <td>0</td>\n",
       "    </tr>\n",
       "    <tr>\n",
       "      <td>4</td>\n",
       "      <td>5</td>\n",
       "      <td>-0.790937</td>\n",
       "      <td>1.149649</td>\n",
       "      <td>-0.138268</td>\n",
       "      <td>0</td>\n",
       "    </tr>\n",
       "  </tbody>\n",
       "</table>\n",
       "</div>"
      ],
      "text/plain": [
       "   Index        V1        V2        V3  train_y\n",
       "0      1  0.735768  1.182321  0.593134        0\n",
       "1      2  0.926873  1.413204  2.713978        0\n",
       "2      3  1.127243  0.331993 -1.135993        0\n",
       "3      4 -0.665470  0.663649 -0.463150        0\n",
       "4      5 -0.790937  1.149649 -0.138268        0"
      ]
     },
     "execution_count": 3,
     "metadata": {},
     "output_type": "execute_result"
    }
   ],
   "source": [
    "training=pd.read_csv('training.csv')\n",
    "training.head()"
   ]
  },
  {
   "cell_type": "code",
   "execution_count": 12,
   "metadata": {
    "ExecuteTime": {
     "end_time": "2020-04-14T03:04:44.569240Z",
     "start_time": "2020-04-14T03:04:44.544310Z"
    }
   },
   "outputs": [
    {
     "data": {
      "text/html": [
       "<div>\n",
       "<style scoped>\n",
       "    .dataframe tbody tr th:only-of-type {\n",
       "        vertical-align: middle;\n",
       "    }\n",
       "\n",
       "    .dataframe tbody tr th {\n",
       "        vertical-align: top;\n",
       "    }\n",
       "\n",
       "    .dataframe thead th {\n",
       "        text-align: right;\n",
       "    }\n",
       "</style>\n",
       "<table border=\"1\" class=\"dataframe\">\n",
       "  <thead>\n",
       "    <tr style=\"text-align: right;\">\n",
       "      <th></th>\n",
       "      <th>Index</th>\n",
       "      <th>V1</th>\n",
       "      <th>V2</th>\n",
       "      <th>V3</th>\n",
       "      <th>test_y</th>\n",
       "    </tr>\n",
       "  </thead>\n",
       "  <tbody>\n",
       "    <tr>\n",
       "      <td>0</td>\n",
       "      <td>1</td>\n",
       "      <td>1.203008</td>\n",
       "      <td>0.471972</td>\n",
       "      <td>-0.120914</td>\n",
       "      <td>0</td>\n",
       "    </tr>\n",
       "    <tr>\n",
       "      <td>1</td>\n",
       "      <td>2</td>\n",
       "      <td>-0.351310</td>\n",
       "      <td>-0.884360</td>\n",
       "      <td>1.427213</td>\n",
       "      <td>0</td>\n",
       "    </tr>\n",
       "    <tr>\n",
       "      <td>2</td>\n",
       "      <td>3</td>\n",
       "      <td>1.459216</td>\n",
       "      <td>0.366368</td>\n",
       "      <td>-0.955240</td>\n",
       "      <td>0</td>\n",
       "    </tr>\n",
       "    <tr>\n",
       "      <td>3</td>\n",
       "      <td>4</td>\n",
       "      <td>0.429113</td>\n",
       "      <td>-0.495070</td>\n",
       "      <td>0.098336</td>\n",
       "      <td>0</td>\n",
       "    </tr>\n",
       "    <tr>\n",
       "      <td>4</td>\n",
       "      <td>5</td>\n",
       "      <td>-1.478627</td>\n",
       "      <td>0.010730</td>\n",
       "      <td>0.294894</td>\n",
       "      <td>0</td>\n",
       "    </tr>\n",
       "  </tbody>\n",
       "</table>\n",
       "</div>"
      ],
      "text/plain": [
       "   Index        V1        V2        V3  test_y\n",
       "0      1  1.203008  0.471972 -0.120914       0\n",
       "1      2 -0.351310 -0.884360  1.427213       0\n",
       "2      3  1.459216  0.366368 -0.955240       0\n",
       "3      4  0.429113 -0.495070  0.098336       0\n",
       "4      5 -1.478627  0.010730  0.294894       0"
      ]
     },
     "execution_count": 12,
     "metadata": {},
     "output_type": "execute_result"
    }
   ],
   "source": [
    "testing=pd.read_csv('test.csv')\n",
    "testing.head()"
   ]
  },
  {
   "cell_type": "code",
   "execution_count": 8,
   "metadata": {
    "ExecuteTime": {
     "end_time": "2020-04-14T02:51:23.793685Z",
     "start_time": "2020-04-14T02:51:23.787676Z"
    }
   },
   "outputs": [
    {
     "data": {
      "text/plain": [
       "10.0"
      ]
     },
     "execution_count": 8,
     "metadata": {},
     "output_type": "execute_result"
    }
   ],
   "source": [
    "IR=sum(training['train_y']==1)/sum(training['train_y']==0)\n",
    "IR"
   ]
  },
  {
   "cell_type": "code",
   "execution_count": 11,
   "metadata": {
    "ExecuteTime": {
     "end_time": "2020-04-14T03:03:37.736271Z",
     "start_time": "2020-04-14T03:03:37.708347Z"
    }
   },
   "outputs": [
    {
     "name": "stdout",
     "output_type": "stream",
     "text": [
      "Optimization terminated successfully.\n",
      "         Current function value: 0.145483\n",
      "         Iterations 9\n"
     ]
    }
   ],
   "source": [
    "result=smf.logit('train_y~V1+V2+V3',data=training).fit()"
   ]
  },
  {
   "cell_type": "code",
   "execution_count": 14,
   "metadata": {
    "ExecuteTime": {
     "end_time": "2020-04-14T03:08:21.757748Z",
     "start_time": "2020-04-14T03:08:21.740792Z"
    }
   },
   "outputs": [
    {
     "data": {
      "text/plain": [
       "0.046181818181818185"
      ]
     },
     "execution_count": 14,
     "metadata": {},
     "output_type": "execute_result"
    }
   ],
   "source": [
    "test_prob=result.predict(testing.drop(['Index','test_y'],axis=1))\n",
    "test_pred=(test_prob>0.5)\n",
    "y_test=testing['test_y']\n",
    "classification_error=np.mean(test_pred != y_test)\n",
    "classification_error"
   ]
  },
  {
   "cell_type": "markdown",
   "metadata": {},
   "source": [
    "The imbalance ratio in training.csv is 10, and the classification error for test.csv is 0.046181818181818185."
   ]
  },
  {
   "cell_type": "markdown",
   "metadata": {},
   "source": [
    "**5. After applying random undersampling to the training dataset, we obtained a new training dataset in\n",
    "the file new_training.csv. What is the imbalance ratio in new_training.csv? Train Logisitic Regression\n",
    "method with the training dataset in the file new_training.csv. Then on the test dataset in the file test.csv (the same test set as you used in problem 4), calculate the classification error using 1/2 as the threshold of\n",
    "the trained sigmoid function.**"
   ]
  },
  {
   "cell_type": "code",
   "execution_count": 16,
   "metadata": {
    "ExecuteTime": {
     "end_time": "2020-04-14T03:11:01.160582Z",
     "start_time": "2020-04-14T03:11:01.147576Z"
    }
   },
   "outputs": [
    {
     "data": {
      "text/html": [
       "<div>\n",
       "<style scoped>\n",
       "    .dataframe tbody tr th:only-of-type {\n",
       "        vertical-align: middle;\n",
       "    }\n",
       "\n",
       "    .dataframe tbody tr th {\n",
       "        vertical-align: top;\n",
       "    }\n",
       "\n",
       "    .dataframe thead th {\n",
       "        text-align: right;\n",
       "    }\n",
       "</style>\n",
       "<table border=\"1\" class=\"dataframe\">\n",
       "  <thead>\n",
       "    <tr style=\"text-align: right;\">\n",
       "      <th></th>\n",
       "      <th>Index</th>\n",
       "      <th>V1</th>\n",
       "      <th>V2</th>\n",
       "      <th>V3</th>\n",
       "      <th>y</th>\n",
       "    </tr>\n",
       "  </thead>\n",
       "  <tbody>\n",
       "    <tr>\n",
       "      <td>0</td>\n",
       "      <td>1</td>\n",
       "      <td>0.735768</td>\n",
       "      <td>1.182321</td>\n",
       "      <td>0.593134</td>\n",
       "      <td>0</td>\n",
       "    </tr>\n",
       "    <tr>\n",
       "      <td>1</td>\n",
       "      <td>2</td>\n",
       "      <td>0.926873</td>\n",
       "      <td>1.413204</td>\n",
       "      <td>2.713978</td>\n",
       "      <td>0</td>\n",
       "    </tr>\n",
       "    <tr>\n",
       "      <td>2</td>\n",
       "      <td>3</td>\n",
       "      <td>1.127243</td>\n",
       "      <td>0.331993</td>\n",
       "      <td>-1.135993</td>\n",
       "      <td>0</td>\n",
       "    </tr>\n",
       "    <tr>\n",
       "      <td>3</td>\n",
       "      <td>4</td>\n",
       "      <td>-0.665470</td>\n",
       "      <td>0.663649</td>\n",
       "      <td>-0.463150</td>\n",
       "      <td>0</td>\n",
       "    </tr>\n",
       "    <tr>\n",
       "      <td>4</td>\n",
       "      <td>5</td>\n",
       "      <td>-0.790937</td>\n",
       "      <td>1.149649</td>\n",
       "      <td>-0.138268</td>\n",
       "      <td>0</td>\n",
       "    </tr>\n",
       "  </tbody>\n",
       "</table>\n",
       "</div>"
      ],
      "text/plain": [
       "   Index        V1        V2        V3  y\n",
       "0      1  0.735768  1.182321  0.593134  0\n",
       "1      2  0.926873  1.413204  2.713978  0\n",
       "2      3  1.127243  0.331993 -1.135993  0\n",
       "3      4 -0.665470  0.663649 -0.463150  0\n",
       "4      5 -0.790937  1.149649 -0.138268  0"
      ]
     },
     "execution_count": 16,
     "metadata": {},
     "output_type": "execute_result"
    }
   ],
   "source": [
    "new_training=pd.read_csv('new_training.csv')\n",
    "new_training.head()"
   ]
  },
  {
   "cell_type": "code",
   "execution_count": 18,
   "metadata": {
    "ExecuteTime": {
     "end_time": "2020-04-14T03:11:28.323673Z",
     "start_time": "2020-04-14T03:11:28.317690Z"
    }
   },
   "outputs": [
    {
     "data": {
      "text/plain": [
       "1.0"
      ]
     },
     "execution_count": 18,
     "metadata": {},
     "output_type": "execute_result"
    }
   ],
   "source": [
    "IR=sum(new_training['y']==1)/sum(new_training['y']==0)\n",
    "IR"
   ]
  },
  {
   "cell_type": "code",
   "execution_count": 19,
   "metadata": {
    "ExecuteTime": {
     "end_time": "2020-04-14T03:11:54.916338Z",
     "start_time": "2020-04-14T03:11:54.896392Z"
    }
   },
   "outputs": [
    {
     "name": "stdout",
     "output_type": "stream",
     "text": [
      "Optimization terminated successfully.\n",
      "         Current function value: 0.361158\n",
      "         Iterations 7\n"
     ]
    }
   ],
   "source": [
    "result_new=smf.logit('y~V1+V2+V3',data=new_training).fit()"
   ]
  },
  {
   "cell_type": "code",
   "execution_count": 20,
   "metadata": {
    "ExecuteTime": {
     "end_time": "2020-04-14T03:13:49.530993Z",
     "start_time": "2020-04-14T03:13:49.513043Z"
    }
   },
   "outputs": [
    {
     "data": {
      "text/plain": [
       "0.10890909090909091"
      ]
     },
     "execution_count": 20,
     "metadata": {},
     "output_type": "execute_result"
    }
   ],
   "source": [
    "test_prob_new=result_new.predict(testing.drop(['Index','test_y'],axis=1))\n",
    "test_pred_new=(test_prob_new>0.5)\n",
    "classification_error_new=np.mean(test_pred_new != y_test)\n",
    "classification_error_new"
   ]
  },
  {
   "cell_type": "markdown",
   "metadata": {},
   "source": [
    "The imbalance ratio in training.csv is 1, and the classification error for test.csv is 0.10890909090909091."
   ]
  },
  {
   "cell_type": "code",
   "execution_count": null,
   "metadata": {},
   "outputs": [],
   "source": []
  }
 ],
 "metadata": {
  "kernelspec": {
   "display_name": "Python 3",
   "language": "python",
   "name": "python3"
  },
  "language_info": {
   "codemirror_mode": {
    "name": "ipython",
    "version": 3
   },
   "file_extension": ".py",
   "mimetype": "text/x-python",
   "name": "python",
   "nbconvert_exporter": "python",
   "pygments_lexer": "ipython3",
   "version": "3.7.4"
  },
  "toc": {
   "base_numbering": 1,
   "nav_menu": {},
   "number_sections": true,
   "sideBar": true,
   "skip_h1_title": false,
   "title_cell": "Table of Contents",
   "title_sidebar": "Contents",
   "toc_cell": false,
   "toc_position": {},
   "toc_section_display": true,
   "toc_window_display": false
  },
  "varInspector": {
   "cols": {
    "lenName": 16,
    "lenType": 16,
    "lenVar": 40
   },
   "kernels_config": {
    "python": {
     "delete_cmd_postfix": "",
     "delete_cmd_prefix": "del ",
     "library": "var_list.py",
     "varRefreshCmd": "print(var_dic_list())"
    },
    "r": {
     "delete_cmd_postfix": ") ",
     "delete_cmd_prefix": "rm(",
     "library": "var_list.r",
     "varRefreshCmd": "cat(var_dic_list()) "
    }
   },
   "types_to_exclude": [
    "module",
    "function",
    "builtin_function_or_method",
    "instance",
    "_Feature"
   ],
   "window_display": false
  }
 },
 "nbformat": 4,
 "nbformat_minor": 2
}
