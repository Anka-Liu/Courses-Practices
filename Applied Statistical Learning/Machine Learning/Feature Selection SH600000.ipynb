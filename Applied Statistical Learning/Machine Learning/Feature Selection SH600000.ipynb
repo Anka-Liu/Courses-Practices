{
 "cells": [
  {
   "cell_type": "code",
   "execution_count": 14,
   "metadata": {},
   "outputs": [],
   "source": [
    "import pandas as pd\n",
    "import numpy as np\n",
    "from scipy import stats as sps\n",
    "import datetime as dt\n",
    "import seaborn as sns\n",
    "import matplotlib.pyplot as plt\n",
    "import math\n",
    "from sklearn.linear_model import LinearRegression\n",
    "from sklearn.feature_selection import RFECV\n",
    "from sklearn.model_selection import train_test_split\n",
    "from mlxtend.feature_selection import SequentialFeatureSelector as SFS"
   ]
  },
  {
   "cell_type": "code",
   "execution_count": 8,
   "metadata": {},
   "outputs": [],
   "source": [
    "tt=pd.read_csv('SH600000_tt.csv')"
   ]
  },
  {
   "cell_type": "code",
   "execution_count": 10,
   "metadata": {},
   "outputs": [],
   "source": [
    "tt_time=tt['Time']"
   ]
  },
  {
   "cell_type": "code",
   "execution_count": 11,
   "metadata": {},
   "outputs": [],
   "source": [
    "tt.drop(['Unnamed: 0','Time'],inplace=True,axis=1)"
   ]
  },
  {
   "cell_type": "code",
   "execution_count": 39,
   "metadata": {},
   "outputs": [],
   "source": [
    "tt_y=tt['Close']"
   ]
  },
  {
   "cell_type": "code",
   "execution_count": 12,
   "metadata": {},
   "outputs": [
    {
     "data": {
      "text/html": [
       "<div>\n",
       "<style scoped>\n",
       "    .dataframe tbody tr th:only-of-type {\n",
       "        vertical-align: middle;\n",
       "    }\n",
       "\n",
       "    .dataframe tbody tr th {\n",
       "        vertical-align: top;\n",
       "    }\n",
       "\n",
       "    .dataframe thead th {\n",
       "        text-align: right;\n",
       "    }\n",
       "</style>\n",
       "<table border=\"1\" class=\"dataframe\">\n",
       "  <thead>\n",
       "    <tr style=\"text-align: right;\">\n",
       "      <th></th>\n",
       "      <th>volumelag</th>\n",
       "      <th>rsilag</th>\n",
       "      <th>fastKlag</th>\n",
       "      <th>fastDlag</th>\n",
       "      <th>ADlag</th>\n",
       "      <th>OBVlag</th>\n",
       "      <th>MA5lag</th>\n",
       "      <th>MA15lag</th>\n",
       "      <th>day5Returnlag</th>\n",
       "      <th>day15Returnlag</th>\n",
       "      <th>PROClag</th>\n",
       "      <th>MACD</th>\n",
       "      <th>day3Returnlag</th>\n",
       "      <th>MA3lag</th>\n",
       "      <th>Openlag</th>\n",
       "      <th>Highlag</th>\n",
       "      <th>Lowlag</th>\n",
       "      <th>Closelag</th>\n",
       "      <th>Close</th>\n",
       "    </tr>\n",
       "  </thead>\n",
       "  <tbody>\n",
       "    <tr>\n",
       "      <th>0</th>\n",
       "      <td>-0.538217</td>\n",
       "      <td>0.916542</td>\n",
       "      <td>0.337054</td>\n",
       "      <td>0.863675</td>\n",
       "      <td>-0.974514</td>\n",
       "      <td>-1.040990</td>\n",
       "      <td>0.940411</td>\n",
       "      <td>0.880591</td>\n",
       "      <td>0.187386</td>\n",
       "      <td>0.527322</td>\n",
       "      <td>0.101676</td>\n",
       "      <td>0.720183</td>\n",
       "      <td>-0.960328</td>\n",
       "      <td>0.848923</td>\n",
       "      <td>0.876955</td>\n",
       "      <td>0.956274</td>\n",
       "      <td>0.940585</td>\n",
       "      <td>0.878767</td>\n",
       "      <td>154.8268</td>\n",
       "    </tr>\n",
       "    <tr>\n",
       "      <th>1</th>\n",
       "      <td>-0.230804</td>\n",
       "      <td>-0.151536</td>\n",
       "      <td>-1.374723</td>\n",
       "      <td>-0.264823</td>\n",
       "      <td>-1.677261</td>\n",
       "      <td>-1.097491</td>\n",
       "      <td>0.874857</td>\n",
       "      <td>0.870759</td>\n",
       "      <td>-1.397381</td>\n",
       "      <td>-0.317952</td>\n",
       "      <td>-2.348111</td>\n",
       "      <td>0.644545</td>\n",
       "      <td>-1.518285</td>\n",
       "      <td>0.695499</td>\n",
       "      <td>0.847370</td>\n",
       "      <td>0.744879</td>\n",
       "      <td>0.628751</td>\n",
       "      <td>0.526688</td>\n",
       "      <td>154.4560</td>\n",
       "    </tr>\n",
       "    <tr>\n",
       "      <th>2</th>\n",
       "      <td>-0.617253</td>\n",
       "      <td>-0.222715</td>\n",
       "      <td>-1.264034</td>\n",
       "      <td>-0.819867</td>\n",
       "      <td>-1.150201</td>\n",
       "      <td>-1.124140</td>\n",
       "      <td>0.773548</td>\n",
       "      <td>0.848507</td>\n",
       "      <td>-1.823302</td>\n",
       "      <td>-0.511085</td>\n",
       "      <td>-0.150762</td>\n",
       "      <td>0.539098</td>\n",
       "      <td>-1.685647</td>\n",
       "      <td>0.575347</td>\n",
       "      <td>0.529294</td>\n",
       "      <td>0.526195</td>\n",
       "      <td>0.576785</td>\n",
       "      <td>0.497351</td>\n",
       "      <td>153.1580</td>\n",
       "    </tr>\n",
       "    <tr>\n",
       "      <th>3</th>\n",
       "      <td>-0.760831</td>\n",
       "      <td>-0.465933</td>\n",
       "      <td>-1.342004</td>\n",
       "      <td>-1.418789</td>\n",
       "      <td>-1.492329</td>\n",
       "      <td>-1.139697</td>\n",
       "      <td>0.629032</td>\n",
       "      <td>0.812801</td>\n",
       "      <td>-1.435656</td>\n",
       "      <td>-0.741804</td>\n",
       "      <td>-0.662535</td>\n",
       "      <td>0.399544</td>\n",
       "      <td>-0.558632</td>\n",
       "      <td>0.408985</td>\n",
       "      <td>0.492313</td>\n",
       "      <td>0.431426</td>\n",
       "      <td>0.487685</td>\n",
       "      <td>0.394657</td>\n",
       "      <td>150.9330</td>\n",
       "    </tr>\n",
       "    <tr>\n",
       "      <th>4</th>\n",
       "      <td>-0.427463</td>\n",
       "      <td>-0.831753</td>\n",
       "      <td>-0.991970</td>\n",
       "      <td>-1.282261</td>\n",
       "      <td>-0.399385</td>\n",
       "      <td>-1.181007</td>\n",
       "      <td>0.496436</td>\n",
       "      <td>0.762090</td>\n",
       "      <td>-2.022409</td>\n",
       "      <td>-0.919522</td>\n",
       "      <td>-1.187307</td>\n",
       "      <td>0.249292</td>\n",
       "      <td>-1.254343</td>\n",
       "      <td>0.338742</td>\n",
       "      <td>0.396146</td>\n",
       "      <td>0.329376</td>\n",
       "      <td>0.198131</td>\n",
       "      <td>0.218621</td>\n",
       "      <td>151.3038</td>\n",
       "    </tr>\n",
       "  </tbody>\n",
       "</table>\n",
       "</div>"
      ],
      "text/plain": [
       "   volumelag    rsilag  fastKlag  fastDlag     ADlag    OBVlag    MA5lag  \\\n",
       "0  -0.538217  0.916542  0.337054  0.863675 -0.974514 -1.040990  0.940411   \n",
       "1  -0.230804 -0.151536 -1.374723 -0.264823 -1.677261 -1.097491  0.874857   \n",
       "2  -0.617253 -0.222715 -1.264034 -0.819867 -1.150201 -1.124140  0.773548   \n",
       "3  -0.760831 -0.465933 -1.342004 -1.418789 -1.492329 -1.139697  0.629032   \n",
       "4  -0.427463 -0.831753 -0.991970 -1.282261 -0.399385 -1.181007  0.496436   \n",
       "\n",
       "    MA15lag  day5Returnlag  day15Returnlag   PROClag      MACD  day3Returnlag  \\\n",
       "0  0.880591       0.187386        0.527322  0.101676  0.720183      -0.960328   \n",
       "1  0.870759      -1.397381       -0.317952 -2.348111  0.644545      -1.518285   \n",
       "2  0.848507      -1.823302       -0.511085 -0.150762  0.539098      -1.685647   \n",
       "3  0.812801      -1.435656       -0.741804 -0.662535  0.399544      -0.558632   \n",
       "4  0.762090      -2.022409       -0.919522 -1.187307  0.249292      -1.254343   \n",
       "\n",
       "     MA3lag   Openlag   Highlag    Lowlag  Closelag     Close  \n",
       "0  0.848923  0.876955  0.956274  0.940585  0.878767  154.8268  \n",
       "1  0.695499  0.847370  0.744879  0.628751  0.526688  154.4560  \n",
       "2  0.575347  0.529294  0.526195  0.576785  0.497351  153.1580  \n",
       "3  0.408985  0.492313  0.431426  0.487685  0.394657  150.9330  \n",
       "4  0.338742  0.396146  0.329376  0.198131  0.218621  151.3038  "
      ]
     },
     "execution_count": 12,
     "metadata": {},
     "output_type": "execute_result"
    }
   ],
   "source": [
    "tt.head()"
   ]
  },
  {
   "cell_type": "code",
   "execution_count": 13,
   "metadata": {},
   "outputs": [],
   "source": [
    "tt_df=tt.copy()"
   ]
  },
  {
   "cell_type": "code",
   "execution_count": 15,
   "metadata": {},
   "outputs": [
    {
     "data": {
      "text/plain": [
       "(404, 19)"
      ]
     },
     "execution_count": 15,
     "metadata": {},
     "output_type": "execute_result"
    }
   ],
   "source": [
    "tt_df.shape"
   ]
  },
  {
   "cell_type": "code",
   "execution_count": 37,
   "metadata": {},
   "outputs": [],
   "source": [
    "oot=pd.read_csv('SH600000_oot.csv')"
   ]
  },
  {
   "cell_type": "code",
   "execution_count": 40,
   "metadata": {},
   "outputs": [],
   "source": [
    "oot_y=oot['Close']"
   ]
  },
  {
   "cell_type": "code",
   "execution_count": 38,
   "metadata": {},
   "outputs": [],
   "source": [
    "oot_time=oot['Time']"
   ]
  },
  {
   "cell_type": "markdown",
   "metadata": {},
   "source": [
    "## SequentialFeatureSelector"
   ]
  },
  {
   "cell_type": "code",
   "execution_count": 20,
   "metadata": {},
   "outputs": [],
   "source": [
    "feature=list(tt_df.keys()[:-1])"
   ]
  },
  {
   "cell_type": "code",
   "execution_count": 16,
   "metadata": {},
   "outputs": [],
   "source": [
    "estimator=LinearRegression(fit_intercept=True, normalize=False, n_jobs=-1)"
   ]
  },
  {
   "cell_type": "code",
   "execution_count": 25,
   "metadata": {},
   "outputs": [],
   "source": [
    "sfs = SFS(estimator,\n",
    "           k_features=18,\n",
    "           forward=True,\n",
    "           verbose=1,\n",
    "           scoring = 'neg_mean_squared_error',\n",
    "           cv = 5,\n",
    "           n_jobs=-1)"
   ]
  },
  {
   "cell_type": "code",
   "execution_count": 26,
   "metadata": {},
   "outputs": [
    {
     "name": "stderr",
     "output_type": "stream",
     "text": [
      "[Parallel(n_jobs=-1)]: Using backend LokyBackend with 8 concurrent workers.\n",
      "[Parallel(n_jobs=-1)]: Done  18 out of  18 | elapsed:    1.6s finished\n",
      "Features: 1/18[Parallel(n_jobs=-1)]: Using backend LokyBackend with 8 concurrent workers.\n",
      "[Parallel(n_jobs=-1)]: Done  17 out of  17 | elapsed:    0.0s finished\n",
      "Features: 2/18[Parallel(n_jobs=-1)]: Using backend LokyBackend with 8 concurrent workers.\n",
      "[Parallel(n_jobs=-1)]: Done  16 out of  16 | elapsed:    0.0s finished\n",
      "Features: 3/18[Parallel(n_jobs=-1)]: Using backend LokyBackend with 8 concurrent workers.\n",
      "[Parallel(n_jobs=-1)]: Done  15 out of  15 | elapsed:    0.0s finished\n",
      "Features: 4/18[Parallel(n_jobs=-1)]: Using backend LokyBackend with 8 concurrent workers.\n",
      "[Parallel(n_jobs=-1)]: Done  14 out of  14 | elapsed:    0.0s remaining:    0.0s\n",
      "[Parallel(n_jobs=-1)]: Done  14 out of  14 | elapsed:    0.0s finished\n",
      "Features: 5/18[Parallel(n_jobs=-1)]: Using backend LokyBackend with 8 concurrent workers.\n",
      "[Parallel(n_jobs=-1)]: Done  13 out of  13 | elapsed:    0.0s finished\n",
      "Features: 6/18[Parallel(n_jobs=-1)]: Using backend LokyBackend with 8 concurrent workers.\n",
      "[Parallel(n_jobs=-1)]: Done  10 out of  12 | elapsed:    0.0s remaining:    0.0s\n",
      "[Parallel(n_jobs=-1)]: Done  12 out of  12 | elapsed:    0.0s finished\n",
      "Features: 7/18[Parallel(n_jobs=-1)]: Using backend LokyBackend with 8 concurrent workers.\n",
      "[Parallel(n_jobs=-1)]: Done   8 out of  11 | elapsed:    0.0s remaining:    0.0s\n",
      "[Parallel(n_jobs=-1)]: Done  11 out of  11 | elapsed:    0.0s finished\n",
      "Features: 8/18[Parallel(n_jobs=-1)]: Using backend LokyBackend with 8 concurrent workers.\n",
      "[Parallel(n_jobs=-1)]: Done   6 out of  10 | elapsed:    0.0s remaining:    0.0s\n",
      "[Parallel(n_jobs=-1)]: Done  10 out of  10 | elapsed:    0.0s finished\n",
      "Features: 9/18[Parallel(n_jobs=-1)]: Using backend LokyBackend with 8 concurrent workers.\n",
      "[Parallel(n_jobs=-1)]: Done   4 out of   9 | elapsed:    0.0s remaining:    0.0s\n",
      "[Parallel(n_jobs=-1)]: Done   9 out of   9 | elapsed:    0.0s finished\n",
      "Features: 10/18[Parallel(n_jobs=-1)]: Using backend LokyBackend with 8 concurrent workers.\n",
      "[Parallel(n_jobs=-1)]: Done   2 out of   8 | elapsed:    0.0s remaining:    0.1s\n",
      "[Parallel(n_jobs=-1)]: Done   8 out of   8 | elapsed:    0.0s finished\n",
      "Features: 11/18[Parallel(n_jobs=-1)]: Using backend LokyBackend with 8 concurrent workers.\n",
      "[Parallel(n_jobs=-1)]: Done   7 out of   7 | elapsed:    0.0s finished\n",
      "Features: 12/18[Parallel(n_jobs=-1)]: Using backend LokyBackend with 8 concurrent workers.\n",
      "[Parallel(n_jobs=-1)]: Done   6 out of   6 | elapsed:    0.0s finished\n",
      "Features: 13/18[Parallel(n_jobs=-1)]: Using backend LokyBackend with 8 concurrent workers.\n",
      "[Parallel(n_jobs=-1)]: Done   2 out of   5 | elapsed:    0.0s remaining:    0.0s\n",
      "[Parallel(n_jobs=-1)]: Done   5 out of   5 | elapsed:    0.0s finished\n",
      "Features: 14/18[Parallel(n_jobs=-1)]: Using backend LokyBackend with 8 concurrent workers.\n",
      "[Parallel(n_jobs=-1)]: Done   4 out of   4 | elapsed:    0.0s remaining:    0.0s\n",
      "[Parallel(n_jobs=-1)]: Done   4 out of   4 | elapsed:    0.0s finished\n",
      "Features: 15/18[Parallel(n_jobs=-1)]: Using backend LokyBackend with 8 concurrent workers.\n",
      "[Parallel(n_jobs=-1)]: Done   3 out of   3 | elapsed:    0.0s finished\n",
      "Features: 16/18[Parallel(n_jobs=-1)]: Using backend LokyBackend with 8 concurrent workers.\n",
      "[Parallel(n_jobs=-1)]: Done   2 out of   2 | elapsed:    0.0s remaining:    0.0s\n",
      "[Parallel(n_jobs=-1)]: Done   2 out of   2 | elapsed:    0.0s finished\n",
      "Features: 17/18[Parallel(n_jobs=-1)]: Using backend LokyBackend with 8 concurrent workers.\n",
      "[Parallel(n_jobs=-1)]: Done   1 out of   1 | elapsed:    0.0s finished\n",
      "Features: 18/18"
     ]
    },
    {
     "data": {
      "text/plain": [
       "SequentialFeatureSelector(clone_estimator=True, cv=5,\n",
       "                          estimator=LinearRegression(copy_X=True,\n",
       "                                                     fit_intercept=True,\n",
       "                                                     n_jobs=-1,\n",
       "                                                     normalize=False),\n",
       "                          fixed_features=None, floating=False, forward=True,\n",
       "                          k_features=18, n_jobs=-1, pre_dispatch='2*n_jobs',\n",
       "                          scoring='neg_mean_squared_error', verbose=1)"
      ]
     },
     "execution_count": 26,
     "metadata": {},
     "output_type": "execute_result"
    }
   ],
   "source": [
    "sfs.fit(tt_df[feature],tt_df['Close'])"
   ]
  },
  {
   "cell_type": "code",
   "execution_count": 27,
   "metadata": {},
   "outputs": [
    {
     "data": {
      "text/html": [
       "<div>\n",
       "<style scoped>\n",
       "    .dataframe tbody tr th:only-of-type {\n",
       "        vertical-align: middle;\n",
       "    }\n",
       "\n",
       "    .dataframe tbody tr th {\n",
       "        vertical-align: top;\n",
       "    }\n",
       "\n",
       "    .dataframe thead th {\n",
       "        text-align: right;\n",
       "    }\n",
       "</style>\n",
       "<table border=\"1\" class=\"dataframe\">\n",
       "  <thead>\n",
       "    <tr style=\"text-align: right;\">\n",
       "      <th></th>\n",
       "      <th>feature_idx</th>\n",
       "      <th>cv_scores</th>\n",
       "      <th>avg_score</th>\n",
       "      <th>feature_names</th>\n",
       "      <th>ci_bound</th>\n",
       "      <th>std_dev</th>\n",
       "      <th>std_err</th>\n",
       "    </tr>\n",
       "  </thead>\n",
       "  <tbody>\n",
       "    <tr>\n",
       "      <th>1</th>\n",
       "      <td>(13,)</td>\n",
       "      <td>[-1.171535317996101, -5.422852034512507, -1.50...</td>\n",
       "      <td>-2.86667</td>\n",
       "      <td>(MA3lag,)</td>\n",
       "      <td>1.99787</td>\n",
       "      <td>1.55441</td>\n",
       "      <td>0.777207</td>\n",
       "    </tr>\n",
       "    <tr>\n",
       "      <th>2</th>\n",
       "      <td>(6, 13)</td>\n",
       "      <td>[-0.5483535057009952, -2.4372644927446685, -0....</td>\n",
       "      <td>-1.7645</td>\n",
       "      <td>(MA5lag, MA3lag)</td>\n",
       "      <td>1.08316</td>\n",
       "      <td>0.842739</td>\n",
       "      <td>0.42137</td>\n",
       "    </tr>\n",
       "    <tr>\n",
       "      <th>3</th>\n",
       "      <td>(6, 8, 13)</td>\n",
       "      <td>[-0.3248180772704301, -1.4176502524975423, -0....</td>\n",
       "      <td>-1.04137</td>\n",
       "      <td>(MA5lag, day5Returnlag, MA3lag)</td>\n",
       "      <td>0.646211</td>\n",
       "      <td>0.502774</td>\n",
       "      <td>0.251387</td>\n",
       "    </tr>\n",
       "    <tr>\n",
       "      <th>4</th>\n",
       "      <td>(6, 8, 10, 13)</td>\n",
       "      <td>[-0.16640641411189175, -0.7666674192374213, -0...</td>\n",
       "      <td>-0.486102</td>\n",
       "      <td>(MA5lag, day5Returnlag, PROClag, MA3lag)</td>\n",
       "      <td>0.26197</td>\n",
       "      <td>0.203821</td>\n",
       "      <td>0.101911</td>\n",
       "    </tr>\n",
       "    <tr>\n",
       "      <th>5</th>\n",
       "      <td>(6, 8, 10, 12, 13)</td>\n",
       "      <td>[-0.14681876051617176, -0.6816369236703342, -0...</td>\n",
       "      <td>-0.452677</td>\n",
       "      <td>(MA5lag, day5Returnlag, PROClag, day3Returnlag...</td>\n",
       "      <td>0.248452</td>\n",
       "      <td>0.193304</td>\n",
       "      <td>0.0966519</td>\n",
       "    </tr>\n",
       "    <tr>\n",
       "      <th>6</th>\n",
       "      <td>(6, 8, 10, 12, 13, 17)</td>\n",
       "      <td>[-0.016849707952720155, -0.11786016818506379, ...</td>\n",
       "      <td>-0.169676</td>\n",
       "      <td>(MA5lag, day5Returnlag, PROClag, day3Returnlag...</td>\n",
       "      <td>0.243419</td>\n",
       "      <td>0.189388</td>\n",
       "      <td>0.094694</td>\n",
       "    </tr>\n",
       "    <tr>\n",
       "      <th>7</th>\n",
       "      <td>(3, 6, 8, 10, 12, 13, 17)</td>\n",
       "      <td>[-0.017662890886963246, -0.11681665863432397, ...</td>\n",
       "      <td>-0.169643</td>\n",
       "      <td>(fastDlag, MA5lag, day5Returnlag, PROClag, day...</td>\n",
       "      <td>0.243113</td>\n",
       "      <td>0.18915</td>\n",
       "      <td>0.094575</td>\n",
       "    </tr>\n",
       "    <tr>\n",
       "      <th>8</th>\n",
       "      <td>(3, 6, 7, 8, 10, 12, 13, 17)</td>\n",
       "      <td>[-0.019334858928493084, -0.1157097799942996, -...</td>\n",
       "      <td>-0.169066</td>\n",
       "      <td>(fastDlag, MA5lag, MA15lag, day5Returnlag, PRO...</td>\n",
       "      <td>0.241833</td>\n",
       "      <td>0.188154</td>\n",
       "      <td>0.0940771</td>\n",
       "    </tr>\n",
       "    <tr>\n",
       "      <th>9</th>\n",
       "      <td>(3, 6, 7, 8, 9, 10, 12, 13, 17)</td>\n",
       "      <td>[-0.017898991195479486, -0.11716042484771447, ...</td>\n",
       "      <td>-0.168118</td>\n",
       "      <td>(fastDlag, MA5lag, MA15lag, day5Returnlag, day...</td>\n",
       "      <td>0.240524</td>\n",
       "      <td>0.187136</td>\n",
       "      <td>0.0935681</td>\n",
       "    </tr>\n",
       "    <tr>\n",
       "      <th>10</th>\n",
       "      <td>(3, 6, 7, 8, 9, 10, 12, 13, 14, 17)</td>\n",
       "      <td>[-0.01642861183703766, -0.10643192261161726, -...</td>\n",
       "      <td>-0.168106</td>\n",
       "      <td>(fastDlag, MA5lag, MA15lag, day5Returnlag, day...</td>\n",
       "      <td>0.241222</td>\n",
       "      <td>0.187679</td>\n",
       "      <td>0.0938396</td>\n",
       "    </tr>\n",
       "    <tr>\n",
       "      <th>11</th>\n",
       "      <td>(3, 5, 6, 7, 8, 9, 10, 12, 13, 14, 17)</td>\n",
       "      <td>[-0.01663396662820449, -0.10633673391890656, -...</td>\n",
       "      <td>-0.168674</td>\n",
       "      <td>(fastDlag, OBVlag, MA5lag, MA15lag, day5Return...</td>\n",
       "      <td>0.241038</td>\n",
       "      <td>0.187535</td>\n",
       "      <td>0.0937677</td>\n",
       "    </tr>\n",
       "    <tr>\n",
       "      <th>12</th>\n",
       "      <td>(3, 4, 5, 6, 7, 8, 9, 10, 12, 13, 14, 17)</td>\n",
       "      <td>[-0.01717068044078388, -0.10794871732781001, -...</td>\n",
       "      <td>-0.16961</td>\n",
       "      <td>(fastDlag, ADlag, OBVlag, MA5lag, MA15lag, day...</td>\n",
       "      <td>0.240907</td>\n",
       "      <td>0.187434</td>\n",
       "      <td>0.0937169</td>\n",
       "    </tr>\n",
       "    <tr>\n",
       "      <th>13</th>\n",
       "      <td>(3, 4, 5, 6, 7, 8, 9, 10, 11, 12, 13, 14, 17)</td>\n",
       "      <td>[-0.017229554016755133, -0.10793159107741664, ...</td>\n",
       "      <td>-0.170786</td>\n",
       "      <td>(fastDlag, ADlag, OBVlag, MA5lag, MA15lag, day...</td>\n",
       "      <td>0.243587</td>\n",
       "      <td>0.189519</td>\n",
       "      <td>0.0947596</td>\n",
       "    </tr>\n",
       "    <tr>\n",
       "      <th>14</th>\n",
       "      <td>(2, 3, 4, 5, 6, 7, 8, 9, 10, 11, 12, 13, 14, 17)</td>\n",
       "      <td>[-0.016464717471242528, -0.11511431381748809, ...</td>\n",
       "      <td>-0.172014</td>\n",
       "      <td>(fastKlag, fastDlag, ADlag, OBVlag, MA5lag, MA...</td>\n",
       "      <td>0.24257</td>\n",
       "      <td>0.188728</td>\n",
       "      <td>0.094364</td>\n",
       "    </tr>\n",
       "    <tr>\n",
       "      <th>15</th>\n",
       "      <td>(2, 3, 4, 5, 6, 7, 8, 9, 10, 11, 12, 13, 14, 1...</td>\n",
       "      <td>[-0.016795076332188907, -0.11521897529138796, ...</td>\n",
       "      <td>-0.174784</td>\n",
       "      <td>(fastKlag, fastDlag, ADlag, OBVlag, MA5lag, MA...</td>\n",
       "      <td>0.243547</td>\n",
       "      <td>0.189488</td>\n",
       "      <td>0.0947438</td>\n",
       "    </tr>\n",
       "    <tr>\n",
       "      <th>16</th>\n",
       "      <td>(2, 3, 4, 5, 6, 7, 8, 9, 10, 11, 12, 13, 14, 1...</td>\n",
       "      <td>[-0.016657860738116436, -0.11578414208712769, ...</td>\n",
       "      <td>-0.178175</td>\n",
       "      <td>(fastKlag, fastDlag, ADlag, OBVlag, MA5lag, MA...</td>\n",
       "      <td>0.250007</td>\n",
       "      <td>0.194514</td>\n",
       "      <td>0.0972569</td>\n",
       "    </tr>\n",
       "    <tr>\n",
       "      <th>17</th>\n",
       "      <td>(0, 2, 3, 4, 5, 6, 7, 8, 9, 10, 11, 12, 13, 14...</td>\n",
       "      <td>[-0.01663277052969363, -0.11455425323868823, -...</td>\n",
       "      <td>-0.182893</td>\n",
       "      <td>(volumelag, fastKlag, fastDlag, ADlag, OBVlag,...</td>\n",
       "      <td>0.249558</td>\n",
       "      <td>0.194165</td>\n",
       "      <td>0.0970823</td>\n",
       "    </tr>\n",
       "    <tr>\n",
       "      <th>18</th>\n",
       "      <td>(0, 1, 2, 3, 4, 5, 6, 7, 8, 9, 10, 11, 12, 13,...</td>\n",
       "      <td>[-0.016798766845365666, -0.11452023666795368, ...</td>\n",
       "      <td>-0.188014</td>\n",
       "      <td>(volumelag, rsilag, fastKlag, fastDlag, ADlag,...</td>\n",
       "      <td>0.261156</td>\n",
       "      <td>0.203188</td>\n",
       "      <td>0.101594</td>\n",
       "    </tr>\n",
       "  </tbody>\n",
       "</table>\n",
       "</div>"
      ],
      "text/plain": [
       "                                          feature_idx  \\\n",
       "1                                               (13,)   \n",
       "2                                             (6, 13)   \n",
       "3                                          (6, 8, 13)   \n",
       "4                                      (6, 8, 10, 13)   \n",
       "5                                  (6, 8, 10, 12, 13)   \n",
       "6                              (6, 8, 10, 12, 13, 17)   \n",
       "7                           (3, 6, 8, 10, 12, 13, 17)   \n",
       "8                        (3, 6, 7, 8, 10, 12, 13, 17)   \n",
       "9                     (3, 6, 7, 8, 9, 10, 12, 13, 17)   \n",
       "10                (3, 6, 7, 8, 9, 10, 12, 13, 14, 17)   \n",
       "11             (3, 5, 6, 7, 8, 9, 10, 12, 13, 14, 17)   \n",
       "12          (3, 4, 5, 6, 7, 8, 9, 10, 12, 13, 14, 17)   \n",
       "13      (3, 4, 5, 6, 7, 8, 9, 10, 11, 12, 13, 14, 17)   \n",
       "14   (2, 3, 4, 5, 6, 7, 8, 9, 10, 11, 12, 13, 14, 17)   \n",
       "15  (2, 3, 4, 5, 6, 7, 8, 9, 10, 11, 12, 13, 14, 1...   \n",
       "16  (2, 3, 4, 5, 6, 7, 8, 9, 10, 11, 12, 13, 14, 1...   \n",
       "17  (0, 2, 3, 4, 5, 6, 7, 8, 9, 10, 11, 12, 13, 14...   \n",
       "18  (0, 1, 2, 3, 4, 5, 6, 7, 8, 9, 10, 11, 12, 13,...   \n",
       "\n",
       "                                            cv_scores avg_score  \\\n",
       "1   [-1.171535317996101, -5.422852034512507, -1.50...  -2.86667   \n",
       "2   [-0.5483535057009952, -2.4372644927446685, -0....   -1.7645   \n",
       "3   [-0.3248180772704301, -1.4176502524975423, -0....  -1.04137   \n",
       "4   [-0.16640641411189175, -0.7666674192374213, -0... -0.486102   \n",
       "5   [-0.14681876051617176, -0.6816369236703342, -0... -0.452677   \n",
       "6   [-0.016849707952720155, -0.11786016818506379, ... -0.169676   \n",
       "7   [-0.017662890886963246, -0.11681665863432397, ... -0.169643   \n",
       "8   [-0.019334858928493084, -0.1157097799942996, -... -0.169066   \n",
       "9   [-0.017898991195479486, -0.11716042484771447, ... -0.168118   \n",
       "10  [-0.01642861183703766, -0.10643192261161726, -... -0.168106   \n",
       "11  [-0.01663396662820449, -0.10633673391890656, -... -0.168674   \n",
       "12  [-0.01717068044078388, -0.10794871732781001, -...  -0.16961   \n",
       "13  [-0.017229554016755133, -0.10793159107741664, ... -0.170786   \n",
       "14  [-0.016464717471242528, -0.11511431381748809, ... -0.172014   \n",
       "15  [-0.016795076332188907, -0.11521897529138796, ... -0.174784   \n",
       "16  [-0.016657860738116436, -0.11578414208712769, ... -0.178175   \n",
       "17  [-0.01663277052969363, -0.11455425323868823, -... -0.182893   \n",
       "18  [-0.016798766845365666, -0.11452023666795368, ... -0.188014   \n",
       "\n",
       "                                        feature_names  ci_bound   std_dev  \\\n",
       "1                                           (MA3lag,)   1.99787   1.55441   \n",
       "2                                    (MA5lag, MA3lag)   1.08316  0.842739   \n",
       "3                     (MA5lag, day5Returnlag, MA3lag)  0.646211  0.502774   \n",
       "4            (MA5lag, day5Returnlag, PROClag, MA3lag)   0.26197  0.203821   \n",
       "5   (MA5lag, day5Returnlag, PROClag, day3Returnlag...  0.248452  0.193304   \n",
       "6   (MA5lag, day5Returnlag, PROClag, day3Returnlag...  0.243419  0.189388   \n",
       "7   (fastDlag, MA5lag, day5Returnlag, PROClag, day...  0.243113   0.18915   \n",
       "8   (fastDlag, MA5lag, MA15lag, day5Returnlag, PRO...  0.241833  0.188154   \n",
       "9   (fastDlag, MA5lag, MA15lag, day5Returnlag, day...  0.240524  0.187136   \n",
       "10  (fastDlag, MA5lag, MA15lag, day5Returnlag, day...  0.241222  0.187679   \n",
       "11  (fastDlag, OBVlag, MA5lag, MA15lag, day5Return...  0.241038  0.187535   \n",
       "12  (fastDlag, ADlag, OBVlag, MA5lag, MA15lag, day...  0.240907  0.187434   \n",
       "13  (fastDlag, ADlag, OBVlag, MA5lag, MA15lag, day...  0.243587  0.189519   \n",
       "14  (fastKlag, fastDlag, ADlag, OBVlag, MA5lag, MA...   0.24257  0.188728   \n",
       "15  (fastKlag, fastDlag, ADlag, OBVlag, MA5lag, MA...  0.243547  0.189488   \n",
       "16  (fastKlag, fastDlag, ADlag, OBVlag, MA5lag, MA...  0.250007  0.194514   \n",
       "17  (volumelag, fastKlag, fastDlag, ADlag, OBVlag,...  0.249558  0.194165   \n",
       "18  (volumelag, rsilag, fastKlag, fastDlag, ADlag,...  0.261156  0.203188   \n",
       "\n",
       "      std_err  \n",
       "1    0.777207  \n",
       "2     0.42137  \n",
       "3    0.251387  \n",
       "4    0.101911  \n",
       "5   0.0966519  \n",
       "6    0.094694  \n",
       "7    0.094575  \n",
       "8   0.0940771  \n",
       "9   0.0935681  \n",
       "10  0.0938396  \n",
       "11  0.0937677  \n",
       "12  0.0937169  \n",
       "13  0.0947596  \n",
       "14   0.094364  \n",
       "15  0.0947438  \n",
       "16  0.0972569  \n",
       "17  0.0970823  \n",
       "18   0.101594  "
      ]
     },
     "execution_count": 27,
     "metadata": {},
     "output_type": "execute_result"
    }
   ],
   "source": [
    "score_df = pd.DataFrame.from_dict(sfs.get_metric_dict()).T\n",
    "score_df"
   ]
  },
  {
   "cell_type": "code",
   "execution_count": 28,
   "metadata": {},
   "outputs": [
    {
     "data": {
      "image/png": "[encoded data removed]",
      "text/plain": [
       "<Figure size 432x288 with 1 Axes>"
      ]
     },
     "metadata": {
      "needs_background": "light"
     },
     "output_type": "display_data"
    }
   ],
   "source": [
    "plt.figure()\n",
    "plt.plot(range(18),score_df['avg_score'])\n",
    "plt.show()"
   ]
  },
  {
   "cell_type": "markdown",
   "metadata": {},
   "source": [
    "#### Based on the plot above, it looks like when the number of parameters is up to 7, the cross-validated performance of model won't improve any more. Therefore, we include 7 features in over model as below."
   ]
  },
  {
   "cell_type": "code",
   "execution_count": 34,
   "metadata": {},
   "outputs": [],
   "source": [
    "final_feature= list(score_df.loc[7,'feature_names'])"
   ]
  },
  {
   "cell_type": "code",
   "execution_count": 35,
   "metadata": {},
   "outputs": [
    {
     "data": {
      "text/plain": [
       "['fastDlag',\n",
       " 'MA5lag',\n",
       " 'day5Returnlag',\n",
       " 'PROClag',\n",
       " 'day3Returnlag',\n",
       " 'MA3lag',\n",
       " 'Closelag']"
      ]
     },
     "execution_count": 35,
     "metadata": {},
     "output_type": "execute_result"
    }
   ],
   "source": [
    "final_feature"
   ]
  },
  {
   "cell_type": "code",
   "execution_count": 41,
   "metadata": {},
   "outputs": [],
   "source": [
    "tt_final=tt[final_feature]\n",
    "oot_final=oot[final_feature]"
   ]
  },
  {
   "cell_type": "code",
   "execution_count": null,
   "metadata": {},
   "outputs": [],
   "source": [
    "tt_final['Time']=tt_time\n",
    "oot_final[]"
   ]
  }
 ],
 "metadata": {
  "kernelspec": {
   "display_name": "Python 3",
   "language": "python",
   "name": "python3"
  },
  "language_info": {
   "codemirror_mode": {
    "name": "ipython",
    "version": 3
   },
   "file_extension": ".py",
   "mimetype": "text/x-python",
   "name": "python",
   "nbconvert_exporter": "python",
   "pygments_lexer": "ipython3",
   "version": "3.7.4"
  },
  "toc": {
   "base_numbering": 1,
   "nav_menu": {},
   "number_sections": true,
   "sideBar": true,
   "skip_h1_title": false,
   "title_cell": "Table of Contents",
   "title_sidebar": "Contents",
   "toc_cell": false,
   "toc_position": {},
   "toc_section_display": true,
   "toc_window_display": false
  },
  "varInspector": {
   "cols": {
    "lenName": 16,
    "lenType": 16,
    "lenVar": 40
   },
   "kernels_config": {
    "python": {
     "delete_cmd_postfix": "",
     "delete_cmd_prefix": "del ",
     "library": "var_list.py",
     "varRefreshCmd": "print(var_dic_list())"
    },
    "r": {
     "delete_cmd_postfix": ") ",
     "delete_cmd_prefix": "rm(",
     "library": "var_list.r",
     "varRefreshCmd": "cat(var_dic_list()) "
    }
   },
   "types_to_exclude": [
    "module",
    "function",
    "builtin_function_or_method",
    "instance",
    "_Feature"
   ],
   "window_display": false
  }
 },
 "nbformat": 4,
 "nbformat_minor": 4
}
