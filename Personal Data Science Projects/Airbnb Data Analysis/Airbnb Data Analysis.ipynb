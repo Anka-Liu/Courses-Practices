{
 "cells": [
  {
   "cell_type": "markdown",
   "metadata": {},
   "source": [
    "## Airbnb Dataset Analysis"
   ]
  },
  {
   "cell_type": "code",
   "execution_count": 11,
   "metadata": {
    "ExecuteTime": {
     "end_time": "2020-02-08T08:12:40.815609Z",
     "start_time": "2020-02-08T08:12:40.810623Z"
    }
   },
   "outputs": [],
   "source": [
    "\n",
    "### import common data analytics libraries\n",
    "\n",
    "import pandas as pd\n",
    "import numpy as np\n",
    "import matplotlib.pyplot as plt\n",
    "import seaborn as sns\n",
    "%matplotlib inline"
   ]
  },
  {
   "cell_type": "markdown",
   "metadata": {},
   "source": [
    "### Date & Price"
   ]
  },
  {
   "cell_type": "code",
   "execution_count": 12,
   "metadata": {
    "ExecuteTime": {
     "end_time": "2020-02-08T08:12:43.323942Z",
     "start_time": "2020-02-08T08:12:40.817604Z"
    }
   },
   "outputs": [],
   "source": [
    "calendar = pd.read_csv('calendar.csv.gz')"
   ]
  },
  {
   "cell_type": "code",
   "execution_count": 13,
   "metadata": {
    "ExecuteTime": {
     "end_time": "2020-02-08T08:12:43.334947Z",
     "start_time": "2020-02-08T08:12:43.325941Z"
    }
   },
   "outputs": [
    {
     "data": {
      "text/html": [
       "<div>\n",
       "<style scoped>\n",
       "    .dataframe tbody tr th:only-of-type {\n",
       "        vertical-align: middle;\n",
       "    }\n",
       "\n",
       "    .dataframe tbody tr th {\n",
       "        vertical-align: top;\n",
       "    }\n",
       "\n",
       "    .dataframe thead th {\n",
       "        text-align: right;\n",
       "    }\n",
       "</style>\n",
       "<table border=\"1\" class=\"dataframe\">\n",
       "  <thead>\n",
       "    <tr style=\"text-align: right;\">\n",
       "      <th></th>\n",
       "      <th>listing_id</th>\n",
       "      <th>date</th>\n",
       "      <th>available</th>\n",
       "      <th>price</th>\n",
       "    </tr>\n",
       "  </thead>\n",
       "  <tbody>\n",
       "    <tr>\n",
       "      <th>0</th>\n",
       "      <td>8207551</td>\n",
       "      <td>2018-04-07</td>\n",
       "      <td>f</td>\n",
       "      <td>NaN</td>\n",
       "    </tr>\n",
       "    <tr>\n",
       "      <th>1</th>\n",
       "      <td>8207551</td>\n",
       "      <td>2018-04-06</td>\n",
       "      <td>f</td>\n",
       "      <td>NaN</td>\n",
       "    </tr>\n",
       "    <tr>\n",
       "      <th>2</th>\n",
       "      <td>8207551</td>\n",
       "      <td>2018-04-05</td>\n",
       "      <td>f</td>\n",
       "      <td>NaN</td>\n",
       "    </tr>\n",
       "    <tr>\n",
       "      <th>3</th>\n",
       "      <td>8207551</td>\n",
       "      <td>2018-02-09</td>\n",
       "      <td>f</td>\n",
       "      <td>NaN</td>\n",
       "    </tr>\n",
       "    <tr>\n",
       "      <th>4</th>\n",
       "      <td>8207551</td>\n",
       "      <td>2018-02-08</td>\n",
       "      <td>f</td>\n",
       "      <td>NaN</td>\n",
       "    </tr>\n",
       "  </tbody>\n",
       "</table>\n",
       "</div>"
      ],
      "text/plain": [
       "   listing_id        date available price\n",
       "0     8207551  2018-04-07         f   NaN\n",
       "1     8207551  2018-04-06         f   NaN\n",
       "2     8207551  2018-04-05         f   NaN\n",
       "3     8207551  2018-02-09         f   NaN\n",
       "4     8207551  2018-02-08         f   NaN"
      ]
     },
     "execution_count": 13,
     "metadata": {},
     "output_type": "execute_result"
    }
   ],
   "source": [
    "calendar.head()"
   ]
  },
  {
   "cell_type": "code",
   "execution_count": 14,
   "metadata": {
    "ExecuteTime": {
     "end_time": "2020-02-08T08:12:43.345884Z",
     "start_time": "2020-02-08T08:12:43.335911Z"
    }
   },
   "outputs": [
    {
     "data": {
      "text/plain": [
       "(6443345, 4)"
      ]
     },
     "execution_count": 14,
     "metadata": {},
     "output_type": "execute_result"
    }
   ],
   "source": [
    "calendar.shape"
   ]
  },
  {
   "cell_type": "code",
   "execution_count": 15,
   "metadata": {
    "ExecuteTime": {
     "end_time": "2020-02-08T08:12:44.083909Z",
     "start_time": "2020-02-08T08:12:43.347878Z"
    }
   },
   "outputs": [
    {
     "data": {
      "text/plain": [
       "('2017-04-07', '2018-04-07')"
      ]
     },
     "execution_count": 15,
     "metadata": {},
     "output_type": "execute_result"
    }
   ],
   "source": [
    "calendar.date.min(),calendar.date.max()"
   ]
  },
  {
   "cell_type": "code",
   "execution_count": 16,
   "metadata": {
    "ExecuteTime": {
     "end_time": "2020-02-08T08:12:44.638077Z",
     "start_time": "2020-02-08T08:12:44.084907Z"
    }
   },
   "outputs": [
    {
     "data": {
      "text/plain": [
       "listing_id          0\n",
       "date                0\n",
       "available           0\n",
       "price         3068162\n",
       "dtype: int64"
      ]
     },
     "execution_count": 16,
     "metadata": {},
     "output_type": "execute_result"
    }
   ],
   "source": [
    "calendar.isnull().sum()"
   ]
  },
  {
   "cell_type": "code",
   "execution_count": 17,
   "metadata": {
    "ExecuteTime": {
     "end_time": "2020-02-08T08:12:45.512720Z",
     "start_time": "2020-02-08T08:12:44.639056Z"
    }
   },
   "outputs": [],
   "source": [
    "calendar = calendar.dropna()"
   ]
  },
  {
   "cell_type": "code",
   "execution_count": 18,
   "metadata": {
    "ExecuteTime": {
     "end_time": "2020-02-08T08:12:45.520697Z",
     "start_time": "2020-02-08T08:12:45.515712Z"
    }
   },
   "outputs": [
    {
     "data": {
      "text/plain": [
       "(3375183, 4)"
      ]
     },
     "execution_count": 18,
     "metadata": {},
     "output_type": "execute_result"
    }
   ],
   "source": [
    "calendar.shape"
   ]
  },
  {
   "cell_type": "code",
   "execution_count": 19,
   "metadata": {
    "ExecuteTime": {
     "end_time": "2020-02-08T08:12:45.535659Z",
     "start_time": "2020-02-08T08:12:45.522693Z"
    }
   },
   "outputs": [
    {
     "data": {
      "text/html": [
       "<div>\n",
       "<style scoped>\n",
       "    .dataframe tbody tr th:only-of-type {\n",
       "        vertical-align: middle;\n",
       "    }\n",
       "\n",
       "    .dataframe tbody tr th {\n",
       "        vertical-align: top;\n",
       "    }\n",
       "\n",
       "    .dataframe thead th {\n",
       "        text-align: right;\n",
       "    }\n",
       "</style>\n",
       "<table border=\"1\" class=\"dataframe\">\n",
       "  <thead>\n",
       "    <tr style=\"text-align: right;\">\n",
       "      <th></th>\n",
       "      <th>listing_id</th>\n",
       "      <th>date</th>\n",
       "      <th>available</th>\n",
       "      <th>price</th>\n",
       "    </tr>\n",
       "  </thead>\n",
       "  <tbody>\n",
       "    <tr>\n",
       "      <th>365</th>\n",
       "      <td>14958299</td>\n",
       "      <td>2018-03-25</td>\n",
       "      <td>t</td>\n",
       "      <td>$60.00</td>\n",
       "    </tr>\n",
       "    <tr>\n",
       "      <th>366</th>\n",
       "      <td>14958299</td>\n",
       "      <td>2018-03-24</td>\n",
       "      <td>t</td>\n",
       "      <td>$60.00</td>\n",
       "    </tr>\n",
       "    <tr>\n",
       "      <th>367</th>\n",
       "      <td>14958299</td>\n",
       "      <td>2018-03-23</td>\n",
       "      <td>t</td>\n",
       "      <td>$60.00</td>\n",
       "    </tr>\n",
       "    <tr>\n",
       "      <th>368</th>\n",
       "      <td>14958299</td>\n",
       "      <td>2018-03-22</td>\n",
       "      <td>t</td>\n",
       "      <td>$60.00</td>\n",
       "    </tr>\n",
       "    <tr>\n",
       "      <th>369</th>\n",
       "      <td>14958299</td>\n",
       "      <td>2018-03-21</td>\n",
       "      <td>t</td>\n",
       "      <td>$60.00</td>\n",
       "    </tr>\n",
       "  </tbody>\n",
       "</table>\n",
       "</div>"
      ],
      "text/plain": [
       "     listing_id        date available   price\n",
       "365    14958299  2018-03-25         t  $60.00\n",
       "366    14958299  2018-03-24         t  $60.00\n",
       "367    14958299  2018-03-23         t  $60.00\n",
       "368    14958299  2018-03-22         t  $60.00\n",
       "369    14958299  2018-03-21         t  $60.00"
      ]
     },
     "execution_count": 19,
     "metadata": {},
     "output_type": "execute_result"
    }
   ],
   "source": [
    "calendar.head()"
   ]
  },
  {
   "cell_type": "code",
   "execution_count": 20,
   "metadata": {
    "ExecuteTime": {
     "end_time": "2020-02-08T08:12:45.977478Z",
     "start_time": "2020-02-08T08:12:45.537653Z"
    }
   },
   "outputs": [],
   "source": [
    "calendar['date'] = pd.to_datetime(calendar['date'])"
   ]
  },
  {
   "cell_type": "code",
   "execution_count": 21,
   "metadata": {
    "ExecuteTime": {
     "end_time": "2020-02-08T08:12:45.984458Z",
     "start_time": "2020-02-08T08:12:45.978477Z"
    }
   },
   "outputs": [
    {
     "name": "stdout",
     "output_type": "stream",
     "text": [
      "<class 'pandas.core.frame.DataFrame'>\n",
      "Int64Index: 3375183 entries, 365 to 6443343\n",
      "Data columns (total 4 columns):\n",
      " #   Column      Dtype         \n",
      "---  ------      -----         \n",
      " 0   listing_id  int64         \n",
      " 1   date        datetime64[ns]\n",
      " 2   available   object        \n",
      " 3   price       object        \n",
      "dtypes: datetime64[ns](1), int64(1), object(2)\n",
      "memory usage: 128.8+ MB\n"
     ]
    }
   ],
   "source": [
    "calendar.info()"
   ]
  },
  {
   "cell_type": "code",
   "execution_count": 22,
   "metadata": {
    "ExecuteTime": {
     "end_time": "2020-02-08T08:12:48.487760Z",
     "start_time": "2020-02-08T08:12:45.985455Z"
    }
   },
   "outputs": [
    {
     "data": {
      "text/html": [
       "<div>\n",
       "<style scoped>\n",
       "    .dataframe tbody tr th:only-of-type {\n",
       "        vertical-align: middle;\n",
       "    }\n",
       "\n",
       "    .dataframe tbody tr th {\n",
       "        vertical-align: top;\n",
       "    }\n",
       "\n",
       "    .dataframe thead th {\n",
       "        text-align: right;\n",
       "    }\n",
       "</style>\n",
       "<table border=\"1\" class=\"dataframe\">\n",
       "  <thead>\n",
       "    <tr style=\"text-align: right;\">\n",
       "      <th></th>\n",
       "      <th>listing_id</th>\n",
       "      <th>date</th>\n",
       "      <th>available</th>\n",
       "      <th>price</th>\n",
       "    </tr>\n",
       "  </thead>\n",
       "  <tbody>\n",
       "    <tr>\n",
       "      <th>365</th>\n",
       "      <td>14958299</td>\n",
       "      <td>2018-03-25</td>\n",
       "      <td>t</td>\n",
       "      <td>60.00</td>\n",
       "    </tr>\n",
       "    <tr>\n",
       "      <th>366</th>\n",
       "      <td>14958299</td>\n",
       "      <td>2018-03-24</td>\n",
       "      <td>t</td>\n",
       "      <td>60.00</td>\n",
       "    </tr>\n",
       "    <tr>\n",
       "      <th>367</th>\n",
       "      <td>14958299</td>\n",
       "      <td>2018-03-23</td>\n",
       "      <td>t</td>\n",
       "      <td>60.00</td>\n",
       "    </tr>\n",
       "    <tr>\n",
       "      <th>368</th>\n",
       "      <td>14958299</td>\n",
       "      <td>2018-03-22</td>\n",
       "      <td>t</td>\n",
       "      <td>60.00</td>\n",
       "    </tr>\n",
       "    <tr>\n",
       "      <th>369</th>\n",
       "      <td>14958299</td>\n",
       "      <td>2018-03-21</td>\n",
       "      <td>t</td>\n",
       "      <td>60.00</td>\n",
       "    </tr>\n",
       "  </tbody>\n",
       "</table>\n",
       "</div>"
      ],
      "text/plain": [
       "     listing_id       date available  price\n",
       "365    14958299 2018-03-25         t  60.00\n",
       "366    14958299 2018-03-24         t  60.00\n",
       "367    14958299 2018-03-23         t  60.00\n",
       "368    14958299 2018-03-22         t  60.00\n",
       "369    14958299 2018-03-21         t  60.00"
      ]
     },
     "execution_count": 22,
     "metadata": {},
     "output_type": "execute_result"
    }
   ],
   "source": [
    "calendar['price'] = calendar['price'].str.replace('$','')\n",
    "calendar['price'] = calendar['price'].str.replace(',','')\n",
    "calendar.head()"
   ]
  },
  {
   "cell_type": "code",
   "execution_count": 23,
   "metadata": {
    "ExecuteTime": {
     "end_time": "2020-02-08T08:12:48.495739Z",
     "start_time": "2020-02-08T08:12:48.489756Z"
    }
   },
   "outputs": [
    {
     "name": "stdout",
     "output_type": "stream",
     "text": [
      "<class 'pandas.core.frame.DataFrame'>\n",
      "Int64Index: 3375183 entries, 365 to 6443343\n",
      "Data columns (total 4 columns):\n",
      " #   Column      Dtype         \n",
      "---  ------      -----         \n",
      " 0   listing_id  int64         \n",
      " 1   date        datetime64[ns]\n",
      " 2   available   object        \n",
      " 3   price       object        \n",
      "dtypes: datetime64[ns](1), int64(1), object(2)\n",
      "memory usage: 128.8+ MB\n"
     ]
    }
   ],
   "source": [
    "calendar.info()"
   ]
  },
  {
   "cell_type": "code",
   "execution_count": 24,
   "metadata": {
    "ExecuteTime": {
     "end_time": "2020-02-08T08:12:49.012365Z",
     "start_time": "2020-02-08T08:12:48.497734Z"
    }
   },
   "outputs": [
    {
     "name": "stdout",
     "output_type": "stream",
     "text": [
      "<class 'pandas.core.frame.DataFrame'>\n",
      "Int64Index: 3375183 entries, 365 to 6443343\n",
      "Data columns (total 4 columns):\n",
      " #   Column      Dtype         \n",
      "---  ------      -----         \n",
      " 0   listing_id  int64         \n",
      " 1   date        datetime64[ns]\n",
      " 2   available   object        \n",
      " 3   price       float64       \n",
      "dtypes: datetime64[ns](1), float64(1), int64(1), object(1)\n",
      "memory usage: 128.8+ MB\n"
     ]
    }
   ],
   "source": [
    "calendar['price'] = calendar['price'].astype(float)\n",
    "calendar.info()"
   ]
  },
  {
   "cell_type": "markdown",
   "metadata": {},
   "source": [
    "#### Extract from Date"
   ]
  },
  {
   "cell_type": "code",
   "execution_count": 25,
   "metadata": {
    "ExecuteTime": {
     "end_time": "2020-02-08T08:13:07.376364Z",
     "start_time": "2020-02-08T08:12:49.013355Z"
    }
   },
   "outputs": [],
   "source": [
    "mean_of_mouth = calendar.groupby(calendar['date'].dt.strftime('%B'))['price'].mean()"
   ]
  },
  {
   "cell_type": "code",
   "execution_count": 26,
   "metadata": {
    "ExecuteTime": {
     "end_time": "2020-02-08T08:13:07.642694Z",
     "start_time": "2020-02-08T08:13:07.377377Z"
    }
   },
   "outputs": [
    {
     "data": {
      "text/plain": [
       "<matplotlib.axes._subplots.AxesSubplot at 0x171827b7e48>"
      ]
     },
     "execution_count": 26,
     "metadata": {},
     "output_type": "execute_result"
    },
    {
     "data": {
      "image/png": "[encoded data removed]",
      "text/plain": [
       "<Figure size 864x576 with 1 Axes>"
      ]
     },
     "metadata": {
      "needs_background": "light"
     },
     "output_type": "display_data"
    }
   ],
   "source": [
    "mean_of_mouth.plot(kind='barh',figsize=(12,8))"
   ]
  },
  {
   "cell_type": "code",
   "execution_count": 29,
   "metadata": {
    "ExecuteTime": {
     "end_time": "2020-02-08T08:16:22.381984Z",
     "start_time": "2020-02-08T08:16:21.482227Z"
    }
   },
   "outputs": [
    {
     "data": {
      "text/html": [
       "<div>\n",
       "<style scoped>\n",
       "    .dataframe tbody tr th:only-of-type {\n",
       "        vertical-align: middle;\n",
       "    }\n",
       "\n",
       "    .dataframe tbody tr th {\n",
       "        vertical-align: top;\n",
       "    }\n",
       "\n",
       "    .dataframe thead th {\n",
       "        text-align: right;\n",
       "    }\n",
       "</style>\n",
       "<table border=\"1\" class=\"dataframe\">\n",
       "  <thead>\n",
       "    <tr style=\"text-align: right;\">\n",
       "      <th></th>\n",
       "      <th>listing_id</th>\n",
       "      <th>date</th>\n",
       "      <th>available</th>\n",
       "      <th>price</th>\n",
       "      <th>dayofweek</th>\n",
       "    </tr>\n",
       "  </thead>\n",
       "  <tbody>\n",
       "    <tr>\n",
       "      <th>365</th>\n",
       "      <td>14958299</td>\n",
       "      <td>2018-03-25</td>\n",
       "      <td>t</td>\n",
       "      <td>60.0</td>\n",
       "      <td>Sunday</td>\n",
       "    </tr>\n",
       "    <tr>\n",
       "      <th>366</th>\n",
       "      <td>14958299</td>\n",
       "      <td>2018-03-24</td>\n",
       "      <td>t</td>\n",
       "      <td>60.0</td>\n",
       "      <td>Saturday</td>\n",
       "    </tr>\n",
       "    <tr>\n",
       "      <th>367</th>\n",
       "      <td>14958299</td>\n",
       "      <td>2018-03-23</td>\n",
       "      <td>t</td>\n",
       "      <td>60.0</td>\n",
       "      <td>Friday</td>\n",
       "    </tr>\n",
       "    <tr>\n",
       "      <th>368</th>\n",
       "      <td>14958299</td>\n",
       "      <td>2018-03-22</td>\n",
       "      <td>t</td>\n",
       "      <td>60.0</td>\n",
       "      <td>Thursday</td>\n",
       "    </tr>\n",
       "    <tr>\n",
       "      <th>369</th>\n",
       "      <td>14958299</td>\n",
       "      <td>2018-03-21</td>\n",
       "      <td>t</td>\n",
       "      <td>60.0</td>\n",
       "      <td>Wednesday</td>\n",
       "    </tr>\n",
       "  </tbody>\n",
       "</table>\n",
       "</div>"
      ],
      "text/plain": [
       "     listing_id       date available  price  dayofweek\n",
       "365    14958299 2018-03-25         t   60.0     Sunday\n",
       "366    14958299 2018-03-24         t   60.0   Saturday\n",
       "367    14958299 2018-03-23         t   60.0     Friday\n",
       "368    14958299 2018-03-22         t   60.0   Thursday\n",
       "369    14958299 2018-03-21         t   60.0  Wednesday"
      ]
     },
     "execution_count": 29,
     "metadata": {},
     "output_type": "execute_result"
    }
   ],
   "source": [
    "calendar['dayofweek'] = calendar.date.dt.day_name()\n",
    "calendar.head()"
   ]
  },
  {
   "cell_type": "code",
   "execution_count": 30,
   "metadata": {
    "ExecuteTime": {
     "end_time": "2020-02-08T08:16:33.791919Z",
     "start_time": "2020-02-08T08:16:33.787955Z"
    }
   },
   "outputs": [],
   "source": [
    "cats = ['Monday','Tuesday','Wednesday','Thursday','Friday','Saturday','Sunday']"
   ]
  },
  {
   "cell_type": "code",
   "execution_count": 31,
   "metadata": {
    "ExecuteTime": {
     "end_time": "2020-02-08T08:16:34.247954Z",
     "start_time": "2020-02-08T08:16:33.792918Z"
    }
   },
   "outputs": [
    {
     "data": {
      "text/html": [
       "<div>\n",
       "<style scoped>\n",
       "    .dataframe tbody tr th:only-of-type {\n",
       "        vertical-align: middle;\n",
       "    }\n",
       "\n",
       "    .dataframe tbody tr th {\n",
       "        vertical-align: top;\n",
       "    }\n",
       "\n",
       "    .dataframe thead th {\n",
       "        text-align: right;\n",
       "    }\n",
       "</style>\n",
       "<table border=\"1\" class=\"dataframe\">\n",
       "  <thead>\n",
       "    <tr style=\"text-align: right;\">\n",
       "      <th></th>\n",
       "      <th>listing_id</th>\n",
       "      <th>price</th>\n",
       "    </tr>\n",
       "    <tr>\n",
       "      <th>dayofweek</th>\n",
       "      <th></th>\n",
       "      <th></th>\n",
       "    </tr>\n",
       "  </thead>\n",
       "  <tbody>\n",
       "    <tr>\n",
       "      <th>Friday</th>\n",
       "      <td>9.221577e+06</td>\n",
       "      <td>117.198882</td>\n",
       "    </tr>\n",
       "    <tr>\n",
       "      <th>Monday</th>\n",
       "      <td>9.206193e+06</td>\n",
       "      <td>114.649274</td>\n",
       "    </tr>\n",
       "    <tr>\n",
       "      <th>Saturday</th>\n",
       "      <td>9.226245e+06</td>\n",
       "      <td>117.288036</td>\n",
       "    </tr>\n",
       "    <tr>\n",
       "      <th>Sunday</th>\n",
       "      <td>9.220754e+06</td>\n",
       "      <td>114.919700</td>\n",
       "    </tr>\n",
       "    <tr>\n",
       "      <th>Thursday</th>\n",
       "      <td>9.210592e+06</td>\n",
       "      <td>114.482776</td>\n",
       "    </tr>\n",
       "    <tr>\n",
       "      <th>Tuesday</th>\n",
       "      <td>9.195639e+06</td>\n",
       "      <td>114.570030</td>\n",
       "    </tr>\n",
       "    <tr>\n",
       "      <th>Wednesday</th>\n",
       "      <td>9.203787e+06</td>\n",
       "      <td>114.400585</td>\n",
       "    </tr>\n",
       "  </tbody>\n",
       "</table>\n",
       "</div>"
      ],
      "text/plain": [
       "             listing_id       price\n",
       "dayofweek                          \n",
       "Friday     9.221577e+06  117.198882\n",
       "Monday     9.206193e+06  114.649274\n",
       "Saturday   9.226245e+06  117.288036\n",
       "Sunday     9.220754e+06  114.919700\n",
       "Thursday   9.210592e+06  114.482776\n",
       "Tuesday    9.195639e+06  114.570030\n",
       "Wednesday  9.203787e+06  114.400585"
      ]
     },
     "execution_count": 31,
     "metadata": {},
     "output_type": "execute_result"
    }
   ],
   "source": [
    "calendar.groupby(['dayofweek']).mean()"
   ]
  },
  {
   "cell_type": "code",
   "execution_count": 32,
   "metadata": {
    "ExecuteTime": {
     "end_time": "2020-02-08T08:16:34.537242Z",
     "start_time": "2020-02-08T08:16:34.248952Z"
    }
   },
   "outputs": [
    {
     "data": {
      "text/html": [
       "<div>\n",
       "<style scoped>\n",
       "    .dataframe tbody tr th:only-of-type {\n",
       "        vertical-align: middle;\n",
       "    }\n",
       "\n",
       "    .dataframe tbody tr th {\n",
       "        vertical-align: top;\n",
       "    }\n",
       "\n",
       "    .dataframe thead th {\n",
       "        text-align: right;\n",
       "    }\n",
       "</style>\n",
       "<table border=\"1\" class=\"dataframe\">\n",
       "  <thead>\n",
       "    <tr style=\"text-align: right;\">\n",
       "      <th></th>\n",
       "      <th>listing_id</th>\n",
       "      <th>price</th>\n",
       "    </tr>\n",
       "    <tr>\n",
       "      <th>dayofweek</th>\n",
       "      <th></th>\n",
       "      <th></th>\n",
       "    </tr>\n",
       "  </thead>\n",
       "  <tbody>\n",
       "    <tr>\n",
       "      <th>Monday</th>\n",
       "      <td>9.206193e+06</td>\n",
       "      <td>114.649274</td>\n",
       "    </tr>\n",
       "    <tr>\n",
       "      <th>Tuesday</th>\n",
       "      <td>9.195639e+06</td>\n",
       "      <td>114.570030</td>\n",
       "    </tr>\n",
       "    <tr>\n",
       "      <th>Wednesday</th>\n",
       "      <td>9.203787e+06</td>\n",
       "      <td>114.400585</td>\n",
       "    </tr>\n",
       "    <tr>\n",
       "      <th>Thursday</th>\n",
       "      <td>9.210592e+06</td>\n",
       "      <td>114.482776</td>\n",
       "    </tr>\n",
       "    <tr>\n",
       "      <th>Friday</th>\n",
       "      <td>9.221577e+06</td>\n",
       "      <td>117.198882</td>\n",
       "    </tr>\n",
       "    <tr>\n",
       "      <th>Saturday</th>\n",
       "      <td>9.226245e+06</td>\n",
       "      <td>117.288036</td>\n",
       "    </tr>\n",
       "    <tr>\n",
       "      <th>Sunday</th>\n",
       "      <td>9.220754e+06</td>\n",
       "      <td>114.919700</td>\n",
       "    </tr>\n",
       "  </tbody>\n",
       "</table>\n",
       "</div>"
      ],
      "text/plain": [
       "             listing_id       price\n",
       "dayofweek                          \n",
       "Monday     9.206193e+06  114.649274\n",
       "Tuesday    9.195639e+06  114.570030\n",
       "Wednesday  9.203787e+06  114.400585\n",
       "Thursday   9.210592e+06  114.482776\n",
       "Friday     9.221577e+06  117.198882\n",
       "Saturday   9.226245e+06  117.288036\n",
       "Sunday     9.220754e+06  114.919700"
      ]
     },
     "execution_count": 32,
     "metadata": {},
     "output_type": "execute_result"
    }
   ],
   "source": [
    "price_week = calendar.groupby(['dayofweek']).mean().reindex(cats)\n",
    "price_week"
   ]
  },
  {
   "cell_type": "code",
   "execution_count": 33,
   "metadata": {
    "ExecuteTime": {
     "end_time": "2020-02-08T08:16:34.543262Z",
     "start_time": "2020-02-08T08:16:34.539237Z"
    }
   },
   "outputs": [],
   "source": [
    "price_week.drop('listing_id',axis=1,inplace = True)"
   ]
  },
  {
   "cell_type": "code",
   "execution_count": 34,
   "metadata": {
    "ExecuteTime": {
     "end_time": "2020-02-08T08:16:34.685402Z",
     "start_time": "2020-02-08T08:16:34.544225Z"
    }
   },
   "outputs": [
    {
     "data": {
      "text/plain": [
       "<matplotlib.axes._subplots.AxesSubplot at 0x171cefd6708>"
      ]
     },
     "execution_count": 34,
     "metadata": {},
     "output_type": "execute_result"
    },
    {
     "data": {
      "image/png": "[encoded data removed]",
      "text/plain": [
       "<Figure size 432x288 with 1 Axes>"
      ]
     },
     "metadata": {
      "needs_background": "light"
     },
     "output_type": "display_data"
    }
   ],
   "source": [
    "price_week.plot()"
   ]
  },
  {
   "cell_type": "code",
   "execution_count": 35,
   "metadata": {
    "ExecuteTime": {
     "end_time": "2020-02-08T08:16:34.698341Z",
     "start_time": "2020-02-08T08:16:34.687371Z"
    }
   },
   "outputs": [
    {
     "data": {
      "text/html": [
       "<div>\n",
       "<style scoped>\n",
       "    .dataframe tbody tr th:only-of-type {\n",
       "        vertical-align: middle;\n",
       "    }\n",
       "\n",
       "    .dataframe tbody tr th {\n",
       "        vertical-align: top;\n",
       "    }\n",
       "\n",
       "    .dataframe thead th {\n",
       "        text-align: right;\n",
       "    }\n",
       "</style>\n",
       "<table border=\"1\" class=\"dataframe\">\n",
       "  <thead>\n",
       "    <tr style=\"text-align: right;\">\n",
       "      <th></th>\n",
       "      <th>listing_id</th>\n",
       "      <th>date</th>\n",
       "      <th>available</th>\n",
       "      <th>price</th>\n",
       "      <th>dayofweek</th>\n",
       "    </tr>\n",
       "  </thead>\n",
       "  <tbody>\n",
       "    <tr>\n",
       "      <th>365</th>\n",
       "      <td>14958299</td>\n",
       "      <td>2018-03-25</td>\n",
       "      <td>t</td>\n",
       "      <td>60.0</td>\n",
       "      <td>Sunday</td>\n",
       "    </tr>\n",
       "    <tr>\n",
       "      <th>366</th>\n",
       "      <td>14958299</td>\n",
       "      <td>2018-03-24</td>\n",
       "      <td>t</td>\n",
       "      <td>60.0</td>\n",
       "      <td>Saturday</td>\n",
       "    </tr>\n",
       "    <tr>\n",
       "      <th>367</th>\n",
       "      <td>14958299</td>\n",
       "      <td>2018-03-23</td>\n",
       "      <td>t</td>\n",
       "      <td>60.0</td>\n",
       "      <td>Friday</td>\n",
       "    </tr>\n",
       "    <tr>\n",
       "      <th>368</th>\n",
       "      <td>14958299</td>\n",
       "      <td>2018-03-22</td>\n",
       "      <td>t</td>\n",
       "      <td>60.0</td>\n",
       "      <td>Thursday</td>\n",
       "    </tr>\n",
       "    <tr>\n",
       "      <th>369</th>\n",
       "      <td>14958299</td>\n",
       "      <td>2018-03-21</td>\n",
       "      <td>t</td>\n",
       "      <td>60.0</td>\n",
       "      <td>Wednesday</td>\n",
       "    </tr>\n",
       "  </tbody>\n",
       "</table>\n",
       "</div>"
      ],
      "text/plain": [
       "     listing_id       date available  price  dayofweek\n",
       "365    14958299 2018-03-25         t   60.0     Sunday\n",
       "366    14958299 2018-03-24         t   60.0   Saturday\n",
       "367    14958299 2018-03-23         t   60.0     Friday\n",
       "368    14958299 2018-03-22         t   60.0   Thursday\n",
       "369    14958299 2018-03-21         t   60.0  Wednesday"
      ]
     },
     "execution_count": 35,
     "metadata": {},
     "output_type": "execute_result"
    }
   ],
   "source": [
    "calendar.head()"
   ]
  },
  {
   "cell_type": "code",
   "execution_count": 37,
   "metadata": {
    "ExecuteTime": {
     "end_time": "2020-02-08T08:16:57.119290Z",
     "start_time": "2020-02-08T08:16:55.697295Z"
    }
   },
   "outputs": [
    {
     "data": {
      "text/plain": [
       "([<matplotlib.axis.XTick at 0x1718c977fc8>,\n",
       "  <matplotlib.axis.XTick at 0x1718c993b48>,\n",
       "  <matplotlib.axis.XTick at 0x1718c954088>,\n",
       "  <matplotlib.axis.XTick at 0x1718c83c408>,\n",
       "  <matplotlib.axis.XTick at 0x1718c562dc8>,\n",
       "  <matplotlib.axis.XTick at 0x1718c55fa08>,\n",
       "  <matplotlib.axis.XTick at 0x1718c116408>],\n",
       " <a list of 7 Text xticklabel objects>)"
      ]
     },
     "execution_count": 37,
     "metadata": {},
     "output_type": "execute_result"
    },
    {
     "data": {
      "image/png": "[encoded data removed]",
      "text/plain": [
       "<Figure size 432x288 with 1 Axes>"
      ]
     },
     "metadata": {
      "needs_background": "light"
     },
     "output_type": "display_data"
    }
   ],
   "source": [
    "calendar['dayofweek'] = calendar.date.dt.day_name()\n",
    "cats = ['Monday','Tuesday','Wednesday','Thursday','Friday','Saturday','Sunday']\n",
    "price_week = calendar[['dayofweek','price']]\n",
    "price_week = calendar.groupby(['dayofweek']).mean().reindex(cats)\n",
    "price_week.drop('listing_id',axis=1,inplace = True)\n",
    "price_week.plot()\n",
    "ticks = list(range(0,7,1))\n",
    "labels = 'Mon Tues Weds Thurs Fri Sat Sun'.split(' ')\n",
    "plt.xticks(ticks,labels)"
   ]
  },
  {
   "cell_type": "markdown",
   "metadata": {},
   "source": [
    "### Housing Records"
   ]
  },
  {
   "cell_type": "code",
   "execution_count": 38,
   "metadata": {
    "ExecuteTime": {
     "end_time": "2020-02-08T08:17:03.639761Z",
     "start_time": "2020-02-08T08:17:02.431379Z"
    }
   },
   "outputs": [
    {
     "name": "stderr",
     "output_type": "stream",
     "text": [
      "D:\\Anaconda\\lib\\site-packages\\IPython\\core\\interactiveshell.py:3051: DtypeWarning: Columns (43) have mixed types.Specify dtype option on import or set low_memory=False.\n",
      "  interactivity=interactivity, compiler=compiler, result=result)\n"
     ]
    }
   ],
   "source": [
    "listings = pd.read_csv('listings.csv.gz')"
   ]
  },
  {
   "cell_type": "code",
   "execution_count": 39,
   "metadata": {
    "ExecuteTime": {
     "end_time": "2020-02-08T08:17:03.665997Z",
     "start_time": "2020-02-08T08:17:03.641780Z"
    }
   },
   "outputs": [
    {
     "data": {
      "text/html": [
       "<div>\n",
       "<style scoped>\n",
       "    .dataframe tbody tr th:only-of-type {\n",
       "        vertical-align: middle;\n",
       "    }\n",
       "\n",
       "    .dataframe tbody tr th {\n",
       "        vertical-align: top;\n",
       "    }\n",
       "\n",
       "    .dataframe thead th {\n",
       "        text-align: right;\n",
       "    }\n",
       "</style>\n",
       "<table border=\"1\" class=\"dataframe\">\n",
       "  <thead>\n",
       "    <tr style=\"text-align: right;\">\n",
       "      <th></th>\n",
       "      <th>id</th>\n",
       "      <th>listing_url</th>\n",
       "      <th>scrape_id</th>\n",
       "      <th>last_scraped</th>\n",
       "      <th>name</th>\n",
       "      <th>summary</th>\n",
       "      <th>space</th>\n",
       "      <th>description</th>\n",
       "      <th>experiences_offered</th>\n",
       "      <th>neighborhood_overview</th>\n",
       "      <th>...</th>\n",
       "      <th>review_scores_value</th>\n",
       "      <th>requires_license</th>\n",
       "      <th>license</th>\n",
       "      <th>jurisdiction_names</th>\n",
       "      <th>instant_bookable</th>\n",
       "      <th>cancellation_policy</th>\n",
       "      <th>require_guest_profile_picture</th>\n",
       "      <th>require_guest_phone_verification</th>\n",
       "      <th>calculated_host_listings_count</th>\n",
       "      <th>reviews_per_month</th>\n",
       "    </tr>\n",
       "  </thead>\n",
       "  <tbody>\n",
       "    <tr>\n",
       "      <th>0</th>\n",
       "      <td>8207551</td>\n",
       "      <td>https://www.airbnb.com/rooms/8207551</td>\n",
       "      <td>20170407214050</td>\n",
       "      <td>2017-04-08</td>\n",
       "      <td>Room in Sant Antoni huge terrasse</td>\n",
       "      <td>Located between Sant Antoni &amp; Universitat (met...</td>\n",
       "      <td>the apartment is located on the 7th floor and ...</td>\n",
       "      <td>Located between Sant Antoni &amp; Universitat (met...</td>\n",
       "      <td>none</td>\n",
       "      <td>Sant Antoni is a very central neighborhood and...</td>\n",
       "      <td>...</td>\n",
       "      <td>10.0</td>\n",
       "      <td>t</td>\n",
       "      <td>NaN</td>\n",
       "      <td>NaN</td>\n",
       "      <td>f</td>\n",
       "      <td>strict</td>\n",
       "      <td>f</td>\n",
       "      <td>f</td>\n",
       "      <td>2</td>\n",
       "      <td>0.11</td>\n",
       "    </tr>\n",
       "    <tr>\n",
       "      <th>1</th>\n",
       "      <td>14958299</td>\n",
       "      <td>https://www.airbnb.com/rooms/14958299</td>\n",
       "      <td>20170407214050</td>\n",
       "      <td>2017-04-08</td>\n",
       "      <td>Next To Las Ramblas, Unique, Wif1</td>\n",
       "      <td>Brand new apartment, cosy and clean.  Only 5 m...</td>\n",
       "      <td>Fun, bohemian. Real Catalan style Well equippe...</td>\n",
       "      <td>Brand new apartment, cosy and clean.  Only 5 m...</td>\n",
       "      <td>none</td>\n",
       "      <td>NaN</td>\n",
       "      <td>...</td>\n",
       "      <td>8.0</td>\n",
       "      <td>t</td>\n",
       "      <td>NaN</td>\n",
       "      <td>NaN</td>\n",
       "      <td>t</td>\n",
       "      <td>strict</td>\n",
       "      <td>f</td>\n",
       "      <td>f</td>\n",
       "      <td>1</td>\n",
       "      <td>2.26</td>\n",
       "    </tr>\n",
       "    <tr>\n",
       "      <th>2</th>\n",
       "      <td>7766152</td>\n",
       "      <td>https://www.airbnb.com/rooms/7766152</td>\n",
       "      <td>20170407214050</td>\n",
       "      <td>2017-04-08</td>\n",
       "      <td>Sunny whole flat in Raval/Ramblas</td>\n",
       "      <td>Calm, sunny 43sqm flat. Living room w/balcony ...</td>\n",
       "      <td>Very luminous and calm, in a neighborhood than...</td>\n",
       "      <td>Calm, sunny 43sqm flat. Living room w/balcony ...</td>\n",
       "      <td>none</td>\n",
       "      <td>Very central, lively, popular hood. Near the s...</td>\n",
       "      <td>...</td>\n",
       "      <td>9.0</td>\n",
       "      <td>t</td>\n",
       "      <td>NaN</td>\n",
       "      <td>NaN</td>\n",
       "      <td>f</td>\n",
       "      <td>strict</td>\n",
       "      <td>f</td>\n",
       "      <td>f</td>\n",
       "      <td>1</td>\n",
       "      <td>0.40</td>\n",
       "    </tr>\n",
       "    <tr>\n",
       "      <th>3</th>\n",
       "      <td>9237132</td>\n",
       "      <td>https://www.airbnb.com/rooms/9237132</td>\n",
       "      <td>20170407214050</td>\n",
       "      <td>2017-04-08</td>\n",
       "      <td>Apartment in the heart of Barcelona</td>\n",
       "      <td>The apartment is an ideal place for relax afte...</td>\n",
       "      <td>Both rooms include a comfortable double bed wi...</td>\n",
       "      <td>The apartment is an ideal place for relax afte...</td>\n",
       "      <td>none</td>\n",
       "      <td>NaN</td>\n",
       "      <td>...</td>\n",
       "      <td>9.0</td>\n",
       "      <td>t</td>\n",
       "      <td>NaN</td>\n",
       "      <td>NaN</td>\n",
       "      <td>t</td>\n",
       "      <td>flexible</td>\n",
       "      <td>f</td>\n",
       "      <td>f</td>\n",
       "      <td>1</td>\n",
       "      <td>3.17</td>\n",
       "    </tr>\n",
       "    <tr>\n",
       "      <th>4</th>\n",
       "      <td>1406827</td>\n",
       "      <td>https://www.airbnb.com/rooms/1406827</td>\n",
       "      <td>20170407214050</td>\n",
       "      <td>2017-04-08</td>\n",
       "      <td>Centric Bohemian next Ramblas&amp;Macba</td>\n",
       "      <td>Artistic cosy renovated flat 40m2 with balcony...</td>\n",
       "      <td>The apartment is 40m2 and has everything you n...</td>\n",
       "      <td>Artistic cosy renovated flat 40m2 with balcony...</td>\n",
       "      <td>none</td>\n",
       "      <td>Raval is the distric where most of the young a...</td>\n",
       "      <td>...</td>\n",
       "      <td>8.0</td>\n",
       "      <td>t</td>\n",
       "      <td>43212</td>\n",
       "      <td>NaN</td>\n",
       "      <td>t</td>\n",
       "      <td>moderate</td>\n",
       "      <td>f</td>\n",
       "      <td>f</td>\n",
       "      <td>1</td>\n",
       "      <td>5.06</td>\n",
       "    </tr>\n",
       "  </tbody>\n",
       "</table>\n",
       "<p>5 rows × 95 columns</p>\n",
       "</div>"
      ],
      "text/plain": [
       "         id                            listing_url       scrape_id  \\\n",
       "0   8207551   https://www.airbnb.com/rooms/8207551  20170407214050   \n",
       "1  14958299  https://www.airbnb.com/rooms/14958299  20170407214050   \n",
       "2   7766152   https://www.airbnb.com/rooms/7766152  20170407214050   \n",
       "3   9237132   https://www.airbnb.com/rooms/9237132  20170407214050   \n",
       "4   1406827   https://www.airbnb.com/rooms/1406827  20170407214050   \n",
       "\n",
       "  last_scraped                                 name  \\\n",
       "0   2017-04-08    Room in Sant Antoni huge terrasse   \n",
       "1   2017-04-08    Next To Las Ramblas, Unique, Wif1   \n",
       "2   2017-04-08    Sunny whole flat in Raval/Ramblas   \n",
       "3   2017-04-08  Apartment in the heart of Barcelona   \n",
       "4   2017-04-08  Centric Bohemian next Ramblas&Macba   \n",
       "\n",
       "                                             summary  \\\n",
       "0  Located between Sant Antoni & Universitat (met...   \n",
       "1  Brand new apartment, cosy and clean.  Only 5 m...   \n",
       "2  Calm, sunny 43sqm flat. Living room w/balcony ...   \n",
       "3  The apartment is an ideal place for relax afte...   \n",
       "4  Artistic cosy renovated flat 40m2 with balcony...   \n",
       "\n",
       "                                               space  \\\n",
       "0  the apartment is located on the 7th floor and ...   \n",
       "1  Fun, bohemian. Real Catalan style Well equippe...   \n",
       "2  Very luminous and calm, in a neighborhood than...   \n",
       "3  Both rooms include a comfortable double bed wi...   \n",
       "4  The apartment is 40m2 and has everything you n...   \n",
       "\n",
       "                                         description experiences_offered  \\\n",
       "0  Located between Sant Antoni & Universitat (met...                none   \n",
       "1  Brand new apartment, cosy and clean.  Only 5 m...                none   \n",
       "2  Calm, sunny 43sqm flat. Living room w/balcony ...                none   \n",
       "3  The apartment is an ideal place for relax afte...                none   \n",
       "4  Artistic cosy renovated flat 40m2 with balcony...                none   \n",
       "\n",
       "                               neighborhood_overview  ... review_scores_value  \\\n",
       "0  Sant Antoni is a very central neighborhood and...  ...                10.0   \n",
       "1                                                NaN  ...                 8.0   \n",
       "2  Very central, lively, popular hood. Near the s...  ...                 9.0   \n",
       "3                                                NaN  ...                 9.0   \n",
       "4  Raval is the distric where most of the young a...  ...                 8.0   \n",
       "\n",
       "  requires_license license jurisdiction_names instant_bookable  \\\n",
       "0                t     NaN                NaN                f   \n",
       "1                t     NaN                NaN                t   \n",
       "2                t     NaN                NaN                f   \n",
       "3                t     NaN                NaN                t   \n",
       "4                t   43212                NaN                t   \n",
       "\n",
       "  cancellation_policy require_guest_profile_picture  \\\n",
       "0              strict                             f   \n",
       "1              strict                             f   \n",
       "2              strict                             f   \n",
       "3            flexible                             f   \n",
       "4            moderate                             f   \n",
       "\n",
       "  require_guest_phone_verification calculated_host_listings_count  \\\n",
       "0                                f                              2   \n",
       "1                                f                              1   \n",
       "2                                f                              1   \n",
       "3                                f                              1   \n",
       "4                                f                              1   \n",
       "\n",
       "   reviews_per_month  \n",
       "0               0.11  \n",
       "1               2.26  \n",
       "2               0.40  \n",
       "3               3.17  \n",
       "4               5.06  \n",
       "\n",
       "[5 rows x 95 columns]"
      ]
     },
     "execution_count": 39,
     "metadata": {},
     "output_type": "execute_result"
    }
   ],
   "source": [
    "listings.head()"
   ]
  },
  {
   "cell_type": "code",
   "execution_count": 40,
   "metadata": {
    "ExecuteTime": {
     "end_time": "2020-02-08T08:17:03.675969Z",
     "start_time": "2020-02-08T08:17:03.667992Z"
    }
   },
   "outputs": [
    {
     "data": {
      "text/plain": [
       "(17653, 95)"
      ]
     },
     "execution_count": 40,
     "metadata": {},
     "output_type": "execute_result"
    }
   ],
   "source": [
    "listings.shape"
   ]
  },
  {
   "cell_type": "code",
   "execution_count": 41,
   "metadata": {
    "ExecuteTime": {
     "end_time": "2020-02-08T08:17:03.919319Z",
     "start_time": "2020-02-08T08:17:03.677000Z"
    }
   },
   "outputs": [
    {
     "data": {
      "image/png": "[encoded data removed]",
      "text/plain": [
       "<Figure size 864x432 with 1 Axes>"
      ]
     },
     "metadata": {
      "needs_background": "light"
     },
     "output_type": "display_data"
    }
   ],
   "source": [
    "plt.figure(figsize=(12,6))\n",
    "sns.distplot(listings.review_scores_rating.dropna())\n",
    "sns.despine()\n",
    "plt.show()"
   ]
  },
  {
   "cell_type": "code",
   "execution_count": 42,
   "metadata": {
    "ExecuteTime": {
     "end_time": "2020-02-08T08:17:03.932283Z",
     "start_time": "2020-02-08T08:17:03.920317Z"
    }
   },
   "outputs": [
    {
     "data": {
      "text/plain": [
       "count    14015.000000\n",
       "mean        89.937139\n",
       "std          9.374362\n",
       "min         20.000000\n",
       "25%         86.000000\n",
       "50%         92.000000\n",
       "75%         96.000000\n",
       "max        100.000000\n",
       "Name: review_scores_rating, dtype: float64"
      ]
     },
     "execution_count": 42,
     "metadata": {},
     "output_type": "execute_result"
    }
   ],
   "source": [
    "listings.review_scores_rating.describe()"
   ]
  },
  {
   "cell_type": "code",
   "execution_count": 43,
   "metadata": {
    "ExecuteTime": {
     "end_time": "2020-02-08T08:17:03.973213Z",
     "start_time": "2020-02-08T08:17:03.934278Z"
    }
   },
   "outputs": [
    {
     "data": {
      "text/plain": [
       "count    17653.000000\n",
       "mean        92.092392\n",
       "std        159.911422\n",
       "min          9.000000\n",
       "25%         35.000000\n",
       "50%         62.000000\n",
       "75%        105.000000\n",
       "max       9379.000000\n",
       "Name: price, dtype: float64"
      ]
     },
     "execution_count": 43,
     "metadata": {},
     "output_type": "execute_result"
    }
   ],
   "source": [
    "listings['price'] = listings['price'].str.replace('$','')\n",
    "listings['price'] = listings['price'].str.replace(',','')\n",
    "listings['price'] = listings['price'].astype(float)\n",
    "listings['price'].describe()"
   ]
  },
  {
   "cell_type": "code",
   "execution_count": 44,
   "metadata": {
    "ExecuteTime": {
     "end_time": "2020-02-08T08:17:04.036006Z",
     "start_time": "2020-02-08T08:17:03.974205Z"
    }
   },
   "outputs": [
    {
     "data": {
      "text/html": [
       "<div>\n",
       "<style scoped>\n",
       "    .dataframe tbody tr th:only-of-type {\n",
       "        vertical-align: middle;\n",
       "    }\n",
       "\n",
       "    .dataframe tbody tr th {\n",
       "        vertical-align: top;\n",
       "    }\n",
       "\n",
       "    .dataframe thead th {\n",
       "        text-align: right;\n",
       "    }\n",
       "</style>\n",
       "<table border=\"1\" class=\"dataframe\">\n",
       "  <thead>\n",
       "    <tr style=\"text-align: right;\">\n",
       "      <th></th>\n",
       "      <th>id</th>\n",
       "      <th>listing_url</th>\n",
       "      <th>scrape_id</th>\n",
       "      <th>last_scraped</th>\n",
       "      <th>name</th>\n",
       "      <th>summary</th>\n",
       "      <th>space</th>\n",
       "      <th>description</th>\n",
       "      <th>experiences_offered</th>\n",
       "      <th>neighborhood_overview</th>\n",
       "      <th>...</th>\n",
       "      <th>review_scores_value</th>\n",
       "      <th>requires_license</th>\n",
       "      <th>license</th>\n",
       "      <th>jurisdiction_names</th>\n",
       "      <th>instant_bookable</th>\n",
       "      <th>cancellation_policy</th>\n",
       "      <th>require_guest_profile_picture</th>\n",
       "      <th>require_guest_phone_verification</th>\n",
       "      <th>calculated_host_listings_count</th>\n",
       "      <th>reviews_per_month</th>\n",
       "    </tr>\n",
       "  </thead>\n",
       "  <tbody>\n",
       "    <tr>\n",
       "      <th>13702</th>\n",
       "      <td>16738878</td>\n",
       "      <td>https://www.airbnb.com/rooms/16738878</td>\n",
       "      <td>20170407214050</td>\n",
       "      <td>2017-04-08</td>\n",
       "      <td>Villa 1904- Modernist Jewel with Impeccable Views</td>\n",
       "      <td>This modernist jewel, designed by famous archi...</td>\n",
       "      <td>Impeccably decorated and filled with remarkabl...</td>\n",
       "      <td>This modernist jewel, designed by famous archi...</td>\n",
       "      <td>none</td>\n",
       "      <td>NaN</td>\n",
       "      <td>...</td>\n",
       "      <td>NaN</td>\n",
       "      <td>t</td>\n",
       "      <td>NaN</td>\n",
       "      <td>NaN</td>\n",
       "      <td>f</td>\n",
       "      <td>super_strict_60</td>\n",
       "      <td>f</td>\n",
       "      <td>f</td>\n",
       "      <td>8</td>\n",
       "      <td>NaN</td>\n",
       "    </tr>\n",
       "    <tr>\n",
       "      <th>10353</th>\n",
       "      <td>13259140</td>\n",
       "      <td>https://www.airbnb.com/rooms/13259140</td>\n",
       "      <td>20170407214050</td>\n",
       "      <td>2017-04-08</td>\n",
       "      <td>Nice double room in flat overlooking Montjuic</td>\n",
       "      <td>Close to Poble Espanyol, CaixaForum, Font Màgi...</td>\n",
       "      <td>NaN</td>\n",
       "      <td>Close to Poble Espanyol, CaixaForum, Font Màgi...</td>\n",
       "      <td>none</td>\n",
       "      <td>NaN</td>\n",
       "      <td>...</td>\n",
       "      <td>9.0</td>\n",
       "      <td>t</td>\n",
       "      <td>NaN</td>\n",
       "      <td>NaN</td>\n",
       "      <td>f</td>\n",
       "      <td>flexible</td>\n",
       "      <td>f</td>\n",
       "      <td>f</td>\n",
       "      <td>1</td>\n",
       "      <td>0.68</td>\n",
       "    </tr>\n",
       "    <tr>\n",
       "      <th>10912</th>\n",
       "      <td>17211611</td>\n",
       "      <td>https://www.airbnb.com/rooms/17211611</td>\n",
       "      <td>20170407214050</td>\n",
       "      <td>2017-04-08</td>\n",
       "      <td>Luxury Motor Yacht in Port Vell</td>\n",
       "      <td>New listing- Professionally crewed motor yacht...</td>\n",
       "      <td>NaN</td>\n",
       "      <td>New listing- Professionally crewed motor yacht...</td>\n",
       "      <td>none</td>\n",
       "      <td>Bordering Gothic and El Born, the vessel is lo...</td>\n",
       "      <td>...</td>\n",
       "      <td>NaN</td>\n",
       "      <td>t</td>\n",
       "      <td>NaN</td>\n",
       "      <td>NaN</td>\n",
       "      <td>f</td>\n",
       "      <td>flexible</td>\n",
       "      <td>f</td>\n",
       "      <td>f</td>\n",
       "      <td>1</td>\n",
       "      <td>NaN</td>\n",
       "    </tr>\n",
       "    <tr>\n",
       "      <th>12100</th>\n",
       "      <td>736098</td>\n",
       "      <td>https://www.airbnb.com/rooms/736098</td>\n",
       "      <td>20170407214050</td>\n",
       "      <td>2017-04-08</td>\n",
       "      <td>Great Discount! Jacuzzi Apartment</td>\n",
       "      <td>NaN</td>\n",
       "      <td>Great Discount. Jacuzzi Appartment at les Cort...</td>\n",
       "      <td>Great Discount. Jacuzzi Appartment at les Cort...</td>\n",
       "      <td>none</td>\n",
       "      <td>NaN</td>\n",
       "      <td>...</td>\n",
       "      <td>10.0</td>\n",
       "      <td>t</td>\n",
       "      <td>NaN</td>\n",
       "      <td>NaN</td>\n",
       "      <td>f</td>\n",
       "      <td>moderate</td>\n",
       "      <td>f</td>\n",
       "      <td>f</td>\n",
       "      <td>1</td>\n",
       "      <td>0.13</td>\n",
       "    </tr>\n",
       "    <tr>\n",
       "      <th>1988</th>\n",
       "      <td>16753970</td>\n",
       "      <td>https://www.airbnb.com/rooms/16753970</td>\n",
       "      <td>20170407214050</td>\n",
       "      <td>2017-04-08</td>\n",
       "      <td>Jewel in Ancient City - Architectural Masterpiece</td>\n",
       "      <td>In the heart of Barcelona's Gothic Quarter, Je...</td>\n",
       "      <td>In the heart of Barcelona's Gothic Quarter, Je...</td>\n",
       "      <td>In the heart of Barcelona's Gothic Quarter, Je...</td>\n",
       "      <td>none</td>\n",
       "      <td>NaN</td>\n",
       "      <td>...</td>\n",
       "      <td>NaN</td>\n",
       "      <td>t</td>\n",
       "      <td>NaN</td>\n",
       "      <td>NaN</td>\n",
       "      <td>f</td>\n",
       "      <td>super_strict_60</td>\n",
       "      <td>f</td>\n",
       "      <td>f</td>\n",
       "      <td>8</td>\n",
       "      <td>NaN</td>\n",
       "    </tr>\n",
       "    <tr>\n",
       "      <th>12965</th>\n",
       "      <td>16754469</td>\n",
       "      <td>https://www.airbnb.com/rooms/16754469</td>\n",
       "      <td>20170407214050</td>\n",
       "      <td>2017-04-08</td>\n",
       "      <td>City Lux - A Spacious 3BR Condo in the City!</td>\n",
       "      <td>This majestic residence, located in one of the...</td>\n",
       "      <td>Upon entering this 3800 square foot residence,...</td>\n",
       "      <td>This majestic residence, located in one of the...</td>\n",
       "      <td>none</td>\n",
       "      <td>NaN</td>\n",
       "      <td>...</td>\n",
       "      <td>NaN</td>\n",
       "      <td>t</td>\n",
       "      <td>NaN</td>\n",
       "      <td>NaN</td>\n",
       "      <td>f</td>\n",
       "      <td>super_strict_60</td>\n",
       "      <td>f</td>\n",
       "      <td>f</td>\n",
       "      <td>8</td>\n",
       "      <td>NaN</td>\n",
       "    </tr>\n",
       "    <tr>\n",
       "      <th>1999</th>\n",
       "      <td>16751496</td>\n",
       "      <td>https://www.airbnb.com/rooms/16751496</td>\n",
       "      <td>20170407214050</td>\n",
       "      <td>2017-04-08</td>\n",
       "      <td>Villa Adriana- Stunning Views of the Mediterra...</td>\n",
       "      <td>Upon arriving at Villa Adriana, guests are swe...</td>\n",
       "      <td>Upon arriving at Villa Adriana, guests are swe...</td>\n",
       "      <td>Upon arriving at Villa Adriana, guests are swe...</td>\n",
       "      <td>none</td>\n",
       "      <td>NaN</td>\n",
       "      <td>...</td>\n",
       "      <td>NaN</td>\n",
       "      <td>t</td>\n",
       "      <td>NaN</td>\n",
       "      <td>NaN</td>\n",
       "      <td>f</td>\n",
       "      <td>super_strict_60</td>\n",
       "      <td>f</td>\n",
       "      <td>f</td>\n",
       "      <td>8</td>\n",
       "      <td>NaN</td>\n",
       "    </tr>\n",
       "    <tr>\n",
       "      <th>12465</th>\n",
       "      <td>17234057</td>\n",
       "      <td>https://www.airbnb.com/rooms/17234057</td>\n",
       "      <td>20170407214050</td>\n",
       "      <td>2017-04-08</td>\n",
       "      <td>Casa Arriba - 4BR with Spectacular Views</td>\n",
       "      <td>Perched high in Barcelona with spectacular vie...</td>\n",
       "      <td>Flooded with light, the great room is expansiv...</td>\n",
       "      <td>Perched high in Barcelona with spectacular vie...</td>\n",
       "      <td>none</td>\n",
       "      <td>NaN</td>\n",
       "      <td>...</td>\n",
       "      <td>NaN</td>\n",
       "      <td>t</td>\n",
       "      <td>NaN</td>\n",
       "      <td>NaN</td>\n",
       "      <td>f</td>\n",
       "      <td>strict</td>\n",
       "      <td>f</td>\n",
       "      <td>f</td>\n",
       "      <td>8</td>\n",
       "      <td>NaN</td>\n",
       "    </tr>\n",
       "    <tr>\n",
       "      <th>13000</th>\n",
       "      <td>3965808</td>\n",
       "      <td>https://www.airbnb.com/rooms/3965808</td>\n",
       "      <td>20170407214050</td>\n",
       "      <td>2017-04-08</td>\n",
       "      <td>Luxury penthouse in Turó Park</td>\n",
       "      <td>Impressive 450sqm penthouse located in the exc...</td>\n",
       "      <td>This 450sqm penthouse takes up the entire 7th ...</td>\n",
       "      <td>Impressive 450sqm penthouse located in the exc...</td>\n",
       "      <td>none</td>\n",
       "      <td>The Turó Park area is one of the most exclusiv...</td>\n",
       "      <td>...</td>\n",
       "      <td>NaN</td>\n",
       "      <td>t</td>\n",
       "      <td>NaN</td>\n",
       "      <td>NaN</td>\n",
       "      <td>f</td>\n",
       "      <td>strict</td>\n",
       "      <td>f</td>\n",
       "      <td>f</td>\n",
       "      <td>1</td>\n",
       "      <td>NaN</td>\n",
       "    </tr>\n",
       "    <tr>\n",
       "      <th>4596</th>\n",
       "      <td>14466637</td>\n",
       "      <td>https://www.airbnb.com/rooms/14466637</td>\n",
       "      <td>20170407214050</td>\n",
       "      <td>2017-04-08</td>\n",
       "      <td>Double room in the centre of Barcelona</td>\n",
       "      <td>With a charming, central location in the heart...</td>\n",
       "      <td>NaN</td>\n",
       "      <td>With a charming, central location in the heart...</td>\n",
       "      <td>none</td>\n",
       "      <td>En el centro de Barcelona, una zona con muchas...</td>\n",
       "      <td>...</td>\n",
       "      <td>9.0</td>\n",
       "      <td>t</td>\n",
       "      <td>NaN</td>\n",
       "      <td>NaN</td>\n",
       "      <td>f</td>\n",
       "      <td>flexible</td>\n",
       "      <td>f</td>\n",
       "      <td>f</td>\n",
       "      <td>1</td>\n",
       "      <td>0.79</td>\n",
       "    </tr>\n",
       "  </tbody>\n",
       "</table>\n",
       "<p>10 rows × 95 columns</p>\n",
       "</div>"
      ],
      "text/plain": [
       "             id                            listing_url       scrape_id  \\\n",
       "13702  16738878  https://www.airbnb.com/rooms/16738878  20170407214050   \n",
       "10353  13259140  https://www.airbnb.com/rooms/13259140  20170407214050   \n",
       "10912  17211611  https://www.airbnb.com/rooms/17211611  20170407214050   \n",
       "12100    736098    https://www.airbnb.com/rooms/736098  20170407214050   \n",
       "1988   16753970  https://www.airbnb.com/rooms/16753970  20170407214050   \n",
       "12965  16754469  https://www.airbnb.com/rooms/16754469  20170407214050   \n",
       "1999   16751496  https://www.airbnb.com/rooms/16751496  20170407214050   \n",
       "12465  17234057  https://www.airbnb.com/rooms/17234057  20170407214050   \n",
       "13000   3965808   https://www.airbnb.com/rooms/3965808  20170407214050   \n",
       "4596   14466637  https://www.airbnb.com/rooms/14466637  20170407214050   \n",
       "\n",
       "      last_scraped                                               name  \\\n",
       "13702   2017-04-08  Villa 1904- Modernist Jewel with Impeccable Views   \n",
       "10353   2017-04-08      Nice double room in flat overlooking Montjuic   \n",
       "10912   2017-04-08                    Luxury Motor Yacht in Port Vell   \n",
       "12100   2017-04-08                  Great Discount! Jacuzzi Apartment   \n",
       "1988    2017-04-08  Jewel in Ancient City - Architectural Masterpiece   \n",
       "12965   2017-04-08       City Lux - A Spacious 3BR Condo in the City!   \n",
       "1999    2017-04-08  Villa Adriana- Stunning Views of the Mediterra...   \n",
       "12465   2017-04-08           Casa Arriba - 4BR with Spectacular Views   \n",
       "13000   2017-04-08                      Luxury penthouse in Turó Park   \n",
       "4596    2017-04-08             Double room in the centre of Barcelona   \n",
       "\n",
       "                                                 summary  \\\n",
       "13702  This modernist jewel, designed by famous archi...   \n",
       "10353  Close to Poble Espanyol, CaixaForum, Font Màgi...   \n",
       "10912  New listing- Professionally crewed motor yacht...   \n",
       "12100                                                NaN   \n",
       "1988   In the heart of Barcelona's Gothic Quarter, Je...   \n",
       "12965  This majestic residence, located in one of the...   \n",
       "1999   Upon arriving at Villa Adriana, guests are swe...   \n",
       "12465  Perched high in Barcelona with spectacular vie...   \n",
       "13000  Impressive 450sqm penthouse located in the exc...   \n",
       "4596   With a charming, central location in the heart...   \n",
       "\n",
       "                                                   space  \\\n",
       "13702  Impeccably decorated and filled with remarkabl...   \n",
       "10353                                                NaN   \n",
       "10912                                                NaN   \n",
       "12100  Great Discount. Jacuzzi Appartment at les Cort...   \n",
       "1988   In the heart of Barcelona's Gothic Quarter, Je...   \n",
       "12965  Upon entering this 3800 square foot residence,...   \n",
       "1999   Upon arriving at Villa Adriana, guests are swe...   \n",
       "12465  Flooded with light, the great room is expansiv...   \n",
       "13000  This 450sqm penthouse takes up the entire 7th ...   \n",
       "4596                                                 NaN   \n",
       "\n",
       "                                             description experiences_offered  \\\n",
       "13702  This modernist jewel, designed by famous archi...                none   \n",
       "10353  Close to Poble Espanyol, CaixaForum, Font Màgi...                none   \n",
       "10912  New listing- Professionally crewed motor yacht...                none   \n",
       "12100  Great Discount. Jacuzzi Appartment at les Cort...                none   \n",
       "1988   In the heart of Barcelona's Gothic Quarter, Je...                none   \n",
       "12965  This majestic residence, located in one of the...                none   \n",
       "1999   Upon arriving at Villa Adriana, guests are swe...                none   \n",
       "12465  Perched high in Barcelona with spectacular vie...                none   \n",
       "13000  Impressive 450sqm penthouse located in the exc...                none   \n",
       "4596   With a charming, central location in the heart...                none   \n",
       "\n",
       "                                   neighborhood_overview  ...  \\\n",
       "13702                                                NaN  ...   \n",
       "10353                                                NaN  ...   \n",
       "10912  Bordering Gothic and El Born, the vessel is lo...  ...   \n",
       "12100                                                NaN  ...   \n",
       "1988                                                 NaN  ...   \n",
       "12965                                                NaN  ...   \n",
       "1999                                                 NaN  ...   \n",
       "12465                                                NaN  ...   \n",
       "13000  The Turó Park area is one of the most exclusiv...  ...   \n",
       "4596   En el centro de Barcelona, una zona con muchas...  ...   \n",
       "\n",
       "      review_scores_value requires_license license jurisdiction_names  \\\n",
       "13702                 NaN                t     NaN                NaN   \n",
       "10353                 9.0                t     NaN                NaN   \n",
       "10912                 NaN                t     NaN                NaN   \n",
       "12100                10.0                t     NaN                NaN   \n",
       "1988                  NaN                t     NaN                NaN   \n",
       "12965                 NaN                t     NaN                NaN   \n",
       "1999                  NaN                t     NaN                NaN   \n",
       "12465                 NaN                t     NaN                NaN   \n",
       "13000                 NaN                t     NaN                NaN   \n",
       "4596                  9.0                t     NaN                NaN   \n",
       "\n",
       "      instant_bookable cancellation_policy require_guest_profile_picture  \\\n",
       "13702                f     super_strict_60                             f   \n",
       "10353                f            flexible                             f   \n",
       "10912                f            flexible                             f   \n",
       "12100                f            moderate                             f   \n",
       "1988                 f     super_strict_60                             f   \n",
       "12965                f     super_strict_60                             f   \n",
       "1999                 f     super_strict_60                             f   \n",
       "12465                f              strict                             f   \n",
       "13000                f              strict                             f   \n",
       "4596                 f            flexible                             f   \n",
       "\n",
       "      require_guest_phone_verification calculated_host_listings_count  \\\n",
       "13702                                f                              8   \n",
       "10353                                f                              1   \n",
       "10912                                f                              1   \n",
       "12100                                f                              1   \n",
       "1988                                 f                              8   \n",
       "12965                                f                              8   \n",
       "1999                                 f                              8   \n",
       "12465                                f                              8   \n",
       "13000                                f                              1   \n",
       "4596                                 f                              1   \n",
       "\n",
       "       reviews_per_month  \n",
       "13702                NaN  \n",
       "10353               0.68  \n",
       "10912                NaN  \n",
       "12100               0.13  \n",
       "1988                 NaN  \n",
       "12965                NaN  \n",
       "1999                 NaN  \n",
       "12465                NaN  \n",
       "13000                NaN  \n",
       "4596                0.79  \n",
       "\n",
       "[10 rows x 95 columns]"
      ]
     },
     "execution_count": 44,
     "metadata": {},
     "output_type": "execute_result"
    }
   ],
   "source": [
    "high_price = listings.sort_values('price',ascending=False)\n",
    "high_price.head(10)"
   ]
  },
  {
   "cell_type": "code",
   "execution_count": 45,
   "metadata": {
    "ExecuteTime": {
     "end_time": "2020-02-08T08:17:04.495776Z",
     "start_time": "2020-02-08T08:17:04.038000Z"
    }
   },
   "outputs": [
    {
     "data": {
      "text/plain": [
       "<matplotlib.axes._subplots.AxesSubplot at 0x171b8d2b748>"
      ]
     },
     "execution_count": 45,
     "metadata": {},
     "output_type": "execute_result"
    },
    {
     "data": {
      "image/png": "[encoded data removed]",
      "text/plain": [
       "<Figure size 432x288 with 1 Axes>"
      ]
     },
     "metadata": {
      "needs_background": "light"
     },
     "output_type": "display_data"
    }
   ],
   "source": [
    "listings.loc[(listings['price']<=600) & (listings['price']>0)].price.hist(bins=200)"
   ]
  },
  {
   "cell_type": "code",
   "execution_count": 46,
   "metadata": {
    "ExecuteTime": {
     "end_time": "2020-02-08T08:17:04.738127Z",
     "start_time": "2020-02-08T08:17:04.498800Z"
    }
   },
   "outputs": [
    {
     "data": {
      "text/plain": [
       "<matplotlib.axes._subplots.AxesSubplot at 0x171954980c8>"
      ]
     },
     "execution_count": 46,
     "metadata": {},
     "output_type": "execute_result"
    },
    {
     "data": {
      "image/png": "[encoded data removed]",
      "text/plain": [
       "<Figure size 1008x720 with 1 Axes>"
      ]
     },
     "metadata": {
      "needs_background": "light"
     },
     "output_type": "display_data"
    }
   ],
   "source": [
    "f,ax = plt.subplots(figsize=(14,10))\n",
    "sns.boxplot(y='price',x='room_type',data=listings.loc[(listings['price']<=600) & (listings['price']>0)])"
   ]
  },
  {
   "cell_type": "markdown",
   "metadata": {},
   "source": [
    "### Top 10 most frequent amenities"
   ]
  },
  {
   "cell_type": "code",
   "execution_count": 47,
   "metadata": {
    "ExecuteTime": {
     "end_time": "2020-02-08T08:17:04.754084Z",
     "start_time": "2020-02-08T08:17:04.739125Z"
    }
   },
   "outputs": [
    {
     "data": {
      "text/plain": [
       "0    {TV,Internet,\"Wireless Internet\",\"Air conditio...\n",
       "1    {Internet,\"Wireless Internet\",Kitchen,Washer,E...\n",
       "2    {Internet,\"Wireless Internet\",\"Air conditionin...\n",
       "3    {Internet,\"Wireless Internet\",Kitchen,\"Elevato...\n",
       "4    {\"Wireless Internet\",Kitchen,\"Smoking allowed\"...\n",
       "Name: amenities, dtype: object"
      ]
     },
     "execution_count": 47,
     "metadata": {},
     "output_type": "execute_result"
    }
   ],
   "source": [
    "listings.amenities[:5]"
   ]
  },
  {
   "cell_type": "code",
   "execution_count": 48,
   "metadata": {
    "ExecuteTime": {
     "end_time": "2020-02-08T08:17:04.837918Z",
     "start_time": "2020-02-08T08:17:04.755083Z"
    }
   },
   "outputs": [],
   "source": [
    "listings.amenities = listings.amenities.str.replace('[{}]','').str.replace('\"','')\n"
   ]
  },
  {
   "cell_type": "code",
   "execution_count": 49,
   "metadata": {
    "ExecuteTime": {
     "end_time": "2020-02-08T08:17:04.845842Z",
     "start_time": "2020-02-08T08:17:04.838883Z"
    }
   },
   "outputs": [
    {
     "data": {
      "text/plain": [
       "0    TV,Internet,Wireless Internet,Air conditioning...\n",
       "1    Internet,Wireless Internet,Kitchen,Washer,Esse...\n",
       "2    Internet,Wireless Internet,Air conditioning,Ki...\n",
       "3    Internet,Wireless Internet,Kitchen,Elevator in...\n",
       "4    Wireless Internet,Kitchen,Smoking allowed,Pets...\n",
       "Name: amenities, dtype: object"
      ]
     },
     "execution_count": 49,
     "metadata": {},
     "output_type": "execute_result"
    }
   ],
   "source": [
    "listings.amenities[:5]"
   ]
  },
  {
   "cell_type": "code",
   "execution_count": 50,
   "metadata": {
    "ExecuteTime": {
     "end_time": "2020-02-08T08:17:04.892750Z",
     "start_time": "2020-02-08T08:17:04.848834Z"
    }
   },
   "outputs": [
    {
     "data": {
      "text/plain": [
       "0    [TV, Internet, Wireless Internet, Air conditio...\n",
       "1    [Internet, Wireless Internet, Kitchen, Washer,...\n",
       "2    [Internet, Wireless Internet, Air conditioning...\n",
       "3    [Internet, Wireless Internet, Kitchen, Elevato...\n",
       "4    [Wireless Internet, Kitchen, Smoking allowed, ...\n",
       "Name: amenities, dtype: object"
      ]
     },
     "execution_count": 50,
     "metadata": {},
     "output_type": "execute_result"
    }
   ],
   "source": [
    "listings['amenities'].map(lambda amns:amns.split(','))[:5]"
   ]
  },
  {
   "cell_type": "code",
   "execution_count": 51,
   "metadata": {
    "ExecuteTime": {
     "end_time": "2020-02-08T08:17:05.329581Z",
     "start_time": "2020-02-08T08:17:04.893752Z"
    }
   },
   "outputs": [
    {
     "data": {
      "text/plain": [
       "array(['TV', 'Internet', 'Wireless Internet', ..., 'Essentials',\n",
       "       'Hangers', 'translation missing: en.hosting_amenity_49'],\n",
       "      dtype='<U42')"
      ]
     },
     "execution_count": 51,
     "metadata": {},
     "output_type": "execute_result"
    }
   ],
   "source": [
    "np.concatenate(listings['amenities'].map(lambda amns:amns.split(',')))"
   ]
  },
  {
   "cell_type": "code",
   "execution_count": 52,
   "metadata": {
    "ExecuteTime": {
     "end_time": "2020-02-08T08:17:05.824221Z",
     "start_time": "2020-02-08T08:17:05.331539Z"
    }
   },
   "outputs": [
    {
     "data": {
      "text/plain": [
       "Wireless Internet       16804\n",
       "Kitchen                 15877\n",
       "Essentials              15052\n",
       "Washer                  13669\n",
       "Heating                 13108\n",
       "TV                      11856\n",
       "Elevator in building    10792\n",
       "Hangers                 10761\n",
       "Family/kid friendly     10619\n",
       "Hair dryer              10273\n",
       "dtype: int64"
      ]
     },
     "execution_count": 52,
     "metadata": {},
     "output_type": "execute_result"
    }
   ],
   "source": [
    "pd.Series(np.concatenate(listings['amenities'].map(lambda amns:amns.split(',')))).value_counts().head(10)"
   ]
  },
  {
   "cell_type": "code",
   "execution_count": 53,
   "metadata": {
    "ExecuteTime": {
     "end_time": "2020-02-08T08:17:06.583191Z",
     "start_time": "2020-02-08T08:17:05.825219Z"
    }
   },
   "outputs": [
    {
     "data": {
      "text/plain": [
       "<matplotlib.axes._subplots.AxesSubplot at 0x171ccc69b08>"
      ]
     },
     "execution_count": 53,
     "metadata": {},
     "output_type": "execute_result"
    },
    {
     "data": {
      "image/png": "[encoded data removed]",
      "text/plain": [
       "<Figure size 1008x720 with 1 Axes>"
      ]
     },
     "metadata": {
      "needs_background": "light"
     },
     "output_type": "display_data"
    }
   ],
   "source": [
    "f,ax = plt.subplots(figsize=(14,10))\n",
    "pd.Series(np.concatenate(listings['amenities'].map(lambda amns:amns.split(',')))).value_counts().head(10).plot(kind='bar')"
   ]
  },
  {
   "cell_type": "code",
   "execution_count": 74,
   "metadata": {
    "ExecuteTime": {
     "end_time": "2020-02-08T08:32:21.832464Z",
     "start_time": "2020-02-08T08:32:20.891749Z"
    }
   },
   "outputs": [],
   "source": [
    "df_amenities=listings.amenities.str.get_dummies(',')"
   ]
  },
  {
   "cell_type": "markdown",
   "metadata": {},
   "source": [
    "#### Feature Processing"
   ]
  },
  {
   "cell_type": "code",
   "execution_count": 54,
   "metadata": {
    "ExecuteTime": {
     "end_time": "2020-02-08T08:17:06.589181Z",
     "start_time": "2020-02-08T08:17:06.585187Z"
    }
   },
   "outputs": [],
   "source": [
    "# Features\n",
    "col = ['host_listings_count', 'accommodates', 'bathrooms', 'bedrooms', 'beds', 'price', 'number_of_reviews', 'review_scores_rating', 'reviews_per_month']"
   ]
  },
  {
   "cell_type": "code",
   "execution_count": 55,
   "metadata": {
    "ExecuteTime": {
     "end_time": "2020-02-08T08:17:06.702896Z",
     "start_time": "2020-02-08T08:17:06.590217Z"
    }
   },
   "outputs": [
    {
     "data": {
      "text/plain": [
       "bathrooms  bedrooms\n",
       "0.0        1.0         55\n",
       "           2.0          1\n",
       "           3.0          1\n",
       "0.5        0.0          2\n",
       "           1.0         81\n",
       "                       ..\n",
       "8.0        1.0          5\n",
       "           3.0          1\n",
       "           5.0          1\n",
       "           6.0          1\n",
       "           9.0          3\n",
       "Name: price, Length: 76, dtype: int64"
      ]
     },
     "execution_count": 55,
     "metadata": {},
     "output_type": "execute_result"
    }
   ],
   "source": [
    "listings.loc[(listings['price']<=600) & (listings['price']>0)].groupby(['bathrooms','bedrooms']).count()['price']"
   ]
  },
  {
   "cell_type": "code",
   "execution_count": 56,
   "metadata": {
    "ExecuteTime": {
     "end_time": "2020-02-08T08:17:06.804599Z",
     "start_time": "2020-02-08T08:17:06.703869Z"
    }
   },
   "outputs": [
    {
     "data": {
      "text/html": [
       "<div>\n",
       "<style scoped>\n",
       "    .dataframe tbody tr th:only-of-type {\n",
       "        vertical-align: middle;\n",
       "    }\n",
       "\n",
       "    .dataframe tbody tr th {\n",
       "        vertical-align: top;\n",
       "    }\n",
       "\n",
       "    .dataframe thead th {\n",
       "        text-align: right;\n",
       "    }\n",
       "</style>\n",
       "<table border=\"1\" class=\"dataframe\">\n",
       "  <thead>\n",
       "    <tr style=\"text-align: right;\">\n",
       "      <th></th>\n",
       "      <th>bathrooms</th>\n",
       "      <th>bedrooms</th>\n",
       "      <th>price</th>\n",
       "    </tr>\n",
       "  </thead>\n",
       "  <tbody>\n",
       "    <tr>\n",
       "      <th>0</th>\n",
       "      <td>0.0</td>\n",
       "      <td>1.0</td>\n",
       "      <td>55</td>\n",
       "    </tr>\n",
       "    <tr>\n",
       "      <th>1</th>\n",
       "      <td>0.0</td>\n",
       "      <td>2.0</td>\n",
       "      <td>1</td>\n",
       "    </tr>\n",
       "    <tr>\n",
       "      <th>2</th>\n",
       "      <td>0.0</td>\n",
       "      <td>3.0</td>\n",
       "      <td>1</td>\n",
       "    </tr>\n",
       "    <tr>\n",
       "      <th>3</th>\n",
       "      <td>0.5</td>\n",
       "      <td>0.0</td>\n",
       "      <td>2</td>\n",
       "    </tr>\n",
       "    <tr>\n",
       "      <th>4</th>\n",
       "      <td>0.5</td>\n",
       "      <td>1.0</td>\n",
       "      <td>81</td>\n",
       "    </tr>\n",
       "    <tr>\n",
       "      <th>...</th>\n",
       "      <td>...</td>\n",
       "      <td>...</td>\n",
       "      <td>...</td>\n",
       "    </tr>\n",
       "    <tr>\n",
       "      <th>71</th>\n",
       "      <td>8.0</td>\n",
       "      <td>1.0</td>\n",
       "      <td>5</td>\n",
       "    </tr>\n",
       "    <tr>\n",
       "      <th>72</th>\n",
       "      <td>8.0</td>\n",
       "      <td>3.0</td>\n",
       "      <td>1</td>\n",
       "    </tr>\n",
       "    <tr>\n",
       "      <th>73</th>\n",
       "      <td>8.0</td>\n",
       "      <td>5.0</td>\n",
       "      <td>1</td>\n",
       "    </tr>\n",
       "    <tr>\n",
       "      <th>74</th>\n",
       "      <td>8.0</td>\n",
       "      <td>6.0</td>\n",
       "      <td>1</td>\n",
       "    </tr>\n",
       "    <tr>\n",
       "      <th>75</th>\n",
       "      <td>8.0</td>\n",
       "      <td>9.0</td>\n",
       "      <td>3</td>\n",
       "    </tr>\n",
       "  </tbody>\n",
       "</table>\n",
       "<p>76 rows × 3 columns</p>\n",
       "</div>"
      ],
      "text/plain": [
       "    bathrooms  bedrooms  price\n",
       "0         0.0       1.0     55\n",
       "1         0.0       2.0      1\n",
       "2         0.0       3.0      1\n",
       "3         0.5       0.0      2\n",
       "4         0.5       1.0     81\n",
       "..        ...       ...    ...\n",
       "71        8.0       1.0      5\n",
       "72        8.0       3.0      1\n",
       "73        8.0       5.0      1\n",
       "74        8.0       6.0      1\n",
       "75        8.0       9.0      3\n",
       "\n",
       "[76 rows x 3 columns]"
      ]
     },
     "execution_count": 56,
     "metadata": {},
     "output_type": "execute_result"
    }
   ],
   "source": [
    "listings.loc[(listings['price']<=600) & (listings['price']>0)].groupby(['bathrooms','bedrooms']).count()['price'].reset_index()"
   ]
  },
  {
   "cell_type": "code",
   "execution_count": 57,
   "metadata": {
    "ExecuteTime": {
     "end_time": "2020-02-08T08:17:06.910315Z",
     "start_time": "2020-02-08T08:17:06.805596Z"
    }
   },
   "outputs": [
    {
     "data": {
      "text/html": [
       "<div>\n",
       "<style scoped>\n",
       "    .dataframe tbody tr th:only-of-type {\n",
       "        vertical-align: middle;\n",
       "    }\n",
       "\n",
       "    .dataframe tbody tr th {\n",
       "        vertical-align: top;\n",
       "    }\n",
       "\n",
       "    .dataframe thead th {\n",
       "        text-align: right;\n",
       "    }\n",
       "</style>\n",
       "<table border=\"1\" class=\"dataframe\">\n",
       "  <thead>\n",
       "    <tr style=\"text-align: right;\">\n",
       "      <th>bedrooms</th>\n",
       "      <th>0.0</th>\n",
       "      <th>1.0</th>\n",
       "      <th>2.0</th>\n",
       "      <th>3.0</th>\n",
       "      <th>4.0</th>\n",
       "      <th>5.0</th>\n",
       "      <th>6.0</th>\n",
       "      <th>7.0</th>\n",
       "      <th>8.0</th>\n",
       "      <th>9.0</th>\n",
       "      <th>10.0</th>\n",
       "    </tr>\n",
       "    <tr>\n",
       "      <th>bathrooms</th>\n",
       "      <th></th>\n",
       "      <th></th>\n",
       "      <th></th>\n",
       "      <th></th>\n",
       "      <th></th>\n",
       "      <th></th>\n",
       "      <th></th>\n",
       "      <th></th>\n",
       "      <th></th>\n",
       "      <th></th>\n",
       "      <th></th>\n",
       "    </tr>\n",
       "  </thead>\n",
       "  <tbody>\n",
       "    <tr>\n",
       "      <th>0.0</th>\n",
       "      <td>NaN</td>\n",
       "      <td>55.0</td>\n",
       "      <td>1.0</td>\n",
       "      <td>1.0</td>\n",
       "      <td>NaN</td>\n",
       "      <td>NaN</td>\n",
       "      <td>NaN</td>\n",
       "      <td>NaN</td>\n",
       "      <td>NaN</td>\n",
       "      <td>NaN</td>\n",
       "      <td>NaN</td>\n",
       "    </tr>\n",
       "    <tr>\n",
       "      <th>0.5</th>\n",
       "      <td>2.0</td>\n",
       "      <td>81.0</td>\n",
       "      <td>NaN</td>\n",
       "      <td>NaN</td>\n",
       "      <td>NaN</td>\n",
       "      <td>NaN</td>\n",
       "      <td>NaN</td>\n",
       "      <td>NaN</td>\n",
       "      <td>NaN</td>\n",
       "      <td>NaN</td>\n",
       "      <td>NaN</td>\n",
       "    </tr>\n",
       "    <tr>\n",
       "      <th>1.0</th>\n",
       "      <td>466.0</td>\n",
       "      <td>8748.0</td>\n",
       "      <td>2428.0</td>\n",
       "      <td>712.0</td>\n",
       "      <td>70.0</td>\n",
       "      <td>1.0</td>\n",
       "      <td>1.0</td>\n",
       "      <td>NaN</td>\n",
       "      <td>NaN</td>\n",
       "      <td>NaN</td>\n",
       "      <td>NaN</td>\n",
       "    </tr>\n",
       "    <tr>\n",
       "      <th>1.5</th>\n",
       "      <td>7.0</td>\n",
       "      <td>787.0</td>\n",
       "      <td>162.0</td>\n",
       "      <td>144.0</td>\n",
       "      <td>49.0</td>\n",
       "      <td>3.0</td>\n",
       "      <td>1.0</td>\n",
       "      <td>NaN</td>\n",
       "      <td>NaN</td>\n",
       "      <td>NaN</td>\n",
       "      <td>NaN</td>\n",
       "    </tr>\n",
       "    <tr>\n",
       "      <th>2.0</th>\n",
       "      <td>9.0</td>\n",
       "      <td>1233.0</td>\n",
       "      <td>766.0</td>\n",
       "      <td>871.0</td>\n",
       "      <td>330.0</td>\n",
       "      <td>47.0</td>\n",
       "      <td>11.0</td>\n",
       "      <td>1.0</td>\n",
       "      <td>1.0</td>\n",
       "      <td>NaN</td>\n",
       "      <td>NaN</td>\n",
       "    </tr>\n",
       "    <tr>\n",
       "      <th>2.5</th>\n",
       "      <td>NaN</td>\n",
       "      <td>42.0</td>\n",
       "      <td>19.0</td>\n",
       "      <td>35.0</td>\n",
       "      <td>25.0</td>\n",
       "      <td>7.0</td>\n",
       "      <td>6.0</td>\n",
       "      <td>NaN</td>\n",
       "      <td>NaN</td>\n",
       "      <td>NaN</td>\n",
       "      <td>NaN</td>\n",
       "    </tr>\n",
       "    <tr>\n",
       "      <th>3.0</th>\n",
       "      <td>1.0</td>\n",
       "      <td>49.0</td>\n",
       "      <td>4.0</td>\n",
       "      <td>68.0</td>\n",
       "      <td>61.0</td>\n",
       "      <td>35.0</td>\n",
       "      <td>15.0</td>\n",
       "      <td>NaN</td>\n",
       "      <td>NaN</td>\n",
       "      <td>NaN</td>\n",
       "      <td>NaN</td>\n",
       "    </tr>\n",
       "    <tr>\n",
       "      <th>3.5</th>\n",
       "      <td>NaN</td>\n",
       "      <td>8.0</td>\n",
       "      <td>NaN</td>\n",
       "      <td>4.0</td>\n",
       "      <td>7.0</td>\n",
       "      <td>5.0</td>\n",
       "      <td>2.0</td>\n",
       "      <td>NaN</td>\n",
       "      <td>NaN</td>\n",
       "      <td>NaN</td>\n",
       "      <td>NaN</td>\n",
       "    </tr>\n",
       "    <tr>\n",
       "      <th>4.0</th>\n",
       "      <td>NaN</td>\n",
       "      <td>27.0</td>\n",
       "      <td>1.0</td>\n",
       "      <td>5.0</td>\n",
       "      <td>27.0</td>\n",
       "      <td>3.0</td>\n",
       "      <td>6.0</td>\n",
       "      <td>2.0</td>\n",
       "      <td>1.0</td>\n",
       "      <td>2.0</td>\n",
       "      <td>NaN</td>\n",
       "    </tr>\n",
       "    <tr>\n",
       "      <th>4.5</th>\n",
       "      <td>NaN</td>\n",
       "      <td>NaN</td>\n",
       "      <td>NaN</td>\n",
       "      <td>NaN</td>\n",
       "      <td>3.0</td>\n",
       "      <td>NaN</td>\n",
       "      <td>NaN</td>\n",
       "      <td>NaN</td>\n",
       "      <td>NaN</td>\n",
       "      <td>NaN</td>\n",
       "      <td>NaN</td>\n",
       "    </tr>\n",
       "    <tr>\n",
       "      <th>5.0</th>\n",
       "      <td>NaN</td>\n",
       "      <td>11.0</td>\n",
       "      <td>1.0</td>\n",
       "      <td>NaN</td>\n",
       "      <td>3.0</td>\n",
       "      <td>2.0</td>\n",
       "      <td>NaN</td>\n",
       "      <td>NaN</td>\n",
       "      <td>NaN</td>\n",
       "      <td>NaN</td>\n",
       "      <td>1.0</td>\n",
       "    </tr>\n",
       "    <tr>\n",
       "      <th>5.5</th>\n",
       "      <td>NaN</td>\n",
       "      <td>2.0</td>\n",
       "      <td>NaN</td>\n",
       "      <td>NaN</td>\n",
       "      <td>1.0</td>\n",
       "      <td>1.0</td>\n",
       "      <td>NaN</td>\n",
       "      <td>NaN</td>\n",
       "      <td>NaN</td>\n",
       "      <td>1.0</td>\n",
       "      <td>NaN</td>\n",
       "    </tr>\n",
       "    <tr>\n",
       "      <th>6.0</th>\n",
       "      <td>NaN</td>\n",
       "      <td>1.0</td>\n",
       "      <td>NaN</td>\n",
       "      <td>NaN</td>\n",
       "      <td>NaN</td>\n",
       "      <td>NaN</td>\n",
       "      <td>2.0</td>\n",
       "      <td>NaN</td>\n",
       "      <td>1.0</td>\n",
       "      <td>NaN</td>\n",
       "      <td>2.0</td>\n",
       "    </tr>\n",
       "    <tr>\n",
       "      <th>6.5</th>\n",
       "      <td>NaN</td>\n",
       "      <td>NaN</td>\n",
       "      <td>NaN</td>\n",
       "      <td>NaN</td>\n",
       "      <td>NaN</td>\n",
       "      <td>NaN</td>\n",
       "      <td>1.0</td>\n",
       "      <td>NaN</td>\n",
       "      <td>NaN</td>\n",
       "      <td>NaN</td>\n",
       "      <td>NaN</td>\n",
       "    </tr>\n",
       "    <tr>\n",
       "      <th>7.0</th>\n",
       "      <td>NaN</td>\n",
       "      <td>1.0</td>\n",
       "      <td>NaN</td>\n",
       "      <td>NaN</td>\n",
       "      <td>NaN</td>\n",
       "      <td>NaN</td>\n",
       "      <td>NaN</td>\n",
       "      <td>NaN</td>\n",
       "      <td>NaN</td>\n",
       "      <td>NaN</td>\n",
       "      <td>NaN</td>\n",
       "    </tr>\n",
       "    <tr>\n",
       "      <th>8.0</th>\n",
       "      <td>NaN</td>\n",
       "      <td>5.0</td>\n",
       "      <td>NaN</td>\n",
       "      <td>1.0</td>\n",
       "      <td>NaN</td>\n",
       "      <td>1.0</td>\n",
       "      <td>1.0</td>\n",
       "      <td>NaN</td>\n",
       "      <td>NaN</td>\n",
       "      <td>3.0</td>\n",
       "      <td>NaN</td>\n",
       "    </tr>\n",
       "  </tbody>\n",
       "</table>\n",
       "</div>"
      ],
      "text/plain": [
       "bedrooms    0.0     1.0     2.0    3.0    4.0   5.0   6.0   7.0   8.0   9.0   \\\n",
       "bathrooms                                                                      \n",
       "0.0          NaN    55.0     1.0    1.0    NaN   NaN   NaN   NaN   NaN   NaN   \n",
       "0.5          2.0    81.0     NaN    NaN    NaN   NaN   NaN   NaN   NaN   NaN   \n",
       "1.0        466.0  8748.0  2428.0  712.0   70.0   1.0   1.0   NaN   NaN   NaN   \n",
       "1.5          7.0   787.0   162.0  144.0   49.0   3.0   1.0   NaN   NaN   NaN   \n",
       "2.0          9.0  1233.0   766.0  871.0  330.0  47.0  11.0   1.0   1.0   NaN   \n",
       "2.5          NaN    42.0    19.0   35.0   25.0   7.0   6.0   NaN   NaN   NaN   \n",
       "3.0          1.0    49.0     4.0   68.0   61.0  35.0  15.0   NaN   NaN   NaN   \n",
       "3.5          NaN     8.0     NaN    4.0    7.0   5.0   2.0   NaN   NaN   NaN   \n",
       "4.0          NaN    27.0     1.0    5.0   27.0   3.0   6.0   2.0   1.0   2.0   \n",
       "4.5          NaN     NaN     NaN    NaN    3.0   NaN   NaN   NaN   NaN   NaN   \n",
       "5.0          NaN    11.0     1.0    NaN    3.0   2.0   NaN   NaN   NaN   NaN   \n",
       "5.5          NaN     2.0     NaN    NaN    1.0   1.0   NaN   NaN   NaN   1.0   \n",
       "6.0          NaN     1.0     NaN    NaN    NaN   NaN   2.0   NaN   1.0   NaN   \n",
       "6.5          NaN     NaN     NaN    NaN    NaN   NaN   1.0   NaN   NaN   NaN   \n",
       "7.0          NaN     1.0     NaN    NaN    NaN   NaN   NaN   NaN   NaN   NaN   \n",
       "8.0          NaN     5.0     NaN    1.0    NaN   1.0   1.0   NaN   NaN   3.0   \n",
       "\n",
       "bedrooms   10.0  \n",
       "bathrooms        \n",
       "0.0         NaN  \n",
       "0.5         NaN  \n",
       "1.0         NaN  \n",
       "1.5         NaN  \n",
       "2.0         NaN  \n",
       "2.5         NaN  \n",
       "3.0         NaN  \n",
       "3.5         NaN  \n",
       "4.0         NaN  \n",
       "4.5         NaN  \n",
       "5.0         1.0  \n",
       "5.5         NaN  \n",
       "6.0         2.0  \n",
       "6.5         NaN  \n",
       "7.0         NaN  \n",
       "8.0         NaN  "
      ]
     },
     "execution_count": 57,
     "metadata": {},
     "output_type": "execute_result"
    }
   ],
   "source": [
    "listings.loc[(listings['price']<=600) & (listings['price']>0)].groupby(['bathrooms','bedrooms']).count()['price'].reset_index().pivot('bathrooms','bedrooms','price')"
   ]
  },
  {
   "cell_type": "code",
   "execution_count": 58,
   "metadata": {
    "ExecuteTime": {
     "end_time": "2020-02-08T08:17:07.009361Z",
     "start_time": "2020-02-08T08:17:06.912310Z"
    }
   },
   "outputs": [],
   "source": [
    "cur_input = listings.loc[(listings['price']<=600) & (listings['price']>0)].groupby(['bathrooms','bedrooms']).count()['price'].reset_index().pivot('bathrooms','bedrooms','price')"
   ]
  },
  {
   "cell_type": "code",
   "execution_count": 59,
   "metadata": {
    "ExecuteTime": {
     "end_time": "2020-02-08T08:17:07.494755Z",
     "start_time": "2020-02-08T08:17:07.011046Z"
    }
   },
   "outputs": [
    {
     "data": {
      "text/plain": [
       "<matplotlib.axes._subplots.AxesSubplot at 0x171ae603d48>"
      ]
     },
     "execution_count": 59,
     "metadata": {},
     "output_type": "execute_result"
    },
    {
     "data": {
      "image/png": "[encoded data removed]",
      "text/plain": [
       "<Figure size 1008x720 with 2 Axes>"
      ]
     },
     "metadata": {
      "needs_background": "light"
     },
     "output_type": "display_data"
    }
   ],
   "source": [
    "f,ax = plt.subplots(figsize=(14,10))\n",
    "sns.heatmap(cur_input,cmap='Oranges',annot=True,linewidths=0.5,fmt='.0f')"
   ]
  },
  {
   "cell_type": "code",
   "execution_count": 60,
   "metadata": {
    "ExecuteTime": {
     "end_time": "2020-02-08T08:17:07.948591Z",
     "start_time": "2020-02-08T08:17:07.500743Z"
    }
   },
   "outputs": [
    {
     "data": {
      "text/plain": [
       "<matplotlib.axes._subplots.AxesSubplot at 0x171cb591588>"
      ]
     },
     "execution_count": 60,
     "metadata": {},
     "output_type": "execute_result"
    },
    {
     "data": {
      "image/png": "[encoded data removed]",
      "text/plain": [
       "<Figure size 1008x720 with 2 Axes>"
      ]
     },
     "metadata": {
      "needs_background": "light"
     },
     "output_type": "display_data"
    }
   ],
   "source": [
    "cur_input = listings.loc[(listings['price']<=600) & (listings['price']>0)].groupby(['bathrooms','bedrooms']).mean()['price'].reset_index().pivot('bathrooms','bedrooms','price')\n",
    "f,ax = plt.subplots(figsize=(14,10))\n",
    "sns.heatmap(cur_input,cmap='Oranges',annot=True,linewidths=0.5,fmt='.0f')"
   ]
  },
  {
   "cell_type": "markdown",
   "metadata": {},
   "source": [
    "### Modeling"
   ]
  },
  {
   "cell_type": "code",
   "execution_count": 61,
   "metadata": {
    "ExecuteTime": {
     "end_time": "2020-02-08T08:17:09.067109Z",
     "start_time": "2020-02-08T08:17:07.950533Z"
    }
   },
   "outputs": [
    {
     "name": "stderr",
     "output_type": "stream",
     "text": [
      "D:\\Anaconda\\lib\\site-packages\\IPython\\core\\interactiveshell.py:3051: DtypeWarning: Columns (43) have mixed types.Specify dtype option on import or set low_memory=False.\n",
      "  interactivity=interactivity, compiler=compiler, result=result)\n"
     ]
    }
   ],
   "source": [
    "listings = pd.read_csv('listings.csv.gz')"
   ]
  },
  {
   "cell_type": "code",
   "execution_count": 62,
   "metadata": {
    "ExecuteTime": {
     "end_time": "2020-02-08T08:17:09.092582Z",
     "start_time": "2020-02-08T08:17:09.068054Z"
    }
   },
   "outputs": [
    {
     "data": {
      "text/html": [
       "<div>\n",
       "<style scoped>\n",
       "    .dataframe tbody tr th:only-of-type {\n",
       "        vertical-align: middle;\n",
       "    }\n",
       "\n",
       "    .dataframe tbody tr th {\n",
       "        vertical-align: top;\n",
       "    }\n",
       "\n",
       "    .dataframe thead th {\n",
       "        text-align: right;\n",
       "    }\n",
       "</style>\n",
       "<table border=\"1\" class=\"dataframe\">\n",
       "  <thead>\n",
       "    <tr style=\"text-align: right;\">\n",
       "      <th></th>\n",
       "      <th>id</th>\n",
       "      <th>listing_url</th>\n",
       "      <th>scrape_id</th>\n",
       "      <th>last_scraped</th>\n",
       "      <th>name</th>\n",
       "      <th>summary</th>\n",
       "      <th>space</th>\n",
       "      <th>description</th>\n",
       "      <th>experiences_offered</th>\n",
       "      <th>neighborhood_overview</th>\n",
       "      <th>...</th>\n",
       "      <th>review_scores_value</th>\n",
       "      <th>requires_license</th>\n",
       "      <th>license</th>\n",
       "      <th>jurisdiction_names</th>\n",
       "      <th>instant_bookable</th>\n",
       "      <th>cancellation_policy</th>\n",
       "      <th>require_guest_profile_picture</th>\n",
       "      <th>require_guest_phone_verification</th>\n",
       "      <th>calculated_host_listings_count</th>\n",
       "      <th>reviews_per_month</th>\n",
       "    </tr>\n",
       "  </thead>\n",
       "  <tbody>\n",
       "    <tr>\n",
       "      <th>0</th>\n",
       "      <td>8207551</td>\n",
       "      <td>https://www.airbnb.com/rooms/8207551</td>\n",
       "      <td>20170407214050</td>\n",
       "      <td>2017-04-08</td>\n",
       "      <td>Room in Sant Antoni huge terrasse</td>\n",
       "      <td>Located between Sant Antoni &amp; Universitat (met...</td>\n",
       "      <td>the apartment is located on the 7th floor and ...</td>\n",
       "      <td>Located between Sant Antoni &amp; Universitat (met...</td>\n",
       "      <td>none</td>\n",
       "      <td>Sant Antoni is a very central neighborhood and...</td>\n",
       "      <td>...</td>\n",
       "      <td>10.0</td>\n",
       "      <td>t</td>\n",
       "      <td>NaN</td>\n",
       "      <td>NaN</td>\n",
       "      <td>f</td>\n",
       "      <td>strict</td>\n",
       "      <td>f</td>\n",
       "      <td>f</td>\n",
       "      <td>2</td>\n",
       "      <td>0.11</td>\n",
       "    </tr>\n",
       "    <tr>\n",
       "      <th>1</th>\n",
       "      <td>14958299</td>\n",
       "      <td>https://www.airbnb.com/rooms/14958299</td>\n",
       "      <td>20170407214050</td>\n",
       "      <td>2017-04-08</td>\n",
       "      <td>Next To Las Ramblas, Unique, Wif1</td>\n",
       "      <td>Brand new apartment, cosy and clean.  Only 5 m...</td>\n",
       "      <td>Fun, bohemian. Real Catalan style Well equippe...</td>\n",
       "      <td>Brand new apartment, cosy and clean.  Only 5 m...</td>\n",
       "      <td>none</td>\n",
       "      <td>NaN</td>\n",
       "      <td>...</td>\n",
       "      <td>8.0</td>\n",
       "      <td>t</td>\n",
       "      <td>NaN</td>\n",
       "      <td>NaN</td>\n",
       "      <td>t</td>\n",
       "      <td>strict</td>\n",
       "      <td>f</td>\n",
       "      <td>f</td>\n",
       "      <td>1</td>\n",
       "      <td>2.26</td>\n",
       "    </tr>\n",
       "    <tr>\n",
       "      <th>2</th>\n",
       "      <td>7766152</td>\n",
       "      <td>https://www.airbnb.com/rooms/7766152</td>\n",
       "      <td>20170407214050</td>\n",
       "      <td>2017-04-08</td>\n",
       "      <td>Sunny whole flat in Raval/Ramblas</td>\n",
       "      <td>Calm, sunny 43sqm flat. Living room w/balcony ...</td>\n",
       "      <td>Very luminous and calm, in a neighborhood than...</td>\n",
       "      <td>Calm, sunny 43sqm flat. Living room w/balcony ...</td>\n",
       "      <td>none</td>\n",
       "      <td>Very central, lively, popular hood. Near the s...</td>\n",
       "      <td>...</td>\n",
       "      <td>9.0</td>\n",
       "      <td>t</td>\n",
       "      <td>NaN</td>\n",
       "      <td>NaN</td>\n",
       "      <td>f</td>\n",
       "      <td>strict</td>\n",
       "      <td>f</td>\n",
       "      <td>f</td>\n",
       "      <td>1</td>\n",
       "      <td>0.40</td>\n",
       "    </tr>\n",
       "    <tr>\n",
       "      <th>3</th>\n",
       "      <td>9237132</td>\n",
       "      <td>https://www.airbnb.com/rooms/9237132</td>\n",
       "      <td>20170407214050</td>\n",
       "      <td>2017-04-08</td>\n",
       "      <td>Apartment in the heart of Barcelona</td>\n",
       "      <td>The apartment is an ideal place for relax afte...</td>\n",
       "      <td>Both rooms include a comfortable double bed wi...</td>\n",
       "      <td>The apartment is an ideal place for relax afte...</td>\n",
       "      <td>none</td>\n",
       "      <td>NaN</td>\n",
       "      <td>...</td>\n",
       "      <td>9.0</td>\n",
       "      <td>t</td>\n",
       "      <td>NaN</td>\n",
       "      <td>NaN</td>\n",
       "      <td>t</td>\n",
       "      <td>flexible</td>\n",
       "      <td>f</td>\n",
       "      <td>f</td>\n",
       "      <td>1</td>\n",
       "      <td>3.17</td>\n",
       "    </tr>\n",
       "    <tr>\n",
       "      <th>4</th>\n",
       "      <td>1406827</td>\n",
       "      <td>https://www.airbnb.com/rooms/1406827</td>\n",
       "      <td>20170407214050</td>\n",
       "      <td>2017-04-08</td>\n",
       "      <td>Centric Bohemian next Ramblas&amp;Macba</td>\n",
       "      <td>Artistic cosy renovated flat 40m2 with balcony...</td>\n",
       "      <td>The apartment is 40m2 and has everything you n...</td>\n",
       "      <td>Artistic cosy renovated flat 40m2 with balcony...</td>\n",
       "      <td>none</td>\n",
       "      <td>Raval is the distric where most of the young a...</td>\n",
       "      <td>...</td>\n",
       "      <td>8.0</td>\n",
       "      <td>t</td>\n",
       "      <td>43212</td>\n",
       "      <td>NaN</td>\n",
       "      <td>t</td>\n",
       "      <td>moderate</td>\n",
       "      <td>f</td>\n",
       "      <td>f</td>\n",
       "      <td>1</td>\n",
       "      <td>5.06</td>\n",
       "    </tr>\n",
       "  </tbody>\n",
       "</table>\n",
       "<p>5 rows × 95 columns</p>\n",
       "</div>"
      ],
      "text/plain": [
       "         id                            listing_url       scrape_id  \\\n",
       "0   8207551   https://www.airbnb.com/rooms/8207551  20170407214050   \n",
       "1  14958299  https://www.airbnb.com/rooms/14958299  20170407214050   \n",
       "2   7766152   https://www.airbnb.com/rooms/7766152  20170407214050   \n",
       "3   9237132   https://www.airbnb.com/rooms/9237132  20170407214050   \n",
       "4   1406827   https://www.airbnb.com/rooms/1406827  20170407214050   \n",
       "\n",
       "  last_scraped                                 name  \\\n",
       "0   2017-04-08    Room in Sant Antoni huge terrasse   \n",
       "1   2017-04-08    Next To Las Ramblas, Unique, Wif1   \n",
       "2   2017-04-08    Sunny whole flat in Raval/Ramblas   \n",
       "3   2017-04-08  Apartment in the heart of Barcelona   \n",
       "4   2017-04-08  Centric Bohemian next Ramblas&Macba   \n",
       "\n",
       "                                             summary  \\\n",
       "0  Located between Sant Antoni & Universitat (met...   \n",
       "1  Brand new apartment, cosy and clean.  Only 5 m...   \n",
       "2  Calm, sunny 43sqm flat. Living room w/balcony ...   \n",
       "3  The apartment is an ideal place for relax afte...   \n",
       "4  Artistic cosy renovated flat 40m2 with balcony...   \n",
       "\n",
       "                                               space  \\\n",
       "0  the apartment is located on the 7th floor and ...   \n",
       "1  Fun, bohemian. Real Catalan style Well equippe...   \n",
       "2  Very luminous and calm, in a neighborhood than...   \n",
       "3  Both rooms include a comfortable double bed wi...   \n",
       "4  The apartment is 40m2 and has everything you n...   \n",
       "\n",
       "                                         description experiences_offered  \\\n",
       "0  Located between Sant Antoni & Universitat (met...                none   \n",
       "1  Brand new apartment, cosy and clean.  Only 5 m...                none   \n",
       "2  Calm, sunny 43sqm flat. Living room w/balcony ...                none   \n",
       "3  The apartment is an ideal place for relax afte...                none   \n",
       "4  Artistic cosy renovated flat 40m2 with balcony...                none   \n",
       "\n",
       "                               neighborhood_overview  ... review_scores_value  \\\n",
       "0  Sant Antoni is a very central neighborhood and...  ...                10.0   \n",
       "1                                                NaN  ...                 8.0   \n",
       "2  Very central, lively, popular hood. Near the s...  ...                 9.0   \n",
       "3                                                NaN  ...                 9.0   \n",
       "4  Raval is the distric where most of the young a...  ...                 8.0   \n",
       "\n",
       "  requires_license license jurisdiction_names instant_bookable  \\\n",
       "0                t     NaN                NaN                f   \n",
       "1                t     NaN                NaN                t   \n",
       "2                t     NaN                NaN                f   \n",
       "3                t     NaN                NaN                t   \n",
       "4                t   43212                NaN                t   \n",
       "\n",
       "  cancellation_policy require_guest_profile_picture  \\\n",
       "0              strict                             f   \n",
       "1              strict                             f   \n",
       "2              strict                             f   \n",
       "3            flexible                             f   \n",
       "4            moderate                             f   \n",
       "\n",
       "  require_guest_phone_verification calculated_host_listings_count  \\\n",
       "0                                f                              2   \n",
       "1                                f                              1   \n",
       "2                                f                              1   \n",
       "3                                f                              1   \n",
       "4                                f                              1   \n",
       "\n",
       "   reviews_per_month  \n",
       "0               0.11  \n",
       "1               2.26  \n",
       "2               0.40  \n",
       "3               3.17  \n",
       "4               5.06  \n",
       "\n",
       "[5 rows x 95 columns]"
      ]
     },
     "execution_count": 62,
     "metadata": {},
     "output_type": "execute_result"
    }
   ],
   "source": [
    "listings.head()"
   ]
  },
  {
   "cell_type": "code",
   "execution_count": 63,
   "metadata": {
    "ExecuteTime": {
     "end_time": "2020-02-08T08:17:09.146437Z",
     "start_time": "2020-02-08T08:17:09.094575Z"
    }
   },
   "outputs": [],
   "source": [
    "listings['price'] = listings['price'].str.replace(',', '')\n",
    "listings['price'] = listings['price'].str.replace('$', '')\n",
    "listings['price'] = listings['price'].astype(float)\n",
    "listings = listings.loc[(listings.price <= 600) & (listings.price > 0)]"
   ]
  },
  {
   "cell_type": "code",
   "execution_count": 64,
   "metadata": {
    "ExecuteTime": {
     "end_time": "2020-02-08T08:17:09.208337Z",
     "start_time": "2020-02-08T08:17:09.148431Z"
    }
   },
   "outputs": [],
   "source": [
    "listings.amenities = listings.amenities.str.replace(\"[{}]\", \"\").str.replace('\"', \"\")"
   ]
  },
  {
   "cell_type": "code",
   "execution_count": 65,
   "metadata": {
    "ExecuteTime": {
     "end_time": "2020-02-08T08:17:09.654079Z",
     "start_time": "2020-02-08T08:17:09.209283Z"
    }
   },
   "outputs": [],
   "source": [
    "columns =  ['host_is_superhost', 'host_identity_verified', 'host_has_profile_pic',\n",
    "                   'is_location_exact', 'requires_license', 'instant_bookable',\n",
    "                   'require_guest_profile_picture', 'require_guest_phone_verification']\n",
    "for c in columns:\n",
    "    listings[c] = listings[c].replace('f',0,regex=True)\n",
    "    listings[c] = listings[c].replace('t',1,regex=True)"
   ]
  },
  {
   "cell_type": "code",
   "execution_count": 66,
   "metadata": {
    "ExecuteTime": {
     "end_time": "2020-02-08T08:17:09.749823Z",
     "start_time": "2020-02-08T08:17:09.655075Z"
    }
   },
   "outputs": [],
   "source": [
    "listings['security_deposit'] = listings['security_deposit'].fillna(value=0)\n",
    "listings['security_deposit'] = listings['security_deposit'].replace( '[\\$,)]','', regex=True ).astype(float)\n",
    "listings['cleaning_fee'] = listings['cleaning_fee'].fillna(value=0)\n",
    "listings['cleaning_fee'] = listings['cleaning_fee'].replace( '[\\$,)]','', regex=True ).astype(float)"
   ]
  },
  {
   "cell_type": "code",
   "execution_count": 67,
   "metadata": {
    "ExecuteTime": {
     "end_time": "2020-02-08T08:17:09.768771Z",
     "start_time": "2020-02-08T08:17:09.751858Z"
    }
   },
   "outputs": [],
   "source": [
    "listings_new = listings[['host_is_superhost', 'host_identity_verified', 'host_has_profile_pic','is_location_exact', \n",
    "                         'requires_license', 'instant_bookable', 'require_guest_profile_picture', \n",
    "                         'require_guest_phone_verification', 'security_deposit', 'cleaning_fee', \n",
    "                         'host_listings_count', 'host_total_listings_count', 'minimum_nights',\n",
    "                     'bathrooms', 'bedrooms', 'guests_included', 'number_of_reviews','review_scores_rating', 'price']]"
   ]
  },
  {
   "cell_type": "code",
   "execution_count": 68,
   "metadata": {
    "ExecuteTime": {
     "end_time": "2020-02-08T08:17:09.781737Z",
     "start_time": "2020-02-08T08:17:09.771769Z"
    }
   },
   "outputs": [
    {
     "name": "stdout",
     "output_type": "stream",
     "text": [
      "host_is_superhost\n",
      "host_identity_verified\n",
      "host_has_profile_pic\n",
      "host_listings_count\n",
      "host_total_listings_count\n",
      "bathrooms\n",
      "bedrooms\n",
      "review_scores_rating\n"
     ]
    }
   ],
   "source": [
    "for col in listings_new.columns[listings_new.isnull().any()]:\n",
    "    print(col)"
   ]
  },
  {
   "cell_type": "code",
   "execution_count": 69,
   "metadata": {
    "ExecuteTime": {
     "end_time": "2020-02-08T08:17:09.802681Z",
     "start_time": "2020-02-08T08:17:09.783732Z"
    }
   },
   "outputs": [
    {
     "name": "stderr",
     "output_type": "stream",
     "text": [
      "D:\\Anaconda\\lib\\site-packages\\ipykernel_launcher.py:2: SettingWithCopyWarning: \n",
      "A value is trying to be set on a copy of a slice from a DataFrame.\n",
      "Try using .loc[row_indexer,col_indexer] = value instead\n",
      "\n",
      "See the caveats in the documentation: https://pandas.pydata.org/pandas-docs/stable/user_guide/indexing.html#returning-a-view-versus-a-copy\n",
      "  \n"
     ]
    }
   ],
   "source": [
    "for col in listings_new.columns[listings_new.isnull().any()]:\n",
    "    listings_new[col] = listings_new[col].fillna(listings_new[col].median())"
   ]
  },
  {
   "cell_type": "code",
   "execution_count": 70,
   "metadata": {
    "ExecuteTime": {
     "end_time": "2020-02-08T08:17:09.899423Z",
     "start_time": "2020-02-08T08:17:09.804676Z"
    }
   },
   "outputs": [],
   "source": [
    "for cat_feature in ['zipcode', 'property_type', 'room_type', 'cancellation_policy', 'neighbourhood_cleansed', 'bed_type']:\n",
    "    listings_new = pd.concat([listings_new, pd.get_dummies(listings[cat_feature])], axis=1)"
   ]
  },
  {
   "cell_type": "code",
   "execution_count": 75,
   "metadata": {
    "ExecuteTime": {
     "end_time": "2020-02-08T08:32:31.898092Z",
     "start_time": "2020-02-08T08:32:31.869073Z"
    },
    "scrolled": true
   },
   "outputs": [],
   "source": [
    "listings_new = pd.concat([listings_new, df_amenities], axis=1, join='inner')"
   ]
  },
  {
   "cell_type": "code",
   "execution_count": 76,
   "metadata": {
    "ExecuteTime": {
     "end_time": "2020-02-08T08:32:35.062118Z",
     "start_time": "2020-02-08T08:32:35.040157Z"
    }
   },
   "outputs": [
    {
     "data": {
      "text/html": [
       "<div>\n",
       "<style scoped>\n",
       "    .dataframe tbody tr th:only-of-type {\n",
       "        vertical-align: middle;\n",
       "    }\n",
       "\n",
       "    .dataframe tbody tr th {\n",
       "        vertical-align: top;\n",
       "    }\n",
       "\n",
       "    .dataframe thead th {\n",
       "        text-align: right;\n",
       "    }\n",
       "</style>\n",
       "<table border=\"1\" class=\"dataframe\">\n",
       "  <thead>\n",
       "    <tr style=\"text-align: right;\">\n",
       "      <th></th>\n",
       "      <th>host_is_superhost</th>\n",
       "      <th>host_identity_verified</th>\n",
       "      <th>host_has_profile_pic</th>\n",
       "      <th>is_location_exact</th>\n",
       "      <th>requires_license</th>\n",
       "      <th>instant_bookable</th>\n",
       "      <th>require_guest_profile_picture</th>\n",
       "      <th>require_guest_phone_verification</th>\n",
       "      <th>security_deposit</th>\n",
       "      <th>cleaning_fee</th>\n",
       "      <th>...</th>\n",
       "      <th>Suitable for events</th>\n",
       "      <th>TV</th>\n",
       "      <th>Table corner guards</th>\n",
       "      <th>Washer</th>\n",
       "      <th>Washer / Dryer</th>\n",
       "      <th>Wheelchair accessible</th>\n",
       "      <th>Window guards</th>\n",
       "      <th>Wireless Internet</th>\n",
       "      <th>translation missing: en.hosting_amenity_49</th>\n",
       "      <th>translation missing: en.hosting_amenity_50</th>\n",
       "    </tr>\n",
       "  </thead>\n",
       "  <tbody>\n",
       "    <tr>\n",
       "      <th>0</th>\n",
       "      <td>0.0</td>\n",
       "      <td>1.0</td>\n",
       "      <td>1.0</td>\n",
       "      <td>1</td>\n",
       "      <td>1</td>\n",
       "      <td>0</td>\n",
       "      <td>0</td>\n",
       "      <td>0</td>\n",
       "      <td>0.0</td>\n",
       "      <td>15.0</td>\n",
       "      <td>...</td>\n",
       "      <td>0</td>\n",
       "      <td>1</td>\n",
       "      <td>0</td>\n",
       "      <td>1</td>\n",
       "      <td>0</td>\n",
       "      <td>0</td>\n",
       "      <td>0</td>\n",
       "      <td>1</td>\n",
       "      <td>0</td>\n",
       "      <td>0</td>\n",
       "    </tr>\n",
       "    <tr>\n",
       "      <th>1</th>\n",
       "      <td>0.0</td>\n",
       "      <td>0.0</td>\n",
       "      <td>1.0</td>\n",
       "      <td>0</td>\n",
       "      <td>1</td>\n",
       "      <td>1</td>\n",
       "      <td>0</td>\n",
       "      <td>0</td>\n",
       "      <td>0.0</td>\n",
       "      <td>25.0</td>\n",
       "      <td>...</td>\n",
       "      <td>0</td>\n",
       "      <td>0</td>\n",
       "      <td>0</td>\n",
       "      <td>1</td>\n",
       "      <td>0</td>\n",
       "      <td>0</td>\n",
       "      <td>0</td>\n",
       "      <td>1</td>\n",
       "      <td>0</td>\n",
       "      <td>0</td>\n",
       "    </tr>\n",
       "    <tr>\n",
       "      <th>2</th>\n",
       "      <td>0.0</td>\n",
       "      <td>1.0</td>\n",
       "      <td>1.0</td>\n",
       "      <td>0</td>\n",
       "      <td>1</td>\n",
       "      <td>0</td>\n",
       "      <td>0</td>\n",
       "      <td>0</td>\n",
       "      <td>300.0</td>\n",
       "      <td>10.0</td>\n",
       "      <td>...</td>\n",
       "      <td>0</td>\n",
       "      <td>0</td>\n",
       "      <td>0</td>\n",
       "      <td>1</td>\n",
       "      <td>0</td>\n",
       "      <td>0</td>\n",
       "      <td>0</td>\n",
       "      <td>1</td>\n",
       "      <td>0</td>\n",
       "      <td>0</td>\n",
       "    </tr>\n",
       "    <tr>\n",
       "      <th>3</th>\n",
       "      <td>0.0</td>\n",
       "      <td>0.0</td>\n",
       "      <td>1.0</td>\n",
       "      <td>1</td>\n",
       "      <td>1</td>\n",
       "      <td>1</td>\n",
       "      <td>0</td>\n",
       "      <td>0</td>\n",
       "      <td>100.0</td>\n",
       "      <td>25.0</td>\n",
       "      <td>...</td>\n",
       "      <td>0</td>\n",
       "      <td>0</td>\n",
       "      <td>0</td>\n",
       "      <td>1</td>\n",
       "      <td>0</td>\n",
       "      <td>0</td>\n",
       "      <td>0</td>\n",
       "      <td>1</td>\n",
       "      <td>0</td>\n",
       "      <td>0</td>\n",
       "    </tr>\n",
       "    <tr>\n",
       "      <th>4</th>\n",
       "      <td>0.0</td>\n",
       "      <td>1.0</td>\n",
       "      <td>1.0</td>\n",
       "      <td>1</td>\n",
       "      <td>1</td>\n",
       "      <td>1</td>\n",
       "      <td>0</td>\n",
       "      <td>0</td>\n",
       "      <td>100.0</td>\n",
       "      <td>20.0</td>\n",
       "      <td>...</td>\n",
       "      <td>0</td>\n",
       "      <td>0</td>\n",
       "      <td>0</td>\n",
       "      <td>1</td>\n",
       "      <td>0</td>\n",
       "      <td>0</td>\n",
       "      <td>0</td>\n",
       "      <td>1</td>\n",
       "      <td>0</td>\n",
       "      <td>0</td>\n",
       "    </tr>\n",
       "  </tbody>\n",
       "</table>\n",
       "<p>5 rows × 319 columns</p>\n",
       "</div>"
      ],
      "text/plain": [
       "   host_is_superhost  host_identity_verified  host_has_profile_pic  \\\n",
       "0                0.0                     1.0                   1.0   \n",
       "1                0.0                     0.0                   1.0   \n",
       "2                0.0                     1.0                   1.0   \n",
       "3                0.0                     0.0                   1.0   \n",
       "4                0.0                     1.0                   1.0   \n",
       "\n",
       "   is_location_exact  requires_license  instant_bookable  \\\n",
       "0                  1                 1                 0   \n",
       "1                  0                 1                 1   \n",
       "2                  0                 1                 0   \n",
       "3                  1                 1                 1   \n",
       "4                  1                 1                 1   \n",
       "\n",
       "   require_guest_profile_picture  require_guest_phone_verification  \\\n",
       "0                              0                                 0   \n",
       "1                              0                                 0   \n",
       "2                              0                                 0   \n",
       "3                              0                                 0   \n",
       "4                              0                                 0   \n",
       "\n",
       "   security_deposit  cleaning_fee  ...  Suitable for events  TV  \\\n",
       "0               0.0          15.0  ...                    0   1   \n",
       "1               0.0          25.0  ...                    0   0   \n",
       "2             300.0          10.0  ...                    0   0   \n",
       "3             100.0          25.0  ...                    0   0   \n",
       "4             100.0          20.0  ...                    0   0   \n",
       "\n",
       "   Table corner guards  Washer  Washer / Dryer  Wheelchair accessible  \\\n",
       "0                    0       1               0                      0   \n",
       "1                    0       1               0                      0   \n",
       "2                    0       1               0                      0   \n",
       "3                    0       1               0                      0   \n",
       "4                    0       1               0                      0   \n",
       "\n",
       "   Window guards  Wireless Internet  \\\n",
       "0              0                  1   \n",
       "1              0                  1   \n",
       "2              0                  1   \n",
       "3              0                  1   \n",
       "4              0                  1   \n",
       "\n",
       "   translation missing: en.hosting_amenity_49  \\\n",
       "0                                           0   \n",
       "1                                           0   \n",
       "2                                           0   \n",
       "3                                           0   \n",
       "4                                           0   \n",
       "\n",
       "   translation missing: en.hosting_amenity_50  \n",
       "0                                           0  \n",
       "1                                           0  \n",
       "2                                           0  \n",
       "3                                           0  \n",
       "4                                           0  \n",
       "\n",
       "[5 rows x 319 columns]"
      ]
     },
     "execution_count": 76,
     "metadata": {},
     "output_type": "execute_result"
    }
   ],
   "source": [
    "listings_new.head()"
   ]
  },
  {
   "cell_type": "markdown",
   "metadata": {},
   "source": [
    "#### Random Forest Model"
   ]
  },
  {
   "cell_type": "code",
   "execution_count": 77,
   "metadata": {
    "ExecuteTime": {
     "end_time": "2020-02-08T08:32:42.288466Z",
     "start_time": "2020-02-08T08:32:41.654524Z"
    }
   },
   "outputs": [],
   "source": [
    "from sklearn.model_selection import train_test_split\n",
    "from sklearn.metrics import mean_squared_error\n",
    "from sklearn.metrics import r2_score\n",
    "from sklearn.ensemble import RandomForestRegressor"
   ]
  },
  {
   "cell_type": "code",
   "execution_count": 78,
   "metadata": {
    "ExecuteTime": {
     "end_time": "2020-02-08T08:32:42.343312Z",
     "start_time": "2020-02-08T08:32:42.289984Z"
    }
   },
   "outputs": [],
   "source": [
    "y = listings_new['price']\n",
    "x = listings_new.drop('price',axis=1)\n",
    "X_train,X_test,y_train,y_test = train_test_split(x,y,test_size=0.25,random_state=1)"
   ]
  },
  {
   "cell_type": "code",
   "execution_count": 79,
   "metadata": {
    "ExecuteTime": {
     "end_time": "2020-02-08T08:32:42.553284Z",
     "start_time": "2020-02-08T08:32:42.344824Z"
    }
   },
   "outputs": [],
   "source": [
    "from sklearn.preprocessing import StandardScaler\n",
    "std = StandardScaler()\n",
    "X_fit = std.fit(X_train)\n",
    "X_train = X_fit.transform(X_train)\n",
    "X_test = X_fit.transform(X_test)"
   ]
  },
  {
   "cell_type": "code",
   "execution_count": 80,
   "metadata": {
    "ExecuteTime": {
     "end_time": "2020-02-08T08:33:22.102528Z",
     "start_time": "2020-02-08T08:32:42.555312Z"
    }
   },
   "outputs": [],
   "source": [
    "rf = RandomForestRegressor(n_estimators=500,n_jobs=-1)\n",
    "rf.fit(X_train,y_train)\n",
    "y_train_predict = rf.predict(X_train)\n",
    "y_test_predict = rf.predict(X_test)\n",
    "rmse_rf = mean_squared_error(y_test,y_test_predict)**(1/2)"
   ]
  },
  {
   "cell_type": "code",
   "execution_count": 81,
   "metadata": {
    "ExecuteTime": {
     "end_time": "2020-02-08T08:33:22.119483Z",
     "start_time": "2020-02-08T08:33:22.107509Z"
    }
   },
   "outputs": [
    {
     "data": {
      "text/plain": [
       "44.46367489155328"
      ]
     },
     "execution_count": 81,
     "metadata": {},
     "output_type": "execute_result"
    }
   ],
   "source": [
    "rmse_rf"
   ]
  },
  {
   "cell_type": "code",
   "execution_count": 82,
   "metadata": {
    "ExecuteTime": {
     "end_time": "2020-02-08T08:33:22.141415Z",
     "start_time": "2020-02-08T08:33:22.125462Z"
    }
   },
   "outputs": [
    {
     "data": {
      "text/plain": [
       "0.655559736750621"
      ]
     },
     "execution_count": 82,
     "metadata": {},
     "output_type": "execute_result"
    }
   ],
   "source": [
    "r2_score(y_test,y_test_predict)"
   ]
  },
  {
   "cell_type": "markdown",
   "metadata": {},
   "source": [
    "### LightGBM Model\n"
   ]
  },
  {
   "cell_type": "code",
   "execution_count": 83,
   "metadata": {
    "ExecuteTime": {
     "end_time": "2020-02-08T08:33:22.198583Z",
     "start_time": "2020-02-08T08:33:22.145406Z"
    }
   },
   "outputs": [],
   "source": [
    "from lightgbm import LGBMRegressor"
   ]
  },
  {
   "cell_type": "code",
   "execution_count": 84,
   "metadata": {
    "ExecuteTime": {
     "end_time": "2020-02-08T08:33:22.205239Z",
     "start_time": "2020-02-08T08:33:22.201252Z"
    }
   },
   "outputs": [],
   "source": [
    "fit_params ={'early_stopping_rounds':10,\n",
    "            'eval_metric':'rmse',\n",
    "            'eval_set':[(X_test,y_test)],\n",
    "            'eval_names':['valid'],\n",
    "            'verbose':100}"
   ]
  },
  {
   "cell_type": "code",
   "execution_count": 85,
   "metadata": {
    "ExecuteTime": {
     "end_time": "2020-02-08T08:33:25.932873Z",
     "start_time": "2020-02-08T08:33:22.207235Z"
    }
   },
   "outputs": [
    {
     "name": "stdout",
     "output_type": "stream",
     "text": [
      "Training until validation scores don't improve for 10 rounds\n",
      "[100]\tvalid's rmse: 53.0454\tvalid's l2: 2813.81\n",
      "[200]\tvalid's rmse: 47.4586\tvalid's l2: 2252.32\n",
      "[300]\tvalid's rmse: 45.3617\tvalid's l2: 2057.69\n",
      "[400]\tvalid's rmse: 44.3747\tvalid's l2: 1969.11\n",
      "[500]\tvalid's rmse: 43.786\tvalid's l2: 1917.21\n",
      "[600]\tvalid's rmse: 43.3835\tvalid's l2: 1882.13\n",
      "[700]\tvalid's rmse: 43.1346\tvalid's l2: 1860.59\n",
      "[800]\tvalid's rmse: 42.9992\tvalid's l2: 1848.93\n",
      "[900]\tvalid's rmse: 42.8763\tvalid's l2: 1838.38\n",
      "[1000]\tvalid's rmse: 42.7937\tvalid's l2: 1831.3\n",
      "Did not meet early stopping. Best iteration is:\n",
      "[1000]\tvalid's rmse: 42.7937\tvalid's l2: 1831.3\n"
     ]
    },
    {
     "data": {
      "text/plain": [
       "LGBMRegressor(boosting_type='gbdt', class_weight=None, colsample_bytree=1.0,\n",
       "              importance_type='split', learning_rate=0.01, max_depth=20,\n",
       "              min_child_samples=20, min_child_weight=0.001, min_split_gain=0.0,\n",
       "              n_estimators=1000, n_jobs=-1, num_leaves=31, objective=None,\n",
       "              random_state=None, reg_alpha=0.0, reg_lambda=0.0, silent=True,\n",
       "              subsample=1.0, subsample_for_bin=200000, subsample_freq=0)"
      ]
     },
     "execution_count": 85,
     "metadata": {},
     "output_type": "execute_result"
    }
   ],
   "source": [
    "lgb = LGBMRegressor(max_depth=20,learning_rate =0.01,n_estimators=1000)\n",
    "lgb.fit(X_train,y_train,**fit_params)"
   ]
  },
  {
   "cell_type": "code",
   "execution_count": 86,
   "metadata": {
    "ExecuteTime": {
     "end_time": "2020-02-08T08:33:26.042579Z",
     "start_time": "2020-02-08T08:33:25.935864Z"
    }
   },
   "outputs": [],
   "source": [
    "y_pred = lgb.predict(X_test)"
   ]
  },
  {
   "cell_type": "code",
   "execution_count": 87,
   "metadata": {
    "ExecuteTime": {
     "end_time": "2020-02-08T08:33:26.053550Z",
     "start_time": "2020-02-08T08:33:26.045570Z"
    }
   },
   "outputs": [
    {
     "data": {
      "text/plain": [
       "0.6809463694813229"
      ]
     },
     "execution_count": 87,
     "metadata": {},
     "output_type": "execute_result"
    }
   ],
   "source": [
    "r2_score(y_test,y_pred)"
   ]
  },
  {
   "cell_type": "code",
   "execution_count": null,
   "metadata": {},
   "outputs": [],
   "source": []
  }
 ],
 "metadata": {
  "kernelspec": {
   "display_name": "Python 3",
   "language": "python",
   "name": "python3"
  },
  "language_info": {
   "codemirror_mode": {
    "name": "ipython",
    "version": 3
   },
   "file_extension": ".py",
   "mimetype": "text/x-python",
   "name": "python",
   "nbconvert_exporter": "python",
   "pygments_lexer": "ipython3",
   "version": "3.7.4"
  },
  "toc": {
   "base_numbering": 1,
   "nav_menu": {},
   "number_sections": true,
   "sideBar": true,
   "skip_h1_title": false,
   "title_cell": "Table of Contents",
   "title_sidebar": "Contents",
   "toc_cell": false,
   "toc_position": {},
   "toc_section_display": true,
   "toc_window_display": false
  },
  "varInspector": {
   "cols": {
    "lenName": 16,
    "lenType": 16,
    "lenVar": 40
   },
   "kernels_config": {
    "python": {
     "delete_cmd_postfix": "",
     "delete_cmd_prefix": "del ",
     "library": "var_list.py",
     "varRefreshCmd": "print(var_dic_list())"
    },
    "r": {
     "delete_cmd_postfix": ") ",
     "delete_cmd_prefix": "rm(",
     "library": "var_list.r",
     "varRefreshCmd": "cat(var_dic_list()) "
    }
   },
   "types_to_exclude": [
    "module",
    "function",
    "builtin_function_or_method",
    "instance",
    "_Feature"
   ],
   "window_display": false
  }
 },
 "nbformat": 4,
 "nbformat_minor": 2
}
