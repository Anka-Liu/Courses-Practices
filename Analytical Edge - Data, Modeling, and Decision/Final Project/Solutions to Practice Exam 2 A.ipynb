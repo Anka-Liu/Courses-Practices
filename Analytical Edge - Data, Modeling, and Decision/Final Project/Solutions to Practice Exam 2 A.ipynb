{
 "cells": [
  {
   "cell_type": "markdown",
   "metadata": {},
   "source": [
    "# Solutions to Practice Exam 2-A \n",
    "**In preparation for Exam 2, you should first attempt the exam yourself before looking at the solutions, as the goal is to practice solving problems rather than to memorize solutions.** The actual exam will have very different problems as the course is about the thinking process of solving new problems, rather than about recognizing patterns from old problems. If you try to memorize what to do in each kind of problem, you will not do well, because the questions on the final exam will be unlike anything we did before. \n",
    "\n",
    "The solutions here give you an indication of how much to write in the exam for each type of question. The solutions introduce various shorthands, both in writing formulations and in the coding, which can save you time.\n",
    "\n",
    "\n",
    "# Practice Exam 2-A (30 Points)\n"
   ]
  },
  {
   "cell_type": "markdown",
   "metadata": {},
   "source": [
    "\n",
    "## Q1. Concrete Formulation (11 points)\n",
    "USC would like to protect every street around USC by stationing security staff at intersections, so that every street has one staff stationed at one of the two ends. A street is defined to be the segment connecting two neighborhing intersections, and these two intersections are defined to be the two ends of the street. For example, the following map has 10 intersections and 15 streets. The street connecting A-B, can be protected by staffing either at intersection A or intersection B (these are the two ends of the street), and staffing at one of these would suffice, although it's okay to staff at both ends as well. Similarly, staffing someone at intersection A would protect the streets A-B and A-E simultaneously.\n",
    "\n",
    "![Sample Map for Q2](Exam2A1.png)\n",
    "\n",
    "For the above map, formulate an optimization problem (LP or MIP) to minimize the number of staff needed, subject to protecting all 15 of the streets, as well as satisfying the following constraints:\n",
    "\n",
    "- If someone is stationed at intersection I, then someone must be also stationed at J. However, it is okay to station only J but not I. \n",
    "- The segments connecting intersections A, B, C and D are part of a large avenue, and the segments connecting E, F, G and H is another large avenue. One of these two large avenues must have at least 3 out of 4 intersections stationed.\n",
    "- Intersections A and F must either both be stationed or both be unstationed.\n",
    "- The segments C-G, G-H and B-F are especially dangeous. At least 2 out of 3 of these especially dangeous segments must have staff stationed at both ends. \n",
    "\n",
    "\n",
    "**a)** What is the decision (in words)? (1 point)\n",
    "\n",
    "**Answer:** Which intersections to station staff.\n"
   ]
  },
  {
   "cell_type": "markdown",
   "metadata": {},
   "source": [
    "**b)** What is the objective (in words)? (1 point)\n",
    "\n",
    "**Answer:** Minimize the \\# of staff stationed.\n"
   ]
  },
  {
   "cell_type": "markdown",
   "metadata": {},
   "source": [
    "**c)** Other than the constraints listed in bullets above, describe any one constraint (in words). (1 point)\n",
    "\n",
    "**Answer:** At least 1 staff stationed among A and B (in order to protect the segment A-B).\n"
   ]
  },
  {
   "cell_type": "markdown",
   "metadata": {},
   "source": [
    "**d)** Write a concrete LP formulation using the correct mathematical notation, specifying the decision variables, the objective function and all constraints. (8 points)\n",
    "\n",
    "**Answer:**\n",
    "\n",
    "**Decision Variables:** \n",
    "\n",
    "- $X_A, X_B, \\cdots, X_J$ for whether to station staff at each intersection. (binary)\n",
    "- $L_1$: whether to station at least 3 out of 4 intersections for the large avenue connecting A-B-C-D. (binary)\n",
    "- $L_2$: whether to station at least 3 out of 4 intersections for the large avenue connecting E-F-G-H. (binary)\n",
    "- $Y_{CG}, Y_{GH}, Y_{BF}$: whether to station both ends of the streets C-G, G-H and B-F respectively. (binary)\n",
    "\n",
    "**Objective and Constraints:**\n",
    "\n",
    "$$\\begin{aligned}\n",
    "\\text{Min.} && X_A+X_B+\\cdots+X_J \\\\\n",
    "\\text{s.t.} && X_A+X_B &\\ge 1 \\\\\n",
    "&& X_B+X_C &\\ge 1 \\\\\n",
    "&& X_C+X_D &\\ge 1 \\\\\n",
    "&& X_A+X_E &\\ge 1 \\\\\n",
    "&& X_B+X_F &\\ge 1 \\\\\n",
    "&& X_C+X_G &\\ge 1 \\\\\n",
    "&& X_D+X_H &\\ge 1 \\\\\n",
    "&& X_E+X_F &\\ge 1 \\\\\n",
    "&& X_F+X_G &\\ge 1 \\\\\n",
    "&& X_G+X_H &\\ge 1 \\\\\n",
    "&& X_E+X_I &\\ge 1 \\\\\n",
    "&& X_F+X_I &\\ge 1 \\\\\n",
    "&& X_G+X_I &\\ge 1 \\\\\n",
    "&& X_H+X_I &\\ge 1 \\\\\n",
    "&& X_I+X_J &\\ge 1 \\\\\n",
    "&& X_I &\\le X_J \\\\\n",
    "&& X_A+X_B+X_C+X_D &\\ge 3L_1 \\\\\n",
    "&& X_E+X_F+X_G+X_H &\\ge 3L_2 \\\\\n",
    "&& L_1 +L_2 & \\ge 1 \\\\\n",
    "&& X_A &= X_F \\\\\n",
    "&& X_C+X_G &\\ge 2Y_{CG} \\\\\n",
    "&& X_G+X_H &\\ge 2Y_{GH} \\\\\n",
    "&& X_B+X_F &\\ge 2Y_{BF} \\\\\n",
    "&& Y_{CG}+Y_{GH}+Y_{BF} & \\ge 2\n",
    "\\end{aligned}$$\n"
   ]
  },
  {
   "cell_type": "markdown",
   "metadata": {},
   "source": [
    "## Q2. Abstract Formulation (10 points)\n",
    "\n",
    "Luke would like to optimize his diet to minimize cost while satisfying minimal nutritional requirements, as represented by being within a certain range of intake for each kind of nutrition. The first table below shows his favorite foods, as well as the nutrition information per serving and cost per servint. The second table shows the upper and lower bounds on his total daily in-take of each nutrient.\n",
    "\n",
    "| Foods | Calories | Protein | Fat | Sodium | Costs |\n",
    "|--|--|--|--|--|--|\n",
    "| 1. ice cream | 330 | 8 | 15 | 180 | \\$1.59 |\n",
    "| 2. chicken | 420 | 32 | 10 | 300 | \\$2.89 |\n",
    "| 3. pizza | 320 | 15 | 20 | 820 | \\$1.99 |\n",
    "| 4. fries | 380 | 4 | 19 | 270 | \\$1.89 |\n",
    "| 5. macaroni | 320 | 12 | 10 | 830 | \\$2.09 |\n",
    "| 6. milk | 100 | 8 | 2.5 | 125 | \\$0.89 |\n",
    "| 7. salad | 320 | 31 | 2 | 123 | \\$2.49 |\n",
    " \n",
    "|` ` | Calories | Protein | Fat | Sodium | \n",
    "|--|--|--|--|--|\n",
    "| Lower bound | 1800 | 91 | 0 | 0 | \n",
    "| Upper bound | 2200 | 9999 | 65 | 1779 | \n",
    "\n",
    "The above table specifies what is the minimum and maximum amount of calories that Luke would like to have in his diet, as well as the amount of protein, fat and sodium. For example, having only one serving of ice cream and one serving of chicken would not give him enough calories, but having 6 servings of ice cream would be enough calories, but that would be too much fat. Luke is okay with fractional servings, but he would like to make sure that the number of servings of each item is either zero, or between 1 and 3. (For example, 0 or 1.2 servings of pizza are okay, but 0.2 or 3.2 are not.) Formulate a LP or MIP to help him decide his optimal diet. \n",
    "\n",
    "**a)** What is the decision (in words)? (1 point)\n",
    "\n",
    "**Answer:** How many servings per day of each food.\n",
    "\n"
   ]
  },
  {
   "cell_type": "markdown",
   "metadata": {},
   "source": [
    "\n",
    "**b)** Describe at least 3 constraints (in words). (2 points)\n",
    "\n",
    "**Answer:** \n",
    "\n",
    "- At least 1800 of calories per day.\n",
    "- At most 65 of fat per day.\n",
    "- If a food is included, then the servings must be within 1 and 3.\n",
    "\n"
   ]
  },
  {
   "cell_type": "markdown",
   "metadata": {},
   "source": [
    "\n",
    "**c)** Define data variables to encode all inputs needed when generalizing the problem to arbitrarily large data sets, so that every numerical parameter is represented by a variable. (2 points)\n",
    "\n",
    "**Answer:**\n",
    "\n",
    "- $I$: set of foods.\n",
    "- $J$: set of nutrients.\n",
    "- $c_i$: cost of food $i$.\n",
    "- $a_{ij}$: amount of nutrient $j$ in one serving of food $i$.\n",
    "- $l_j$: lower bound in daily intake of nutrient $j$.\n",
    "- $u_j$: upper bound of nutrient $j$.\n",
    "- $s_i$: minimum number of servings of food $i$ to have if Luke would have any such food at all.\n",
    "- $t_i$: maximum number of servings of food $i$ to have.\n"
   ]
  },
  {
   "cell_type": "markdown",
   "metadata": {},
   "source": [
    "\n",
    "**d)** Write an abstract LP/MIP formulation using the data variables you defined above, specifying the decision variables, the objective function and all constraints. (5 points)\n",
    "\n",
    "**Answer:**\n",
    "\n",
    "**Decision Variables:** \n",
    "\n",
    "- $X_i$: amount of food $i$ in the diet. (continuous)\n",
    "- $Z_i$: whether to include food $i$ at all. (binary)\n",
    "\n",
    "**Objective and Constraints:**\n",
    "\n",
    "$$\\begin{aligned}\n",
    "\\text{Min.} && \\sum_{i \\in I} c_iX_i \\\\\n",
    "\\text{s.t.} \\\\\n",
    "&& l_j \\le \\sum_{i \\in I} a_{ij}X_i &\\le u_j && \\text{for each nutrient $j \\in J$.} \\\\\n",
    "&& s_iZ_i \\le X_i & \\le t_iZ_i && \\text{for each food $i \\in I$.} \\\\\n",
    "&& X_i &\\ge 0 && \\text{for each food $i \\in I$.}\n",
    "\\end{aligned}$$"
   ]
  },
  {
   "cell_type": "markdown",
   "metadata": {},
   "source": [
    "## Q4. Gurobi Coding (9 points)\n",
    "\n",
    "Consider the following LP for optimizing how to best payoff one's credit card debts (assuming that one stops using these cards from now on). \n",
    "\n",
    "**Data:**\n",
    "\n",
    "- $I$: the set of credit cards you carry.\n",
    "- $n$: the month by which to pay off the credit card. \n",
    "- $T=\\{0, 1, \\cdots, n-1\\}$: the set of months.\n",
    "- $r_i$: the monthly interest rate of card $i$.\n",
    "- $B_i$: the current balance on credit card $i$.\n",
    "- $C$: the total cash allocated each month to pay the debts.\n",
    "\n",
    "The set of cards $I$, current balance $B_i$ and interest rate $r_i$ are stored in the attached Excel sheet called `data-2A.xlsx`. The other data ($n$ and $C$) are supplied in the Python code below.\n",
    "\n",
    "![Illustration of data for Q4](Exam2A-2.png)\n",
    "\n",
    "**Decision variables:**\n",
    "\n",
    "- $x_{it}$: how much to pay off credit card $i \\in I$ in month $t \\in T$.\n",
    "- $y_{it}$: the balance at the beginning of month $t\\in \\{0, 1, \\cdots, n\\}$ on credit card $i \\in i$. \n",
    "\n",
    "**LP:**\n",
    "$$\\begin{aligned}\n",
    "\\text{Minimize:} && \\sum_{i\\in I}\\sum_{t \\in T}x_{it} + \\sum_{i \\in I}y_{in} & && \\text{(total payment + final month's balance)} \\\\\n",
    "\\text{subject to:}\\\\\n",
    "\\text{(Limit on payments)} && \\sum_{i \\in I}x_{it} & \\le C &&\\text{for each month $t\\in T$.} \\\\\n",
    "\\text{(Beginning balance)} && y_{i0} &= B_i && \\text{for each card $i \\in I$.} \\\\\n",
    "\\text{(Credit card accounting)} && (1+r_i)(y_{it} - x_{it})  &= y_{i{t+1}} && \\text{for each card $i \\in I$ and each month $t\\in T$.} \\\\\n",
    "\\text{(Non-negativity)} && x_{it}, y_{it} & \\ge 0 &&\\text{for all $i$, $t$.}\n",
    "\\end{aligned}$$\n",
    "\n",
    "**Implement the above LP by completing the following code. Your code should output the amount to pay off each credit card each month in a file called `output-2A.csv`, which should have a row for each month $t \\in T$ and have the exactly same format as the file `sampleOutput-2A.csv` attached to this exam.** However, it is okay if your output file represents a different optimal solution, as it is possible that an optimization has multiple optimal solutions with the same objective value."
   ]
  },
  {
   "cell_type": "code",
   "execution_count": 1,
   "metadata": {},
   "outputs": [
    {
     "name": "stdout",
     "output_type": "stream",
     "text": [
      "Using license file C:\\Users\\pengshi\\gurobi.lic\n",
      "Academic license - for non-commercial use only\n",
      "Gurobi Optimizer version 9.0.1 build v9.0.1rc0 (win64)\n",
      "Optimize a model with 123 rows, 183 columns and 363 nonzeros\n",
      "Model fingerprint: 0x500bcbf1\n",
      "Coefficient statistics:\n",
      "  Matrix range     [1e+00, 1e+00]\n",
      "  Objective range  [1e+00, 1e+00]\n",
      "  Bounds range     [0e+00, 0e+00]\n",
      "  RHS range        [5e+03, 5e+04]\n",
      "Presolve removed 90 rows and 90 columns\n",
      "Presolve time: 0.01s\n",
      "Presolved: 33 rows, 93 columns, 183 nonzeros\n",
      "\n",
      "Iteration    Objective       Primal Inf.    Dual Inf.      Time\n",
      "       0    0.0000000e+00   1.405181e+04   0.000000e+00      0s\n",
      "      47    1.2179750e+05   0.000000e+00   0.000000e+00      0s\n",
      "\n",
      "Solved in 47 iterations and 0.02 seconds\n",
      "Optimal objective  1.217975049e+05\n"
     ]
    }
   ],
   "source": [
    "import pandas as pd\n",
    "data=pd.read_excel('data-2A.xlsx',index_col=0)\n",
    "n=30\n",
    "C=5000\n",
    "\n",
    "# Write your Python code below\n",
    "import gurobipy as grb\n",
    "mod=grb.Model()\n",
    "\n",
    "# Prepare indices\n",
    "I=data.index\n",
    "T=range(n)\n",
    "\n",
    "# Define decision variables\n",
    "x=mod.addVars(I,T,lb=0)\n",
    "y=mod.addVars(I,range(n+1),lb=0)\n",
    "\n",
    "# Defining objective and constraints, following the formulation line by line\n",
    "mod.setObjective(sum(x[i,t] for i in I for t in T)+sum(y[i,n] for i in I))\n",
    "\n",
    "for t in T:\n",
    "    mod.addConstr(sum(x[i,t] for i in I)<=C)\n",
    "for i in I:\n",
    "    mod.addConstr(y[i,0]==data.loc[i,'Balance'])\n",
    "    ri=data.loc[i,'Monthly Rate']\n",
    "    for t in T:\n",
    "        mod.addConstr((1+ri)*(y[i,t]-x[i,t])==y[i,t+1])\n",
    "mod.optimize()\n",
    "\n",
    "answer=pd.DataFrame(index=T,columns=I)\n",
    "for t in T:\n",
    "    for i in I:\n",
    "        answer.loc[t,i]=x[i,t].x\n",
    "answer.to_csv('output-2A.csv')"
   ]
  }
 ],
 "metadata": {
  "kernelspec": {
   "display_name": "Python 3",
   "language": "python",
   "name": "python3"
  },
  "language_info": {
   "codemirror_mode": {
    "name": "ipython",
    "version": 3
   },
   "file_extension": ".py",
   "mimetype": "text/x-python",
   "name": "python",
   "nbconvert_exporter": "python",
   "pygments_lexer": "ipython3",
   "version": "3.7.4"
  },
  "toc": {
   "base_numbering": 1,
   "nav_menu": {},
   "number_sections": true,
   "sideBar": true,
   "skip_h1_title": false,
   "title_cell": "Table of Contents",
   "title_sidebar": "Contents",
   "toc_cell": false,
   "toc_position": {},
   "toc_section_display": true,
   "toc_window_display": false
  },
  "varInspector": {
   "cols": {
    "lenName": 16,
    "lenType": 16,
    "lenVar": 40
   },
   "kernels_config": {
    "python": {
     "delete_cmd_postfix": "",
     "delete_cmd_prefix": "del ",
     "library": "var_list.py",
     "varRefreshCmd": "print(var_dic_list())"
    },
    "r": {
     "delete_cmd_postfix": ") ",
     "delete_cmd_prefix": "rm(",
     "library": "var_list.r",
     "varRefreshCmd": "cat(var_dic_list()) "
    }
   },
   "types_to_exclude": [
    "module",
    "function",
    "builtin_function_or_method",
    "instance",
    "_Feature"
   ],
   "window_display": false
  }
 },
 "nbformat": 4,
 "nbformat_minor": 2
}
