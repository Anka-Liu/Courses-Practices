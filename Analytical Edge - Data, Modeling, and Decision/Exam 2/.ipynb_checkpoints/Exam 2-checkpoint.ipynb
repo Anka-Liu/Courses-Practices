{
 "cells": [
  {
   "cell_type": "markdown",
   "metadata": {},
   "source": [
    "# Name: Chengjun Liu\n",
    "\n",
    "# DSO-570 Exam 2\n",
    "\n",
    "**Please complete this notebook and submit it on Blackboard where you downloaded it. AFTER YOU SUBMIT, YOU MUST ALSO EMAIL YOUR NOTEBOOK TO THE PROFESSOR at pengshi@usc.edu, OTHERWISE IF THE BLACKBOARD MALFUNCTIONS NO EXCEPTIONS WILL BE GIVEN.**\n",
    "\n",
    "**Based on the time recorded by Blackboard when you first click into the Exam, you have 80 minutes to submit it. Every 5 minutes over the time limit will result in a 1 point deduction, out of the exam's total of 30 points.** To give you some slack, the number of minutes over 80 will be rounded down to the nearest multiple of 5, so technically speaking you have 84.9 minutes to submit the exam without deductions, but you should submit it earlier if you can."
   ]
  },
  {
   "cell_type": "markdown",
   "metadata": {},
   "source": [
    "## Q1. Course Selection (Concrete Formulation; 12 points)\n",
    "\n",
    "Aithne is currently enrolled in a Masters program at USC and is planning her courses for the next 2 semesters. There are five elective courses she would like to take, which we refer to as Courses A, B, C, D, and E. Based on her conversations with past students and prospective employers, she has estimated an \"importance score\" for each course, as well as the \"workload\" in terms of hours of work needed per week. Moreover, the schedules for the next two semesters have already been published, and this gives her information about scheduling conflicts as well as how much time she can afford to spend on these electives after accounting for her mandatory courses and other responsibilities. **Each course is a single semester long and can be taken only once, but the same course may be offered in both semesters, so she can choose when to take each course as well as whether to take it.** These information are summarized in the three tables below.\n",
    "\n",
    "| Course | **A** | **B** | **C** | **D** | **E** |\n",
    "|--|--|--|--|--|--|\n",
    "|Importance Score |5 | 3 | 2 |4 |5|\n",
    "| Workload (hours/week) | 15 | 10 | 10 | 5| 10\n",
    "\n",
    "| Schedule | Semester 1 | Semester 2 |\n",
    "|--|--|--|\n",
    "|**A**| Tue/Thu 11-12:20 |  Mon/Wed 12:30-13:50 |\n",
    "|**B**| Tue 9-12:00 | Tue 9:00-12:00 |\n",
    "|**C**| Mon/Wed 12:30-13:50 | Not offered |\n",
    "|**D**| Mon 12:00-15:00 | Tue/Thu 11:00-12:20 |\n",
    "|**E**| Mon/Wed 14:00-15:50 | Tue/Thu 11:00-12:20 | \n",
    "|Total time she can afford to spend | 20 hours/week | 15 hours/week |\n",
    "\n",
    "Furthermore, **Course A is a pre-requisite of Course D**, which means that if Aithne wishes to take Course D, she must take it in Semester 2 after taking Course A in Semester 1. Moreover, **Course A is a co-requisite of Course E**, which means that if she takes Course E in a semester, she must either be concurrently taking Course A or has already completed the course in a previous semester. (However, Course A can be taken by itself, without concurrently taking Course E.)\n",
    "\n",
    "**a) (9 points)** Aithne would like to plan a schedule that maximizes the total importance score of courses she takes. For example, if she takes only courses A and B in the two semesters, the total importance score would be $5+3=8$. **Write a concrete formulation of a LP/MIP to help Aithne plan her course selection for the two semesters. The objective and all constraints must be linear.**"
   ]
  },
  {
   "cell_type": "markdown",
   "metadata": {},
   "source": [
    "**Decision Variables:** \n",
    "- $X_{ij}$: whether to take course $i$ in semester $j$, $i \\in \\{A,B,C,D,E\\}, j \\in \\{\\text{Semester 1}, \\text{Semester 2}\\}$ (Binary)\n",
    "\n",
    "\n",
    "**Objective and Constraints:**\n",
    "$$\\begin{aligned}\n",
    "\\text{Maximize} && 5\\times (X_{A1} + X_{A2})+3\\times (X_{B1} + X_{B2})+ & 2\\times (X_{C1} + X_{C2})+4\\times (X_{D1} + X_{D2})+5\\times (X_{E1} + X_{E2}) \\\\\n",
    "\\text{s.t.} && X_{A1} + X_{A2}& \\le 1 \\\\\n",
    "&& X_{B1} + X_{B2}& \\le 1 \\\\\n",
    "&& X_{C1} + X_{C2}& \\le 1 \\\\\n",
    "&& X_{D1} + X_{D2}& \\le 1 \\\\\n",
    "&& X_{E1} + X_{E2}& \\le 1 \\\\\n",
    "&& X_{D2}-X_{A1}  & \\le 0 \\\\\n",
    "&& X_{E1}-X_{A1} & \\le 0 \\\\\n",
    "&& 15X_{A1}+10X_{B1}+10X_{C1}+5X_{D1}+10X_{E1} & \\le 20  \\\\\n",
    "&& 15X_{A2}+10X_{B2}+10X_{C2}+5X_{D2}+10X_{E2} & \\le 15 \\\\\n",
    "&& X_{C2} & = 0 \\\\\n",
    "&& X_{A1}+X_{B1} & \\le 1 \\\\\n",
    "&& X_{D1}+X_{E1} & \\le 1 \\\\\n",
    "&& X_{D1}+X_{C1} & \\le 1 \\\\\n",
    "&& X_{D2}+X_{E2} & \\le 1 \\\\\n",
    "&& X_{D2}+X_{B2} & \\le 1 \\\\\n",
    "&& X_{B2}+X_{E2} & \\le 1 \\\\\n",
    "&& X_{ij} & \\in \\{0,1\\} \\text{for all $(i,j)$.}\n",
    "\\end{aligned}$$\n"
   ]
  },
  {
   "cell_type": "markdown",
   "metadata": {},
   "source": [
    "**b) (3 points)** Suppose that in addition to the sum of importance scores from individual courses as in a), there is an added bonus of 4 if she takes **both Courses B and C** in the two semesters (not necessarily at the same time). In other words, if she finishes both courses B and C by the end of the two semesters, she would get a total importance score of 3+2+4=9 for the two courses, as the two courses greatly complement one another and many internships require both. However, if she completes only one of the two, she would not get the bonus of 4. **Write a modified objective function to incorporate this additional bonus of 4, and list any additional decision variables needed as well as additional constraints. All objective and constraints must remain linear.** While you don't have to repeat anything you wrote in part a), you must describe all of the changes below."
   ]
  },
  {
   "cell_type": "markdown",
   "metadata": {},
   "source": [
    "**Auxiliary Decision Variables:**\n",
    "\n",
    "- $Z$ : whether to take both Course B and C in the two semesters.(Binary)\n",
    "\n",
    "**Modified Objective:**\n",
    "$$\\text{Max. } 5\\times (X_{A1} + X_{A2})+3\\times (X_{B1} + X_{B2})+ 2\\times (X_{C1} + X_{C2})+4\\times (X_{D1} + X_{D2})+5\\times (X_{E1} + X_{E2})+4\\times Z $$\n",
    "\n",
    "**Additional Constraints:**\n",
    "\n",
    "$$ (X_{B1} + X_{B2})+ (X_{C1} + X_{C2})\\ge 2Z $$"
   ]
  },
  {
   "cell_type": "markdown",
   "metadata": {},
   "source": [
    "## Q2. Classroom Seating under Social Distancing (Abstract Formulation; 10 Points)\n",
    "\n",
    "A committee at USC Marshall is exploring the viability of in-person instruction while observing social distancing guidelines. One challenge is that certain classrooms have tables and seats bolted to the floor, and the seats cannot be moved unless the rooms undergo significant remodeling. As an illustration, the following image is a portion of the floor plan for JKP204, and the numbers in the image correspond to the individual seats. As you can see, the distance between adjacent seats can be quite close, and the room would be overly dense if every seat is used. Since the seats cannot be moved, only a subset of them can be used to seat students. "
   ]
  },
  {
   "cell_type": "markdown",
   "metadata": {},
   "source": [
    "![Illustration for Q2](Q2-seating-chart.png)"
   ]
  },
  {
   "cell_type": "markdown",
   "metadata": {},
   "source": [
    "**Your task is to formulate an optimization problem to maximize the number of students that can be safely seated in the current classrooms without remodeling.** The committee has access to the detailed floor plans of every classroom, and they have labelled every seat as above and measured its exactly position in terms of x-y coordinates, so they can easily compute the distance between any two seats. (For simplicity, the distance between two seated students is defined to be the straight-line distance between the center of the two seats.) Based on discussions with public health officials, the committee has summarized the requirements for safely seating students as follows:\n",
    "\n",
    "1. The minimum distance between any two seated students is at least 6 feet.\n",
    "2. For every seated student, the number of other students seated within a 9 feet radius is at most 3, so the density of the room is kept low. (In other words, if we draw a circle centered at a seated student with a radius of 9 feet, then there are at most 4 students seated strictly inside this circle, including the first student.)\n",
    "\n",
    "**Write an abstract formulation of a LP/MIP to solve the above problem, by listing all the data variables, decision variables, objective, and constraints.** You may define any data variables that can be straightforwardly calculated based on the information the commitee has access to, but your definition must be completely clear and without ambiguities. Your formulation must be flexible enough to handle an arbitrary floor plan, not only the one shown above, and your objective and constraints must all be linear. "
   ]
  },
  {
   "cell_type": "markdown",
   "metadata": {},
   "source": [
    "**Data:**\n",
    "- $I$ : set of classroom seats\n",
    "- $X_{ij}$ : the distance between seat i and seat j, $i \\ne j, i,j \\in I$\n",
    "- $r_{ij}$ : whether the distance between seat i and seat j is within the radius, $i \\ne j, i,j \\in I$\n",
    "- $M$ : the minimum distance of two seated students\n",
    "- $N$ : the maximum number of students in the radius\n",
    "\n",
    "**Decision Variables:**\n",
    "- $Y_{ij}$ : whether both seat i and j are seated.(Binary)\n",
    "- $S_i$ : whether to make the seat $i$ seated, $i \\in I$(Binary)\n",
    "\n",
    "**Objective and Constraints:**\n",
    "$$\\begin{aligned}\n",
    "\\text{Maximize} && \\sum_i & S_i && \\text{    for } i \\in I\\\\\n",
    "\\text{s.t.} && 2Y_{ij} &\\ge (S_i+S_j)-1 && \\text{    for }  i,j \\in I\\\\\n",
    "&& 2Y_{ij} &\\le (S_i+S_j) &&\\text{    for }  i, j \\in I\\\\\n",
    "&& X_{ij} &\\ge Y_{ij}M && \\text{    for }  i, j \\in I \\\\\n",
    "&& \\sum_{i \\ne j} r_{ij}Y_{ij} &\\le N && \\text{    for }  j \\in I\\\\\n",
    "\\end{aligned}$$\n"
   ]
  },
  {
   "cell_type": "markdown",
   "metadata": {},
   "source": [
    "## Q3. Optimizing Studying Time (Gurobi Coding; 8 Points)\n",
    "\n",
    "Dominique is applying what he learned about optimization to improve his time usage while studying for final exams. He has created a table listing the various topics to study for, his current estimated level of mastery of each topic, the difficulty of the topic as measured by the number of hours studying needed for him to gain an additional level of mastery, and the importance of sufficiently mastering the topic for his future career. For each topic, a level of mastery of 5 is the threshold for \"sufficient mastery,\"  and although it is possible to achieve beyond level 5, it is not necessary for him at this point. The two desirable outcomes Dominique would like to achieve are as follows:\n",
    "\n",
    "1. Attaining level 5 mastery for all topics as much as he can, especially for the most important topics.\n",
    "2. Not spending too much time in total, so as to maintain a sane work-life balance and fulfill other responsibilities.\n",
    "\n",
    "To achieve these goals, he has formulated the following optimization problem. \n",
    "\n",
    "**Data:** \n",
    "\n",
    "- $T$: set of topics.\n",
    "- $c_t$: current level of mastery for topic $t \\in T$ before studying for finals. \n",
    "- $d_t$: difficulty of topic $t$ as measured by the number of hours needed to gain each additional level of mastery.\n",
    "- $w_t$: importance of achieving at least level 5 mastery for his future career.\n",
    "- $B$: budget of time he would like to allocate in terms of the total hours of studying for these topics.\n",
    "\n",
    "**Decision Variables:**\n",
    "\n",
    "- $x_t$: number of hours to study for topic $t \\in T$. (Continuous)\n",
    "- $g_t$: auxiliary decision variable for each topic $t\\in T$ representing the gap between his level of mastery after studying and the target mastery level of $5$. (Continuous) \n",
    "\n",
    "**Objective and Constraints:**\n",
    "\n",
    "$$\\begin{aligned}\n",
    "\\text{Minimize} && \\sum_{t \\in T} w_t g_t^2 \\\\\n",
    "\\text{s.t.}  \\\\\n",
    "&& \\sum_{t \\in T}x_t & \\le B \\\\\n",
    "&& g_t & \\ge 5- c_t - \\frac{x_t}{d_t} && \\text{for each topic $t \\in T$.}\\\\\n",
    "&& x_t,g_t & \\ge 0 && \\text{for each topic $t \\in T$.}\n",
    "\\end{aligned}$$\n",
    "\n",
    "**Write a function called \"optimize\" with two input parameters:**\n",
    "\n",
    "- **inputFile**: filename of a CSV file providing the data on the various topics. You may assume that the column headers of the input file are exactly as in the attached file \"input.csv\". The four columns correspond exactly to the first four data variables listed in the formulation.\n",
    "- **B**: a positive number giving the value of the data variable $B$. \n",
    "\n",
    "**Your function should return a Pandas Series in which the index denotes the topic names and the value the optimal number of hours to study for that topic. Only topics with studying time at least 0.01 hours should be included.** The topic names (for the index) are given as the first column of the inputFile, and the optimal number of hours of studying for topic $t$ is given by $x_t$. \n",
    "\n",
    "**Write your function in the code cell below. The cell must import all packages needed and contain all your code, so that if someone restarts the Jupyter notebook kernel and only runs the following cell, then the test code below will work. Don't worry if your function also prints information about the Gurobi license file or triggers warning messages.**"
   ]
  },
  {
   "cell_type": "code",
   "execution_count": 24,
   "metadata": {
    "ExecuteTime": {
     "end_time": "2020-04-29T00:07:23.472459Z",
     "start_time": "2020-04-29T00:07:23.457813Z"
    }
   },
   "outputs": [],
   "source": [
    "# Write your code for Q3 in this cell\n",
    "\n",
    "import pandas as pd \n",
    "import gurobipy as gp\n",
    "\n",
    "def optimize(inputFile, B):\n",
    "    df=pd.read_csv(inputFile)\n",
    "    df\n",
    "    num=len(df)\n",
    "    mod=gp.Model()\n",
    "    X=mod.addVars(num)\n",
    "    G=mod.addVars(num)\n",
    "    mod.setObjective(gp.quicksum(df['Importance'][i]*G[i]*G[i] for i in range(num)),sense=gp.GRB.MINIMIZE)\n",
    "    mod.addConstr(gp.quicksum(X[i] for i in range(num))<=B)\n",
    "    mod.addConstrs(G[i] >= 5-df['Current Mastery'][i]-X[i]/df['Difficulty'][i] for i in range(num))\n",
    "    mod.optimize()\n",
    "    final=[X[i].X for i in range(num)]\n",
    "    final_df=pd.DataFrame({'Topic':df['Topic'],'Optimal Time':final})\n",
    "    final_df=final_df[final_df['Optimal Time']>=0.01]\n",
    "    final_df=final_df.set_index('Topic')\n",
    "    \n",
    "    return final_df"
   ]
  },
  {
   "cell_type": "code",
   "execution_count": 25,
   "metadata": {
    "ExecuteTime": {
     "end_time": "2020-04-29T00:07:30.941858Z",
     "start_time": "2020-04-29T00:07:30.894984Z"
    }
   },
   "outputs": [
    {
     "name": "stdout",
     "output_type": "stream",
     "text": [
      "Gurobi Optimizer version 9.0.1 build v9.0.1rc0 (win64)\n",
      "Optimize a model with 9 rows, 16 columns and 24 nonzeros\n",
      "Model fingerprint: 0x0abd21ac\n",
      "Model has 8 quadratic objective terms\n",
      "Coefficient statistics:\n",
      "  Matrix range     [1e-01, 1e+00]\n",
      "  Objective range  [0e+00, 0e+00]\n",
      "  QObjective range [4e+00, 1e+01]\n",
      "  Bounds range     [0e+00, 0e+00]\n",
      "  RHS range        [1e+00, 3e+01]\n",
      "Presolve removed 2 rows and 4 columns\n",
      "Presolve time: 0.01s\n",
      "Presolved: 7 rows, 12 columns, 18 nonzeros\n",
      "Presolved model has 6 quadratic objective terms\n",
      "Ordering time: 0.00s\n",
      "\n",
      "Barrier statistics:\n",
      " AA' NZ     : 6.000e+00\n",
      " Factor NZ  : 2.800e+01\n",
      " Factor Ops : 1.400e+02 (less than 1 second per iteration)\n",
      " Threads    : 1\n",
      "\n",
      "                  Objective                Residual\n",
      "Iter       Primal          Dual         Primal    Dual     Compl     Time\n",
      "   0   1.94080580e+06 -1.94080580e+06  6.00e+03 0.00e+00  1.00e+06     0s\n",
      "   1   7.60706897e+05 -7.88863051e+05  1.03e+02 0.00e+00  9.68e+04     0s\n",
      "   2   1.17044667e+05 -1.35765687e+05  1.03e-04 0.00e+00  1.40e+04     0s\n",
      "   3   1.70195487e+04 -1.84882762e+04  1.03e-10 0.00e+00  1.97e+03     0s\n",
      "   4   2.54535351e+03 -2.72044092e+03  3.55e-15 1.07e-14  2.93e+02     0s\n",
      "   5   4.78095275e+02 -7.08547037e+02  2.13e-14 3.55e-15  6.59e+01     0s\n",
      "   6   9.14458285e+01 -7.08265389e+01  7.11e-15 2.66e-15  9.02e+00     0s\n",
      "   7   2.76699867e+01 -1.46203255e+00  2.27e-13 4.44e-16  1.62e+00     0s\n",
      "   8   1.53791994e+01  1.18339564e+01  7.11e-15 2.22e-16  1.97e-01     0s\n",
      "   9   1.47885076e+01  1.46751273e+01  0.00e+00 1.67e-16  6.30e-03     0s\n",
      "  10   1.47759685e+01  1.47753213e+01  0.00e+00 4.44e-16  3.60e-05     0s\n",
      "  11   1.47759563e+01  1.47759556e+01  1.78e-13 2.22e-16  3.61e-08     0s\n",
      "  12   1.47759563e+01  1.47759563e+01  5.22e-13 4.44e-16  3.61e-11     0s\n",
      "\n",
      "Barrier solved model in 12 iterations and 0.02 seconds\n",
      "Optimal objective 1.47759563e+01\n",
      "\n"
     ]
    },
    {
     "data": {
      "text/html": [
       "<div>\n",
       "<style scoped>\n",
       "    .dataframe tbody tr th:only-of-type {\n",
       "        vertical-align: middle;\n",
       "    }\n",
       "\n",
       "    .dataframe tbody tr th {\n",
       "        vertical-align: top;\n",
       "    }\n",
       "\n",
       "    .dataframe thead th {\n",
       "        text-align: right;\n",
       "    }\n",
       "</style>\n",
       "<table border=\"1\" class=\"dataframe\">\n",
       "  <thead>\n",
       "    <tr style=\"text-align: right;\">\n",
       "      <th></th>\n",
       "      <th>Optimal Time</th>\n",
       "    </tr>\n",
       "    <tr>\n",
       "      <th>Topic</th>\n",
       "      <th></th>\n",
       "    </tr>\n",
       "  </thead>\n",
       "  <tbody>\n",
       "    <tr>\n",
       "      <td>A1</td>\n",
       "      <td>11.448087</td>\n",
       "    </tr>\n",
       "    <tr>\n",
       "      <td>A2</td>\n",
       "      <td>5.792350</td>\n",
       "    </tr>\n",
       "    <tr>\n",
       "      <td>B1</td>\n",
       "      <td>1.908197</td>\n",
       "    </tr>\n",
       "    <tr>\n",
       "      <td>B2</td>\n",
       "      <td>7.977049</td>\n",
       "    </tr>\n",
       "    <tr>\n",
       "      <td>B3</td>\n",
       "      <td>2.158470</td>\n",
       "    </tr>\n",
       "    <tr>\n",
       "      <td>C1</td>\n",
       "      <td>0.715847</td>\n",
       "    </tr>\n",
       "  </tbody>\n",
       "</table>\n",
       "</div>"
      ],
      "text/plain": [
       "       Optimal Time\n",
       "Topic              \n",
       "A1        11.448087\n",
       "A2         5.792350\n",
       "B1         1.908197\n",
       "B2         7.977049\n",
       "B3         2.158470\n",
       "C1         0.715847"
      ]
     },
     "execution_count": 25,
     "metadata": {},
     "output_type": "execute_result"
    }
   ],
   "source": [
    "# Test code (the output is not provided on purpose)\n",
    "optimize('input.csv',30)"
   ]
  },
  {
   "cell_type": "code",
   "execution_count": null,
   "metadata": {},
   "outputs": [],
   "source": []
  }
 ],
 "metadata": {
  "kernelspec": {
   "display_name": "Python 3",
   "language": "python",
   "name": "python3"
  },
  "language_info": {
   "codemirror_mode": {
    "name": "ipython",
    "version": 3
   },
   "file_extension": ".py",
   "mimetype": "text/x-python",
   "name": "python",
   "nbconvert_exporter": "python",
   "pygments_lexer": "ipython3",
   "version": "3.7.4"
  },
  "toc": {
   "base_numbering": 1,
   "nav_menu": {},
   "number_sections": true,
   "sideBar": true,
   "skip_h1_title": false,
   "title_cell": "Table of Contents",
   "title_sidebar": "Contents",
   "toc_cell": false,
   "toc_position": {},
   "toc_section_display": true,
   "toc_window_display": false
  },
  "varInspector": {
   "cols": {
    "lenName": 16,
    "lenType": 16,
    "lenVar": 40
   },
   "kernels_config": {
    "python": {
     "delete_cmd_postfix": "",
     "delete_cmd_prefix": "del ",
     "library": "var_list.py",
     "varRefreshCmd": "print(var_dic_list())"
    },
    "r": {
     "delete_cmd_postfix": ") ",
     "delete_cmd_prefix": "rm(",
     "library": "var_list.r",
     "varRefreshCmd": "cat(var_dic_list()) "
    }
   },
   "types_to_exclude": [
    "module",
    "function",
    "builtin_function_or_method",
    "instance",
    "_Feature"
   ],
   "window_display": false
  }
 },
 "nbformat": 4,
 "nbformat_minor": 4
}
