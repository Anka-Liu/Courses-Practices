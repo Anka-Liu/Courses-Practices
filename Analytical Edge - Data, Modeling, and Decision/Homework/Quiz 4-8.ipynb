{
 "cells": [
  {
   "cell_type": "markdown",
   "metadata": {},
   "source": [
    "# What is the optimal objective value of the following optimization formulation?\n",
    "\n",
    "**Data variables:**\n",
    "\n",
    "- $m$: the number of months to plan. \n",
    "- $T$: the set of months. $T=\\{1,2,\\cdots, m\\}$\n",
    "- $p_t$: the price of each ton of oil in month $t$. \n",
    "- $d_t$: the minimum amount of oil to use in month $t$. \n",
    "- $q$: the maximium amount of extra oil to store in any given month. \n",
    "\n",
    "**Decision variables:** \n",
    "\n",
    "- $x_t$: the amount of oil to purchase in month $t$, where $1 \\le t \\le m$. \n",
    "- $y_t$: the amount of oil to store in month $t$, where $1 \\le t \\le m$. \n",
    "\n",
    "**Objective and constraints:**\n",
    "\n",
    "$$\\begin{aligned}\n",
    "\\text{Minimize: } && \\sum_{t \\in T} p_t x_t \\\\\n",
    "\\text{Subject to:} \\\\\n",
    "\\text{(Initial month)} && y_1 & = x_1 - d_1 \\\\\n",
    "\\text{(Flow of oil)} && y_t & = y_{t-1}+x_t - d_t  && \\text{for each month $t \\ge 2$.} \\\\\n",
    "\\text{(Limit on storage)} && y_t & \\le q && \\text{for all $t \\in T$.} \\\\\n",
    "\\text{(Non-negativity)} && x_t,y_t & \\ge 0 && \\text{for all $t \\in T$.}\n",
    "\\end{aligned}$$"
   ]
  },
  {
   "cell_type": "code",
   "execution_count": 6,
   "metadata": {
    "ExecuteTime": {
     "end_time": "2020-04-10T03:14:43.843229Z",
     "start_time": "2020-04-10T03:14:42.063217Z"
    }
   },
   "outputs": [],
   "source": [
    "import pandas as pd\n",
    "m=12\n",
    "T=range(1,m+1)\n",
    "p=pd.Series([11,10,14,13,9,7,11,14,17,20,16,14],index=T)\n",
    "d=pd.Series([20,40,50,60,70,100,60,50,50,60,50,40],index=T)\n",
    "q=100\n"
   ]
  },
  {
   "cell_type": "code",
   "execution_count": 18,
   "metadata": {
    "ExecuteTime": {
     "end_time": "2020-04-10T03:24:13.931717Z",
     "start_time": "2020-04-10T03:24:13.927728Z"
    }
   },
   "outputs": [],
   "source": [
    "import gurobipy as gb\n",
    "\n",
    "mod=gb.Model()"
   ]
  },
  {
   "cell_type": "code",
   "execution_count": 19,
   "metadata": {
    "ExecuteTime": {
     "end_time": "2020-04-10T03:24:14.923369Z",
     "start_time": "2020-04-10T03:24:14.911408Z"
    }
   },
   "outputs": [
    {
     "data": {
      "text/plain": [
       "11"
      ]
     },
     "execution_count": 19,
     "metadata": {},
     "output_type": "execute_result"
    }
   ],
   "source": [
    "p[1]"
   ]
  },
  {
   "cell_type": "code",
   "execution_count": 20,
   "metadata": {
    "ExecuteTime": {
     "end_time": "2020-04-10T03:24:15.197307Z",
     "start_time": "2020-04-10T03:24:15.193310Z"
    }
   },
   "outputs": [],
   "source": [
    "Y=mod.addVars(T) \n",
    "X=mod.addVars(T)"
   ]
  },
  {
   "cell_type": "code",
   "execution_count": 21,
   "metadata": {
    "ExecuteTime": {
     "end_time": "2020-04-10T03:24:15.552618Z",
     "start_time": "2020-04-10T03:24:15.545637Z"
    }
   },
   "outputs": [],
   "source": [
    "mod.setObjective(gb.quicksum(p[i]*X[i] for i in T))"
   ]
  },
  {
   "cell_type": "code",
   "execution_count": 22,
   "metadata": {
    "ExecuteTime": {
     "end_time": "2020-04-10T03:24:15.815970Z",
     "start_time": "2020-04-10T03:24:15.809986Z"
    }
   },
   "outputs": [
    {
     "data": {
      "text/plain": [
       "range(2, 13)"
      ]
     },
     "execution_count": 22,
     "metadata": {},
     "output_type": "execute_result"
    }
   ],
   "source": [
    "T[1:]"
   ]
  },
  {
   "cell_type": "code",
   "execution_count": null,
   "metadata": {},
   "outputs": [],
   "source": []
  },
  {
   "cell_type": "code",
   "execution_count": 23,
   "metadata": {
    "ExecuteTime": {
     "end_time": "2020-04-10T03:24:16.813486Z",
     "start_time": "2020-04-10T03:24:16.805481Z"
    }
   },
   "outputs": [
    {
     "data": {
      "text/plain": [
       "<gurobi.Constr *Awaiting Model Update*>"
      ]
     },
     "execution_count": 23,
     "metadata": {},
     "output_type": "execute_result"
    }
   ],
   "source": [
    "mod.addConstr(Y[1]==X[1]-d[1])"
   ]
  },
  {
   "cell_type": "code",
   "execution_count": 24,
   "metadata": {
    "ExecuteTime": {
     "end_time": "2020-04-10T03:24:17.262985Z",
     "start_time": "2020-04-10T03:24:17.256002Z"
    }
   },
   "outputs": [],
   "source": [
    "for i in T[1:]:\n",
    "    mod.addConstr(Y[i]==Y[i-1]+X[i]-d[i])\n",
    "\n",
    "for i in T:\n",
    "    mod.addConstr(Y[i]<=q)\n",
    "\n",
    "    "
   ]
  },
  {
   "cell_type": "code",
   "execution_count": 25,
   "metadata": {
    "ExecuteTime": {
     "end_time": "2020-04-10T03:24:18.539601Z",
     "start_time": "2020-04-10T03:24:18.523643Z"
    }
   },
   "outputs": [
    {
     "name": "stdout",
     "output_type": "stream",
     "text": [
      "Gurobi Optimizer version 9.0.1 build v9.0.1rc0 (win64)\n",
      "Optimize a model with 24 rows, 24 columns and 47 nonzeros\n",
      "Model fingerprint: 0xca322421\n",
      "Coefficient statistics:\n",
      "  Matrix range     [1e+00, 1e+00]\n",
      "  Objective range  [7e+00, 2e+01]\n",
      "  Bounds range     [0e+00, 0e+00]\n",
      "  RHS range        [2e+01, 1e+02]\n",
      "Presolve removed 15 rows and 4 columns\n",
      "Presolve time: 0.00s\n",
      "Presolved: 9 rows, 20 columns, 27 nonzeros\n",
      "\n",
      "Iteration    Objective       Primal Inf.    Dual Inf.      Time\n",
      "       0    6.2000000e+02   1.050000e+02   0.000000e+00      0s\n",
      "       8    6.6700000e+03   0.000000e+00   0.000000e+00      0s\n",
      "\n",
      "Solved in 8 iterations and 0.01 seconds\n",
      "Optimal objective  6.670000000e+03\n"
     ]
    }
   ],
   "source": [
    "mod.optimize()"
   ]
  },
  {
   "cell_type": "code",
   "execution_count": 26,
   "metadata": {
    "ExecuteTime": {
     "end_time": "2020-04-10T03:24:20.278129Z",
     "start_time": "2020-04-10T03:24:20.268128Z"
    }
   },
   "outputs": [
    {
     "data": {
      "text/plain": [
       "6670.0"
      ]
     },
     "execution_count": 26,
     "metadata": {},
     "output_type": "execute_result"
    }
   ],
   "source": [
    "mod.objval"
   ]
  },
  {
   "cell_type": "code",
   "execution_count": null,
   "metadata": {},
   "outputs": [],
   "source": []
  }
 ],
 "metadata": {
  "kernelspec": {
   "display_name": "Python 3",
   "language": "python",
   "name": "python3"
  },
  "language_info": {
   "codemirror_mode": {
    "name": "ipython",
    "version": 3
   },
   "file_extension": ".py",
   "mimetype": "text/x-python",
   "name": "python",
   "nbconvert_exporter": "python",
   "pygments_lexer": "ipython3",
   "version": "3.7.4"
  },
  "toc": {
   "base_numbering": 1,
   "nav_menu": {},
   "number_sections": true,
   "sideBar": true,
   "skip_h1_title": false,
   "title_cell": "Table of Contents",
   "title_sidebar": "Contents",
   "toc_cell": false,
   "toc_position": {},
   "toc_section_display": true,
   "toc_window_display": false
  },
  "varInspector": {
   "cols": {
    "lenName": 16,
    "lenType": 16,
    "lenVar": 40
   },
   "kernels_config": {
    "python": {
     "delete_cmd_postfix": "",
     "delete_cmd_prefix": "del ",
     "library": "var_list.py",
     "varRefreshCmd": "print(var_dic_list())"
    },
    "r": {
     "delete_cmd_postfix": ") ",
     "delete_cmd_prefix": "rm(",
     "library": "var_list.r",
     "varRefreshCmd": "cat(var_dic_list()) "
    }
   },
   "types_to_exclude": [
    "module",
    "function",
    "builtin_function_or_method",
    "instance",
    "_Feature"
   ],
   "window_display": false
  }
 },
 "nbformat": 4,
 "nbformat_minor": 4
}
