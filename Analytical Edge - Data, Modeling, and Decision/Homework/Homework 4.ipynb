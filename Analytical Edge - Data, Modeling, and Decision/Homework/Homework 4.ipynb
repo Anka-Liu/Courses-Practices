{
 "cells": [
  {
   "cell_type": "markdown",
   "metadata": {},
   "source": [
    "# Homework 4\n",
    "\n",
    "**Name:** Chengjun Liu\n"
   ]
  },
  {
   "cell_type": "markdown",
   "metadata": {},
   "source": [
    "## Instructions for typesetting math in Markdown cells\n",
    "\n",
    "It is possible to render mathematical expressions nicely in Markdown cells, using a type of script called \"LaTex\". LaTex the standard format for people in most technical fields to write math nicely. (You can Google for examples of what you can do with LaTex.) \n",
    "\n",
    "To render an expression using LaTex, the expression must be enclosed with dollar signs. For example, the expression `$X>0$` is rendered $X>0$. A single dollar sign is for mathematical expressions within the same line, and double dollar signs are for a standalone mathematical expressions in its own line. Hence, `$$X > 0.$$` is rendered as  $$X>0.$$\n",
    "\n",
    "Below are examples of how to typeset various mathematical symbols using Latex (the math itself is not that meaningful, but I wanted to showcase all the commands you would need). For additional examples, see the course handouts (the .ipynb files from nbviewer), or Google for \"latex math examples.\"\n",
    "\n",
    "Let $A = 3/4 = \\frac{3}{4} =  0.75$, $B=\\mathbb{P}(A \\ge 1) = 0$. The expectation $\\mathbb{E}(AB)=0$. It's okay also to write $E(AB)$ instead of $\\mathbb{E}(AB)$, or $P(A \\ge 1)$ instead of $\\mathbb{P}(A \\ge 1)$ although the later look nicer. You can write a sequence of equations using the align environment, which uses `\\\\` for breaking a line and `&` for alignment. Note that when you are in math mode (within dollar signs), you must use `\\text{}` to enclose text.\n",
    "$$\\begin{aligned}\n",
    "P(A \\ge 80\\% \\text{ and } Y \\approx \\sqrt{3} | X \\text{ is red}) & = \\frac{ P(A \\ge 80\\% \\text{ and } Y \\approx \\sqrt{3} \\text{ and $X$ is red})}{P(X \\text{ is red})} \\\\\n",
    "&\\le \\frac{ P(A \\ge .8)}{P(X \\text{ is red})} \\\\\n",
    "&\\le 0.\n",
    "\\end{aligned}$$\n"
   ]
  },
  {
   "cell_type": "markdown",
   "metadata": {},
   "source": [
    "## Q1. DMD Exercise 2.1 \n",
    "\n",
    "A four-sided die is engraved with the numbers 1 through 4 on its four different sides. Suppose that when rolled, each side (and hence each number) has an equal probability of being the bottom face when it lands. We roll two such dice. Let X be the sum of the numbers on the bottom faces of the two dice.\n",
    "\n",
    "(a) What is the probability that X is at least five?\n",
    "\n",
    "Let $X_1$ denote first dice, and $X_2$ denote second dice.\n",
    "\n",
    "$$\\begin{aligned}\n",
    "P(X \\ge 5) & =P(X=5)+P(X=6)+P(X=7)+P(X=8) \\\\\n",
    "&=(1/4\\times 1/4)\\times(4+3+2+1) \\\\\n",
    "&=10/16\\\\\n",
    "&=5/8\n",
    "\\end{aligned}$$\n",
    "\n",
    "(b) How does your answer to (a) change if you are told that the bottom face of the first die has the number 3 on it?\n",
    "\n",
    "$$\\begin{aligned}\n",
    "P(X \\ge 5 | X_1=3) & =(P(X=5,X_1=3)+P(X=6,X_1=3)+P(X=7,X_1=3))/P(X_1=3) \\\\  \n",
    "&=\\frac{P(X_2=2)\\times P(X_1=3)+P(X_2=3)\\times P(X_1=3)+P(X_2=4)\\times P(X_1=3))}{P(X_1=3)}\\\\  \n",
    "&=(1/4\\times 1/4+1/4\\times 1/4+1/4\\times 1/4)/1/4 \\\\\n",
    "&=3/4\n",
    "\\end{aligned}$$\n",
    "\n",
    "(c) How does your answer to (a) change if you are told that the bottom face of one of the dice has the number 3 on it?\n",
    "\n",
    "$$\\begin{aligned}\n",
    "P(X \\ge 5 | X_1=3) =& P(X_2=2) \\times P(X_1=3)+P(X_2=3) \\times P(X_1=3)+P(X_2=4) \\times P(X_1=3)+ \\\\ & P(X_2=3) \\times P(X_2=2)+P(X_2=3)\\times P(X_1=4)\\\\  \n",
    "=&1/4 \\times 1/4 \\times 5\\\\\n",
    "=&5/16\n",
    "\\end{aligned}$$"
   ]
  },
  {
   "cell_type": "markdown",
   "metadata": {},
   "source": [
    "## Q2. DMD Exercise 2.4 \n",
    "\n",
    "An oil company is drilling for oil at three promising sites. According\n",
    "to geological tests, the probabilities of finding oil at these three sites are 0.70, 0.85, and 0.80,\n",
    "respectively. The presence of oil at any one of the sites is presumed to be independent of the\n",
    "presence of oil at any of the other sites.\n",
    "\n",
    "(a) What is the probability of finding oil at all three of the sites?\n",
    "\n",
    "Let $X_1,X_2,X_3$ denote the state of three sites. 1 for finding oil, 0 for not finding oil.\n",
    "\n",
    "$$\\begin{aligned}\n",
    "P(X_1=1,X_2=1,X_3=1) =& P(X_1=1)\\times P(X_2=1)\\times P(X_3=1) \\\\\n",
    "=& 0.70\\times 0.85\\times 0.80\\\\\n",
    "=&0.476\n",
    "\\end{aligned}$$\n",
    "\n",
    "(b) What is the probability of not finding oil at any of the three sites?\n",
    "\n",
    "\n",
    "$$\\begin{aligned}\n",
    "P(X_1=0,X_2=0,X_3=0)\n",
    "=&(1-0.70)\\times (1-0.85)\\times (1-0.80)\\\\\n",
    "=&0.009\n",
    "\\end{aligned}$$"
   ]
  },
  {
   "cell_type": "markdown",
   "metadata": {},
   "source": [
    "## Q3. DMD Exercise 2.10 \n",
    "A hardware store has received two shipments of halogen lamps. The first shipment contains 100 lamps, 4 percent of which are defective. The second shipment contains 50 lamps, 6 percent of which are defective. Suppose that Emanuel picks a lamp (at random) off of the shelf and purchases it, and he later discovers that the lamp he purchased is defective. Is the defective lamp more likely to come from the first shipment or from the second shipment?\n",
    "\n",
    "Let $X$ denote first/second shipment, and $Y$ denote whether defective(0 is defective).\n",
    "\n",
    "$$\\begin{aligned}\n",
    "P(X=1|Y=0) =& P(X=1,Y=0)/P(Y=0) \\\\\n",
    "=& ((100\\times 0.04)/(100+50))/((100\\times 0.04 +50\\times 0.06)/(100+50))\\\\\n",
    "=& 4/7\n",
    "\\end{aligned}$$\n",
    "\n"
   ]
  },
  {
   "cell_type": "markdown",
   "metadata": {},
   "source": [
    "## Q4. DMD Exercise 2.11 \n",
    "It is estimated that one third of the population in a given county is infected with the tuberculosis (TB) bacteria. The human body is usually able to successfully fight the TB bacteria and so prevent the onset of the TB disease. Consequently, a person infected with the TB bacteria has only a 10 percent chance of development the TB disease over his/her lifetime.\n",
    "\n",
    "(a)\tSuppose that we choose a person at random from all of the people in the county. What is the probability that this person will have TB disease over his/her lifetime?\n",
    "\n",
    "$$\\begin{aligned}\n",
    "P(Disease=1) =& P(Disease=1,TB=1)+P(Disease=1,TB=0) \\\\\n",
    "=& P(Disease=1|TB=1)\\times P(TB=1)+0\\\\\n",
    "=& 1/10\\times 1/3 \\\\\n",
    "=& 1/30\n",
    "\\end{aligned}$$\n",
    "\n",
    "\n",
    "(b)\tSuppose that among those people who have died in the county in the last year, we perform an autopsy on one of the bodies chosen at random, and we find that this person did not have the TB disease. What is the probability that this person had been infected with the TB bacteria?\n",
    "\n",
    "\n",
    "$$\\begin{aligned}\n",
    "P(TB=1|Disease=0) =& P(Disease=0,TB=1)/P(Disease=0) \\\\\n",
    "=& P(Disease=0|TB=1)\\times P(TB=1)/(1-P(Disease=0))\\\\\n",
    "=& ((1-0.1)\\times 1/3)/(1-1/30) \\\\\n",
    "=& 9/29\n",
    "\\end{aligned}$$\n"
   ]
  },
  {
   "cell_type": "markdown",
   "metadata": {},
   "source": [
    "## Q5. (Geographic Testing)\n",
    "\n",
    "Extensive logging has exposed a hillside in San Carlos to the possibility of a mudslide. The mayor has consulted a geographic expert, who estimates that there is only a 10\\% chance that the slide will occur within the next year. The expert adds that roughly 5\\% of such slides would break through the existing retaining wall, which would cause a damage of one million dollars. (The slides that don't break the wall would cause negligible damage.) \n",
    "\n",
    "The expert also mentioned that she can conduct a geological test to better assess the likelihood of a mud slide. The test has three possible outcomes, as seen in the table below, which also summarize past data (from other locations) on whether a subsequent slide indeed happened afterward.\n",
    "\n",
    "| Test Outcome | Slide within 1 year | No slide within 1 year | \n",
    "|--|--|--|\n",
    "|Positive| 900 | 50 | \n",
    "|Neutral| 25 |  100 |\n",
    "|Negative| 75 | 850 |\n",
    "\n",
    "**(a)** Suppose that the expert's initial estimate of 10\\% chance is correct, what's the probability that the test would yield a positive result in San Carlos?\n",
    "\n",
    "$$\\begin{aligned}\n",
    "P(Positive) =& P(Positive,Slide)+P(Positive,NoSlide) \\\\\n",
    "=& P(Positive|Slide)\\times P(Slide)+ P(Positive|NoSlide)\\times P(NoSlide)\\\\\n",
    "=& 900/1000 \\times 0.1+50/1000\\times 0.9 \\\\\n",
    "=& 0.135\n",
    "\\end{aligned}$$"
   ]
  },
  {
   "cell_type": "markdown",
   "metadata": {},
   "source": [
    "**(b)** If there is a way to strengthen the retaining wall so that it would not break under any mud slide, how much should the mayor be willing to pay for the wall supposing that the geographic test yields a positive result? What about if it yields a neutral result?\n",
    "\n",
    "$$\\begin{aligned}\n",
    "E(Loss|Positive) =& 1000000\\times P(Break,Slide|Positive) \\\\\n",
    "=& 1000000\\times P(Break|Slide,Positive)\\times P(Slide|Positive)\\\\\n",
    "=& 1000000\\times 0.05\\times 900/950\\\\\n",
    "\\approx& 47368\n",
    "\\end{aligned}$$\n",
    "\n",
    "$$\\begin{aligned}\n",
    "E(Loss|Neutral) =& 1000000\\times P(Break,Slide|Neutral) \\\\\n",
    "=& 1000000\\times P(Break|Slide,Neutral)\\times P(Slide|Neutral)\\\\\n",
    "=& 1000000\\times 0.05\\times 25/125\\\\\n",
    "=& 10000\n",
    "\\end{aligned}$$"
   ]
  },
  {
   "cell_type": "markdown",
   "metadata": {},
   "source": [
    "**(c)** Suppose the way to strengthen the retaining wall costs $20000$ dollars, how much should the mayor be willing to pay for the geological test?\n",
    "\n",
    "$$\\begin{aligned}\n",
    "P(Neutral) =& P(Neutral,Slide)+P(Neutral,NoSlide) \\\\\n",
    "=& P(Neutral|Slide)\\times P(Slide)+ P(Neutral|NoSlide)\\times P(NoSlide)\\\\\n",
    "=& 25/1000 \\times 0.1+100/1000\\times 0.9 \\\\\n",
    "=& 0.0925\n",
    "\\end{aligned}$$\n",
    "\n",
    "$$\\begin{aligned}\n",
    "P(Neutral) = 1-0.135-0.0925 =0.7725\n",
    "\\end{aligned}$$\n",
    "\n",
    "$$\\begin{aligned}\n",
    "E(Loss|Negative) =& 1000000\\times P(Break,Slide|Negative) \\\\\n",
    "=& 1000000\\times P(Break|Slide,Negative)\\times P(Slide|Negative)\\\\\n",
    "=& 1000000\\times 0.05\\times 75/925\\\\\n",
    "\\approx & 4054\n",
    "\\end{aligned}$$\n",
    "\n",
    "$$\\begin{aligned}\n",
    "E(Loss) =& P(Positive)*E(Loss|Positive)+P(Neutral)*E(Loss|Neutral)+P(Negative)*E(Loss|Negative) \\\\\n",
    "=& 47368\\times 0.135+10000\\times 0.0925+4054\\times 0.7725 \\\\\n",
    "\\approx & 10451\n",
    "\\end{aligned}$$\n",
    "\n",
    "Mayor will pay $20000-10451=9549$"
   ]
  },
  {
   "cell_type": "code",
   "execution_count": null,
   "metadata": {},
   "outputs": [],
   "source": []
  }
 ],
 "metadata": {
  "kernelspec": {
   "display_name": "Python 3",
   "language": "python",
   "name": "python3"
  },
  "language_info": {
   "codemirror_mode": {
    "name": "ipython",
    "version": 3
   },
   "file_extension": ".py",
   "mimetype": "text/x-python",
   "name": "python",
   "nbconvert_exporter": "python",
   "pygments_lexer": "ipython3",
   "version": "3.7.4"
  },
  "toc": {
   "base_numbering": 1,
   "nav_menu": {},
   "number_sections": true,
   "sideBar": true,
   "skip_h1_title": false,
   "title_cell": "Table of Contents",
   "title_sidebar": "Contents",
   "toc_cell": false,
   "toc_position": {},
   "toc_section_display": true,
   "toc_window_display": false
  },
  "varInspector": {
   "cols": {
    "lenName": 16,
    "lenType": 16,
    "lenVar": 40
   },
   "kernels_config": {
    "python": {
     "delete_cmd_postfix": "",
     "delete_cmd_prefix": "del ",
     "library": "var_list.py",
     "varRefreshCmd": "print(var_dic_list())"
    },
    "r": {
     "delete_cmd_postfix": ") ",
     "delete_cmd_prefix": "rm(",
     "library": "var_list.r",
     "varRefreshCmd": "cat(var_dic_list()) "
    }
   },
   "types_to_exclude": [
    "module",
    "function",
    "builtin_function_or_method",
    "instance",
    "_Feature"
   ],
   "window_display": false
  }
 },
 "nbformat": 4,
 "nbformat_minor": 2
}
