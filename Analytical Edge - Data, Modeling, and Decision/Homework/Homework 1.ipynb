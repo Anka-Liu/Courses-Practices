{
 "cells": [
  {
   "cell_type": "markdown",
   "metadata": {},
   "source": [
    "# Homework 1\n",
    "\n",
    "**Name:** Chengjun Liu"
   ]
  },
  {
   "cell_type": "markdown",
   "metadata": {},
   "source": [
    "## Q1. PY4E Chapter 2 Exercise 4\n",
    "\n",
    "Assume that we execute the following assignment statements:\n",
    "```\n",
    "width = 17\n",
    "height = 12.0\n",
    "```\n",
    "\n",
    "For each of the following expressions, write the value of the expression and the\n",
    "type (of the value of the expression).\n",
    "\n",
    "1. width//2\n",
    "\n",
    "2. width/2.0\n",
    "\n",
    "3. height/3\n",
    "\n",
    "4. 1 + 2 * 5\n",
    "\n",
    "Type your answer in this markdown cell, under this line: (You can create a new code cell to check your answers.)\n",
    "\n",
    "**A:** \n",
    "1. width//2\n",
    "\n",
    "8\n",
    "\n",
    "<class 'int'>\n",
    "\n",
    "2. width/2.0\n",
    "\n",
    "8.5\n",
    "\n",
    "<class 'float'>\n",
    "\n",
    "3. height/3\n",
    "\n",
    "4.0\n",
    "\n",
    "<class 'float'>\n",
    "\n",
    "4. 1 + 2 * 5\n",
    "\n",
    "11\n",
    "\n",
    "<class 'int'>\n"
   ]
  },
  {
   "cell_type": "code",
   "execution_count": 1,
   "metadata": {
    "ExecuteTime": {
     "end_time": "2020-01-21T02:59:40.182216Z",
     "start_time": "2020-01-21T02:59:40.174231Z"
    }
   },
   "outputs": [
    {
     "name": "stdout",
     "output_type": "stream",
     "text": [
      "8\n",
      "<class 'int'>\n",
      "8.5\n",
      "<class 'float'>\n",
      "4.0\n",
      "<class 'float'>\n",
      "11\n",
      "<class 'int'>\n"
     ]
    }
   ],
   "source": [
    "width = 17\n",
    "height = 12.0\n",
    "\n",
    "print(width//2)\n",
    "print(type(width//2))\n",
    "\n",
    "print( width/2.0)\n",
    "print(type( width/2.0))\n",
    "\n",
    "print(height/3)\n",
    "print(type(height/3))\n",
    "\n",
    "print(1 + 2 * 5)\n",
    "print(type(1 + 2 * 5))"
   ]
  },
  {
   "cell_type": "markdown",
   "metadata": {},
   "source": [
    "## Q2. PY4E Chapter 2 Exercise 5\n",
    "\n",
    "Write a program which prompts the user for a Celsius temperature, convert the temperature to Fahrenheit, and print out the\n",
    "converted temperature.\n",
    "\n",
    "Write your code in the code cell below."
   ]
  },
  {
   "cell_type": "code",
   "execution_count": 3,
   "metadata": {
    "ExecuteTime": {
     "end_time": "2020-01-21T03:04:22.175764Z",
     "start_time": "2020-01-21T03:04:20.036966Z"
    }
   },
   "outputs": [
    {
     "name": "stdout",
     "output_type": "stream",
     "text": [
      "Enter temperature in Celsius: 38\n",
      "The temperature in Fahrenheit is: 100.4\n"
     ]
    }
   ],
   "source": [
    "def Cel_to_Fah(Cel):\n",
    "    return Cel*9/5+32\n",
    "\n",
    "Cel=float(input(\"Enter temperature in Celsius: \"))\n",
    "print(f\"The temperature in Fahrenheit is: {Cel_to_Fah(Cel)}\")"
   ]
  },
  {
   "cell_type": "code",
   "execution_count": 3,
   "metadata": {},
   "outputs": [
    {
     "name": "stdout",
     "output_type": "stream",
     "text": [
      "Enter temperature in Celsius: 38\n",
      "The temperature in Fahrenheit is: 100.4\n"
     ]
    }
   ],
   "source": [
    "def Cel_to_Fah(Cel):\n",
    "    return Cel*9/5+32\n",
    "\n",
    "Cel=input(\"Enter temperature in Celsius: \")\n",
    "print(f\"The temperature in Fahrenheit is: {Cel_to_Fah(Cel)}\")"
   ]
  },
  {
   "cell_type": "markdown",
   "metadata": {},
   "source": [
    "## Q3. PY4E Chapter 3 Exercise 1\n",
    "\n",
    "Write a program to prompt the user for hours and rate per hour to compute gross pay. Hours worked above 40 should be paid at a rate of 1.5 times the normal hourly rate.\n",
    "\n",
    "```\n",
    "Enter Hours: 45\n",
    "Enter Rate: 10\n",
    "Pay: 475.0\n",
    "```\n",
    "\n",
    "Write your code in the code cell below."
   ]
  },
  {
   "cell_type": "code",
   "execution_count": 10,
   "metadata": {
    "ExecuteTime": {
     "end_time": "2020-01-21T03:09:26.216496Z",
     "start_time": "2020-01-21T03:09:24.609561Z"
    }
   },
   "outputs": [
    {
     "name": "stdout",
     "output_type": "stream",
     "text": [
      "Enter Hours: 45\n",
      "Enter Rate: 10\n",
      "Pay:  475.0\n"
     ]
    }
   ],
   "source": [
    "def GrossPay(hour,rate):\n",
    "    if hour<=40:\n",
    "        return hour*rate\n",
    "    else:\n",
    "        return (hour-40)*1.5*rate+40*rate\n",
    "    \n",
    "hour=float(input(\"Enter Hours: \"))\n",
    "rate=float(input(\"Enter Rate: \"))\n",
    "print(f\"Pay:  {GrossPay(hour,rate)}\")"
   ]
  },
  {
   "cell_type": "code",
   "execution_count": 12,
   "metadata": {
    "ExecuteTime": {
     "end_time": "2020-01-21T03:13:19.738765Z",
     "start_time": "2020-01-21T03:13:17.608614Z"
    }
   },
   "outputs": [
    {
     "name": "stdout",
     "output_type": "stream",
     "text": [
      "Enter Hours: 45\n",
      "Enter Rate: 10\n",
      "Pay:  475.0\n"
     ]
    }
   ],
   "source": [
    "def GrossPay(hour,rate):\n",
    "    if hour<=40:\n",
    "        return hour*rate\n",
    "    else:\n",
    "        return (hour-40)*1.5*rate+40*rate\n",
    "    \n",
    "hour=float(input(\"Enter Hours: \"))\n",
    "rate=float(input(\"Enter Rate: \"))\n",
    "print(f\"Pay:  {GrossPay(hour,rate)}\")"
   ]
  },
  {
   "cell_type": "markdown",
   "metadata": {},
   "source": [
    "## Q4. PY4E Chapter 3 Exercise 2\n",
    "Rewrite your pay program (in Q3) using try and except so that your\n",
    "program handles non-numeric input gracefully by printing a message\n",
    "and exiting the program (for instructions on try and except, see PY4E section 3.7 or Google \"Python try and except\"; learning new commands on your own by reading documentation is a valuable skill that this class gives you the opportunity to practice). The following shows two executions of the\n",
    "program:\n",
    "\n",
    "```\n",
    "Enter Hours: 20\n",
    "Enter Rate: nine\n",
    "Error, please enter numeric input\n",
    "\n",
    "Enter Hours: forty\n",
    "Error, please enter numeric input\n",
    "```\n",
    "\n",
    "Write your code in the code cell below."
   ]
  },
  {
   "cell_type": "code",
   "execution_count": 15,
   "metadata": {
    "ExecuteTime": {
     "end_time": "2020-01-21T03:14:13.268595Z",
     "start_time": "2020-01-21T03:14:09.699116Z"
    }
   },
   "outputs": [
    {
     "name": "stdout",
     "output_type": "stream",
     "text": [
      "Enter Hours: 40\n",
      "Enter Rate: r\n",
      "Error, please enter numeric input\n"
     ]
    }
   ],
   "source": [
    "def GrossPay(hour,rate):\n",
    "    if hour<=40:\n",
    "        return hour*rate\n",
    "    else:\n",
    "        return (hour-40)*1.5*rate+40*rate\n",
    "try:\n",
    "    hour=float(input(\"Enter Hours: \"))\n",
    "    rate=float(input(\"Enter Rate: \"))\n",
    "    print(f\"Pay:  {GrossPay(hour,rate)}\")\n",
    "except ValueError as v:\n",
    "    print(\"Error, please enter numeric input\")\n"
   ]
  },
  {
   "cell_type": "markdown",
   "metadata": {},
   "source": [
    "## Q5. PY4E Chapter 3 Exercise 3\n",
    "\n",
    "Write a program to prompt for a score between 0.0 and\n",
    "1.0. If the score is out of range, print an error message. If the score is\n",
    "between 0.0 and 1.0, print a grade using the following table:\n",
    "\n",
    "|Score | Grade |\n",
    "| -- | -- |\n",
    "|>= 0.9 | A  |\n",
    "|>= 0.8 | B |\n",
    "|>= 0.7 | C |\n",
    "| >= 0.6 | D |\n",
    "| < 0.6 | F |\n",
    "\n",
    "```\n",
    "Enter score: 0.95\n",
    "A\n",
    "Enter score: perfect\n",
    "Bad score\n",
    "Enter score: 10.0\n",
    "Bad score\n",
    "Enter score: 0.75\n",
    "C\n",
    "Enter score: 0.5\n",
    "F\n",
    "```\n",
    "\n",
    "Run the program repeatedly as shown above to test the various different values for\n",
    "input.\n",
    "\n",
    "Write your code in the code cell below."
   ]
  },
  {
   "cell_type": "code",
   "execution_count": 26,
   "metadata": {
    "ExecuteTime": {
     "end_time": "2020-01-21T05:04:18.439749Z",
     "start_time": "2020-01-21T05:04:14.062868Z"
    }
   },
   "outputs": [
    {
     "name": "stdout",
     "output_type": "stream",
     "text": [
      "Enter score: 0.85\n",
      "B\n"
     ]
    }
   ],
   "source": [
    "def Score(score):\n",
    "    if (score<0) or (score>1):\n",
    "        raise ValueError\n",
    "    elif (score>=0.9):\n",
    "        print('A')\n",
    "    elif score>=0.8:\n",
    "        print('B')\n",
    "    elif score>=0.7:\n",
    "        print('C')\n",
    "    elif score>=0.6:\n",
    "        print('D')  \n",
    "    else:\n",
    "        print('F')\n",
    "        \n",
    "    \n",
    "        \n",
    "try:\n",
    "    score=float(input(\"Enter score: \"))\n",
    "    Score(score)\n",
    "except ValueError as v:\n",
    "    print(\"Bad score\")\n",
    "              "
   ]
  },
  {
   "cell_type": "markdown",
   "metadata": {},
   "source": [
    "## Q6. PY4E Chapter 4 Exercise 6\n",
    "Rewrite your pay computation in Q4 by creating a function called `computepay` which takes two parameters\n",
    "(`hours` and `rate`).\n",
    "\n",
    "Write your code in the code cell below."
   ]
  },
  {
   "cell_type": "code",
   "execution_count": 27,
   "metadata": {
    "ExecuteTime": {
     "end_time": "2020-01-21T05:05:16.477344Z",
     "start_time": "2020-01-21T05:05:01.421091Z"
    }
   },
   "outputs": [
    {
     "name": "stdout",
     "output_type": "stream",
     "text": [
      "Enter Hours: 45\n",
      "Enter Rate: 1\n",
      "Pay:  47.5\n"
     ]
    }
   ],
   "source": [
    "def computepay(hours,rate):\n",
    "    if hours<=40:\n",
    "        return hours*rate\n",
    "    else:\n",
    "        return (hours-40)*1.5*rate+40*rate\n",
    "try:\n",
    "    hour=float(input(\"Enter Hours: \"))\n",
    "    rate=float(input(\"Enter Rate: \"))\n",
    "    print(f\"Pay:  {computepay(hour,rate)}\")\n",
    "except ValueError as v:\n",
    "    print(\"Error, please enter numeric input\")\n"
   ]
  },
  {
   "cell_type": "markdown",
   "metadata": {},
   "source": [
    "## Q7. PY4E Chapter 4 Exercise 7\n",
    "\n",
    "Rewrite the grade program from Q5 using a function called `computegrade` that takes a `score` as its parameter and returns a `grade` as a string.\n",
    "\n",
    "Write your code in the code cell below."
   ]
  },
  {
   "cell_type": "code",
   "execution_count": 31,
   "metadata": {
    "ExecuteTime": {
     "end_time": "2020-01-21T05:42:53.558049Z",
     "start_time": "2020-01-21T05:42:51.735089Z"
    }
   },
   "outputs": [
    {
     "name": "stdout",
     "output_type": "stream",
     "text": [
      "Enter score: 0.9\n",
      "A\n"
     ]
    }
   ],
   "source": [
    "def computegrade(score):\n",
    "    if (score<0) or (score>1):\n",
    "        raise ValueError\n",
    "    elif (score>=0.9):\n",
    "        return 'A'\n",
    "    elif score>=0.8:\n",
    "        return 'B'\n",
    "    elif score>=0.7:\n",
    "        return 'C'\n",
    "    elif score>=0.6:\n",
    "        return 'D'\n",
    "    else:\n",
    "        return 'F'\n",
    "        \n",
    "    \n",
    "        \n",
    "try:\n",
    "    grade=float(input(\"Enter score: \"))\n",
    "    print(computegrade(grade))\n",
    "except ValueError as v:\n",
    "    print(\"Bad score\")\n",
    "              "
   ]
  },
  {
   "cell_type": "code",
   "execution_count": null,
   "metadata": {},
   "outputs": [],
   "source": []
  },
  {
   "cell_type": "code",
   "execution_count": null,
   "metadata": {},
   "outputs": [],
   "source": []
  }
 ],
 "metadata": {
  "kernelspec": {
   "display_name": "Python 3",
   "language": "python",
   "name": "python3"
  },
  "language_info": {
   "codemirror_mode": {
    "name": "ipython",
    "version": 3
   },
   "file_extension": ".py",
   "mimetype": "text/x-python",
   "name": "python",
   "nbconvert_exporter": "python",
   "pygments_lexer": "ipython3",
   "version": "3.7.4"
  },
  "pycharm": {
   "stem_cell": {
    "cell_type": "raw",
    "metadata": {
     "collapsed": false
    },
    "source": []
   }
  },
  "toc": {
   "base_numbering": 1,
   "nav_menu": {},
   "number_sections": true,
   "sideBar": true,
   "skip_h1_title": false,
   "title_cell": "Table of Contents",
   "title_sidebar": "Contents",
   "toc_cell": false,
   "toc_position": {},
   "toc_section_display": true,
   "toc_window_display": false
  },
  "varInspector": {
   "cols": {
    "lenName": 16,
    "lenType": 16,
    "lenVar": 40
   },
   "kernels_config": {
    "python": {
     "delete_cmd_postfix": "",
     "delete_cmd_prefix": "del ",
     "library": "var_list.py",
     "varRefreshCmd": "print(var_dic_list())"
    },
    "r": {
     "delete_cmd_postfix": ") ",
     "delete_cmd_prefix": "rm(",
     "library": "var_list.r",
     "varRefreshCmd": "cat(var_dic_list()) "
    }
   },
   "types_to_exclude": [
    "module",
    "function",
    "builtin_function_or_method",
    "instance",
    "_Feature"
   ],
   "window_display": false
  }
 },
 "nbformat": 4,
 "nbformat_minor": 2
}
