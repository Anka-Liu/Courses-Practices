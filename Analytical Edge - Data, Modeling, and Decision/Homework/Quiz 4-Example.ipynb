{
 "cells": [
  {
   "cell_type": "markdown",
   "metadata": {},
   "source": [
    "# What is the optimal objective value of the following optimization formulation?\n",
    "\n",
    "**Data variables:**\n",
    "\n",
    "- $I$: set of products that we can make.\n",
    "- $J$: set of resources needed for production. \n",
    "- $a_{ij}$: how many units of resource $j \\in J$ is needed to produce one unit or product $i \\in I$.\n",
    "- $q_j$: the quantity of resource $j$ we have available. \n",
    "- $r_i$: the profit of selling one unit of product $i \\in I$.\n",
    "\n",
    "**Decision variables:** \n",
    "\n",
    "- $x_{i}$: amount of product $i$ to produce. (Continuous)\n",
    "\n",
    "**Objective and constraints:**\n",
    "\n",
    "$$\\begin{aligned}\n",
    "\\text{Maximize: } && \\sum_{i \\in I} r_i x_i \\\\\n",
    "\\text{Subject to:} \\\\\n",
    "\\text{(Supply of Resource)} && \\sum_{i \\in I}a_{ij}x_i & \\le q_j && \\text{for each resource $j \\in J$.} \\\\\n",
    "\\text{(Non-negativity)} && x_i & \\ge 0 \n",
    "\\end{aligned}$$"
   ]
  },
  {
   "cell_type": "code",
   "execution_count": null,
   "metadata": {},
   "outputs": [],
   "source": [
    "import pandas as pd\n",
    "I=['A','B','C','D']\n",
    "J=[1,2,3]\n",
    "a=pd.DataFrame([[5,3,1],[6,8,3],[4,3,2],[10,4,1]],index=I,columns=J)\n",
    "q=pd.Series([100,89,30],index=J)\n",
    "r=pd.Series([11,10,16,4],index=I)\n"
   ]
  },
  {
   "cell_type": "code",
   "execution_count": 3,
   "metadata": {
    "ExecuteTime": {
     "end_time": "2020-04-10T01:59:51.555035Z",
     "start_time": "2020-04-10T01:59:51.551044Z"
    }
   },
   "outputs": [],
   "source": [
    "import gurobipy as gb"
   ]
  },
  {
   "cell_type": "code",
   "execution_count": 9,
   "metadata": {
    "ExecuteTime": {
     "end_time": "2020-04-10T02:07:08.560520Z",
     "start_time": "2020-04-10T02:07:08.540576Z"
    }
   },
   "outputs": [
    {
     "name": "stdout",
     "output_type": "stream",
     "text": [
      "Gurobi Optimizer version 9.0.1 build v9.0.1rc0 (win64)\n",
      "Optimize a model with 3 rows, 4 columns and 12 nonzeros\n",
      "Model fingerprint: 0xaa2ab593\n",
      "Coefficient statistics:\n",
      "  Matrix range     [1e+00, 1e+01]\n",
      "  Objective range  [3e+00, 2e+01]\n",
      "  Bounds range     [0e+00, 0e+00]\n",
      "  RHS range        [3e+01, 1e+02]\n",
      "Presolve time: 0.00s\n",
      "Presolved: 3 rows, 4 columns, 12 nonzeros\n",
      "\n",
      "Iteration    Objective       Primal Inf.    Dual Inf.      Time\n",
      "       0    5.6000000e+31   8.500000e+30   5.600000e+01      0s\n",
      "       2    2.8000000e+02   0.000000e+00   0.000000e+00      0s\n",
      "\n",
      "Solved in 2 iterations and 0.01 seconds\n",
      "Optimal objective  2.800000000e+02\n"
     ]
    }
   ],
   "source": [
    "mod = gb.Model()\n",
    "\n",
    "X1 = mod.addVar()\n",
    "X2 = mod.addVar()\n",
    "X3 = mod.addVar()\n",
    "X4 = mod.addVar()\n",
    "\n",
    "mod.setObjective(11*X1+10*X2+16*X3+3*X4, sense=gb.GRB.MAXIMIZE)\n",
    "mod.addConstr(5*X1+6*X2+4*X3+10*X4 <= 100)\n",
    "mod.addConstr(3*X1+8*X2+3*X3+4*X4 <= 89)\n",
    "mod.addConstr(1*X1+3*X2+2*X3+1*X4 <= 30)\n",
    "\n",
    "mod.optimize()"
   ]
  },
  {
   "cell_type": "code",
   "execution_count": 10,
   "metadata": {
    "ExecuteTime": {
     "end_time": "2020-04-10T02:07:10.021636Z",
     "start_time": "2020-04-10T02:07:10.016650Z"
    }
   },
   "outputs": [
    {
     "data": {
      "text/plain": [
       "280.0"
      ]
     },
     "execution_count": 10,
     "metadata": {},
     "output_type": "execute_result"
    }
   ],
   "source": [
    "mod.objval"
   ]
  },
  {
   "cell_type": "code",
   "execution_count": null,
   "metadata": {},
   "outputs": [],
   "source": []
  }
 ],
 "metadata": {
  "kernelspec": {
   "display_name": "Python 3",
   "language": "python",
   "name": "python3"
  },
  "language_info": {
   "codemirror_mode": {
    "name": "ipython",
    "version": 3
   },
   "file_extension": ".py",
   "mimetype": "text/x-python",
   "name": "python",
   "nbconvert_exporter": "python",
   "pygments_lexer": "ipython3",
   "version": "3.7.4"
  },
  "toc": {
   "base_numbering": 1,
   "nav_menu": {},
   "number_sections": true,
   "sideBar": true,
   "skip_h1_title": false,
   "title_cell": "Table of Contents",
   "title_sidebar": "Contents",
   "toc_cell": false,
   "toc_position": {},
   "toc_section_display": true,
   "toc_window_display": false
  },
  "varInspector": {
   "cols": {
    "lenName": 16,
    "lenType": 16,
    "lenVar": 40
   },
   "kernels_config": {
    "python": {
     "delete_cmd_postfix": "",
     "delete_cmd_prefix": "del ",
     "library": "var_list.py",
     "varRefreshCmd": "print(var_dic_list())"
    },
    "r": {
     "delete_cmd_postfix": ") ",
     "delete_cmd_prefix": "rm(",
     "library": "var_list.r",
     "varRefreshCmd": "cat(var_dic_list()) "
    }
   },
   "types_to_exclude": [
    "module",
    "function",
    "builtin_function_or_method",
    "instance",
    "_Feature"
   ],
   "window_display": false
  }
 },
 "nbformat": 4,
 "nbformat_minor": 4
}
