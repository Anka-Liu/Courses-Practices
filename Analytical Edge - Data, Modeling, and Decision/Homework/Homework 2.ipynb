{
 "cells": [
  {
   "cell_type": "markdown",
   "metadata": {},
   "source": [
    "# Homework 2\n",
    "\n",
    "**Name:** Chengjun Liu\n",
    "\n",
    "\n",
    "## Q1. PY4E Chapter 5 Exercise 1\n",
    "\n",
    "Write a program which repeatedly reads numbers until the\n",
    "user enters \"done\". Once \"done\" is entered, print out the total, count, average of the numbers. If the user enters anything other than a\n",
    "number, detect their mistake using try and except and print an error\n",
    "message and skip to the next number. See sample run below.\n",
    "\n",
    "```\n",
    "Enter a number: 4\n",
    "Enter a number: 5\n",
    "Enter a number: bad data\n",
    "Invalid input\n",
    "Enter a number: 7\n",
    "Enter a number: done\n",
    "Output:\n",
    "\ttotal: 16.0,\n",
    "\tcount: 3,\n",
    "\taverage (2 decimal places): 5.33.\n",
    "```\n",
    "\n",
    "Write your code in the code cell below."
   ]
  },
  {
   "cell_type": "code",
   "execution_count": 10,
   "metadata": {
    "ExecuteTime": {
     "end_time": "2020-01-25T05:07:08.941223Z",
     "start_time": "2020-01-25T05:06:57.856821Z"
    }
   },
   "outputs": [
    {
     "name": "stdout",
     "output_type": "stream",
     "text": [
      "Enter a number: 4\n",
      "Enter a number: 5\n",
      "Enter a number: bad data\n",
      "Invalid input\n",
      "Enter a number: 7\n",
      "Enter a number: done\n",
      "Output:\n",
      "\ttotal: 16.0,\n",
      "\tcount: 3,\n",
      "\taverage (2 decimal places): 5.33.\n"
     ]
    }
   ],
   "source": [
    "def summary(numlist):\n",
    "    return sum(numlist), len(numlist), sum(numlist)/len(numlist)\n",
    "    \n",
    "\n",
    "numlist=[]\n",
    "while True:\n",
    "    try:\n",
    "        num=input(\"Enter a number: \")\n",
    "        if num=='done':\n",
    "            break\n",
    "        numlist.append(float(num))\n",
    "    except:\n",
    "        print(\"Invalid input\")\n",
    "total,count,average=summary(numlist)\n",
    "print(f\"Output:\\n\\ttotal: {total},\\n\\tcount: {count},\\n\\taverage (2 decimal places): {average:.2f}.\")"
   ]
  },
  {
   "cell_type": "markdown",
   "metadata": {},
   "source": [
    "## Q2. BMI Calculator\n",
    "\n",
    "Write a program which asks users to input their weight (in lbs) and height (in inches), and compute their body mass index (BMI), which is defind as $BMI=\\frac{W}{H^2}$, where $W$ is their weight converted to kg, and $H$ is their height converted to m. (Assume 1 kg=2.205 lbs, and 1 m = 39.37 inches.) Finally, classify their BMI according to the following chart. \n",
    "\n",
    "|Classification | BMI ($kg/m^2$) |\n",
    "|--|--|\n",
    "|Underweight: | <18.5 |\n",
    "|Normal: | 18.5 to 25 (>=18.5 but <25) |\n",
    "|Overweight: | 25 to 30 (>=25 but <30) |\n",
    "|Obese: | >=30 |\n",
    "\n",
    "The program should ensure that the weight and height the user inputs are positive numbers. If the user does not input a number, then the program should print the message `\"Invalid. Input must be a number.\"` If the user inputs a negative number or zero, the program should print the message `\"Invalid. Input must be positive.\"` See sample run below.\n",
    "\n",
    "```\n",
    "Please input your weight (in lbs): thirty\n",
    "Invalid. Input must be a number.\n",
    "Please input your weight (in lbs): 143\n",
    "Please input your height (in inches): 5'11''\n",
    "Invalid. Input must be a number.\n",
    "Please input your height (in inches): 71\n",
    "According to the above chart, your BMI is 19.94 which is normal.\n",
    "```"
   ]
  },
  {
   "cell_type": "code",
   "execution_count": 9,
   "metadata": {
    "ExecuteTime": {
     "end_time": "2020-01-25T05:00:46.454483Z",
     "start_time": "2020-01-25T05:00:30.786396Z"
    }
   },
   "outputs": [
    {
     "name": "stdout",
     "output_type": "stream",
     "text": [
      "Please input your weight (in lbs): thirty\n",
      "Invalid. Input must be a number.\n",
      "Please input your weight (in lbs): 143\n",
      "Please input your height (in inches): 5'11''\n",
      "Invalid. Input must be a number.\n",
      "Please input your height (in inches): 71\n",
      "According to the above chart, your BMI is 19.94 which is normal.\n"
     ]
    }
   ],
   "source": [
    "def bmi(weight,height):\n",
    "\n",
    "    num=(weight/2.205)/(height/39.37)**2\n",
    "    if  num < 18.5:\n",
    "        mark='underweight'\n",
    "    elif num <25:\n",
    "        mark='normal'\n",
    "    elif num <30:\n",
    "        mark='overweight'\n",
    "    else:\n",
    "        mark='obese'\n",
    "    \n",
    "    return num, mark\n",
    "\n",
    "cont=True\n",
    "while cont:\n",
    "    try:\n",
    "        weight=float(input(\"Please input your weight (in lbs): \"))\n",
    "        if weight<=0:\n",
    "            raise ArithmeticError\n",
    "        cont=False\n",
    "    except ValueError:\n",
    "        print('Invalid. Input must be a number.')\n",
    "    except ArithmeticError:\n",
    "        print(\"Invalid. Input must be positive.\")\n",
    "    \n",
    "cont=True\n",
    "while cont:\n",
    "    try:\n",
    "        height=float(input(\"Please input your height (in inches): \"))\n",
    "        if height<=0:\n",
    "            raise ArithmeticError\n",
    "        cont=False\n",
    "    except ValueError:\n",
    "        print('Invalid. Input must be a number.')\n",
    "    except ArithmeticError:\n",
    "        print(\"Invalid. Input must be positive.\")\n",
    "    \n",
    "num,mark=bmi(weight,height)\n",
    "print(f\"According to the above chart, your BMI is {num:.2f} which is {mark}.\")"
   ]
  },
  {
   "cell_type": "markdown",
   "metadata": {},
   "source": [
    "## Q3. Estimating Time of Selling Out\n",
    "\n",
    "Suppose that there are limited number of tickets to an event and your goal is to estimate how many weeks before the tickets will be sold out. \n",
    "\n",
    "Write a function `sellOutTime` with two input arguments:\n",
    "\n",
    "- `demand`: a list of positive integers, representing the forecasted demand in each week.\n",
    "- `inventory`: an integer denoting the initial supply of tickets.\n",
    "\n",
    "The function should return the week in which tickets will sell out. For example, if `demand=[50,80,89]` (representing a demand of 50 in week 1, 80 in week 2, and 90 in week 3), then \n",
    "\n",
    "- if initial inventory is 10, the tickets will sell out in week 1. (Function returns 1.)\n",
    "- if initial inventory is 50, the function should still return 1.\n",
    "- if initial inventory is 60, function should return 2. (Because supply lasts into week 2.)\n",
    "- if initial inventory is 300, function should return 4. (Supply lasts even after the 3 weeks are over.)\n"
   ]
  },
  {
   "cell_type": "code",
   "execution_count": 20,
   "metadata": {
    "ExecuteTime": {
     "end_time": "2020-01-25T05:15:03.403596Z",
     "start_time": "2020-01-25T05:15:03.393680Z"
    }
   },
   "outputs": [],
   "source": [
    "def sellOutTime(demand,inventory):\n",
    "    week=len(demand)+1\n",
    "    for i in range(len(demand)):\n",
    "        if inventory<=sum(demand[:i+1]):\n",
    "            week=i+1\n",
    "            break\n",
    "\n",
    "    return week"
   ]
  },
  {
   "cell_type": "code",
   "execution_count": 21,
   "metadata": {
    "ExecuteTime": {
     "end_time": "2020-01-25T05:15:03.751200Z",
     "start_time": "2020-01-25T05:15:03.739739Z"
    }
   },
   "outputs": [
    {
     "name": "stdout",
     "output_type": "stream",
     "text": [
      "With initial inventory 10  supply will last until week 1\n",
      "With initial inventory 50  supply will last until week 1\n",
      "With initial inventory 60  supply will last until week 2\n",
      "With initial inventory 130  supply will last until week 2\n",
      "With initial inventory 220  supply will last until week 4\n",
      "With initial inventory 500  supply will last until week 6\n",
      "With initial inventory 1000  supply will last until week 9\n"
     ]
    }
   ],
   "source": [
    "demand=[50,80,89,100,120,140,100,80]\n",
    "for inventory in [10,50,60,130,220,500,1000]:\n",
    "    print('With initial inventory',inventory,' supply will last until week',sellOutTime(demand,inventory))"
   ]
  },
  {
   "cell_type": "markdown",
   "metadata": {},
   "source": [
    "The following code illustrates the use of the function after you complete it."
   ]
  },
  {
   "cell_type": "code",
   "execution_count": 4,
   "metadata": {},
   "outputs": [
    {
     "name": "stdout",
     "output_type": "stream",
     "text": [
      "With initial inventory 10  supply will last until week 1\n",
      "With initial inventory 50  supply will last until week 1\n",
      "With initial inventory 60  supply will last until week 2\n",
      "With initial inventory 130  supply will last until week 2\n",
      "With initial inventory 220  supply will last until week 4\n",
      "With initial inventory 500  supply will last until week 6\n",
      "With initial inventory 1000  supply will last until week 9\n"
     ]
    }
   ],
   "source": [
    "demand=[50,80,89,100,120,140,100,80]\n",
    "for inventory in [10,50,60,130,220,500,1000]:\n",
    "    print('With initial inventory',inventory,' supply will last until week',sellOutTime(demand,inventory))"
   ]
  },
  {
   "cell_type": "markdown",
   "metadata": {},
   "source": [
    "## Q4. Forecasting Harvard Tuition\n",
    "\n",
    "An **exponential smoothing** forecast is given by \n",
    "\n",
    "$$ F_1 = A_0, $$\n",
    "\n",
    "$$ F_t = \\alpha A_{t-1} + (1-\\alpha) F_{t-1} \\quad \\mbox{ for } t > 1, $$\n",
    "\n",
    "where\n",
    "- $\\alpha \\in (0,1]$ is the smoothing constant chosen by the user. \n",
    "- $A_t$ is the actual value for time period $t = 0, 1, ...$, \n",
    "- $F_t$ is the forecast for time period $t = 1, ...$. (Note that there is no $F_0$ because no forecast is available for the initial period $t=0$.)\n",
    "\n",
    "The file `HWK2-tuition.csv` contains the historical tuition for Harvard MBA from 1985-2017. (Data source: https://www.kaggle.com/harvard-university/harvard-tuition) The following code illustrates how to read the data using pandas and iterate over the columns. You may want to look up the `pandas.DataFrame.loc` and `pandas.DataFrame.iloc` commands.\n",
    "\n",
    "```python\n",
    "import pandas as pd\n",
    "tuition=pd.read_csv('HWK2-tuition.csv',index_col=0)\n",
    "\n",
    "for year in tuition.index:\n",
    "    tuition.loc[year,'Tuition']\n",
    "```\n",
    "\n",
    "Write a program that applies exponential smoothing to forecast the tuition of Harvard's MBA program in 2018 using $\\alpha=0.8$, as well as the mean absolute deviation of the forecast since the year 2000, as defined by the average value of $|F_t-A_t|$ as time ranges from the year 2000 to the last year in the data. \n"
   ]
  },
  {
   "cell_type": "code",
   "execution_count": 24,
   "metadata": {
    "ExecuteTime": {
     "end_time": "2020-01-25T05:19:11.733537Z",
     "start_time": "2020-01-25T05:19:11.715648Z"
    }
   },
   "outputs": [
    {
     "data": {
      "text/html": [
       "<div>\n",
       "<style scoped>\n",
       "    .dataframe tbody tr th:only-of-type {\n",
       "        vertical-align: middle;\n",
       "    }\n",
       "\n",
       "    .dataframe tbody tr th {\n",
       "        vertical-align: top;\n",
       "    }\n",
       "\n",
       "    .dataframe thead th {\n",
       "        text-align: right;\n",
       "    }\n",
       "</style>\n",
       "<table border=\"1\" class=\"dataframe\">\n",
       "  <thead>\n",
       "    <tr style=\"text-align: right;\">\n",
       "      <th></th>\n",
       "      <th>Tuition</th>\n",
       "    </tr>\n",
       "    <tr>\n",
       "      <th>Year</th>\n",
       "      <th></th>\n",
       "    </tr>\n",
       "  </thead>\n",
       "  <tbody>\n",
       "    <tr>\n",
       "      <td>1985</td>\n",
       "      <td>10000</td>\n",
       "    </tr>\n",
       "    <tr>\n",
       "      <td>1986</td>\n",
       "      <td>10750</td>\n",
       "    </tr>\n",
       "    <tr>\n",
       "      <td>1987</td>\n",
       "      <td>11900</td>\n",
       "    </tr>\n",
       "    <tr>\n",
       "      <td>1988</td>\n",
       "      <td>13300</td>\n",
       "    </tr>\n",
       "    <tr>\n",
       "      <td>1989</td>\n",
       "      <td>14250</td>\n",
       "    </tr>\n",
       "    <tr>\n",
       "      <td>1990</td>\n",
       "      <td>15350</td>\n",
       "    </tr>\n",
       "    <tr>\n",
       "      <td>1991</td>\n",
       "      <td>16400</td>\n",
       "    </tr>\n",
       "    <tr>\n",
       "      <td>1992</td>\n",
       "      <td>17500</td>\n",
       "    </tr>\n",
       "    <tr>\n",
       "      <td>1993</td>\n",
       "      <td>18550</td>\n",
       "    </tr>\n",
       "    <tr>\n",
       "      <td>1994</td>\n",
       "      <td>19750</td>\n",
       "    </tr>\n",
       "    <tr>\n",
       "      <td>1995</td>\n",
       "      <td>21000</td>\n",
       "    </tr>\n",
       "    <tr>\n",
       "      <td>1996</td>\n",
       "      <td>22700</td>\n",
       "    </tr>\n",
       "    <tr>\n",
       "      <td>1997</td>\n",
       "      <td>23840</td>\n",
       "    </tr>\n",
       "    <tr>\n",
       "      <td>1998</td>\n",
       "      <td>25000</td>\n",
       "    </tr>\n",
       "    <tr>\n",
       "      <td>1999</td>\n",
       "      <td>26260</td>\n",
       "    </tr>\n",
       "    <tr>\n",
       "      <td>2000</td>\n",
       "      <td>27250</td>\n",
       "    </tr>\n",
       "    <tr>\n",
       "      <td>2001</td>\n",
       "      <td>28500</td>\n",
       "    </tr>\n",
       "    <tr>\n",
       "      <td>2002</td>\n",
       "      <td>30050</td>\n",
       "    </tr>\n",
       "    <tr>\n",
       "      <td>2003</td>\n",
       "      <td>31800</td>\n",
       "    </tr>\n",
       "    <tr>\n",
       "      <td>2004</td>\n",
       "      <td>33650</td>\n",
       "    </tr>\n",
       "    <tr>\n",
       "      <td>2005</td>\n",
       "      <td>35600</td>\n",
       "    </tr>\n",
       "    <tr>\n",
       "      <td>2006</td>\n",
       "      <td>37500</td>\n",
       "    </tr>\n",
       "    <tr>\n",
       "      <td>2007</td>\n",
       "      <td>39600</td>\n",
       "    </tr>\n",
       "    <tr>\n",
       "      <td>2008</td>\n",
       "      <td>41900</td>\n",
       "    </tr>\n",
       "    <tr>\n",
       "      <td>2009</td>\n",
       "      <td>43800</td>\n",
       "    </tr>\n",
       "    <tr>\n",
       "      <td>2010</td>\n",
       "      <td>46150</td>\n",
       "    </tr>\n",
       "    <tr>\n",
       "      <td>2011</td>\n",
       "      <td>48600</td>\n",
       "    </tr>\n",
       "    <tr>\n",
       "      <td>2012</td>\n",
       "      <td>51200</td>\n",
       "    </tr>\n",
       "    <tr>\n",
       "      <td>2013</td>\n",
       "      <td>53500</td>\n",
       "    </tr>\n",
       "    <tr>\n",
       "      <td>2014</td>\n",
       "      <td>56175</td>\n",
       "    </tr>\n",
       "    <tr>\n",
       "      <td>2015</td>\n",
       "      <td>58875</td>\n",
       "    </tr>\n",
       "    <tr>\n",
       "      <td>2016</td>\n",
       "      <td>61225</td>\n",
       "    </tr>\n",
       "    <tr>\n",
       "      <td>2017</td>\n",
       "      <td>63675</td>\n",
       "    </tr>\n",
       "  </tbody>\n",
       "</table>\n",
       "</div>"
      ],
      "text/plain": [
       "      Tuition\n",
       "Year         \n",
       "1985    10000\n",
       "1986    10750\n",
       "1987    11900\n",
       "1988    13300\n",
       "1989    14250\n",
       "1990    15350\n",
       "1991    16400\n",
       "1992    17500\n",
       "1993    18550\n",
       "1994    19750\n",
       "1995    21000\n",
       "1996    22700\n",
       "1997    23840\n",
       "1998    25000\n",
       "1999    26260\n",
       "2000    27250\n",
       "2001    28500\n",
       "2002    30050\n",
       "2003    31800\n",
       "2004    33650\n",
       "2005    35600\n",
       "2006    37500\n",
       "2007    39600\n",
       "2008    41900\n",
       "2009    43800\n",
       "2010    46150\n",
       "2011    48600\n",
       "2012    51200\n",
       "2013    53500\n",
       "2014    56175\n",
       "2015    58875\n",
       "2016    61225\n",
       "2017    63675"
      ]
     },
     "execution_count": 24,
     "metadata": {},
     "output_type": "execute_result"
    }
   ],
   "source": [
    "import pandas as pd\n",
    "tuition=pd.read_csv('HWK2-tuition.csv',index_col=0)\n",
    "\n",
    "tuition"
   ]
  },
  {
   "cell_type": "code",
   "execution_count": 35,
   "metadata": {
    "ExecuteTime": {
     "end_time": "2020-01-25T05:33:51.525433Z",
     "start_time": "2020-01-25T05:33:51.507839Z"
    }
   },
   "outputs": [],
   "source": [
    "Forward=[tuition.Tuition[tuition.index[0]]]\n",
    "for i in range(len(tuition.Tuition)-1):\n",
    "    Forward.append(0.2*Forward[i]+0.8*tuition.Tuition[tuition.index[i+1]])\n",
    "\n",
    "tui18=Forward[-1]\n",
    "\n",
    "abses=[]\n",
    "for i in range(tuition.index[-1]+1-2000):\n",
    "    abses.append(abs(Forward[-(i+2)]-list(tuition.Tuition)[-(i+1)]))\n",
    "    \n",
    "mae=sum(abses)/len(abses)"
   ]
  },
  {
   "cell_type": "code",
   "execution_count": 19,
   "metadata": {},
   "outputs": [
    {
     "name": "stdout",
     "output_type": "stream",
     "text": [
      "The tuition forecast for 2018 is $63064.18.\n",
      "The mean absolute error of the forecast since Year 2000 is $2577.42.\n"
     ]
    }
   ],
   "source": []
  },
  {
   "cell_type": "code",
   "execution_count": 36,
   "metadata": {
    "ExecuteTime": {
     "end_time": "2020-01-25T05:34:57.152544Z",
     "start_time": "2020-01-25T05:34:57.147499Z"
    }
   },
   "outputs": [
    {
     "name": "stdout",
     "output_type": "stream",
     "text": [
      "The tuition forecast for 2018 is $63064.18.\n",
      "The mean absolute error of the forecast since Year 2000 is $2577.42.\n"
     ]
    }
   ],
   "source": [
    "print(f\"The tuition forecast for 2018 is ${tui18:.2f}.\\nThe mean absolute error of the forecast since Year 2000 is ${mae:.2f}.\")"
   ]
  },
  {
   "cell_type": "code",
   "execution_count": null,
   "metadata": {},
   "outputs": [],
   "source": []
  }
 ],
 "metadata": {
  "kernelspec": {
   "display_name": "Python 3",
   "language": "python",
   "name": "python3"
  },
  "language_info": {
   "codemirror_mode": {
    "name": "ipython",
    "version": 3
   },
   "file_extension": ".py",
   "mimetype": "text/x-python",
   "name": "python",
   "nbconvert_exporter": "python",
   "pygments_lexer": "ipython3",
   "version": "3.7.4"
  },
  "toc": {
   "base_numbering": 1,
   "nav_menu": {},
   "number_sections": true,
   "sideBar": true,
   "skip_h1_title": false,
   "title_cell": "Table of Contents",
   "title_sidebar": "Contents",
   "toc_cell": false,
   "toc_position": {},
   "toc_section_display": true,
   "toc_window_display": false
  },
  "varInspector": {
   "cols": {
    "lenName": 16,
    "lenType": 16,
    "lenVar": 40
   },
   "kernels_config": {
    "python": {
     "delete_cmd_postfix": "",
     "delete_cmd_prefix": "del ",
     "library": "var_list.py",
     "varRefreshCmd": "print(var_dic_list())"
    },
    "r": {
     "delete_cmd_postfix": ") ",
     "delete_cmd_prefix": "rm(",
     "library": "var_list.r",
     "varRefreshCmd": "cat(var_dic_list()) "
    }
   },
   "types_to_exclude": [
    "module",
    "function",
    "builtin_function_or_method",
    "instance",
    "_Feature"
   ],
   "window_display": false
  }
 },
 "nbformat": 4,
 "nbformat_minor": 2
}
