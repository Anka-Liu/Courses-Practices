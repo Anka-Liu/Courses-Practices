{
 "cells": [
  {
   "cell_type": "code",
   "execution_count": null,
   "metadata": {},
   "outputs": [],
   "source": [
    "import pandas as pd \n",
    "import gurobipy as gp\n",
    "prefs=pd.read_excel('data(1).xlsx',header=[0,1,2],sheet_name='Preferences',index_col=0)\n",
    "pref_values=prefs.values\n",
    "req=pd.read_excel('data(1).xlsx',sheet_name='Requirements',index_col=0)\n",
    "req_values=req.values\n",
    "\n",
    "slist=range(len(req))\n",
    "jlist=range(len(prefs))\n",
    "nightlist=range(2,len(req),3)\n",
    "\n",
    "mod=gp.Model()\n",
    "\n",
    "X=mod.addVars(len(prefs),len(req),vtype=gp.GRB.BINARY)\n",
    "M=mod.addVar()\n",
    "N=mod.addVar()\n",
    "m=mod.addVar()\n",
    "n=mod.addVar()\n",
    "\n",
    "prefscore=gp.quicksum(X[j,s]*pref_values[j,s] for j in jlist for s in slist)\n",
    "mod.setObjective(prefscore-100*(M-N)-150*(m-n),sense=gp.GRB.MAXIMIZE)\n",
    "\n",
    "mod.addConstrs(gp.quicksum(X[j,s] for s in slist)<=M for j in jlist)\n",
    "mod.addConstrs(gp.quicksum(X[j,s] for s in slist)>=N for j in jlist)\n",
    "mod.addConstrs(gp.quicksum(X[j,s] for s in nightlist)<=m for j in jlist)\n",
    "mod.addConstrs(gp.quicksum(X[j,s] for s in nightlist)>=n for j in jlist)\n",
    "mod.addConstrs(gp.quicksum(X[j,s] for j in jlist)==req_values[s,2] for s in slist)\n",
    "mod.addConstrs(X[j,s]<=pref_values[j,s] for j in jlist for s in slist)\n",
    "mod.addConstrs(X[j,s]+X[j,s+1]<=1 for j in jlist for s in range(len(req)-1))\n",
    "mod.addConstrs(X[j,s-2]+X[j,s]<=1 for j in jlist for s in nightlist)\n",
    "mod.addConstrs(X[j,s+2]+X[j,s]<=1 for j in jlist for s in nightlist[:-1])\n",
    "mod.addConstrs(gp.quicksum(X[j,s+i] for i in range(21))<=6 for j in jlist for s in range(0,len(req),21))\n",
    "\n",
    "mod.optimize()\n",
    "\n",
    "schedule=prefs.copy()\n",
    "for i,j in X:\n",
    "    schedule.iloc[i,j]=X[i,j].X\n",
    "\n",
    "summary=pd.DataFrame({'Value':[mod.objVal,prefscore.getValue(),M.X-N.X,m.X-n.X]},index=['Objective','Total preference score','Shift inequality','Night inequality'])\n",
    "\n",
    "with pd.ExcelWriter('output_for_data.xlsx') as writer:\n",
    "    schedule.to_excel(writer, sheet_name='Schedule')\n",
    "    summary.to_excel(writer, sheet_name='Summary', index=False)"
   ]
  },
  {
   "cell_type": "code",
   "execution_count": null,
   "metadata": {},
   "outputs": [],
   "source": [
    "mod=Model()\n",
    "\n",
    "X=mod.addVars(n)\n",
    "sigma=mod.addVars(n)\n",
    "z=mod.addVars(n.vtype=GRB.BINARY)\n",
    "\n",
    "mod.setObjective(R[i]*X[i])\n",
    "mod.addConstr(sum(X)=1)\n",
    "mod.addConstr(quicksum(X[i]*X[j] for i in range(n) for j in range(n))<=theta)\n",
    "mod.addConstrs(X[i]-w[i]<=sigma[i] for i in range(n))\n",
    "mod.addConstrs(-(X[i]-w[i])<=sigma[i] for i in range(n))\n",
    "mod.addConstr(1/2*sum(sigma)<=delta)\n",
    "mod.addConstr(eta<=delta)"
   ]
  }
 ],
 "metadata": {
  "kernelspec": {
   "display_name": "Python 3",
   "language": "python",
   "name": "python3"
  },
  "language_info": {
   "codemirror_mode": {
    "name": "ipython",
    "version": 3
   },
   "file_extension": ".py",
   "mimetype": "text/x-python",
   "name": "python",
   "nbconvert_exporter": "python",
   "pygments_lexer": "ipython3",
   "version": "3.7.4"
  },
  "toc": {
   "base_numbering": 1,
   "nav_menu": {},
   "number_sections": true,
   "sideBar": true,
   "skip_h1_title": false,
   "title_cell": "Table of Contents",
   "title_sidebar": "Contents",
   "toc_cell": false,
   "toc_position": {},
   "toc_section_display": true,
   "toc_window_display": false
  },
  "varInspector": {
   "cols": {
    "lenName": 16,
    "lenType": 16,
    "lenVar": 40
   },
   "kernels_config": {
    "python": {
     "delete_cmd_postfix": "",
     "delete_cmd_prefix": "del ",
     "library": "var_list.py",
     "varRefreshCmd": "print(var_dic_list())"
    },
    "r": {
     "delete_cmd_postfix": ") ",
     "delete_cmd_prefix": "rm(",
     "library": "var_list.r",
     "varRefreshCmd": "cat(var_dic_list()) "
    }
   },
   "types_to_exclude": [
    "module",
    "function",
    "builtin_function_or_method",
    "instance",
    "_Feature"
   ],
   "window_display": false
  }
 },
 "nbformat": 4,
 "nbformat_minor": 2
}
