{
 "cells": [
  {
   "cell_type": "markdown",
   "metadata": {},
   "source": [
    "# Lab 1: Report of Optimizing Revenue for Trojan Airlines"
   ]
  },
  {
   "cell_type": "markdown",
   "metadata": {},
   "source": [
    "### Name: Chengjun Liu"
   ]
  },
  {
   "cell_type": "markdown",
   "metadata": {},
   "source": [
    "## Executive Report"
   ]
  },
  {
   "cell_type": "markdown",
   "metadata": {},
   "source": [
    "According to the business background, we constructed the simulated customer model and optimized over three pricing models.   \n",
    "With 100 simulation of customer lists and take average performance of revenues, we conclude the maximum profits for three policies:\n",
    "\n",
    "1. For constant pricing policy, the optimal price should be p=250, with predicted maximum profit of 2487.5\n",
    "\n",
    "2. For dynamic pricing policy, the optimal price should be p1=235 and p2=315, with predicted maximum profit of 3293.3\n",
    "\n",
    "2. For capacity rationing policy, the optimal price should be p1=235, p2=325, and seats l=35, with predicted maximum profit of 3775.75"
   ]
  },
  {
   "cell_type": "markdown",
   "metadata": {},
   "source": [
    "## Generating Customers"
   ]
  },
  {
   "cell_type": "code",
   "execution_count": 2,
   "metadata": {
    "ExecuteTime": {
     "end_time": "2020-02-25T04:00:07.744122Z",
     "start_time": "2020-02-25T04:00:04.565239Z"
    },
    "pycharm": {
     "is_executing": false
    }
   },
   "outputs": [],
   "source": [
    "from scipy.stats import uniform, norm\n",
    "import pandas as pd"
   ]
  },
  {
   "cell_type": "code",
   "execution_count": 3,
   "metadata": {
    "ExecuteTime": {
     "end_time": "2020-02-25T04:00:09.539343Z",
     "start_time": "2020-02-25T04:00:09.532360Z"
    },
    "pycharm": {
     "is_executing": false
    }
   },
   "outputs": [],
   "source": [
    "num_leisure = norm(loc=200, scale=60).rvs()\n",
    "num_business = norm(loc=60, scale=20).rvs()\n",
    "\n",
    "num_leisure = int(round((num_leisure if num_leisure >= 0 else 0), ndigits=0))\n",
    "num_business = int(\n",
    "    round((num_business if num_business >= 0 else 0), ndigits=0))"
   ]
  },
  {
   "cell_type": "code",
   "execution_count": 5,
   "metadata": {
    "ExecuteTime": {
     "end_time": "2020-02-25T04:00:31.367293Z",
     "start_time": "2020-02-25T04:00:31.358337Z"
    },
    "pycharm": {
     "is_executing": false
    }
   },
   "outputs": [],
   "source": [
    "arrival_leisure = uniform(loc=0, scale=180).rvs(num_leisure)\n",
    "arrival_business = uniform(loc=0, scale=14).rvs(num_business)\n",
    "\n",
    "val_leisure = norm(loc=200, scale=80).rvs(num_leisure)\n",
    "val_business = norm(loc=350, scale=120).rvs(num_business)"
   ]
  },
  {
   "cell_type": "code",
   "execution_count": 6,
   "metadata": {
    "ExecuteTime": {
     "end_time": "2020-02-25T04:00:32.141771Z",
     "start_time": "2020-02-25T04:00:32.134796Z"
    }
   },
   "outputs": [],
   "source": [
    "arrival_concat = list(arrival_leisure)+list(arrival_business)\n",
    "val_concat = list(val_leisure)+list(val_business)"
   ]
  },
  {
   "cell_type": "code",
   "execution_count": 10,
   "metadata": {
    "ExecuteTime": {
     "end_time": "2020-02-25T04:01:29.604906Z",
     "start_time": "2020-02-25T04:01:29.595961Z"
    }
   },
   "outputs": [
    {
     "data": {
      "text/html": [
       "<div>\n",
       "<style scoped>\n",
       "    .dataframe tbody tr th:only-of-type {\n",
       "        vertical-align: middle;\n",
       "    }\n",
       "\n",
       "    .dataframe tbody tr th {\n",
       "        vertical-align: top;\n",
       "    }\n",
       "\n",
       "    .dataframe thead th {\n",
       "        text-align: right;\n",
       "    }\n",
       "</style>\n",
       "<table border=\"1\" class=\"dataframe\">\n",
       "  <thead>\n",
       "    <tr style=\"text-align: right;\">\n",
       "      <th></th>\n",
       "      <th>arrival_time</th>\n",
       "      <th>valuation</th>\n",
       "    </tr>\n",
       "  </thead>\n",
       "  <tbody>\n",
       "    <tr>\n",
       "      <td>43</td>\n",
       "      <td>178.570891</td>\n",
       "      <td>233.849023</td>\n",
       "    </tr>\n",
       "    <tr>\n",
       "      <td>44</td>\n",
       "      <td>178.531604</td>\n",
       "      <td>142.722531</td>\n",
       "    </tr>\n",
       "    <tr>\n",
       "      <td>18</td>\n",
       "      <td>178.315995</td>\n",
       "      <td>-4.142661</td>\n",
       "    </tr>\n",
       "    <tr>\n",
       "      <td>131</td>\n",
       "      <td>178.312841</td>\n",
       "      <td>83.560471</td>\n",
       "    </tr>\n",
       "    <tr>\n",
       "      <td>106</td>\n",
       "      <td>178.009540</td>\n",
       "      <td>263.590197</td>\n",
       "    </tr>\n",
       "  </tbody>\n",
       "</table>\n",
       "</div>"
      ],
      "text/plain": [
       "     arrival_time   valuation\n",
       "43     178.570891  233.849023\n",
       "44     178.531604  142.722531\n",
       "18     178.315995   -4.142661\n",
       "131    178.312841   83.560471\n",
       "106    178.009540  263.590197"
      ]
     },
     "execution_count": 10,
     "metadata": {},
     "output_type": "execute_result"
    }
   ],
   "source": [
    "table = pd.DataFrame({\"arrival_time\": arrival_concat,\n",
    "                      \"valuation\": val_concat}).sort_values('arrival_time',ascending=False)\n",
    "\n",
    "table.head()"
   ]
  },
  {
   "cell_type": "code",
   "execution_count": 11,
   "metadata": {
    "ExecuteTime": {
     "end_time": "2020-02-25T04:01:35.913198Z",
     "start_time": "2020-02-25T04:01:35.895288Z"
    },
    "pycharm": {
     "is_executing": false
    }
   },
   "outputs": [],
   "source": [
    "# this is the answer for the function.\n",
    "def generateCustomers():\n",
    "    num_leisure = norm(loc=200, scale=60).rvs()\n",
    "    num_business = norm(loc=60, scale=20).rvs()\n",
    "\n",
    "    num_leisure = int(\n",
    "        round((num_leisure if num_leisure >= 0 else 0), ndigits=0))\n",
    "    num_business = int(\n",
    "        round((num_business if num_business >= 0 else 0), ndigits=0))\n",
    "    arrival_leisure = uniform(loc=0, scale=180).rvs(num_leisure)\n",
    "    arrival_business = uniform(loc=0, scale=14).rvs(num_business)\n",
    "\n",
    "    val_leisure = norm(loc=200, scale=80).rvs(num_leisure)\n",
    "    val_business = norm(loc=350, scale=120).rvs(num_business)\n",
    "    arrival_concat = list(arrival_leisure)+list(arrival_business)\n",
    "    val_concat = list(val_leisure)+list(val_business)\n",
    "\n",
    "    table = pd.DataFrame({\"arrival_time\": arrival_concat, \"valuation\": val_concat}).sort_values(\n",
    "        'arrival_time', ascending=False)\n",
    "    return table"
   ]
  },
  {
   "cell_type": "code",
   "execution_count": 12,
   "metadata": {
    "ExecuteTime": {
     "end_time": "2020-02-25T04:01:39.286764Z",
     "start_time": "2020-02-25T04:01:39.269810Z"
    }
   },
   "outputs": [
    {
     "data": {
      "text/html": [
       "<div>\n",
       "<style scoped>\n",
       "    .dataframe tbody tr th:only-of-type {\n",
       "        vertical-align: middle;\n",
       "    }\n",
       "\n",
       "    .dataframe tbody tr th {\n",
       "        vertical-align: top;\n",
       "    }\n",
       "\n",
       "    .dataframe thead th {\n",
       "        text-align: right;\n",
       "    }\n",
       "</style>\n",
       "<table border=\"1\" class=\"dataframe\">\n",
       "  <thead>\n",
       "    <tr style=\"text-align: right;\">\n",
       "      <th></th>\n",
       "      <th>arrival_time</th>\n",
       "      <th>valuation</th>\n",
       "    </tr>\n",
       "  </thead>\n",
       "  <tbody>\n",
       "    <tr>\n",
       "      <td>192</td>\n",
       "      <td>179.724208</td>\n",
       "      <td>169.397984</td>\n",
       "    </tr>\n",
       "    <tr>\n",
       "      <td>222</td>\n",
       "      <td>179.503688</td>\n",
       "      <td>189.344036</td>\n",
       "    </tr>\n",
       "    <tr>\n",
       "      <td>187</td>\n",
       "      <td>179.481279</td>\n",
       "      <td>152.153355</td>\n",
       "    </tr>\n",
       "    <tr>\n",
       "      <td>128</td>\n",
       "      <td>179.459467</td>\n",
       "      <td>30.358386</td>\n",
       "    </tr>\n",
       "    <tr>\n",
       "      <td>158</td>\n",
       "      <td>179.208888</td>\n",
       "      <td>99.089500</td>\n",
       "    </tr>\n",
       "    <tr>\n",
       "      <td>...</td>\n",
       "      <td>...</td>\n",
       "      <td>...</td>\n",
       "    </tr>\n",
       "    <tr>\n",
       "      <td>98</td>\n",
       "      <td>0.568722</td>\n",
       "      <td>221.445158</td>\n",
       "    </tr>\n",
       "    <tr>\n",
       "      <td>242</td>\n",
       "      <td>0.520480</td>\n",
       "      <td>188.743208</td>\n",
       "    </tr>\n",
       "    <tr>\n",
       "      <td>31</td>\n",
       "      <td>0.342217</td>\n",
       "      <td>350.314528</td>\n",
       "    </tr>\n",
       "    <tr>\n",
       "      <td>24</td>\n",
       "      <td>0.124406</td>\n",
       "      <td>117.960478</td>\n",
       "    </tr>\n",
       "    <tr>\n",
       "      <td>60</td>\n",
       "      <td>0.009850</td>\n",
       "      <td>324.065811</td>\n",
       "    </tr>\n",
       "  </tbody>\n",
       "</table>\n",
       "<p>276 rows × 2 columns</p>\n",
       "</div>"
      ],
      "text/plain": [
       "     arrival_time   valuation\n",
       "192    179.724208  169.397984\n",
       "222    179.503688  189.344036\n",
       "187    179.481279  152.153355\n",
       "128    179.459467   30.358386\n",
       "158    179.208888   99.089500\n",
       "..            ...         ...\n",
       "98       0.568722  221.445158\n",
       "242      0.520480  188.743208\n",
       "31       0.342217  350.314528\n",
       "24       0.124406  117.960478\n",
       "60       0.009850  324.065811\n",
       "\n",
       "[276 rows x 2 columns]"
      ]
     },
     "execution_count": 12,
     "metadata": {},
     "output_type": "execute_result"
    }
   ],
   "source": [
    "generateCustomers()"
   ]
  },
  {
   "cell_type": "code",
   "execution_count": 14,
   "metadata": {
    "ExecuteTime": {
     "end_time": "2020-02-25T04:01:56.354607Z",
     "start_time": "2020-02-25T04:01:56.093248Z"
    }
   },
   "outputs": [
    {
     "data": {
      "text/plain": [
       "<matplotlib.axes._subplots.AxesSubplot at 0x1f606af6148>"
      ]
     },
     "execution_count": 14,
     "metadata": {},
     "output_type": "execute_result"
    },
    {
     "data": {
      "image/png": "[encoded data removed]",
      "text/plain": [
       "<Figure size 432x288 with 1 Axes>"
      ]
     },
     "metadata": {
      "needs_background": "light"
     },
     "output_type": "display_data"
    }
   ],
   "source": [
    "# for code check\n",
    "import numpy as np\n",
    "np.random.seed(0)\n",
    "pd.concat([generateCustomers() for i in range(20)])\\\n",
    "    .plot(x='arrival_time', y='valuation', kind='scatter')"
   ]
  },
  {
   "cell_type": "markdown",
   "metadata": {},
   "source": [
    "## Simulating Pricing Policies"
   ]
  },
  {
   "cell_type": "code",
   "execution_count": 15,
   "metadata": {
    "ExecuteTime": {
     "end_time": "2020-02-25T04:02:10.722567Z",
     "start_time": "2020-02-25T04:02:10.711600Z"
    },
    "pycharm": {
     "is_executing": false
    }
   },
   "outputs": [],
   "source": [
    "def simulateConstant(customers, seats, p):\n",
    "    occupy, revenue = 0, 0\n",
    "    for i in range(len(customers)):\n",
    "        if customers.iloc[i, 1] >= p:\n",
    "            occupy += 1\n",
    "            revenue += p\n",
    "        if occupy == seats:\n",
    "            break\n",
    "    return revenue\n",
    "\n",
    "\n",
    "def simulateDynamic(customers, seats, p1, p2):\n",
    "    occupy, revenue = 0, 0\n",
    "    for i in range(len(customers)):\n",
    "        if customers.iloc[i, 0] > 14:\n",
    "            if customers.iloc[i, 1] >= p1:\n",
    "                occupy += 1\n",
    "                revenue += p1\n",
    "        else:\n",
    "            if customers.iloc[i, 1] >= p2:\n",
    "                occupy += 1\n",
    "                revenue += p2\n",
    "        if occupy == seats:\n",
    "            break\n",
    "    return revenue\n",
    "\n",
    "\n",
    "def simulateRationing(customers, seats, p1, p2, l):\n",
    "    occupy, revenue = 0, 0\n",
    "    for i in range(len(customers)):\n",
    "        if (seats-occupy) > l:\n",
    "            if customers.iloc[i, 1] >= p1:\n",
    "                occupy += 1\n",
    "                revenue += p1\n",
    "        else:\n",
    "            if customers.iloc[i, 1] >= p2:\n",
    "                occupy += 1\n",
    "                revenue += p2\n",
    "        if occupy == seats:\n",
    "            break\n",
    "    return revenue"
   ]
  },
  {
   "cell_type": "code",
   "execution_count": 16,
   "metadata": {
    "ExecuteTime": {
     "end_time": "2020-02-25T04:02:12.492159Z",
     "start_time": "2020-02-25T04:02:12.479201Z"
    },
    "pycharm": {
     "is_executing": false
    }
   },
   "outputs": [
    {
     "name": "stdout",
     "output_type": "stream",
     "text": [
      "Constant policy with 2 seats p=50 \t: 100\n",
      "Constant policy with 2 seats p=100 \t: 100\n",
      "Dynamic policy with 3 seats p1=40, p2=95 \t: 175\n",
      "Dynamic policy with 2 seats p1=40, p2=95 \t: 80\n",
      "Dynamic policy with 1 seats p1=50, p2=100 \t: 50\n",
      "Rationing policy with 3 seats p1=40, p2=100, l=1 \t: 180\n",
      "Rationing policy with 2 seats p1=40, p2=100, l=1 \t: 140\n",
      "Rationing policy with 1 seats p1=40, p2=95, l=1 \t: 95\n"
     ]
    }
   ],
   "source": [
    "data = [[170, 50], [150, 40], [13, 95], [12, 100]]\n",
    "customers = pd.DataFrame(data, columns=['arrival_time', 'valuation'])\n",
    "print('Constant policy with 2 seats p=50 \\t:',\n",
    "      simulateConstant(customers, 2, 50))\n",
    "print('Constant policy with 2 seats p=100 \\t:',\n",
    "      simulateConstant(customers, 2, 100))\n",
    "print('Dynamic policy with 3 seats p1=40, p2=95 \\t:',\n",
    "      simulateDynamic(customers, 3, 40, 95))\n",
    "print('Dynamic policy with 2 seats p1=40, p2=95 \\t:',\n",
    "      simulateDynamic(customers, 2, 40, 95))\n",
    "print('Dynamic policy with 1 seats p1=50, p2=100 \\t:',\n",
    "      simulateDynamic(customers, 1, 50, 100))\n",
    "print('Rationing policy with 3 seats p1=40, p2=100, l=1 \\t:',\n",
    "      simulateRationing(customers, 3, 40, 100, 1))\n",
    "print('Rationing policy with 2 seats p1=40, p2=100, l=1 \\t:',\n",
    "      simulateRationing(customers, 2, 40, 100, 1))\n",
    "print('Rationing policy with 1 seats p1=40, p2=95, l=1 \\t:',\n",
    "      simulateRationing(customers, 1, 40, 95, 1))"
   ]
  },
  {
   "cell_type": "markdown",
   "metadata": {},
   "source": [
    "## Optimizing Parameters"
   ]
  },
  {
   "cell_type": "code",
   "execution_count": 17,
   "metadata": {
    "ExecuteTime": {
     "end_time": "2020-02-25T04:02:43.944508Z",
     "start_time": "2020-02-25T04:02:41.092182Z"
    },
    "pycharm": {
     "is_executing": false,
     "name": "#%%\n"
    }
   },
   "outputs": [],
   "source": [
    "# simulate 100 curves to see a general maximum distribution\n",
    "\n",
    "Customer_List=[]\n",
    "\n",
    "for i in range(100):\n",
    "    Customer_List.append(generateCustomers())\n",
    "\n",
    "def find_revenue_constant(customer_list,p_list):\n",
    "    max_list=[]\n",
    "    for i in range(len(customer_list)):\n",
    "        max_for_p=[]\n",
    "        for p in p_list:\n",
    "            max_for_p.append(simulateConstant(customer_list[i],100,p))\n",
    "        max_list.append(max_for_p)\n",
    "    \n",
    "    return max_list\n",
    "\n",
    "p_list=range(50,401,20)\n",
    "matrice=find_revenue_constant(Customer_List,p_list)\n"
   ]
  },
  {
   "cell_type": "code",
   "execution_count": 18,
   "metadata": {
    "ExecuteTime": {
     "end_time": "2020-02-25T04:02:47.523467Z",
     "start_time": "2020-02-25T04:02:44.305209Z"
    },
    "pycharm": {
     "is_executing": false,
     "name": "#%% \n"
    }
   },
   "outputs": [
    {
     "data": {
      "image/png": "[encoded data removed]",
      "text/plain": [
       "<Figure size 432x288 with 1 Axes>"
      ]
     },
     "metadata": {
      "needs_background": "light"
     },
     "output_type": "display_data"
    }
   ],
   "source": [
    "import matplotlib.pyplot as plt\n",
    "import numpy as np\n",
    "plt.plot(p_list,np.array(matrice).T)\n",
    "plt.show()"
   ]
  },
  {
   "cell_type": "code",
   "execution_count": 19,
   "metadata": {
    "ExecuteTime": {
     "end_time": "2020-02-25T04:02:59.238159Z",
     "start_time": "2020-02-25T04:02:59.233173Z"
    },
    "pycharm": {
     "is_executing": false,
     "name": "#%%\n"
    }
   },
   "outputs": [],
   "source": [
    "# test for defining maximum function for constant instance\n",
    "\n",
    "def find_revenue_constant(customer_list,p_list):\n",
    "    max_list=[]\n",
    "    for p in p_list:\n",
    "        max_for_p=[]\n",
    "        for i in range(len(customer_list)):\n",
    "            max_for_p.append(simulateConstant(customer_list[i],100,p))\n",
    "        max_list.append(np.mean(max_for_p))\n",
    "    \n",
    "    return max_list"
   ]
  },
  {
   "cell_type": "code",
   "execution_count": 20,
   "metadata": {
    "ExecuteTime": {
     "end_time": "2020-02-25T04:03:03.419513Z",
     "start_time": "2020-02-25T04:03:00.735740Z"
    },
    "pycharm": {
     "is_executing": false,
     "name": "#%%\n"
    }
   },
   "outputs": [
    {
     "data": {
      "text/plain": [
       "[<matplotlib.lines.Line2D at 0x1f606d3c648>]"
      ]
     },
     "execution_count": 20,
     "metadata": {},
     "output_type": "execute_result"
    },
    {
     "data": {
      "image/png": "[encoded data removed]",
      "text/plain": [
       "<Figure size 432x288 with 1 Axes>"
      ]
     },
     "metadata": {
      "needs_background": "light"
     },
     "output_type": "display_data"
    }
   ],
   "source": [
    "matrice=find_revenue_constant(Customer_List,p_list)\n",
    "plt.plot(p_list,matrice)"
   ]
  },
  {
   "cell_type": "code",
   "execution_count": 21,
   "metadata": {
    "ExecuteTime": {
     "end_time": "2020-02-25T04:03:08.748560Z",
     "start_time": "2020-02-25T04:03:03.785496Z"
    },
    "pycharm": {
     "is_executing": false,
     "name": "#%%\n"
    }
   },
   "outputs": [
    {
     "data": {
      "text/plain": [
       "[<matplotlib.lines.Line2D at 0x1f606264088>]"
      ]
     },
     "execution_count": 21,
     "metadata": {},
     "output_type": "execute_result"
    },
    {
     "data": {
      "image/png": "[encoded data removed]",
      "text/plain": [
       "<Figure size 432x288 with 1 Axes>"
      ]
     },
     "metadata": {
      "needs_background": "light"
     },
     "output_type": "display_data"
    }
   ],
   "source": [
    "p_list=range(150,301,5)\n",
    "matrice=find_revenue_constant(Customer_List,p_list)\n",
    "plt.plot(p_list,matrice)"
   ]
  },
  {
   "cell_type": "code",
   "execution_count": 22,
   "metadata": {
    "ExecuteTime": {
     "end_time": "2020-02-25T04:03:09.882938Z",
     "start_time": "2020-02-25T04:03:09.865948Z"
    },
    "pycharm": {
     "is_executing": false,
     "name": "#%%\n"
    }
   },
   "outputs": [],
   "source": [
    "# formal definitions of three instances\n",
    "\n",
    "def find_revenue_constant(customer_list,p_list):\n",
    "    max_list=[]\n",
    "    for p in p_list:\n",
    "        max_for_p=[]\n",
    "        for i in range(len(customer_list)):\n",
    "            max_for_p.append(simulateConstant(customer_list[i],100,p))\n",
    "        max_list.append(np.mean(max_for_p))\n",
    "        \n",
    "    return dict(zip(p_list,max_list))\n",
    "\n",
    "\n",
    "def find_revenue_dynamic(customer_list,p1_list,p2_list):\n",
    "    max_list=[]\n",
    "    p_list=[]\n",
    "    for p1 in p1_list:\n",
    "        for p2 in p2_list:\n",
    "            max_for_p=[]\n",
    "            for i in range(len(customer_list)):\n",
    "                max_for_p.append(simulateDynamic(customer_list[i],100,p1,p2))\n",
    "            max_list.append(np.mean(max_for_p))\n",
    "            p_list.append((p1,p2))\n",
    "    return dict(zip(p_list,max_list))\n",
    "\n",
    "def find_revenue_rationing(customer_list,p1_list,p2_list,l_list):\n",
    "    max_list=[]\n",
    "    p_list=[]\n",
    "    for p1 in p1_list:\n",
    "        for p2 in p2_list:\n",
    "            for l in l_list:\n",
    "                max_for_p=[]\n",
    "                for i in range(len(customer_list)):\n",
    "                    max_for_p.append(simulateRationing(customer_list[i],100,p1,p2,l))\n",
    "                max_list.append(np.mean(max_for_p))\n",
    "                p_list.append((p1,p2,l))\n",
    "                \n",
    "    return dict(zip(p_list,max_list))"
   ]
  },
  {
   "cell_type": "code",
   "execution_count": 24,
   "metadata": {
    "ExecuteTime": {
     "end_time": "2020-02-25T04:07:20.165015Z",
     "start_time": "2020-02-25T04:07:17.730426Z"
    }
   },
   "outputs": [
    {
     "name": "stdout",
     "output_type": "stream",
     "text": [
      "240 22389.6\n"
     ]
    }
   ],
   "source": [
    "p_list=range(100,401,20)\n",
    "condict_20=find_revenue_constant(Customer_List,p_list)\n",
    "\n",
    "con_revenue_20=0\n",
    "for i,j in condict_20.items():\n",
    "    if j>con_revenue_20:\n",
    "        keys_constant_20=i\n",
    "        con_revenue_20=j\n",
    "        \n",
    "print(keys_constant_20,con_revenue_20)"
   ]
  },
  {
   "cell_type": "code",
   "execution_count": 25,
   "metadata": {
    "ExecuteTime": {
     "end_time": "2020-02-25T04:09:03.419410Z",
     "start_time": "2020-02-25T04:09:01.755812Z"
    }
   },
   "outputs": [
    {
     "name": "stdout",
     "output_type": "stream",
     "text": [
      "250 22487.5\n"
     ]
    }
   ],
   "source": [
    "p_list=range(220,261,5)\n",
    "condict_5=find_revenue_constant(Customer_List,p_list)\n",
    "\n",
    "con_revenue_5=0\n",
    "for i,j in condict_5.items():\n",
    "    if j>con_revenue_5:\n",
    "        keys_constant_5=i\n",
    "        con_revenue_5=j\n",
    "        \n",
    "print(keys_constant_5,con_revenue_5)"
   ]
  },
  {
   "cell_type": "code",
   "execution_count": 26,
   "metadata": {
    "ExecuteTime": {
     "end_time": "2020-02-25T04:11:43.949812Z",
     "start_time": "2020-02-25T04:11:00.128802Z"
    }
   },
   "outputs": [
    {
     "name": "stdout",
     "output_type": "stream",
     "text": [
      "(240, 320) 23268.0\n"
     ]
    }
   ],
   "source": [
    "p1_list=range(200,401,20)\n",
    "p2_list=range(200,401,20)\n",
    "dydict_20=find_revenue_dynamic(Customer_List,p1_list,p2_list)\n",
    "\n",
    "dy_revenue_20=0\n",
    "for i,j in dydict_20.items():\n",
    "    if j>dy_revenue_20:\n",
    "        keys_dy_20=i\n",
    "        dy_revenue_20=j\n",
    "        \n",
    "print(keys_dy_20,dy_revenue_20)"
   ]
  },
  {
   "cell_type": "code",
   "execution_count": 27,
   "metadata": {
    "ExecuteTime": {
     "end_time": "2020-02-25T04:15:27.348327Z",
     "start_time": "2020-02-25T04:14:57.473455Z"
    },
    "pycharm": {
     "is_executing": false,
     "name": "#%%\n"
    }
   },
   "outputs": [
    {
     "name": "stdout",
     "output_type": "stream",
     "text": [
      "(235, 315) 23293.3\n"
     ]
    }
   ],
   "source": [
    "p1_list=range(220,261,5)\n",
    "p2_list=range(300,341,5)\n",
    "dydict_5=find_revenue_dynamic(Customer_List,p1_list,p2_list)\n",
    "\n",
    "dy_revenue_5=0\n",
    "for i,j in dydict_5.items():\n",
    "    if j>dy_revenue_5:\n",
    "        keys_dy_5=i\n",
    "        dy_revenue_5=j\n",
    "        \n",
    "print(keys_dy_5,dy_revenue_5)"
   ]
  },
  {
   "cell_type": "code",
   "execution_count": 28,
   "metadata": {
    "ExecuteTime": {
     "end_time": "2020-02-25T04:32:23.540477Z",
     "start_time": "2020-02-25T04:31:24.739652Z"
    },
    "pycharm": {
     "is_executing": false,
     "name": "#%%\n"
    }
   },
   "outputs": [
    {
     "name": "stdout",
     "output_type": "stream",
     "text": [
      "(220, 320, 40) 23662.2\n"
     ]
    }
   ],
   "source": [
    "p1_list=range(200,301,20)\n",
    "p2_list=range(240,401,20)\n",
    "l_list=range(0,101,20)\n",
    "radict_ration_20=find_revenue_rationing(Customer_List,p1_list,p2_list,l_list)\n",
    "\n",
    "max_ration_20=0\n",
    "keys_ration_20=0\n",
    "for i,j in radict_ration_20.items():\n",
    "    if j>max_ration_20:\n",
    "        keys_ration_20=i\n",
    "        max_ration_20=j\n",
    "        \n",
    "print(keys_ration_20,max_ration_20)"
   ]
  },
  {
   "cell_type": "code",
   "execution_count": 32,
   "metadata": {
    "ExecuteTime": {
     "end_time": "2020-02-25T04:43:53.486710Z",
     "start_time": "2020-02-25T04:41:35.181065Z"
    },
    "pycharm": {
     "is_executing": false,
     "name": "#%%\n"
    }
   },
   "outputs": [
    {
     "name": "stdout",
     "output_type": "stream",
     "text": [
      "(235, 325, 35) 23775.75\n"
     ]
    }
   ],
   "source": [
    "p1_list=range(200,241,5)\n",
    "p2_list=range(300,341,5)\n",
    "l_list=range(20,61,5)\n",
    "dict_ration_5=find_revenue_rationing(Customer_List,p1_list,p2_list,l_list)\n",
    "\n",
    "max_ration_5=0\n",
    "keys_ration_5=0\n",
    "for i,j in dict_ration_5.items():\n",
    "    if j>max_ration_5:\n",
    "        keys_ration_5=i\n",
    "        max_ration_5=j\n",
    "        \n",
    "print(keys_ration_5,max_ration_5)"
   ]
  },
  {
   "cell_type": "code",
   "execution_count": 33,
   "metadata": {
    "ExecuteTime": {
     "end_time": "2020-02-25T04:45:48.451454Z",
     "start_time": "2020-02-25T04:45:48.444472Z"
    }
   },
   "outputs": [
    {
     "name": "stdout",
     "output_type": "stream",
     "text": [
      "Constant price policy: best p = 250 , estimated expected profit =  2487.5\n",
      "Dynamic price policy: best p1 = 235 , best p2 = 315 , estimated expected profit =  3293.2999999999993\n",
      "Capacity rationing policy: best p1 = 235 , best p2 = 325 , best l = 35 , estimated expected profit =  3775.75\n"
     ]
    }
   ],
   "source": [
    "# conclusion\n",
    "\n",
    "print(\"Constant price policy: best p =\",keys_constant_5,\", estimated expected profit = \",con_revenue_5-20000)\n",
    "print(\"Dynamic price policy: best p1 =\",keys_dy_5[0],\", best p2 =\",keys_dy_5[1],\", estimated expected profit = \",dy_revenue_5-20000)\n",
    "print(\"Capacity rationing policy: best p1 =\",keys_ration_5[0],\", best p2 =\",keys_ration_5[1],\", best l =\",keys_ration_5[2],\", estimated expected profit = \",max_ration_5-20000)"
   ]
  },
  {
   "cell_type": "code",
   "execution_count": null,
   "metadata": {},
   "outputs": [],
   "source": []
  }
 ],
 "metadata": {
  "kernelspec": {
   "display_name": "Python 3",
   "language": "python",
   "name": "python3"
  },
  "pycharm": {
   "stem_cell": {
    "cell_type": "raw",
    "metadata": {
     "collapsed": false
    },
    "source": []
   }
  },
  "toc": {
   "base_numbering": 1,
   "nav_menu": {},
   "number_sections": true,
   "sideBar": true,
   "skip_h1_title": false,
   "title_cell": "Table of Contents",
   "title_sidebar": "Contents",
   "toc_cell": false,
   "toc_position": {},
   "toc_section_display": true,
   "toc_window_display": false
  },
  "varInspector": {
   "cols": {
    "lenName": 16,
    "lenType": 16,
    "lenVar": 40
   },
   "kernels_config": {
    "python": {
     "delete_cmd_postfix": "",
     "delete_cmd_prefix": "del ",
     "library": "var_list.py",
     "varRefreshCmd": "print(var_dic_list())"
    },
    "r": {
     "delete_cmd_postfix": ") ",
     "delete_cmd_prefix": "rm(",
     "library": "var_list.r",
     "varRefreshCmd": "cat(var_dic_list()) "
    }
   },
   "types_to_exclude": [
    "module",
    "function",
    "builtin_function_or_method",
    "instance",
    "_Feature"
   ],
   "window_display": false
  }
 },
 "nbformat": 4,
 "nbformat_minor": 2
}
