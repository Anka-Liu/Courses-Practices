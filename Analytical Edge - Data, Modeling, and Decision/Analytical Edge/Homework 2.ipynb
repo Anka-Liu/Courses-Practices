{
 "cells": [
  {
   "cell_type": "markdown",
   "metadata": {},
   "source": [
    "# Homework 2\n",
    "\n",
    "**Name:Chengjun Liu**"
   ]
  },
  {
   "cell_type": "markdown",
   "metadata": {},
   "source": [
    "## 1. Did you review up to and including lecture 5 and tutorial 5? If you haven’t, please do so first. This homework, like every other homework, only covers a small part of the course contents.\n"
   ]
  },
  {
   "cell_type": "markdown",
   "metadata": {},
   "source": [
    "Yes, I have reviewed the corresponding content."
   ]
  },
  {
   "cell_type": "markdown",
   "metadata": {},
   "source": [
    "## You have four balls in a box: red, black, blue and yellow. Write python code to sample with replacement from this box. Suppose each ball has an equal chance of getting selected. Start with np.random.seed(2) and get three samples of size 5. (You can modify the code in Lecture 5).\n"
   ]
  },
  {
   "cell_type": "code",
   "execution_count": 1,
   "metadata": {
    "ExecuteTime": {
     "end_time": "2020-03-31T20:09:50.180901Z",
     "start_time": "2020-03-31T20:09:50.170957Z"
    }
   },
   "outputs": [
    {
     "name": "stdout",
     "output_type": "stream",
     "text": [
      "['black' 'red' 'blue' 'black' 'black']\n",
      "['black' 'red' 'blue' 'black' 'black']\n",
      "['blue' 'blue' 'red' 'blue' 'red']\n"
     ]
    }
   ],
   "source": [
    "import numpy as np\n",
    "np.random.seed(2)\n",
    "\n",
    "color=['red','black','blue','yellow']\n",
    "prob=[0.25,0.25,0.25,0.25]\n",
    "\n",
    "sample1=np.random.choice(color,p=prob,size=5)\n",
    "sample2=np.random.choice(color,p=prob,size=5)\n",
    "sample3=np.random.choice(color,p=prob,size=5)\n",
    "\n",
    "print(sample1)\n",
    "print(sample2)\n",
    "print(sample3)"
   ]
  },
  {
   "cell_type": "markdown",
   "metadata": {},
   "source": [
    "## Suppose random variables X1, . . . , Xn are independent and identicially distributed (i.i.d.) N(0, 1). What are the mean and variance of X¯ = (X1 + . . . Xn)/n? You need to show the steps to get the conclusion"
   ]
  },
  {
   "cell_type": "markdown",
   "metadata": {},
   "source": [
    "$\\begin{align}\n",
    "E(\\overline{X})&=E(\\frac{X_1+X_2+...+X_n}{n})\\\\\n",
    "&=\\frac{E(X_1+X_2+...+X_n)}{n}\\\\\n",
    "&=\\frac{E(X_1)+E(X_2)+...+E(X_n)}{n}\\\\\n",
    "&=\\frac{0+0+...+0}{n}\\\\\n",
    "&=0\n",
    "\\end{align}$\n",
    "\n",
    "$\\begin{align}\n",
    "Var(\\overline{X})&=Var(\\frac{X_1+X_2+...+X_n}{n})\\\\\n",
    "&=\\frac{Var(X_1+X_2+...+X_n)}{n^2}\\\\\n",
    "&=\\frac{Var(X_1)+Var(X_2)+...+Var(X_n)}{n^2}\\\\\n",
    "&=\\frac{1+1+...+1}{n^2}\\\\\n",
    "&=\\frac{1}{n}\n",
    "\\end{align}$\n"
   ]
  },
  {
   "cell_type": "markdown",
   "metadata": {},
   "source": [
    "## Use the smarket data that appears in Tutorial 3 and Tutorial 4. Create the Up variable as the response (same as in the tutorials). Then train a logistic regression model using Lag3 and Lag4 as the predictors, with the observations in years 2002-2003 the training data. What are the coefficient estimates of this fitted model?"
   ]
  },
  {
   "cell_type": "code",
   "execution_count": 14,
   "metadata": {
    "ExecuteTime": {
     "end_time": "2020-03-31T20:40:00.958544Z",
     "start_time": "2020-03-31T20:40:00.946575Z"
    }
   },
   "outputs": [],
   "source": [
    "import pandas as pd\n",
    "\n",
    "smarket=pd.read_csv('smarket.csv')\n",
    "smarket['Up']=np.where(smarket['Direction']=='Up',1,0)\n",
    "smarket_sub=smarket[smarket['Year'].isin([2002,2003])]"
   ]
  },
  {
   "cell_type": "code",
   "execution_count": 16,
   "metadata": {
    "ExecuteTime": {
     "end_time": "2020-03-31T20:42:16.599481Z",
     "start_time": "2020-03-31T20:42:15.118024Z"
    }
   },
   "outputs": [
    {
     "name": "stdout",
     "output_type": "stream",
     "text": [
      "Optimization terminated successfully.\n",
      "         Current function value: 0.692111\n",
      "         Iterations 3\n"
     ]
    },
    {
     "data": {
      "text/html": [
       "<table class=\"simpletable\">\n",
       "<caption>Logit Regression Results</caption>\n",
       "<tr>\n",
       "  <th>Dep. Variable:</th>          <td>Up</td>        <th>  No. Observations:  </th>  <td>   504</td> \n",
       "</tr>\n",
       "<tr>\n",
       "  <th>Model:</th>                 <td>Logit</td>      <th>  Df Residuals:      </th>  <td>   501</td> \n",
       "</tr>\n",
       "<tr>\n",
       "  <th>Method:</th>                 <td>MLE</td>       <th>  Df Model:          </th>  <td>     2</td> \n",
       "</tr>\n",
       "<tr>\n",
       "  <th>Date:</th>            <td>Tue, 31 Mar 2020</td> <th>  Pseudo R-squ.:     </th> <td>0.001450</td>\n",
       "</tr>\n",
       "<tr>\n",
       "  <th>Time:</th>                <td>13:42:16</td>     <th>  Log-Likelihood:    </th> <td> -348.82</td>\n",
       "</tr>\n",
       "<tr>\n",
       "  <th>converged:</th>             <td>True</td>       <th>  LL-Null:           </th> <td> -349.33</td>\n",
       "</tr>\n",
       "<tr>\n",
       "  <th>Covariance Type:</th>     <td>nonrobust</td>    <th>  LLR p-value:       </th>  <td>0.6026</td> \n",
       "</tr>\n",
       "</table>\n",
       "<table class=\"simpletable\">\n",
       "<tr>\n",
       "      <td></td>         <th>coef</th>     <th>std err</th>      <th>z</th>      <th>P>|z|</th>  <th>[0.025</th>    <th>0.975]</th>  \n",
       "</tr>\n",
       "<tr>\n",
       "  <th>Intercept</th> <td>   -0.0159</td> <td>    0.089</td> <td>   -0.179</td> <td> 0.858</td> <td>   -0.191</td> <td>    0.159</td>\n",
       "</tr>\n",
       "<tr>\n",
       "  <th>Lag3</th>      <td>    0.0347</td> <td>    0.064</td> <td>    0.538</td> <td> 0.591</td> <td>   -0.092</td> <td>    0.161</td>\n",
       "</tr>\n",
       "<tr>\n",
       "  <th>Lag4</th>      <td>    0.0567</td> <td>    0.065</td> <td>    0.878</td> <td> 0.380</td> <td>   -0.070</td> <td>    0.183</td>\n",
       "</tr>\n",
       "</table>"
      ],
      "text/plain": [
       "<class 'statsmodels.iolib.summary.Summary'>\n",
       "\"\"\"\n",
       "                           Logit Regression Results                           \n",
       "==============================================================================\n",
       "Dep. Variable:                     Up   No. Observations:                  504\n",
       "Model:                          Logit   Df Residuals:                      501\n",
       "Method:                           MLE   Df Model:                            2\n",
       "Date:                Tue, 31 Mar 2020   Pseudo R-squ.:                0.001450\n",
       "Time:                        13:42:16   Log-Likelihood:                -348.82\n",
       "converged:                       True   LL-Null:                       -349.33\n",
       "Covariance Type:            nonrobust   LLR p-value:                    0.6026\n",
       "==============================================================================\n",
       "                 coef    std err          z      P>|z|      [0.025      0.975]\n",
       "------------------------------------------------------------------------------\n",
       "Intercept     -0.0159      0.089     -0.179      0.858      -0.191       0.159\n",
       "Lag3           0.0347      0.064      0.538      0.591      -0.092       0.161\n",
       "Lag4           0.0567      0.065      0.878      0.380      -0.070       0.183\n",
       "==============================================================================\n",
       "\"\"\""
      ]
     },
     "execution_count": 16,
     "metadata": {},
     "output_type": "execute_result"
    }
   ],
   "source": [
    "import statsmodels.formula.api as smf\n",
    "result=smf.logit('Up~Lag3+Lag4',data=smarket_sub).fit()\n",
    "result.summary()"
   ]
  },
  {
   "cell_type": "markdown",
   "metadata": {},
   "source": [
    "Coefficient estimate of Intercept, Lag3, Lag4 are -0.0159, 0.0347, 0.0567."
   ]
  },
  {
   "cell_type": "markdown",
   "metadata": {},
   "source": [
    "## Use the model you fitted in problem 4 to predict the response for the year 2004. Plot the ROC curve and calculate the AUC.\n"
   ]
  },
  {
   "cell_type": "code",
   "execution_count": 31,
   "metadata": {
    "ExecuteTime": {
     "end_time": "2020-03-31T20:56:57.312361Z",
     "start_time": "2020-03-31T20:56:57.300394Z"
    }
   },
   "outputs": [],
   "source": [
    "smarket_04=smarket[smarket['Year']==2004]\n",
    "result_prob=result.predict(smarket_04[['Lag3','Lag4']])\n",
    "result_pred=result_prob>0.5"
   ]
  },
  {
   "cell_type": "code",
   "execution_count": 33,
   "metadata": {
    "ExecuteTime": {
     "end_time": "2020-03-31T20:57:17.385280Z",
     "start_time": "2020-03-31T20:57:17.379295Z"
    }
   },
   "outputs": [
    {
     "name": "stdout",
     "output_type": "stream",
     "text": [
      "746    0.509163\n",
      "747    0.513707\n",
      "748    0.497993\n",
      "749    0.496242\n",
      "750    0.502391\n",
      "         ...   \n",
      "993    0.504394\n",
      "994    0.511791\n",
      "995    0.501262\n",
      "996    0.492931\n",
      "997    0.496109\n",
      "Length: 252, dtype: float64 \n",
      "\n",
      "746     True\n",
      "747     True\n",
      "748    False\n",
      "749    False\n",
      "750     True\n",
      "       ...  \n",
      "993     True\n",
      "994     True\n",
      "995     True\n",
      "996    False\n",
      "997    False\n",
      "Length: 252, dtype: bool\n"
     ]
    }
   ],
   "source": [
    "print(result_prob,'\\n')\n",
    "print(result_pred)"
   ]
  },
  {
   "cell_type": "code",
   "execution_count": 34,
   "metadata": {
    "ExecuteTime": {
     "end_time": "2020-03-31T20:58:03.173517Z",
     "start_time": "2020-03-31T20:58:03.167533Z"
    }
   },
   "outputs": [
    {
     "name": "stdout",
     "output_type": "stream",
     "text": [
      "The AUC is  0.44088010204081635\n"
     ]
    }
   ],
   "source": [
    "from sklearn.metrics import roc_curve, auc\n",
    "\n",
    "fpr,tpr,threshold=roc_curve(smarket_04['Up'],result_prob)\n",
    "roc_auc=auc(fpr,tpr)\n",
    "print('The AUC is ', roc_auc)"
   ]
  },
  {
   "cell_type": "code",
   "execution_count": 36,
   "metadata": {
    "ExecuteTime": {
     "end_time": "2020-03-31T20:58:52.824055Z",
     "start_time": "2020-03-31T20:58:52.697952Z"
    }
   },
   "outputs": [
    {
     "data": {
      "text/plain": [
       "<Figure size 432x288 with 0 Axes>"
      ]
     },
     "metadata": {},
     "output_type": "display_data"
    },
    {
     "data": {
      "image/png": "[encoded data removed]",
      "text/plain": [
       "<Figure size 720x720 with 1 Axes>"
      ]
     },
     "metadata": {
      "needs_background": "light"
     },
     "output_type": "display_data"
    }
   ],
   "source": [
    "import matplotlib.pyplot as plt\n",
    "\n",
    "plt.figure()\n",
    "plt.figure(figsize=(10,10))\n",
    "plt.plot(fpr, tpr, color='darkorange',\n",
    "lw=2, label='ROC curve (area = {0:.4f})'.format(roc_auc))\n",
    "plt.plot([0, 1], [0, 1], color='navy', lw=2, linestyle='--') # lw is linewidth\n",
    "plt.xlim([0.0, 1.0])\n",
    "plt.ylim([0.0, 1.05])\n",
    "plt.xlabel('False Positive Rate')\n",
    "plt.ylabel('True Positive Rate')\n",
    "plt.title('Receiver operating characteristic')\n",
    "plt.legend(loc=\"lower right\")\n",
    "plt.show()"
   ]
  },
  {
   "cell_type": "code",
   "execution_count": null,
   "metadata": {},
   "outputs": [],
   "source": []
  }
 ],
 "metadata": {
  "kernelspec": {
   "display_name": "Python 3",
   "language": "python",
   "name": "python3"
  },
  "language_info": {
   "codemirror_mode": {
    "name": "ipython",
    "version": 3
   },
   "file_extension": ".py",
   "mimetype": "text/x-python",
   "name": "python",
   "nbconvert_exporter": "python",
   "pygments_lexer": "ipython3",
   "version": "3.7.4"
  },
  "toc": {
   "base_numbering": 1,
   "nav_menu": {},
   "number_sections": true,
   "sideBar": true,
   "skip_h1_title": false,
   "title_cell": "Table of Contents",
   "title_sidebar": "Contents",
   "toc_cell": false,
   "toc_position": {},
   "toc_section_display": true,
   "toc_window_display": false
  },
  "varInspector": {
   "cols": {
    "lenName": 16,
    "lenType": 16,
    "lenVar": 40
   },
   "kernels_config": {
    "python": {
     "delete_cmd_postfix": "",
     "delete_cmd_prefix": "del ",
     "library": "var_list.py",
     "varRefreshCmd": "print(var_dic_list())"
    },
    "r": {
     "delete_cmd_postfix": ") ",
     "delete_cmd_prefix": "rm(",
     "library": "var_list.r",
     "varRefreshCmd": "cat(var_dic_list()) "
    }
   },
   "types_to_exclude": [
    "module",
    "function",
    "builtin_function_or_method",
    "instance",
    "_Feature"
   ],
   "window_display": false
  }
 },
 "nbformat": 4,
 "nbformat_minor": 2
}
