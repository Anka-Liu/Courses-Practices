{
 "cells": [
  {
   "cell_type": "markdown",
   "metadata": {},
   "source": [
    "# Homework 5\n",
    "\n",
    "**Name:** Chengjun Liu"
   ]
  },
  {
   "cell_type": "markdown",
   "metadata": {},
   "source": [
    "## Q1. DMD Exercise 2.25\n",
    "\n",
    "Suppose 5 percent of the microchips produced by a leading microchip manufacturer are defective. Historically, given that a microchip is defective, the inspector (wrongly) accepts the chip 10 percent of the time, thinking it has no defect. If a microchip is not defective, he always correctly accepts it. Suppose that the inspector inspects 10 microchips.\n",
    "\n",
    "(a) What is the probability that all 10 microchips in the sample are not defective?\n",
    "\n",
    "$\\begin{aligned}\n",
    "P(text{10 are not defective})=&P(\\text{not defective})^{10}\\\\\n",
    "=& (1-5\\%)^{10}\\\\\n",
    "\\approx& 0.5987\n",
    "\\end{aligned}$\n",
    "\n",
    "(b) What is the probability that the inspector accepts a particular microchip?\n",
    "\n",
    "$\\begin{aligned}\n",
    "P(Accept)=&P(Accept,\\text{Defective})+P(Accept,\\text{not defective})\\\\\n",
    "=& 95\\%\\times 1 + 5\\% \\times 10\\%\\\\\n",
    "=& 95.5\\%\n",
    "\\end{aligned}$\n",
    "\n",
    "(c) What is the probability that the inspector accepts 9 (out of 10) microchips?\n",
    "\n",
    "Because $P(Accept)=0.955$:\n",
    "\n",
    "$\\begin{aligned}\n",
    "P(9 Accepted)=& 10\\times P(Accept)^{9}\\times P(Declined)\\\\\n",
    "=& 10\\times 0.955^{9}\\times (1-0.955)\\\\\n",
    "=& 0.2973\n",
    "\\end{aligned}$\n",
    "\n",
    "(d) Given that the inspector accepts a microchip, what is the probability that it has no defect?\n",
    "\n",
    "$\\begin{aligned}\n",
    "P(\\text{No Defect}|Accept)=& \\frac{P(\\text{No Defect},Accept)}{P(Accept)}\\\\\n",
    "=& \\frac{95\\%}{95.5\\%}\\\\\n",
    "\\approx& 0.995 \n",
    "\\end{aligned}$\n",
    "\n",
    "(e) Given that inspector accepts all 10 microchips, what is the probability that they all have no defects?\n",
    "\n",
    "$\\begin{aligned}\n",
    "P(\\text{10 are No Defect}|Accept)=& P(\\text{No Defect}|Accept)^{10}\\\\\n",
    "\\approx& 0.951 \n",
    "\\end{aligned}$"
   ]
  },
  {
   "cell_type": "markdown",
   "metadata": {},
   "source": [
    "## Q2. DMD Exercise 2.27\n",
    "\n",
    "In this exercise we examine the effects of overbooking in the airline industry. Ontario Gateway Airlines' first class cabins have 10 seats in each plane. Ontario's overbooking policy is to sell up to 11 first class tickets, since cancellations and no-shows are always possible (and indeed are quite likely). For a given flight on Ontario Gateway, there were 11 first class tickets sold. Suppose that each of the 11 persons who purchased tickets has a 20 percent chance of not showing up for the flight, and that the events that different persons show up for the flight are independent.\n",
    "\n",
    "(a) What is the probability that at most 5 of the 11 persons who purchased first class tickets show up for the flight?\n",
    "\n",
    "The distribution of $P(showup)$ follows binomial distribution $Binom(n=11,p=0.8)$.\n",
    "\n",
    "$\\begin{aligned}\n",
    "P(showup\\le5)=&F(5,Binom(11,0.8))\\\\\n",
    "\\approx& 0.012 \n",
    "\\end{aligned}$\n",
    "\n",
    "(b) What is the probability that exactly 10 of the persons who purchased first class tickets show up for the flight?\n",
    "\n",
    "$\\begin{aligned}\n",
    "P(showup=10)=&11\\times P(showup)^{10}\\times (1-P(showup))\\\\\n",
    "=&11\\times 0.8^{10}\\times 0.2\\\\\n",
    "\\approx& 0.236\n",
    "\\end{aligned}$\n",
    "\n",
    "\n",
    "(c) Suppose that there are 10 seats in the first class available and that the cost of each first class ticket is 1,200 dollars. (This 1,200 contributes entirely to profit since the variable cost associated with a passenger on a flight is close to zero.) Suppose further that any overbooked seat costs the airline 3,000 dollars, which is the cost of the free ticket issued the passenger plus some potential cost in damanged customer relations. (First class passengers do not expect to be bumped!) Thus, for example, if 10 of the first class passengers show up for the flight, the airline's profit is 12,000. If 11 first class passengers show up, the profit is 9,000. What is the expected profit from first class passengers for this flight?\n",
    "\n",
    "$\\begin{aligned}\n",
    "E(profit)=&\\sum Profit_iP(showup=i)\\\\\n",
    "=&\\sum 1200\\times i\\times P(showup=i)-(1200+3000)\\times P(showup=11)\\\\\n",
    "=&1200E(showup)-4200P(showup=11)\\\\\n",
    "\\approx&1200\\times 8.8- 4200\\times 0.0859\\\\\n",
    "=&10199.2\n",
    "\\end{aligned}$\n",
    "\n",
    "(d) Suppose that only 10 first class tickets were sold. What would be the expected profit from first class passengers for this flight?\n",
    "\n",
    "$\\begin{aligned}\n",
    "E(profit)=&\\sum Profit_iP(showup=i)\\\\\n",
    "=&\\sum 1200\\times i\\times P(showup=i)\\\\\n",
    "=&1200E(showup)\\\\\n",
    "=&9600\n",
    "\\end{aligned}$\n",
    "\n",
    "\n",
    "(e) People often travel in groups of two or more. Does this affect the independence assumption about passenger behavior? Why or why not?\n",
    "\n",
    "It affects assumption of independence because it is obviously their actions are related. One passenger quits, the other passengers in the group are likely to follow."
   ]
  },
  {
   "cell_type": "markdown",
   "metadata": {},
   "source": [
    "## Q3. DMD Exercise 3.6\n",
    "Winter lasts from December 21 through March 21. The average winter temperature in Boston is Normally distributed with mean $\\mu=32.5$ Fahrenheit and standard deviation is $\\sigma=1.59$ Fahrenheit. In New York City, the average winter temperature is Normally distributed with mean $\\mu=35.4$ Fahrenheit and standard deviation $\\sigma=2.05$ Fahrenheit.\n",
    "\n",
    "(a) What is the probability that the average winter temperature in Boston this coming winter will be above freezing (32 degrees Fahrenheit)?\n",
    "\n",
    "$\\begin{aligned}\n",
    "P(Boston > 32)=&P(X>\\frac{32-32.5}{1.59}) \\text{~} N(0,1)\\\\\n",
    "\\approx&0.6244\n",
    "\\end{aligned}$\n",
    "\n",
    "(b) Assume that average winter temperatures in Boston and New York are independent. What is the probability that the average winter temperature in Boston in the coming winter will be higher than in New York?\n",
    "\n",
    "$\\begin{aligned}\n",
    "P(Boston > NewYork)=P(Boston - NewYork>0)\n",
    "\\end{aligned}$\n",
    "\n",
    "$Boston - NewYork$ follows Normal Distribution $N(32.5-35.4,1.59+2.05)=N(-2.9,3.64)$.\n",
    "\n",
    "$\\begin{aligned}\n",
    "P(Boston - NewYork>0)=&P(X>2.9/3.64)\\text{~}N(0,1)\\\\\n",
    "\\approx&0.2128\n",
    "\\end{aligned}$\n",
    "\n",
    "(c) Do you think the independence assumption above is reasonable?\n",
    "\n",
    "Not so reasonable, because New Yoke is near Boston. They are influenced by the same regional weather. When Boston is cold, New York is also likely."
   ]
  },
  {
   "cell_type": "markdown",
   "metadata": {},
   "source": [
    "## Q4. DMD Exercise 3.20\n",
    "\n",
    "The paint department in an automobile factory applies two processes when painting cars: (i) painting and (ii) polishing. The painting process is defective 20\\% of the time, while the polishing process is defective 10\\% of the time. Each car first goes through the painting and then through the polishing process. Each car is inspected after it has completed the two processes. If either the painting or the polishing is defective, the car is returned to a special station for rework, where the two processes are applied once again. Rework at the special station is 100\\% reliable (although it is also very expensive).\n",
    "\n",
    "(a) What is the probability that a car is returned to the special station for rework?\n",
    "\n",
    "Assume $X=painted,Y=polished$\n",
    "\n",
    "$\\begin{aligned}\n",
    "P(Returned)=&P(X=0\\space or\\space Y=0)\\\\\n",
    "=&1-P(X=1,Y=1)\\\\\n",
    "=&1-(1-0.2)\\times(1-0.1)\\\\\n",
    "=&0.28\n",
    "\\end{aligned}$\n",
    "\n",
    "(b) In a batch of 1000 cars, what is the expected number of cars that will be returned for rework?\n",
    "\n",
    "It follows $Binom(1000,0.28)$.\n",
    "\n",
    "$\\begin{aligned}\n",
    "E(Returned)=&1000\\times 0.28\\\\\n",
    "=&280\n",
    "\\end{aligned}$\n",
    "\n",
    "(c) In a batch of 1000 cars, what is the probability that the number of returned cars is less than or equal to 200?\n",
    "\n",
    "We take $N(280,\\sqrt{1000\\times 0.72\\times 0.28})$ as approximation of $Binom(1000,0.28)$.\n",
    "\n",
    "$\\begin{aligned}\n",
    "P(Returned\\le 200)\\approx8.7854\\times 10^{-9}\n",
    "\\end{aligned}$\n",
    "\n",
    "\n",
    "(d) Let $X$ be the number of cars in a group by 1000 cars that have painting defects. Let $Y$ be the number of cars in a group of 1000 cars that have polishing defects. What is the distribution of $X$? What is the distribution of $Y$?\n",
    "\n",
    "$X\\text{~}Binom(1000,0.2)$\n",
    "\n",
    "$Y\\text{~}Binom(1000,0.1)$\n",
    "\n",
    "(e) What is the probabiltiy that the total number of defects, $X+Y$, is less than or equal to 300?\n",
    "\n",
    "We take $N(200,\\sqrt{1000\\times 0.2\\times 0.8})$ as approximation of $Binom(1000,0.2)$.\n",
    "\n",
    "We take $N(100,\\sqrt{1000\\times 0.1\\times 0.9})$ as approximation of $Binom(1000,0.1)$.\n",
    "\n",
    "So $X+Y\\text{~}N(200+100,\\sqrt{90}+\\sqrt{160})$.\n",
    "\n",
    "$\\begin{aligned}\n",
    "P(X+Y\\le 300)=0.5\n",
    "\\end{aligned}$"
   ]
  },
  {
   "cell_type": "markdown",
   "metadata": {},
   "source": [
    "## Q5. Actuarial Science\n",
    "\n",
    "A life insurance company would like to conduct an analysis on its policy holders. The database shows that 60\\% of policyholders are male, and 40\\% are female. In this population, assume that the lifespan of a man obeys a Normal distribution with mean 75 years and standard deviation 15 years. (Lifespan is defined as the number of years from birth to death.) The lifespan of a woman obeys a Normal distribution with mean 80 and standard deviation 12 years.  All individuals’ lifespans are independent of one another.  \n",
    "\n",
    "**A.** What is the probability that a randomly drawn individual lives at least 85 years?\n",
    "\n",
    "$\\begin{aligned}\n",
    "P(Life\\ge 85)=&P(Life\\ge 85|M)P(M)+P(Life\\ge 85|F)P(F)\\\\\n",
    "=&P(X\\text{~}N(0,1)\\ge (85-75)/15)\\times 60\\%+P(X\\text{~}N(0,1)\\ge (85-80)/12)\\times 40\\%\\\\\n",
    "=& 0.2525\\times 0.6+0.3385\\times 0.4\\\\\n",
    "=&0.2869\n",
    "\\end{aligned}$"
   ]
  },
  {
   "cell_type": "markdown",
   "metadata": {},
   "source": [
    "**B.** Given that a randomly drawn individual lives at least 85 years, what is the probability that the individual is male?\n",
    "\n",
    "$\\begin{aligned}\n",
    "P(M|Life\\ge 85)=&\\frac{P(M,Life\\ge 85)}{P(Life\\ge 85)}\\\\\n",
    "=&\\frac{P(Life\\ge 85|M)P(M)}{P(Life\\ge 85)}\\\\\n",
    "=&P(X\\text{~}N(0,1)\\ge (85-75)/15)\\times 60\\%/0.2869\\\\\n",
    "=&0.2525\\times 0.6/0.2869\\\\\n",
    "\\approx&0.528\n",
    "\\end{aligned}$"
   ]
  },
  {
   "cell_type": "markdown",
   "metadata": {},
   "source": [
    "**C.** Given that a randomly drawn individual lives at least 85 years, what is the probability that the individual lives at least 5 more years?\n",
    "\n",
    "$\\begin{aligned}\n",
    "P(Life\\ge 90|Life\\ge 85)=&P(Life\\ge 90)/P(Life\\ge 85)\\\\\n",
    "\\end{aligned}$\n",
    "\n",
    "$\\begin{aligned}\n",
    "P(Life\\ge 90)=&P(Life\\ge 90|M)P(M)+P(Life\\ge 90|F)P(F)\\\\\n",
    "=&P(X\\text{~}N(0,1)\\ge (90-75)/15)\\times 60\\%+P(X\\text{~}N(0,1)\\ge (90-80)/12)\\times 40\\%\\\\\n",
    "\\approx& 0.1587\\times 0.6+0.2023\\times 0.4\\\\\n",
    "=&0.17614\n",
    "\\end{aligned}$\n",
    "\n",
    "$\\begin{aligned}\n",
    "P(Life\\ge 90|Life\\ge 85)=&0.17614/0.2869\\\\\n",
    "\\approx&0.6139\n",
    "\\end{aligned}$"
   ]
  },
  {
   "cell_type": "markdown",
   "metadata": {},
   "source": [
    "## Q6. Simulating Distribution of Daily Earnings at Rockport\n",
    "\n",
    "In this exercise, you will use the `scipy.stats` package and `np.random.choice` function to generate normal and general discrete samples, in order to plot the shape of the probability distributions of the daily earnings from using Rockport in the example in DMD 5.1 (from pre-class readings). Simulate 10000 samples and plot the frequency instead of the density. You should also include the proper titles and labels of the x and y axis. Write your code in the code cell below (a correct sample graph is below).\n",
    "\n",
    "**Hints:**\n",
    "See page 196-197 in DMD for description of the distribution. It has the form $price*min(demand,3500)-10000$, where price is normally distributed with mean $\\mu = 3.65$ and standard deviation of $\\sigma=0.2$, demand follows a discrete distribution, as in the following table. You should make the price zero whenever you get a negative sample.\n",
    "\n",
    "| Demand (lbs of codfish) | Probability |\n",
    "|--|--|\n",
    "|0 | 0.02|\n",
    "|1000|0.03|\n",
    "|2000|0.05|\n",
    "|3000|0.08|\n",
    "|4000|0.33|\n",
    "|5000|0.29|\n",
    "|6000|0.20|\n",
    "\n"
   ]
  },
  {
   "cell_type": "code",
   "execution_count": 3,
   "metadata": {
    "pycharm": {
     "is_executing": false
    }
   },
   "outputs": [
    {
     "data": {
      "image/png": "[encoded data removed]",
      "text/plain": [
       "<Figure size 432x288 with 1 Axes>"
      ]
     },
     "metadata": {
      "needs_background": "light"
     },
     "output_type": "display_data"
    }
   ],
   "source": [
    "from scipy.stats import norm\n",
    "from numpy.random import choice\n",
    "import matplotlib.pyplot as plt\n",
    "\n",
    "Demand=[0,1000,2000,3000,4000,5000,6000]\n",
    "prob=[0.02,0.03,0.05,0.08,0.33,0.29,0.20]\n",
    "\n",
    "price=[max(norm(loc=3.65,scale=0.2).rvs(),0) for i in range(10000)]\n",
    "demand=choice(Demand,p=prob,size=10000)\n",
    "\n",
    "earning=[price[i]*min(3500,demand[i])-10000 for i in range(10000)]\n",
    "\n",
    "plt.hist(earning,bins=50)\n",
    "plt.title(\"Distribution of earnings from Rockport (10000 simulations)\")\n",
    "plt.xlabel(\"Earnings from Rockport\")\n",
    "plt.ylabel(\"Frequency\")\n",
    "plt.show();\n"
   ]
  }
 ],
 "metadata": {
  "kernelspec": {
   "display_name": "Python 3",
   "language": "python",
   "name": "python3"
  },
  "language_info": {
   "codemirror_mode": {
    "name": "ipython",
    "version": 3
   },
   "file_extension": ".py",
   "mimetype": "text/x-python",
   "name": "python",
   "nbconvert_exporter": "python",
   "pygments_lexer": "ipython3",
   "version": "3.7.4"
  },
  "pycharm": {
   "stem_cell": {
    "cell_type": "raw",
    "metadata": {
     "collapsed": false
    },
    "source": []
   }
  },
  "toc": {
   "base_numbering": 1,
   "nav_menu": {},
   "number_sections": true,
   "sideBar": true,
   "skip_h1_title": false,
   "title_cell": "Table of Contents",
   "title_sidebar": "Contents",
   "toc_cell": false,
   "toc_position": {},
   "toc_section_display": true,
   "toc_window_display": false
  },
  "varInspector": {
   "cols": {
    "lenName": 16,
    "lenType": 16,
    "lenVar": 40
   },
   "kernels_config": {
    "python": {
     "delete_cmd_postfix": "",
     "delete_cmd_prefix": "del ",
     "library": "var_list.py",
     "varRefreshCmd": "print(var_dic_list())"
    },
    "r": {
     "delete_cmd_postfix": ") ",
     "delete_cmd_prefix": "rm(",
     "library": "var_list.r",
     "varRefreshCmd": "cat(var_dic_list()) "
    }
   },
   "types_to_exclude": [
    "module",
    "function",
    "builtin_function_or_method",
    "instance",
    "_Feature"
   ],
   "window_display": false
  }
 },
 "nbformat": 4,
 "nbformat_minor": 2
}
