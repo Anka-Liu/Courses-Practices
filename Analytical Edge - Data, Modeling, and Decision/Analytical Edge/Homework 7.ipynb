{
 "cells": [
  {
   "cell_type": "markdown",
   "metadata": {},
   "source": [
    "# Homework 7\n",
    "\n",
    "**Name:** Chengjun Liu"
   ]
  },
  {
   "cell_type": "code",
   "execution_count": 1,
   "metadata": {
    "ExecuteTime": {
     "end_time": "2020-03-25T01:48:56.714991Z",
     "start_time": "2020-03-25T01:48:56.633172Z"
    }
   },
   "outputs": [],
   "source": [
    "import gurobipy as gbp"
   ]
  },
  {
   "cell_type": "markdown",
   "metadata": {},
   "source": [
    "For the LP or MIP formulations, you need to typeset them nicely in Markdown using Latex, following the typesetting instructions in Homework 6. \n",
    "\n",
    "## Q1 (Transportation Planning)\n",
    "\n",
    "There are 2 production plants, A and B, with capacities $20$ and $15$ respectively. There are 3 demand centers, 1, 2, 3, with demand of $10$ each. The cost of transporting each unit of good from each plant to each demand center is shown below.\n",
    "\n",
    "|` ` |1 | 2|3|\n",
    "|--|--|--|--|\n",
    "|A|3|7|5|\n",
    "|B|5|3|3|\n",
    "\n",
    "**a)** What is the minimum transportation cost needed to satisfy all demand while respecting plant capacities, and how would you achieve this cost? \n",
    "\n",
    "Minimum transportation cost is 100, with the following arrangement:\n",
    "\n",
    "| |1 | 2|3|\n",
    "|--|--|--|--|\n",
    "|A|10|0|5|\n",
    "|B|0|10|5|\n",
    "\n",
    "**b)** How would increasing one unit of capacity at each plant affect the optimal cost?\n",
    "\n",
    "Increasing 1 of A capacity does not affect optimal cost, while increasing B capacity by 1 decrease the cost by 2.\n",
    "\n",
    "**c)** How would increasing one unit of demand at each center affect the optimal cost?\n",
    "\n",
    "Increasing 1 unit of center 1,2,3 will increase costs by 3,5,5.\n"
   ]
  },
  {
   "cell_type": "code",
   "execution_count": 10,
   "metadata": {
    "ExecuteTime": {
     "end_time": "2020-03-25T02:08:19.040468Z",
     "start_time": "2020-03-25T02:08:19.022442Z"
    }
   },
   "outputs": [
    {
     "name": "stdout",
     "output_type": "stream",
     "text": [
      "Gurobi Optimizer version 9.0.1 build v9.0.1rc0 (win64)\n",
      "Optimize a model with 5 rows, 6 columns and 12 nonzeros\n",
      "Model fingerprint: 0xc980f412\n",
      "Coefficient statistics:\n",
      "  Matrix range     [1e+00, 1e+00]\n",
      "  Objective range  [3e+00, 7e+00]\n",
      "  Bounds range     [0e+00, 0e+00]\n",
      "  RHS range        [1e+01, 2e+01]\n",
      "Presolve time: 0.00s\n",
      "Presolved: 5 rows, 6 columns, 12 nonzeros\n",
      "\n",
      "Iteration    Objective       Primal Inf.    Dual Inf.      Time\n",
      "       0    0.0000000e+00   3.000000e+01   0.000000e+00      0s\n",
      "       4    1.0000000e+02   0.000000e+00   0.000000e+00      0s\n",
      "\n",
      "Solved in 4 iterations and 0.01 seconds\n",
      "Optimal objective  1.000000000e+02\n"
     ]
    }
   ],
   "source": [
    "mod=gbp.Model()\n",
    "A1=mod.addVar()\n",
    "A2=mod.addVar()\n",
    "A3=mod.addVar()\n",
    "B1=mod.addVar()\n",
    "B2=mod.addVar()\n",
    "B3=mod.addVar()\n",
    "\n",
    "mod.setObjective(3*A1+7*A2+5*A3+5*B1+3*B2+3*B3)\n",
    "A=mod.addConstr(A1+A2+A3<=20)\n",
    "B=mod.addConstr(B1+B2+B3<=15)\n",
    "F1=mod.addConstr(A1+B1>=10)\n",
    "F2=mod.addConstr(A2+B2>=10)\n",
    "F3=mod.addConstr(A3+B3>=10)\n",
    "\n",
    "mod.optimize()"
   ]
  },
  {
   "cell_type": "code",
   "execution_count": 11,
   "metadata": {
    "ExecuteTime": {
     "end_time": "2020-03-25T02:08:21.420745Z",
     "start_time": "2020-03-25T02:08:21.413763Z"
    }
   },
   "outputs": [
    {
     "name": "stdout",
     "output_type": "stream",
     "text": [
      "100.0\n",
      "10.0 0.0 5.0\n",
      "0.0 10.0 5.0\n",
      "0.0 -2.0\n",
      "3.0 5.0 5.0\n"
     ]
    }
   ],
   "source": [
    "print(mod.objVal)\n",
    "print(A1.X,A2.X,A3.X)\n",
    "print(B1.X,B2.X,B3.X)\n",
    "print(A.Pi,B.Pi)\n",
    "print(F1.Pi,F2.Pi,F3.Pi)"
   ]
  },
  {
   "cell_type": "markdown",
   "metadata": {},
   "source": [
    "## Q2 (Production Planning)\n",
    "\n",
    "**DMD Exercise 7.8** Nature's best Frozen Foods company produces four different mixes of frozen ready-to-eat vegetables. The mixes const of five different vegetables: carrots, mushrooms, green peppers, broccoli, and corn. The company manufacturers four different mixes each sold in 10 oz. bags. The mixes are \"Stir Fry\", \"Barbecue\", \"Hearty Mushrooms\" and \"Veggie Crunch,\" and their contributions to earnings (per bag) are 0.22, 0.20, 0.18 and 0.18 respectively. The monthly supplies of carrots, mushrooms, green peppers, broccoli and corn are 150,000 oz., 80,000 oz., 135,000 oz., 140,000 oz., and 150,000 oz. per month, respectively. The compositions of the mixes are shown in the table below. For example, one bag of \"Stir Fry\" mix contains 2.5 oz. of carrots, 3.0 oz. of mushrooms, 2.5 oz. of green peppers, 2.0 oz. of broccoli, and no corn. \n",
    "\n",
    "|` `| Stir Fry | Barbecue | Hearty Mushrooms | Veggie Crunch |\n",
    "|--|--|--|--|--|\n",
    "|Carrots | 2.5 | 2.0 | - | 2.5 |\n",
    "|Mushrooms | 3.0 | - | 4.0 | - |\n",
    "|Green Peppers | 2.5 | 2.0 | 3 | 2.5 |\n",
    "|Broccoli | 2.0 | 3.0 | 3.0 | 2.5 |\n",
    "|Corn | - | 3.0 | - | 2.5 |\n",
    "\n",
    "Construct a LP to determine the optimal product mix to maximize total earnings. (You need to write the math formulation in a Markdown cell following the typesetting instructions at the top of this homework.) Solve this LP using Gurobi. What is the optimal product mix and the optimal objective value? What is the value of an extra ounce of green peppers?\n",
    "\n",
    "Let Stir Fry, Barbecue, Hearty Mushrooms, Veggie Crunch be X1, X2, X3, X4\n",
    "\n",
    "$\\begin{aligned}  \n",
    "&\\text{Maximize:} & 0.22X1+0.20X2+0.18X3+0.18X4 \\\\\n",
    "& \\text{subject to:} \\\\\n",
    "& \\text{(Carrots)} & 2.5X1+2X2+2.5X4  \\le 150000 \\\\\n",
    "& \\text{(Mushrooms)} & 3X1+4X3  \\le 80000 \\\\\n",
    "& \\text{(Green Peppers)} & 2.5X1+2X2+3X3+2.5X4  \\le 135000\\\\\n",
    "& \\text{(Broccoli)} & 2X1+3X2+3X3+2.5X4  \\le 140000\\\\\n",
    "& \\text{(Corn)} & 3X2+2.5X4  \\le 150000\\\\\n",
    "& \\text{(Integer)} & X1,X2,X3,X4  \\in \\mathbb{Z}\n",
    "\\end{aligned}$\n",
    "\n",
    "Optimal value is 11813.333333333334, with  X1, X2, X3, X4 eqauling to 26666.666666666668, 18333.333333333343, 0.0, 12666.666666666655. Increase of 1 unit in Green Peppers increases 0.016 profit."
   ]
  },
  {
   "cell_type": "code",
   "execution_count": 13,
   "metadata": {
    "ExecuteTime": {
     "end_time": "2020-03-25T03:05:05.574895Z",
     "start_time": "2020-03-25T03:05:05.546947Z"
    }
   },
   "outputs": [
    {
     "name": "stdout",
     "output_type": "stream",
     "text": [
      "Gurobi Optimizer version 9.0.1 build v9.0.1rc0 (win64)\n",
      "Optimize a model with 5 rows, 4 columns and 15 nonzeros\n",
      "Model fingerprint: 0xe436f4d2\n",
      "Coefficient statistics:\n",
      "  Matrix range     [2e+00, 4e+00]\n",
      "  Objective range  [2e-01, 2e-01]\n",
      "  Bounds range     [0e+00, 0e+00]\n",
      "  RHS range        [8e+04, 2e+05]\n",
      "Presolve time: 0.00s\n",
      "Presolved: 5 rows, 4 columns, 15 nonzeros\n",
      "\n",
      "Iteration    Objective       Primal Inf.    Dual Inf.      Time\n",
      "       0    7.8000000e+29   1.000000e+31   7.800000e-01      0s\n",
      "       3    1.1813333e+04   0.000000e+00   0.000000e+00      0s\n",
      "\n",
      "Solved in 3 iterations and 0.01 seconds\n",
      "Optimal objective  1.181333333e+04\n"
     ]
    }
   ],
   "source": [
    "mod = gbp.Model()\n",
    "X1 = mod.addVar(vtype=gbp.GRB.INTEGER)\n",
    "X2 = mod.addVar(vtype=gbp.GRB.INTEGER)\n",
    "X3 = mod.addVar(vtype=gbp.GRB.INTEGER)\n",
    "X4 = mod.addVar(vtype=gbp.GRB.INTEGER)\n",
    "\n",
    "mod.setObjective(0.22*X1+0.20*X2+0.18*X3+0.18*X4,sense=gbp.GRB.MAXIMIZE)\n",
    "F1 = mod.addConstr(2.5*X1+2*X2+2.5*X4 <= 150000)\n",
    "F2 = mod.addConstr(3*X1+4*X3 <= 80000)\n",
    "F3 = mod.addConstr(2.5*X1+2*X2+3*X3+2.5*X4 <= 135000)\n",
    "F4 = mod.addConstr(2*X1+3*X2+3*X3+2.5*X4 <= 140000)\n",
    "F5 = mod.addConstr(3*X2+2.5*X4 <= 150000)\n",
    "\n",
    "mod.optimize()"
   ]
  },
  {
   "cell_type": "code",
   "execution_count": 14,
   "metadata": {
    "ExecuteTime": {
     "end_time": "2020-03-25T03:05:50.872110Z",
     "start_time": "2020-03-25T03:05:50.868156Z"
    }
   },
   "outputs": [
    {
     "name": "stdout",
     "output_type": "stream",
     "text": [
      "11813.333333333334\n",
      "26666.666666666668 18333.333333333343 0.0 12666.666666666655\n",
      "0.016\n"
     ]
    }
   ],
   "source": [
    "print(mod.objVal)\n",
    "print(X1.X,X2.X,X3.X,X4.X)\n",
    "print(F3.Pi)"
   ]
  },
  {
   "cell_type": "markdown",
   "metadata": {},
   "source": [
    "## Q3 (Portfolio Planning)\n",
    "\n",
    "**(DMD Exercise 7.12)** An investor is considering allocating 10,000 dollars among five investment alternatives. The five alternatives and their respective fund categories, risk levels, and average annual returns are shown below. \n",
    "\n",
    "| Fund | Category | Risk Level | Average Annual Return |\n",
    "|--|--|--|--|\n",
    "| A | Money Market | 1 | 4.50\\% |\n",
    "| B | Money Market | 2 | 5.62 \\% |\n",
    "| C | Bond | 2 | 6.80\\% |\n",
    "| D | Bond | 3 | 10.15\\% |\n",
    "| E | Aggressive Growth | 5 | 20.60\\% |\n",
    "\n",
    "The risk level of each fund is rated on a scale of 1 to 5, where 1 is very conservative and 5 is very risky. The investor would like to maximize the average annual return of the portfolio subject to the following restrictions: \n",
    "\n",
    "1. The average risk level of the entire investment should not exceed 2.5\n",
    "\n",
    "2. At least 30\\% of the investment should be placed in money market funds.\n",
    "\n",
    "3. At most 2,000 dollars should be invested in the aggressive growth fund.\n",
    "\n",
    "Construct and solve a LP to determine the optimal allocation of the investor's money. \n",
    "\n",
    "Denote A, B, C, D, E as  X1,X2,X3,X4,X5\n",
    "\n",
    "$\\begin{aligned}  \n",
    "&\\text{Maximize:} & 0.045X1+0.0562X2+0.068X3+0.1015X4+0.206X5 \\\\\n",
    "& \\text{subject to:} \\\\\n",
    "& \\text{(Total Investment)} &  X1+X2+X3+X4+X5 \\le 20000\\\\\n",
    "& \\text{(Risk)} & \\frac{1X1+2X2+2X3+3X4+5X5}{10000}  \\le 2.5 \\\\\n",
    "& \\text{(MMF)} & X1+X2  \\ge 3000 \\\\\n",
    "& \\text{(Green Peppers)} & X5  \\le 2000\\\\\n",
    "& \\text{(Non-negativity)} & X1,X2,X3,X4, X5  \\ge 0\n",
    "\\end{aligned}$\n",
    "\n",
    "Optimal allocation is 18750.0, 0.0, 0.0, 0.0, 1250.0"
   ]
  },
  {
   "cell_type": "code",
   "execution_count": 17,
   "metadata": {
    "ExecuteTime": {
     "end_time": "2020-03-25T03:23:15.682844Z",
     "start_time": "2020-03-25T03:23:15.663895Z"
    }
   },
   "outputs": [
    {
     "name": "stdout",
     "output_type": "stream",
     "text": [
      "Gurobi Optimizer version 9.0.1 build v9.0.1rc0 (win64)\n",
      "Optimize a model with 4 rows, 5 columns and 13 nonzeros\n",
      "Model fingerprint: 0x908f9e7c\n",
      "Coefficient statistics:\n",
      "  Matrix range     [1e+00, 5e+00]\n",
      "  Objective range  [4e-02, 2e-01]\n",
      "  Bounds range     [0e+00, 0e+00]\n",
      "  RHS range        [2e+03, 3e+04]\n",
      "Presolve removed 1 rows and 0 columns\n",
      "Presolve time: 0.00s\n",
      "Presolved: 3 rows, 5 columns, 12 nonzeros\n",
      "\n",
      "Iteration    Objective       Primal Inf.    Dual Inf.      Time\n",
      "       0    1.1250000e+03   1.247500e+03   0.000000e+00      0s\n",
      "       2    1.1012500e+03   0.000000e+00   0.000000e+00      0s\n",
      "\n",
      "Solved in 2 iterations and 0.01 seconds\n",
      "Optimal objective  1.101250000e+03\n"
     ]
    }
   ],
   "source": [
    "mod = gbp.Model()\n",
    "X1 = mod.addVar()\n",
    "X2 = mod.addVar()\n",
    "X3 = mod.addVar()\n",
    "X4 = mod.addVar()\n",
    "X5 = mod.addVar()\n",
    "\n",
    "mod.setObjective(0.045*X1+0.0562*X2+0.068*X3+0.1015 *\n",
    "                 X4+0.206*X5, sense=gbp.GRB.MAXIMIZE)\n",
    "F1 = mod.addConstr(X1+2*X2+2*X3+3*X4+5*X5 <= 25000)\n",
    "F2 = mod.addConstr(X1+X2 >= 3000)\n",
    "F3 = mod.addConstr(X5 <= 2000)\n",
    "F4=mod.addConstr(X1+X2+X3+X4+X5<=20000)\n",
    "\n",
    "mod.optimize()"
   ]
  },
  {
   "cell_type": "code",
   "execution_count": 18,
   "metadata": {
    "ExecuteTime": {
     "end_time": "2020-03-25T03:23:17.541755Z",
     "start_time": "2020-03-25T03:23:17.537764Z"
    }
   },
   "outputs": [
    {
     "name": "stdout",
     "output_type": "stream",
     "text": [
      "1101.25\n",
      "18750.0 0.0 0.0 0.0 1250.0\n"
     ]
    }
   ],
   "source": [
    "print(mod.objVal)\n",
    "print(X1.X,X2.X,X3.X,X4.X,X5.X)"
   ]
  },
  {
   "cell_type": "markdown",
   "metadata": {},
   "source": [
    "## Q4 (Project Sub-Contracting)\n",
    "\n",
    "Tom Burke, owner of Burke Construction, has promised to complete five projects this winter. Burke Construction has 10 workers that will work 40 hours a week for 12 weeks this winter. Since this is a limited workforce, Tom knows that he will not be able to complete all of his construction projects without subcontracting some of them. In the table below, he has estimated the amount of labor hours required by each project, and the profit to his company. \n",
    "\n",
    "Denote selection of project as X1~X5\n",
    "\n",
    "| Project | 1 | 2 | 3 | 4 | 5 |\n",
    "|--|--|--|--|--|--|\n",
    "| Labor hours required | 1300 | 950 | 1000 | 1400 | 1600 |\n",
    "| Profit (if done by own company) | \\$30,000 | \\$10,000 | \\$26,000 | \\$18,000 | \\$20,000 |\n",
    "| Profit (if subcontracted) | \\$6,000 | \\$2,000 | \\$8,000 | \\$9,000 | \\$4,500 |\n",
    "\n",
    "To maximize profit, which jobs should Tom schedule for his company, and which should be subcontracted? (Formulate this as an optimization problem and solve it.) Assume that projects cannot be partially subcontracted; that is, a project will be completed entirely by either Burke Construction or the subcontractor.\n",
    "\n",
    "\n",
    "$\\begin{aligned}  \n",
    "&\\text{Maximize:} & (30000-6000)X1+(10000-2000)X2+(26000-8000)X3+(18000-9000)X4+(20000-4500)X5 \\\\\n",
    "& \\text{subject to:} \\\\\n",
    "& \\text{(Labor)} & 1300X1+950X2+1000X3+1400X4+1600X5  \\le 10\\times 40\\times 12\\\\\n",
    "& \\text{(Binary)} & X1,X2,X3,X4,X5 \\in {0,1}\n",
    "\\end{aligned}$\n",
    "\n",
    "Only subcontract project 5, and schedule 1,2,3,4."
   ]
  },
  {
   "cell_type": "code",
   "execution_count": 19,
   "metadata": {
    "ExecuteTime": {
     "end_time": "2020-03-25T03:40:29.066954Z",
     "start_time": "2020-03-25T03:40:29.031809Z"
    }
   },
   "outputs": [
    {
     "name": "stdout",
     "output_type": "stream",
     "text": [
      "Gurobi Optimizer version 9.0.1 build v9.0.1rc0 (win64)\n",
      "Optimize a model with 1 rows, 5 columns and 5 nonzeros\n",
      "Model fingerprint: 0xfba10b5b\n",
      "Variable types: 0 continuous, 5 integer (5 binary)\n",
      "Coefficient statistics:\n",
      "  Matrix range     [1e+03, 2e+03]\n",
      "  Objective range  [8e+03, 2e+04]\n",
      "  Bounds range     [1e+00, 1e+00]\n",
      "  RHS range        [5e+03, 5e+03]\n",
      "Found heuristic solution: objective 59000.000000\n",
      "Presolve removed 1 rows and 5 columns\n",
      "Presolve time: 0.01s\n",
      "Presolve: All rows and columns removed\n",
      "\n",
      "Explored 0 nodes (0 simplex iterations) in 0.02 seconds\n",
      "Thread count was 1 (of 8 available processors)\n",
      "\n",
      "Solution count 1: 59000 \n",
      "\n",
      "Optimal solution found (tolerance 1.00e-04)\n",
      "Best objective 5.900000000000e+04, best bound 5.900000000000e+04, gap 0.0000%\n"
     ]
    }
   ],
   "source": [
    "mod = gbp.Model()\n",
    "X1 = mod.addVar(vtype=gbp.GRB.BINARY)\n",
    "X2 = mod.addVar(vtype=gbp.GRB.BINARY)\n",
    "X3 = mod.addVar(vtype=gbp.GRB.BINARY)\n",
    "X4 = mod.addVar(vtype=gbp.GRB.BINARY)\n",
    "X5 = mod.addVar(vtype=gbp.GRB.BINARY)\n",
    "\n",
    "mod.setObjective(24000*X1+8000*X2+18000*X3+9000 *\n",
    "                 X4+15500*X5, sense=gbp.GRB.MAXIMIZE)\n",
    "F1 = mod.addConstr(1300*X1+950*X2+1000*X3+1400*X4+1600*X5 <= 4800)\n",
    "\n",
    "mod.optimize()"
   ]
  },
  {
   "cell_type": "code",
   "execution_count": 20,
   "metadata": {
    "ExecuteTime": {
     "end_time": "2020-03-25T03:40:52.686726Z",
     "start_time": "2020-03-25T03:40:52.682737Z"
    }
   },
   "outputs": [
    {
     "name": "stdout",
     "output_type": "stream",
     "text": [
      "1.0 1.0 1.0 1.0 0.0\n"
     ]
    }
   ],
   "source": [
    "print(X1.X,X2.X,X3.X,X4.X,X5.X)"
   ]
  },
  {
   "cell_type": "markdown",
   "metadata": {},
   "source": [
    "## Q5 (Optimal Advertising Plan)\n",
    "\n",
    "SALS Marketing Inc. is developing an advertising campaign for a large consumer goods corporation. SALS has promised a plan that will yield the highest possible “exposure rating,” a measure of the ability to reach the appropriate demographic group and generate demand. The options for advertisements with their respective costs (per unit of advertising) and per-unit exposure ratings are given in the table below (K stands for thousands). \n",
    "\n",
    "| Category | Subcategory | Cost/Unit | Exposure/Unit |\n",
    "|--|--|--|--|\n",
    "| Magazines | Literary | \\$7.5 K | 15 K |\n",
    "| ` ` | News | \\$10 K | 22.5 K |\n",
    "| ` ` | Topical | \\$15 K | 24 K |\n",
    "| Newspapers |  Morning | \\$2 K | 37.5 K |\n",
    "|` `  | Evening | \\$3 K | 75 K |\n",
    "| Television | Morning | \\$20 K | 275 K |\n",
    "| ` ` | Midday | \\$10 K | 180 K |\n",
    "| ` `  | Evening | \\$60 K | 810 K |\n",
    "| Radio | Morning | \\$15 K | 180 K |\n",
    "| ` ` | Midday | \\$15 K | 17 K |\n",
    "| ` ` | Evening | \\$10 K | 16 K |\n",
    "\n",
    "Of course, certain restrictions exist for the advertising campaign. The client corporation has budgeted 800,000 dollars for the campaign, but to restrict overexposure to any particular audience it wants no more than 300,000 dollars put into any one category (Magazine, Newspaper, etc.). Also, to ensure a broad range of exposure, at least 100,000 dollars must be spent in each category. \n",
    "\n",
    "Denote variables of Subcategories in order: X1,X2,X3,X4,X5,X6,X7,X8,X9,X10,X11\n",
    "\n",
    "Formulate this problem as a MIP (which you must typeset nicely) and solve using Gurobi to find the optimal advertising plan. For this question, you can only purchase integer number of units. (Hint on typesetting: you can break a long expression into multiple lines using `\\\\` and control alignment using `&`.)\n",
    "\n",
    "$\\begin{aligned}  \n",
    "&\\text{Maximize:} & 15X1+22.5X2+24X3+37.5X4+75X5+275X6+180X7+810X8+180X9+17X10+16X11 \\\\\n",
    "& \\text{subject to:} \\\\\n",
    "& \\text{(Total Investment)} &  7.5X1+10X2+15X3+2X4+3X5+20X6+10X7+60X8+15X9+15X10+10X11 \\le 800\\\\\n",
    "& \\text{(Magazines)} & 100  \\le 7.5X1+10X2+15X3\\le 300 \\\\\n",
    "& \\text{(Newspapers)} &100 \\le 2X4+3X5 \\le 300 \\\\\n",
    "& \\text{(Television)} &  100 \\le 20X6+10X7+60X8 \\le 300\\\\\n",
    "& \\text{(Radio)} &  100 \\le 15X9+15X10+10X11\\le 300\\\\\n",
    "& \\text{(Integer)} & X1,X2,X3,X4, X5  \\in  \\mathbb{Z}\n",
    "\\end{aligned}$\n",
    "\n",
    "Invest 10 units in Magazine.News, 98 in Newspapers.Evening, 30 in Television.Midday, 7 in Radio.Morning."
   ]
  },
  {
   "cell_type": "code",
   "execution_count": 21,
   "metadata": {
    "ExecuteTime": {
     "end_time": "2020-03-25T04:05:53.747233Z",
     "start_time": "2020-03-25T04:05:53.689388Z"
    }
   },
   "outputs": [
    {
     "name": "stdout",
     "output_type": "stream",
     "text": [
      "Gurobi Optimizer version 9.0.1 build v9.0.1rc0 (win64)\n",
      "Optimize a model with 9 rows, 11 columns and 33 nonzeros\n",
      "Model fingerprint: 0xe388f8bc\n",
      "Variable types: 0 continuous, 11 integer (0 binary)\n",
      "Coefficient statistics:\n",
      "  Matrix range     [2e+00, 6e+01]\n",
      "  Objective range  [2e+01, 8e+02]\n",
      "  Bounds range     [0e+00, 0e+00]\n",
      "  RHS range        [1e+02, 8e+02]\n",
      "Found heuristic solution: objective 7434.5000000\n",
      "Presolve removed 0 rows and 1 columns\n",
      "Presolve time: 0.00s\n",
      "Presolved: 9 rows, 10 columns, 30 nonzeros\n",
      "Found heuristic solution: objective 9909.0000000\n",
      "Variable types: 0 continuous, 10 integer (0 binary)\n",
      "\n",
      "Root relaxation: objective 1.432500e+04, 4 iterations, 0.00 seconds\n",
      "\n",
      "    Nodes    |    Current Node    |     Objective Bounds      |     Work\n",
      " Expl Unexpl |  Obj  Depth IntInf | Incumbent    BestBd   Gap | It/Node Time\n",
      "\n",
      "     0     0 14325.0000    0    1 9909.00000 14325.0000  44.6%     -    0s\n",
      "H    0     0                    14206.500000 14325.0000  0.83%     -    0s\n",
      "H    0     0                    14212.500000 14325.0000  0.79%     -    0s\n",
      "H    0     0                    14235.000000 14325.0000  0.63%     -    0s\n",
      "     0     0 14291.2500    0    2 14235.0000 14291.2500  0.40%     -    0s\n",
      "\n",
      "Cutting planes:\n",
      "  Gomory: 1\n",
      "  MIR: 1\n",
      "  Mod-K: 1\n",
      "\n",
      "Explored 1 nodes (6 simplex iterations) in 0.04 seconds\n",
      "Thread count was 8 (of 8 available processors)\n",
      "\n",
      "Solution count 5: 14235 14212.5 14206.5 ... 7434.5\n",
      "\n",
      "Optimal solution found (tolerance 1.00e-04)\n",
      "Best objective 1.423500000000e+04, best bound 1.423500000000e+04, gap 0.0000%\n"
     ]
    }
   ],
   "source": [
    "mod = gbp.Model()\n",
    "X1 = mod.addVar(vtype=gbp.GRB.INTEGER)\n",
    "X2 = mod.addVar(vtype=gbp.GRB.INTEGER)\n",
    "X3 = mod.addVar(vtype=gbp.GRB.INTEGER)\n",
    "X4 = mod.addVar(vtype=gbp.GRB.INTEGER)\n",
    "X5 = mod.addVar(vtype=gbp.GRB.INTEGER)\n",
    "X6 = mod.addVar(vtype=gbp.GRB.INTEGER)\n",
    "X7 = mod.addVar(vtype=gbp.GRB.INTEGER)\n",
    "X8 = mod.addVar(vtype=gbp.GRB.INTEGER)\n",
    "X9 = mod.addVar(vtype=gbp.GRB.INTEGER)\n",
    "X10 = mod.addVar(vtype=gbp.GRB.INTEGER)\n",
    "X11 = mod.addVar(vtype=gbp.GRB.INTEGER)\n",
    "\n",
    "mod.setObjective(15*X1+22.5*X2+24*X3+37.5*X4+75*X5+275*X6 +\n",
    "                 180*X7+810*X8+180*X9+17*X10+16*X11, sense=gbp.GRB.MAXIMIZE)\n",
    "mod.addConstr(7.5*X1+10*X2+15*X3+2*X4+3*X5+20*X6 +\n",
    "              10*X7+60*X8+15*X9+15*X10+10*X11 <= 800)\n",
    "mod.addConstr(100 <= 7.5*X1+10*X2+15*X3)\n",
    "mod.addConstr(7.5*X1+10*X2+15*X3 <= 300)\n",
    "mod.addConstr(100 <= 2*X4+3*X5)\n",
    "mod.addConstr(2*X4+3*X5 <= 300)\n",
    "mod.addConstr(100 <= 20*X6+10*X7+60*X8)\n",
    "mod.addConstr(20*X6+10*X7+60*X8 <= 300)\n",
    "mod.addConstr(100 <= 15*X9+15*X10+10*X11)\n",
    "mod.addConstr(15*X9+15*X10+10*X11 <= 300)\n",
    "\n",
    "mod.optimize()"
   ]
  },
  {
   "cell_type": "code",
   "execution_count": 22,
   "metadata": {
    "ExecuteTime": {
     "end_time": "2020-03-25T04:06:31.045505Z",
     "start_time": "2020-03-25T04:06:31.036499Z"
    }
   },
   "outputs": [
    {
     "name": "stdout",
     "output_type": "stream",
     "text": [
      "-0.0 10.0 -0.0 0.0 98.0 -0.0 30.0 -0.0 7.0 -0.0 -0.0\n"
     ]
    }
   ],
   "source": [
    "print(X1.X,X2.X,X3.X,X4.X,X5.X,X6.X,X7.X,X8.X,X9.X,X10.X,X11.X)"
   ]
  },
  {
   "cell_type": "code",
   "execution_count": null,
   "metadata": {},
   "outputs": [],
   "source": []
  }
 ],
 "metadata": {
  "kernelspec": {
   "display_name": "Python 3",
   "language": "python",
   "name": "python3"
  },
  "language_info": {
   "codemirror_mode": {
    "name": "ipython",
    "version": 3
   },
   "file_extension": ".py",
   "mimetype": "text/x-python",
   "name": "python",
   "nbconvert_exporter": "python",
   "pygments_lexer": "ipython3",
   "version": "3.7.4"
  },
  "toc": {
   "base_numbering": 1,
   "nav_menu": {},
   "number_sections": true,
   "sideBar": true,
   "skip_h1_title": false,
   "title_cell": "Table of Contents",
   "title_sidebar": "Contents",
   "toc_cell": false,
   "toc_position": {},
   "toc_section_display": true,
   "toc_window_display": false
  },
  "varInspector": {
   "cols": {
    "lenName": 16,
    "lenType": 16,
    "lenVar": 40
   },
   "kernels_config": {
    "python": {
     "delete_cmd_postfix": "",
     "delete_cmd_prefix": "del ",
     "library": "var_list.py",
     "varRefreshCmd": "print(var_dic_list())"
    },
    "r": {
     "delete_cmd_postfix": ") ",
     "delete_cmd_prefix": "rm(",
     "library": "var_list.r",
     "varRefreshCmd": "cat(var_dic_list()) "
    }
   },
   "types_to_exclude": [
    "module",
    "function",
    "builtin_function_or_method",
    "instance",
    "_Feature"
   ],
   "window_display": false
  }
 },
 "nbformat": 4,
 "nbformat_minor": 2
}
