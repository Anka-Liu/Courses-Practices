{
 "cells": [
  {
   "cell_type": "markdown",
   "metadata": {},
   "source": [
    "**Name: Chengjun Liu**"
   ]
  },
  {
   "cell_type": "markdown",
   "metadata": {},
   "source": [
    "# Executive Summary"
   ]
  },
  {
   "attachments": {},
   "cell_type": "markdown",
   "metadata": {},
   "source": [
    "This executive summary is to solve optimization of least shipping costs for 19 fulfilment centers and find top 5 that save most by expanding capacities. \n",
    "\n",
    "Question 1: The least cost possible\n",
    "\n",
    "The least cost possible after optimization of shipping from 19 fulfilment centers to regions is $9841229.288$. \n",
    "\n",
    "Question 2: The top 5 fulfilment centers for expansion\n",
    "\n",
    "The top 5 fulfilments for the expansion plan are $TPA1, MKE1, SDF8, BDL1, EWR4$, with the least negative shadow prices. "
   ]
  },
  {
   "cell_type": "markdown",
   "metadata": {},
   "source": [
    "# Abstract Formulation"
   ]
  },
  {
   "cell_type": "markdown",
   "metadata": {},
   "source": [
    "**Data:** \n",
    "\n",
    "- $I$ : the set of fulfilment centers\n",
    "- $J$ : the set of demand regions\n",
    "- $K$ : the set of items\n",
    "- $q_i$ : Capacity of each fulfilment center $i$, $i \\in I$\n",
    "- $\\delta_{ij}$ : the distance from FC $i$ to Region $j$, $i \\in I$, $j \\in J$\n",
    "- $w_k$ : the shipping weight for each item $k$, $k \\in K$\n",
    "- $s_k$ : the storage size of each item $k$, $k \\in K$\n",
    "- $d_{jk}$ : the demand of item $k$ for each region $i$, $k \\in K$, $i \\in I$\n",
    "\n",
    "**Decision Variables:**\n",
    "For each shipping route from fulfilment center $i$ to demand region $j$, let $X_{ijk}$ denote weekly shipping amount of item $k$ from $i$ to $j$\n",
    "\n",
    "**Objective and constraints:**\n",
    "\n",
    "$$\\begin{aligned}\n",
    "\\text{Minimize:} && \\sum_{i \\in I, j \\in J, k \\in K} 1.38w_k\\delta_{ij}x_{ijk}\\\\ \n",
    "\\text{subject to:} \\\\\n",
    "\\text{(Capacity)} && \\sum_{j \\in J, k \\in K} s_kx_{ijk} & \\le q_i \\text{ for } i \\in I \\\\\n",
    "\\text{(Demand)} && \\sum_{i \\in I} x_{ijk} & \\ge d_{jk} \\text{ for } j \\in J, k \\in K\\\\\n",
    "\\text{(Non-negative)} && x_{ijk} & \\ge \\text{ for } i \\in I, j \\in J, k \\in K\\\\\n",
    "\\end{aligned}$$ "
   ]
  },
  {
   "cell_type": "markdown",
   "metadata": {},
   "source": [
    "# Function Call & Command Line"
   ]
  },
  {
   "cell_type": "code",
   "execution_count": 79,
   "metadata": {
    "ExecuteTime": {
     "end_time": "2020-04-13T05:51:22.721167Z",
     "start_time": "2020-04-13T05:51:20.675557Z"
    }
   },
   "outputs": [
    {
     "name": "stdout",
     "output_type": "stream",
     "text": [
      "Using license file C:\\Users\\ankaa\\gurobi.lic\n",
      "Academic license - for non-commercial use only\n",
      "Gurobi Optimizer version 9.0.1 build v9.0.1rc0 (win64)\n",
      "Optimize a model with 8 rows, 12 columns and 24 nonzeros\n",
      "Model fingerprint: 0x6b2e9a2c\n",
      "Coefficient statistics:\n",
      "  Matrix range     [1e+00, 2e+00]\n",
      "  Objective range  [6e-01, 9e+00]\n",
      "  Bounds range     [0e+00, 0e+00]\n",
      "  RHS range        [1e+02, 1e+03]\n",
      "Presolve time: 0.00s\n",
      "Presolved: 8 rows, 12 columns, 24 nonzeros\n",
      "\n",
      "Iteration    Objective       Primal Inf.    Dual Inf.      Time\n",
      "       0    0.0000000e+00   1.450000e+03   0.000000e+00      0s\n",
      "       8    3.4007692e+03   0.000000e+00   0.000000e+00      0s\n",
      "\n",
      "Solved in 8 iterations and 0.00 seconds\n",
      "Optimal objective  3.400769190e+03\n",
      "Using license file C:\\Users\\ankaa\\gurobi.lic\n",
      "Academic license - for non-commercial use only\n",
      "Gurobi Optimizer version 9.0.1 build v9.0.1rc0 (win64)\n",
      "Optimize a model with 8 rows, 12 columns and 24 nonzeros\n",
      "Model fingerprint: 0x6b2e9a2c\n",
      "Coefficient statistics:\n",
      "  Matrix range     [1e+00, 2e+00]\n",
      "  Objective range  [6e-01, 9e+00]\n",
      "  Bounds range     [0e+00, 0e+00]\n",
      "  RHS range        [1e+02, 1e+03]\n",
      "Presolve time: 0.00s\n",
      "Presolved: 8 rows, 12 columns, 24 nonzeros\n",
      "\n",
      "Iteration    Objective       Primal Inf.    Dual Inf.      Time\n",
      "       0    0.0000000e+00   1.450000e+03   0.000000e+00      0s\n",
      "       8    3.4007692e+03   0.000000e+00   0.000000e+00      0s\n",
      "\n",
      "Solved in 8 iterations and 0.00 seconds\n",
      "Optimal objective  3.400769190e+03\n",
      "\n",
      "Autograding Lab 2 script named \"lab2_code.py\":\n",
      "\n",
      "\tCorrect from function call: 1\n",
      "\tCorrect from command line: 1\n",
      "\n",
      "Total code score (out of 2): 2\n"
     ]
    }
   ],
   "source": [
    "!python grade.py lab2_code.py"
   ]
  },
  {
   "attachments": {},
   "cell_type": "markdown",
   "metadata": {},
   "source": [
    "# Full Data Verification"
   ]
  },
  {
   "cell_type": "code",
   "execution_count": 78,
   "metadata": {
    "ExecuteTime": {
     "end_time": "2020-04-13T05:21:31.126832Z",
     "start_time": "2020-04-13T05:21:12.419919Z"
    }
   },
   "outputs": [
    {
     "name": "stdout",
     "output_type": "stream",
     "text": [
      "Using license file C:\\Users\\ankaa\\gurobi.lic\n",
      "Academic license - for non-commercial use only\n",
      "Gurobi Optimizer version 9.0.1 build v9.0.1rc0 (win64)\n",
      "Optimize a model with 9817 rows, 166600 columns and 333200 nonzeros\n",
      "Model fingerprint: 0x91591b76\n",
      "Coefficient statistics:\n",
      "  Matrix range     [5e-03, 2e+00]\n",
      "  Objective range  [2e-03, 6e+01]\n",
      "  Bounds range     [0e+00, 0e+00]\n",
      "  RHS range        [1e+00, 3e+05]\n",
      "\n",
      "Concurrent LP optimizer: dual simplex and barrier\n",
      "Showing barrier log only...\n",
      "\n",
      "Presolve removed 1937 rows and 32929 columns\n",
      "Presolve time: 0.16s\n",
      "Presolved: 7880 rows, 133671 columns, 267342 nonzeros\n",
      "\n",
      "Ordering time: 0.01s\n",
      "\n",
      "Barrier statistics:\n",
      " AA' NZ     : 1.337e+05\n",
      " Factor NZ  : 1.421e+05 (roughly 60 MBytes of memory)\n",
      " Factor Ops : 2.572e+06 (less than 1 second per iteration)\n",
      " Threads    : 3\n",
      "\n",
      "                  Objective                Residual\n",
      "Iter       Primal          Dual         Primal    Dual     Compl     Time\n",
      "   0   2.13065591e+10  0.00000000e+00  5.95e+07 0.00e+00  4.70e+05     0s\n",
      "   1   1.23790320e+10 -9.38154348e+07  3.49e+07 5.48e+00  2.80e+05     0s\n",
      "   2   3.62934680e+09 -1.41723525e+08  9.49e+06 4.93e-01  7.47e+04     0s\n",
      "   3   5.99820433e+08 -1.34933566e+08  1.40e+06 4.62e-14  1.20e+04     0s\n",
      "   4   2.54916373e+08 -9.02897857e+07  5.04e+05 3.91e-14  4.50e+03     0s\n",
      "   5   1.28768546e+08 -5.87172957e+07  2.00e+05 4.62e-14  1.98e+03     0s\n",
      "   6   7.57683289e+07 -2.90508219e+07  8.80e+04 3.55e-14  9.30e+02     0s\n",
      "   7   4.99774752e+07 -8.57560831e+06  4.17e+04 1.42e-14  4.60e+02     0s\n",
      "   8   3.53724573e+07  1.15588460e+05  2.16e+04 1.78e-14  2.60e+02     0s\n",
      "   9   3.08450037e+07  6.03359842e+06  1.62e+04 1.42e-14  1.76e+02     0s\n",
      "  10   2.23900932e+07  6.52951190e+06  7.84e+03 1.42e-14  1.12e+02     1s\n",
      "  11   1.96947207e+07  7.71396086e+06  5.89e+03 2.13e-14  8.38e+01     1s\n",
      "  12   1.81358958e+07  8.33600834e+06  4.77e+03 1.42e-14  6.83e+01     1s\n",
      "  13   1.60214363e+07  9.06758838e+06  3.35e+03 1.42e-14  4.83e+01     1s\n",
      "  14   1.34718781e+07  9.40569660e+06  1.82e+03 1.42e-14  2.82e+01     1s\n",
      "  15   1.21093469e+07  9.58885972e+06  1.10e+03 1.42e-14  1.74e+01     1s\n",
      "  16   1.16301596e+07  9.61739044e+06  8.56e+02 1.42e-14  1.39e+01     1s\n",
      "  17   1.11881877e+07  9.69100499e+06  6.37e+02 1.42e-14  1.04e+01     1s\n",
      "\n",
      "Barrier performed 17 iterations in 0.71 seconds\n",
      "Barrier solve interrupted - model solved by another algorithm\n",
      "\n",
      "\n",
      "Solved with dual simplex\n",
      "Solved in 8955 iterations and 0.71 seconds\n",
      "Optimal objective  9.841229288e+06\n"
     ]
    }
   ],
   "source": [
    "!python lab2_code.py data.xlsx data_solution.xlsx"
   ]
  },
  {
   "attachments": {},
   "cell_type": "markdown",
   "metadata": {},
   "source": [
    "\n",
    "## Optimized Least Cost\n",
    "![Least_cost.png](Least_cost.png)\n",
    "\n",
    "## Best Fulfilment Centers\n",
    "![FC_list.png](FC_list.png)"
   ]
  },
  {
   "cell_type": "code",
   "execution_count": null,
   "metadata": {},
   "outputs": [],
   "source": []
  }
 ],
 "metadata": {
  "kernelspec": {
   "display_name": "Python 3",
   "language": "python",
   "name": "python3"
  },
  "language_info": {
   "codemirror_mode": {
    "name": "ipython",
    "version": 3
   },
   "file_extension": ".py",
   "mimetype": "text/x-python",
   "name": "python",
   "nbconvert_exporter": "python",
   "pygments_lexer": "ipython3",
   "version": "3.7.4"
  },
  "toc": {
   "base_numbering": 1,
   "nav_menu": {},
   "number_sections": true,
   "sideBar": true,
   "skip_h1_title": false,
   "title_cell": "Table of Contents",
   "title_sidebar": "Contents",
   "toc_cell": false,
   "toc_position": {},
   "toc_section_display": true,
   "toc_window_display": false
  },
  "varInspector": {
   "cols": {
    "lenName": 16,
    "lenType": 16,
    "lenVar": 40
   },
   "kernels_config": {
    "python": {
     "delete_cmd_postfix": "",
     "delete_cmd_prefix": "del ",
     "library": "var_list.py",
     "varRefreshCmd": "print(var_dic_list())"
    },
    "r": {
     "delete_cmd_postfix": ") ",
     "delete_cmd_prefix": "rm(",
     "library": "var_list.r",
     "varRefreshCmd": "cat(var_dic_list()) "
    }
   },
   "types_to_exclude": [
    "module",
    "function",
    "builtin_function_or_method",
    "instance",
    "_Feature"
   ],
   "window_display": false
  }
 },
 "nbformat": 4,
 "nbformat_minor": 2
}
