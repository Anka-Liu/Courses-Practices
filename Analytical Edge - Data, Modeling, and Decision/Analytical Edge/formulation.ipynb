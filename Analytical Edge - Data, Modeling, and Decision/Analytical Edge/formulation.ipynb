{
 "cells": [
  {
   "cell_type": "markdown",
   "metadata": {
    "ExecuteTime": {
     "end_time": "2020-04-21T07:04:07.124335Z",
     "start_time": "2020-04-21T07:04:07.114358Z"
    }
   },
   "source": [
    "**Name: Chengjun Liu**\n",
    "\n",
    "**Data:** \n",
    "\n",
    "- $S$ : the set of shifts in consecutive number from start of schedule to end of schedule\n",
    "- $I$ : the set of days \n",
    "- $J$ : the set of nurses\n",
    "- $K$ : the set of shift label in one day (let k=1 for day, k=2 for evening, k=3 for night)\n",
    "- $W$ : the set of weeks \n",
    "- $D$ : the set of shift labels available in the schedule (s,i,k,w), where $s \\in S, i \\in I$, $k \\in K$, $w \\in W$\n",
    "- $x_{ijksw}$ : whether to work the shift $s$ of label $k$ of day $i$ for nurse $j$, where $j \\in J$, $(s,i,k,w) \\in D$\n",
    "- $q_{iksw}$ : minimum requirement of nurses for the shift $k$ of day $i$ in week $w$, where $(s,i,k,w) \\in D$\n",
    "- $p_{ijksw}$ : the preference of the shift $s$ of label $k$ of day $i$ in week $w$ for nurse $j$, where $j \\in J$, $(s,i,k,w) \\in D$\n",
    "- $M$ : maximum number of shifts of all nurses\n",
    "- $N$ : minimum number of shifts of all nurses\n",
    "- $m$ : maximum number of night shifts of all nurses\n",
    "- $n$ : minimum number of night shifts of all nurses\n",
    "\n",
    "**Decision Variables:**\n",
    "For each day $i$ of week $w$ and each nurse $j$, let $x_{ijksw}$ denote whether to take the shift $k$. Let $M$ and $N$ denote maximum and mininum number of shifts of all nurses, and $m$ and $n$ denote maximum and mininum number of night shifts of all nurses.\n",
    "\n",
    "**Objective and constraints:**\n",
    "\n",
    "$$\\begin{aligned}\n",
    "\\text{Maximize:} && \\sum_{j \\in J, (s,i,k,w) \\in D} x_{ijksw}p_{ijksw} & - 100\\times (M-N) - 150 \\times (m-n)\\\\ \n",
    "\\text{subject to:} \\\\\n",
    "\\text{(Nurses for shifts)} && \\sum_{j \\in J} x_{ijksw} & = q_{iksw} \\text{ for } (s,i,k,w) \\in D \\\\\n",
    "\\text{(No consecutive)} && x_{ijksw} + x_{ijk(s-1)w}& \\le 1 \\text{ for } j \\in J, (s,i,k,w) \\in D, x_{ijksw}=0 \\text{ if } s \\notin S \\\\\n",
    "\\text{(Night rest)} &&  x_{ijksw}+x_{ijk(s-2)w} & \\le 1, x_{ijksw}+x_{ijk(s+2)w} \\le 1 \\text{ for }j \\in J, (s,i,k,w) \\in D,k=3 \\in K, x_{ijksw}=0 \\text{ if } s \\notin S\\\\\n",
    "\\text{(Week limit)} && \\sum_{(s,i,k,w) \\in D} x_{ijksw} & \\le 6 \\text{ for }j \\in J, w \\in W\\\\\n",
    "\\text{(Shift blackout)} && x_{ijksw} & \\le p_{ijksw} \\text{ for }j \\in J, (s,i,k,w) \\in D\\\\\n",
    "\\text{(Maximum shifts)} && \\sum_{(s,i,k,w) \\in D} x_{ijksw} & \\le M \\text{ for }j \\in J\\\\\n",
    "\\text{(Minimum shifts)} && \\sum_{(s,i,k,w) \\in D} x_{ijksw} & \\ge N \\text{ for }j \\in J\\\\\n",
    "\\text{(Maximum night shifts)} && \\sum_{(s,i,k,w) \\in D, k=3 \\in K} x_{ijksw} & \\le m \\text{ for }j \\in J \\\\\n",
    "\\text{(Minimum night shifts)} && \\sum_{(s,i,k,w) \\in D, k=3 \\in K} x_{ijksw} & \\le n \\text{ for }j \\in J \\\\\n",
    "\\text{(Binary)} && x_{ijksw} & \\in \\{0,1\\} \\text{ for }j \\in J,(s,i,k,w) \\in D \\\\\n",
    "\\end{aligned}$$ \n"
   ]
  },
  {
   "cell_type": "code",
   "execution_count": 159,
   "metadata": {
    "ExecuteTime": {
     "end_time": "2020-04-21T11:35:11.694241Z",
     "start_time": "2020-04-21T11:35:09.209858Z"
    }
   },
   "outputs": [
    {
     "name": "stdout",
     "output_type": "stream",
     "text": [
      "Grading schdule for full data...\n",
      "\n",
      "Grade for Lab 3:\n",
      "ii) Correct Summary Stastics: 1\n",
      "iii) Feasible Schedule for Actual Data: 1\n",
      "iv) Optimal Schedule for Actual Data: 1\n"
     ]
    }
   ],
   "source": [
    "!python grade_lab3.py output_for_data.xlsx data.xlsx"
   ]
  },
  {
   "cell_type": "code",
   "execution_count": null,
   "metadata": {},
   "outputs": [],
   "source": []
  }
 ],
 "metadata": {
  "kernelspec": {
   "display_name": "Python 3",
   "language": "python",
   "name": "python3"
  },
  "language_info": {
   "codemirror_mode": {
    "name": "ipython",
    "version": 3
   },
   "file_extension": ".py",
   "mimetype": "text/x-python",
   "name": "python",
   "nbconvert_exporter": "python",
   "pygments_lexer": "ipython3",
   "version": "3.7.4"
  },
  "toc": {
   "base_numbering": 1,
   "nav_menu": {},
   "number_sections": true,
   "sideBar": true,
   "skip_h1_title": false,
   "title_cell": "Table of Contents",
   "title_sidebar": "Contents",
   "toc_cell": false,
   "toc_position": {},
   "toc_section_display": true,
   "toc_window_display": false
  },
  "varInspector": {
   "cols": {
    "lenName": 16,
    "lenType": 16,
    "lenVar": 40
   },
   "kernels_config": {
    "python": {
     "delete_cmd_postfix": "",
     "delete_cmd_prefix": "del ",
     "library": "var_list.py",
     "varRefreshCmd": "print(var_dic_list())"
    },
    "r": {
     "delete_cmd_postfix": ") ",
     "delete_cmd_prefix": "rm(",
     "library": "var_list.r",
     "varRefreshCmd": "cat(var_dic_list()) "
    }
   },
   "types_to_exclude": [
    "module",
    "function",
    "builtin_function_or_method",
    "instance",
    "_Feature"
   ],
   "window_display": false
  }
 },
 "nbformat": 4,
 "nbformat_minor": 2
}
