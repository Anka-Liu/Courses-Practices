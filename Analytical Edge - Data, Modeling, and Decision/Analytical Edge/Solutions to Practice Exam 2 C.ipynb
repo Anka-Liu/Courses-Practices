{
 "cells": [
  {
   "cell_type": "markdown",
   "metadata": {},
   "source": [
    "# Solutions to Practice Exam 2-C \n",
    "**In preparation for Exam 2, you should first attempt the exam yourself before looking at the solutions, as the goal is to practice solving problems rather than to memorize solutions.** The actual exam will have very different problems as the course is about the thinking process of solving new problems, rather than about recognizing patterns from old problems. If you try to memorize what to do in each kind of problem, you will not do well, because the questions on the final exam will be unlike anything we did before. \n",
    "\n",
    "The solutions here give you an indication of how much to write in the exam for each type of question. The solutions introduce various shorthands, both in writing formulations and in the coding, which can save you time.\n",
    "\n",
    "\n",
    "# Practice Exam 2-C (30 Points)\n"
   ]
  },
  {
   "cell_type": "markdown",
   "metadata": {},
   "source": [
    "## Q1. Concrete Formulation (11 points)\n",
    "\n",
    "A company manufactures a type of heavy machinery in city A and would like to determine the fastest rate at which it can deliver machines to customers in city D. (Rate, or throughput, is measured in the average number of machines delivered per day.) The bottleneck is that the company must use a special type of truck to ship the machine, and a limited number of these trucks travel between two adjacent cities each day. Each truck can carry only one machine at a time, and each truck only makes trips between two specified cities and will not go anywhere else. The following figure shows which cities are adjacent and how many trucks travel between each pair of adjacent cities in either directions each day.\n",
    "\n",
    "![Network for Q2](Exam2C-1.png)"
   ]
  },
  {
   "cell_type": "markdown",
   "metadata": {},
   "source": [
    "For example, 8 trucks travel from A to B per day, and all 8 return from B to A on the same day. Since a truck can bear load when travelling in either directions, the rate at which machines travel between A and B is at most 8 per day in either directions. Machines that arrive at city B must be immediately unloaded from the truck it came from (as the truck is going back to city A); later on, that machine can be loaded unto other trucks that travel for example to city C or D. Because all the demand are in city D, the rate at which machines arrive into city B must equal the rate at which machines leave city B, and similarly for city C. \n",
    "\n",
    "**i) (8 points) Formulate a LP/MIP to determine the fastest rate at which the company can satisfy demand in city D. The LP/MIP may assume the network structure above. but it must continue to work if any combination of numbers are changed** (the numbers in the formulation can be correspondingly updated but the variables and constraints must stay the same). "
   ]
  },
  {
   "cell_type": "markdown",
   "metadata": {},
   "source": [
    "**Decision Variables:**\n",
    "\n",
    "$X_{ij}$: the number machines shipped each day from city $i$ to city $j$. (Continuous)\n",
    "\n",
    "**Objective and Constraints:**\n",
    "\n",
    "$$\\begin{aligned}\n",
    "\\text{Maximize} && X_{BD}+X_{CD}  \\\\\n",
    "\\text{s.t.} && X_{AB}+X_{CB} & =X_{BC}+X_{BD} \\\\\n",
    "&& X_{AC}+X_{BC} &= X_{CB}+X_{CD} \\\\\n",
    "&& X_{AB} & \\le 8 \\\\\n",
    "&& X_{AC} & \\le 5 \\\\\n",
    "&& X_{BC} & \\le 3 \\\\\n",
    "&& X_{CB} & \\le 3 \\\\\n",
    "&& X_{BD} & \\le 4 \\\\\n",
    "&& X_{CD} & \\le 10 \\\\\n",
    "&& X_{ij} & \\ge 0 \\qquad \\text{for all pairs of adjacent cities $(i,j)$.}\n",
    "\\end{aligned}$$"
   ]
  },
  {
   "cell_type": "markdown",
   "metadata": {},
   "source": [
    "**ii) (3 points)** Suppose that there is an additional constraint: if the company uses any trucks that travel directly between A and C, then it cannot use trucks that travel directly between B and D. **Define additional decision variables and linear constraints to implement this.**"
   ]
  },
  {
   "cell_type": "markdown",
   "metadata": {},
   "source": [
    "**Additional Decision Variables:**\n",
    "\n",
    "- **Z_{AC}**: whether to use trucks that travel between A and C. (Binary)\n",
    "- **Z_{BD}**: whether to use trucks that travel between B and D. (Binary)\n",
    "\n",
    "**Additional Linear Constraints:**\n",
    "\n",
    "$$\\begin{aligned}\n",
    "X_{AC} & \\le 5Z_{AC} \\\\\n",
    "X_{BD} & \\le 4Z_{BD} \\\\\n",
    "Z_{AC}+Z_{BD} & \\le 1\n",
    "\\end{aligned}$$"
   ]
  },
  {
   "cell_type": "markdown",
   "metadata": {},
   "source": [
    "## Q3. Abstract Formulation (9 points) \n",
    "\n",
    "Trojan Consulting would like to assign consultants to projects in a way that minimizes total travel costs while satisfying the skill requirements of each project and avoiding assigning the same consultant to two projects with overlapping time frames. \n",
    "\n",
    "In the following example, there are four consultants, each of whom may possess one or more of two possible skills. (A checkmark indicates whether the person has the skill.) Each project requires at least a certain number of consultants of each skill. If a consultant has both skills, he/she can count toward the number required for both skills, and the travel cost may potentially be less as one less person would be needed. Projects 1 and 2, and projects 2 and 3 overlap, but the same consultant may be assigned to projects 1 and 3.\n",
    "\n",
    "|Consultant | Accounting | Operations |\n",
    "|:--|--|--|\n",
    "|Alice |√ |` `|\n",
    "|Bob |√ |√|\n",
    "|Charlie |` `| √ |\n",
    "|Daphne |√ |√|\n",
    "\n",
    "|Project| Accounting | Operations |\n",
    "|--|--|--|\n",
    "|P1 | 2 | 1 |\n",
    "|P2 | 1 | 1 |\n",
    "|P3 | 0 | 2 |\n",
    "\n",
    "|Costs | P1 | P2 | P3 |\n",
    "|--|--|--|--|\n",
    "|Alice | 10 | 0 | 5 |\n",
    "|Bob | 8 | 15 | 13 |\n",
    "|Charlie | 0 | 5 | 10 |\n",
    "|Daphne | 10 | 3 | 0 |\n",
    "\n",
    "**i) (3 points) Define data variables to encode all inputs needed when generalizing the problem to arbitrarily large data sets.** You need to be able to handle arbitrarily many consultants, projects, skills, as well as arbitrary information on skills of consultants, requirements of projects, conflict information between projects, and travel costs."
   ]
  },
  {
   "cell_type": "markdown",
   "metadata": {},
   "source": [
    "**Data:**\n",
    "\n",
    "- $I$: set of consultants.\n",
    "- $J$: set of projects.\n",
    "- $K$: set of skills.\n",
    "- $a_{ik}$: whether consultant $i$ possesses skill $k$ (binary).\n",
    "- $r_{jk}$: the number of consultants of skill $k$ needed for project $j$. \n",
    "- $S$: set of project pairs $(j_1,j_2)$ that conflict with one another. \n",
    "- $c_{ij}$: travel cost of consultant $i$ to project $j$. "
   ]
  },
  {
   "cell_type": "markdown",
   "metadata": {},
   "source": [
    "**ii) (6 points) Formulate a LP/MIP that finds a cost-minimizing feasible assignment based on the data variables defined above.**"
   ]
  },
  {
   "cell_type": "markdown",
   "metadata": {},
   "source": [
    "**Decision Variables:**\n",
    "\n",
    "- $x_{ij}$: whether to assign consultant $i$ to project $j$. (Binary)\n",
    "\n",
    "**Objective and Constraints:**\n",
    "\n",
    "$$\\begin{aligned}\n",
    "\\text{Minimize} && \\sum_{i\\in I, j \\in J} c_{ij} x_{ij} \\\\\n",
    "\\text{s.t.} && \\sum_{i \\in I} a_{ik}x_{ij} & \\ge r_{jk} && \\text{for each project $j \\in J$ and each skill $k \\in K$.}\\\\\n",
    "&& x_{ij_1} + x_{ij_2} & \\le 1 && \\text{for each consultant $i\\in I$, and each pair $(j_1,j_2) \\in S$.}\n",
    "\\end{aligned}$$"
   ]
  },
  {
   "cell_type": "markdown",
   "metadata": {},
   "source": [
    "## Q4. Python/Gurobi Coding (10 points)\n",
    "\n",
    "A challenge in predictive analytics is to select a few good features out of many thousands of possibilities, so that a linear regression model estimated using these few features still has good predictive power. In this exercise, you will implement a reusable tool that solves this problem using mixed integer programming.\n",
    "\n",
    "The input file is of Excel format and has one sheet. Each row represents an observation. The first column corresponds to the dependent variable the user wishes to predict. Each following column corresponds to a feature that may be used for prediction. The name of the dependent variable as well as the features are given as the first row.\n",
    "\n",
    "![Sample input for Q4](Exam2C-2.png)"
   ]
  },
  {
   "cell_type": "markdown",
   "metadata": {},
   "source": [
    "You should implements the following MIP formulation.\n",
    "\n",
    "**Data:**\n",
    "\n",
    "- $I$: the set of rows (`range(5)` in the example above, but should be inferred from the data).\n",
    "- $J$: the set of features (\"X1\", \"X2\", $\\cdots$, \"X8\" in the example above, but should be inferred from the data).\n",
    "- $y_i$: the value of the independent variable in row $i$.\n",
    "- $x_{ij}$: the value of feature $j$ in row $i$. \n",
    "- $k$: the maximum number of features used.\n",
    "- $M$: a big constant.\n",
    "\n",
    "**Decision Variables:**\n",
    "\n",
    "- $\\alpha$: the coefficient of the constant term. (Continuous)\n",
    "- $\\beta_j$: the coefficient for feature $j$. (Continuous)\n",
    "- $p_i$: the predicted value for observation $i$. (Continuous)\n",
    "- $z_j$: whether to use feature $j$. (Binary)\n",
    "\n",
    "**Objective and Constraints:**\n",
    "\n",
    "$$\\begin{aligned}\n",
    "\\text{Minimize} && \\sum_{i \\in I} (y_i - p_i)^2 \\\\\n",
    "\\text{s.t} \\\\\n",
    "\\text{(Linear prediction)} && p_i &= \\alpha + \\sum_{j \\in J}x_{ij} \\beta_j && \\text{for each row $i\\in I$.} \\\\\n",
    "\\text{(Big M)} && -Mz_j \\le \\beta_j &\\le Mz_j && \\text{for each feature $j \\in J$.} \\\\\n",
    "\\text{(Using few features)} && \\sum_{j \\in J}z_j &\\le k\n",
    "\\end{aligned}$$\n",
    "\n",
    "**Note that the variables $\\alpha$, $\\beta_j$ and $p_i$ are NOT constrained to be non-negative.**"
   ]
  },
  {
   "cell_type": "markdown",
   "metadata": {},
   "source": [
    "**Write a function called \"regress\" to implement the above MIP with three input parameters:**\n",
    "\n",
    "- inputFile: the path to an input file of the following format. \n",
    "- k: the value of the parameter $k$ (see list of data variables above).\n",
    "- M: the value of the parameter $M$ (see list of data variables above).\n",
    "\n",
    "**The function should return a pandas Series object with at most k+1 elements. The first entry has index \"Constant\" and the value corresponds to the optimal value of $\\alpha$. For the subsequent elements, the index corresponds to the name of the features used, and the value correspond to the estimated coefficient $\\beta_j$. Only the non-zero coefficients $\\beta_j$ should be included.** See below for the Series returned using the input file above, and $k=2$, $M=100$."
   ]
  },
  {
   "cell_type": "code",
   "execution_count": 3,
   "metadata": {},
   "outputs": [
    {
     "data": {
      "text/plain": [
       "Constant    4.084086\n",
       "X3          2.051074\n",
       "X5          2.969166\n",
       "dtype: float64"
      ]
     },
     "execution_count": 3,
     "metadata": {},
     "output_type": "execute_result"
    }
   ],
   "source": [
    "coefficients=regress('data-2C.xlsx',2,100)\n",
    "coefficients"
   ]
  },
  {
   "cell_type": "markdown",
   "metadata": {},
   "source": [
    "**Write your function below. You must import all packages needed.**"
   ]
  },
  {
   "cell_type": "code",
   "execution_count": 1,
   "metadata": {},
   "outputs": [],
   "source": [
    "import pandas as pd\n",
    "from gurobipy import Model, GRB\n",
    "def regress(inputFile,k,M):\n",
    "    data=pd.read_excel(inputFile)\n",
    "    I=data.index\n",
    "    y=data.iloc[:,0]\n",
    "    x=data.iloc[:,1:]\n",
    "    J=x.columns\n",
    "    mod=Model()\n",
    "    const=mod.addVar(lb=-GRB.INFINITY)\n",
    "    beta=mod.addVars(J,lb=-GRB.INFINITY)\n",
    "    z=mod.addVars(J,vtype=GRB.BINARY)\n",
    "    p=mod.addVars(I,lb=-GRB.INFINITY)\n",
    "    mod.setObjective(sum((y.loc[i]-p[i])*(y.loc[i]-p[i]) for i in I))\n",
    "    for i in I:\n",
    "        mod.addConstr(p[i]==const+sum(x.loc[i,j]*beta[j] for j in J))\n",
    "    for j in J:\n",
    "        mod.addConstr(-M*z[j]<=beta[j])\n",
    "        mod.addConstr(beta[j]<=M*z[j])\n",
    "    mod.addConstr(sum(z[j] for j in J)<=k)\n",
    "    mod.setParam('outputflag',False)\n",
    "    mod.optimize()\n",
    "    ans=pd.Series(dtype=float)\n",
    "    ans['Constant']=const.x\n",
    "    for j in J:\n",
    "        if beta[j].x!=0:\n",
    "            ans[j]=beta[j].x\n",
    "    return ans"
   ]
  }
 ],
 "metadata": {
  "kernelspec": {
   "display_name": "Python 3",
   "language": "python",
   "name": "python3"
  },
  "language_info": {
   "codemirror_mode": {
    "name": "ipython",
    "version": 3
   },
   "file_extension": ".py",
   "mimetype": "text/x-python",
   "name": "python",
   "nbconvert_exporter": "python",
   "pygments_lexer": "ipython3",
   "version": "3.7.4"
  },
  "toc": {
   "base_numbering": 1,
   "nav_menu": {},
   "number_sections": true,
   "sideBar": true,
   "skip_h1_title": false,
   "title_cell": "Table of Contents",
   "title_sidebar": "Contents",
   "toc_cell": false,
   "toc_position": {},
   "toc_section_display": true,
   "toc_window_display": false
  },
  "varInspector": {
   "cols": {
    "lenName": 16,
    "lenType": 16,
    "lenVar": 40
   },
   "kernels_config": {
    "python": {
     "delete_cmd_postfix": "",
     "delete_cmd_prefix": "del ",
     "library": "var_list.py",
     "varRefreshCmd": "print(var_dic_list())"
    },
    "r": {
     "delete_cmd_postfix": ") ",
     "delete_cmd_prefix": "rm(",
     "library": "var_list.r",
     "varRefreshCmd": "cat(var_dic_list()) "
    }
   },
   "types_to_exclude": [
    "module",
    "function",
    "builtin_function_or_method",
    "instance",
    "_Feature"
   ],
   "window_display": false
  }
 },
 "nbformat": 4,
 "nbformat_minor": 2
}
