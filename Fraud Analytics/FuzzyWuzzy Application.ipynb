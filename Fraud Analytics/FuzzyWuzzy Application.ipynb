{
 "cells": [
  {
   "cell_type": "code",
   "execution_count": 1,
   "metadata": {
    "ExecuteTime": {
     "end_time": "2020-02-06T06:03:52.480380Z",
     "start_time": "2020-02-06T06:03:51.503021Z"
    }
   },
   "outputs": [],
   "source": [
    "import pandas as pd"
   ]
  },
  {
   "cell_type": "code",
   "execution_count": 2,
   "metadata": {
    "ExecuteTime": {
     "end_time": "2020-02-06T06:05:14.384376Z",
     "start_time": "2020-02-06T06:05:11.104120Z"
    }
   },
   "outputs": [],
   "source": [
    "Dataset=pd.read_csv('NY property data.csv')"
   ]
  },
  {
   "cell_type": "code",
   "execution_count": 3,
   "metadata": {
    "ExecuteTime": {
     "end_time": "2020-02-06T06:06:13.429661Z",
     "start_time": "2020-02-06T06:06:13.423678Z"
    }
   },
   "outputs": [
    {
     "data": {
      "text/plain": [
       "Index(['RECORD', 'BBLE', 'B', 'BLOCK', 'LOT', 'EASEMENT', 'OWNER', 'BLDGCL',\n",
       "       'TAXCLASS', 'LTFRONT', 'LTDEPTH', 'EXT', 'STORIES', 'FULLVAL', 'AVLAND',\n",
       "       'AVTOT', 'EXLAND', 'EXTOT', 'EXCD1', 'STADDR', 'ZIP', 'EXMPTCL',\n",
       "       'BLDFRONT', 'BLDDEPTH', 'AVLAND2', 'AVTOT2', 'EXLAND2', 'EXTOT2',\n",
       "       'EXCD2', 'PERIOD', 'YEAR', 'VALTYPE'],\n",
       "      dtype='object')"
      ]
     },
     "execution_count": 3,
     "metadata": {},
     "output_type": "execute_result"
    }
   ],
   "source": [
    "Dataset.columns"
   ]
  },
  {
   "cell_type": "code",
   "execution_count": 5,
   "metadata": {
    "ExecuteTime": {
     "end_time": "2020-02-06T06:06:54.536102Z",
     "start_time": "2020-02-06T06:06:52.920343Z"
    }
   },
   "outputs": [],
   "source": [
    "mat=Dataset.groupby('OWNER')['RECORD'].count().index"
   ]
  },
  {
   "cell_type": "code",
   "execution_count": 7,
   "metadata": {
    "ExecuteTime": {
     "end_time": "2020-02-06T06:14:08.265985Z",
     "start_time": "2020-02-06T06:14:08.261995Z"
    }
   },
   "outputs": [],
   "source": [
    "from fuzzywuzzy import process"
   ]
  },
  {
   "cell_type": "code",
   "execution_count": 9,
   "metadata": {
    "ExecuteTime": {
     "end_time": "2020-02-06T06:20:48.339142Z",
     "start_time": "2020-02-06T06:18:31.562872Z"
    }
   },
   "outputs": [
    {
     "data": {
      "text/plain": [
       "[('THOMAS WILLIAMS', 100),\n",
       " ('THOMAS WILLLIAMS', 97),\n",
       " ('TOMAS WILLIAMS', 97),\n",
       " ('THOMAS H. WILLIAMS, J', 95),\n",
       " ('THOMAS K WILLIAMS', 95),\n",
       " ('THOMAS THOMAS', 95),\n",
       " ('THOMAS WILLIAMS SR', 95),\n",
       " ('THOMAS, THOMAS', 95),\n",
       " ('WILLIAMS THOMAS', 95),\n",
       " ('WILLIAMS THOMAS J', 95),\n",
       " ('WILLIAMS THOMAS M JR', 95),\n",
       " ('WILLIAMS, THOMAS', 95),\n",
       " ('WILLIAMS, THOMAS K', 95),\n",
       " ('WILLIAMS, THOMAS K.', 95),\n",
       " ('WILLIAMS, WILLIAMS &', 95),\n",
       " ('WILLIAMS-THOMAS, LESL', 95),\n",
       " ('THOMAS WILLIAMSON', 94),\n",
       " ('THOM WILLIAMS', 93),\n",
       " ('THOMAS, WILLIAM', 93),\n",
       " ('WILLIAM THOMAS', 92),\n",
       " ('WILLLIAMS, THOMAS', 92),\n",
       " ('THOMASITA WILLIAMS', 91),\n",
       " ('THOM WILLIAM S', 90),\n",
       " ('THOMAS', 90),\n",
       " ('VIRGINIA THOMAS-WILLIAMS', 90),\n",
       " ('WILLIAMSON, THOMAS', 89),\n",
       " ('THOMAS, WILLIAM C.', 88),\n",
       " ('THOMAS, WILLIAM E.', 88),\n",
       " ('THELMA WILLIAMS', 87),\n",
       " ('A THOMAS', 86),\n",
       " ('A WILLIAMS', 86),\n",
       " ('ANN THOMAS', 86),\n",
       " ('ANY THOMAS', 86),\n",
       " ('BUI THOMAS', 86),\n",
       " ('C THOMAS', 86),\n",
       " ('C WILLIAMS', 86),\n",
       " ('E THOMAS', 86),\n",
       " ('E WILLIAMS', 86),\n",
       " ('ENA THOMAS', 86),\n",
       " ('EVE THOMAS', 86),\n",
       " ('F THOMAS', 86),\n",
       " ('F WILLIAMS', 86),\n",
       " ('G THOMAS', 86),\n",
       " ('G WILLIAMS', 86),\n",
       " ('H THOMAS', 86),\n",
       " ('H WILLIAMS', 86),\n",
       " ('HOM THOMAS', 86),\n",
       " ('I THOMAS', 86),\n",
       " ('IAN THOMAS', 86),\n",
       " ('IRA THOMAS', 86),\n",
       " ('J THOMAS', 86),\n",
       " ('J WILLIAMS', 86),\n",
       " ('JOY THOMAS', 86),\n",
       " ('K THOMAS', 86),\n",
       " ('L THOMAS', 86),\n",
       " ('L WILLIAMS', 86),\n",
       " ('LEE THOMAS', 86),\n",
       " ('LI LI', 86),\n",
       " ('LI, LI', 86),\n",
       " ('LY, THOMAS', 86),\n",
       " ('M WILLIAMS', 86),\n",
       " ('N WILLIAMS', 86),\n",
       " ('NG THOMAS', 86),\n",
       " ('NG, THOMAS', 86),\n",
       " ('R THOMAS', 86),\n",
       " ('R WILLIAMS', 86),\n",
       " ('ROY THOMAS', 86),\n",
       " ('T WILLIAMS', 86),\n",
       " ('THOMAS CHU', 86),\n",
       " ('THOMAS ENG', 86),\n",
       " ('THOMAS FOX', 86),\n",
       " ('THOMAS KOO', 86),\n",
       " ('THOMAS KUO', 86),\n",
       " ('THOMAS LAI', 86),\n",
       " ('THOMAS LAM', 86),\n",
       " ('THOMAS LAU', 86),\n",
       " ('THOMAS LAX', 86),\n",
       " ('THOMAS LEE', 86),\n",
       " ('THOMAS LEI', 86),\n",
       " ('THOMAS LIU', 86),\n",
       " ('THOMAS M', 86),\n",
       " ('THOMAS MAK', 86),\n",
       " ('THOMAS MOY', 86),\n",
       " ('THOMAS NG', 86),\n",
       " ('THOMAS ROM', 86),\n",
       " ('THOMAS ROY', 86),\n",
       " ('THOMAS SAX', 86),\n",
       " ('THOMAS SU', 86),\n",
       " ('THOMAS TAM', 86),\n",
       " ('THOMAS UNA', 86),\n",
       " ('THOMAS YIP', 86),\n",
       " ('W WILLIAMS', 86),\n",
       " ('WILLIAM F THOMAS', 86),\n",
       " ('WILLIAM J. THOMAS', 86),\n",
       " ('WILLIAMS-THOMAS, LESLIE', 86),\n",
       " ('WU, THOMAS', 86),\n",
       " ('J&J WILLIAMS', 85),\n",
       " ('TOM WILLIAM', 85),\n",
       " ('WILLIAM HOMA', 85),\n",
       " ('LE, WILLIAM THOMAS', 84)]"
      ]
     },
     "execution_count": 9,
     "metadata": {},
     "output_type": "execute_result"
    }
   ],
   "source": [
    "process.extract('Thomas Williams',mat,limit=100)"
   ]
  },
  {
   "cell_type": "code",
   "execution_count": 11,
   "metadata": {
    "ExecuteTime": {
     "end_time": "2020-02-06T06:32:51.744937Z",
     "start_time": "2020-02-06T06:30:34.862911Z"
    }
   },
   "outputs": [],
   "source": [
    "doubt=process.extract('Thomas Williams',mat,limit=150)"
   ]
  },
  {
   "cell_type": "code",
   "execution_count": 12,
   "metadata": {
    "ExecuteTime": {
     "end_time": "2020-02-06T06:32:58.655241Z",
     "start_time": "2020-02-06T06:32:58.646230Z"
    }
   },
   "outputs": [
    {
     "data": {
      "text/plain": [
       "[('THOMAS WILLIAMS', 100),\n",
       " ('THOMAS WILLLIAMS', 97),\n",
       " ('TOMAS WILLIAMS', 97),\n",
       " ('THOMAS H. WILLIAMS, J', 95),\n",
       " ('THOMAS K WILLIAMS', 95),\n",
       " ('THOMAS THOMAS', 95),\n",
       " ('THOMAS WILLIAMS SR', 95),\n",
       " ('THOMAS, THOMAS', 95),\n",
       " ('WILLIAMS THOMAS', 95),\n",
       " ('WILLIAMS THOMAS J', 95),\n",
       " ('WILLIAMS THOMAS M JR', 95),\n",
       " ('WILLIAMS, THOMAS', 95),\n",
       " ('WILLIAMS, THOMAS K', 95),\n",
       " ('WILLIAMS, THOMAS K.', 95),\n",
       " ('WILLIAMS, WILLIAMS &', 95),\n",
       " ('WILLIAMS-THOMAS, LESL', 95),\n",
       " ('THOMAS WILLIAMSON', 94),\n",
       " ('THOM WILLIAMS', 93),\n",
       " ('THOMAS, WILLIAM', 93),\n",
       " ('WILLIAM THOMAS', 92),\n",
       " ('WILLLIAMS, THOMAS', 92),\n",
       " ('THOMASITA WILLIAMS', 91),\n",
       " ('THOM WILLIAM S', 90),\n",
       " ('THOMAS', 90),\n",
       " ('VIRGINIA THOMAS-WILLIAMS', 90),\n",
       " ('WILLIAMSON, THOMAS', 89),\n",
       " ('THOMAS, WILLIAM C.', 88),\n",
       " ('THOMAS, WILLIAM E.', 88),\n",
       " ('THELMA WILLIAMS', 87),\n",
       " ('A THOMAS', 86),\n",
       " ('A WILLIAMS', 86),\n",
       " ('ANN THOMAS', 86),\n",
       " ('ANY THOMAS', 86),\n",
       " ('BUI THOMAS', 86),\n",
       " ('C THOMAS', 86)]"
      ]
     },
     "execution_count": 12,
     "metadata": {},
     "output_type": "execute_result"
    }
   ],
   "source": [
    "doubt[:35]"
   ]
  },
  {
   "cell_type": "code",
   "execution_count": 13,
   "metadata": {
    "ExecuteTime": {
     "end_time": "2020-02-06T06:34:49.042343Z",
     "start_time": "2020-02-06T06:34:49.025396Z"
    }
   },
   "outputs": [
    {
     "data": {
      "text/plain": [
       "[('THOMAS WILLIAMS', 100),\n",
       " ('THOMAS WILLLIAMS', 97),\n",
       " ('TOMAS WILLIAMS', 97),\n",
       " ('THOMAS H. WILLIAMS, J', 95),\n",
       " ('THOMAS K WILLIAMS', 95),\n",
       " ('THOMAS THOMAS', 95),\n",
       " ('THOMAS WILLIAMS SR', 95),\n",
       " ('THOMAS, THOMAS', 95),\n",
       " ('WILLIAMS THOMAS', 95),\n",
       " ('WILLIAMS THOMAS J', 95),\n",
       " ('WILLIAMS THOMAS M JR', 95),\n",
       " ('WILLIAMS, THOMAS', 95),\n",
       " ('WILLIAMS, THOMAS K', 95),\n",
       " ('WILLIAMS, THOMAS K.', 95),\n",
       " ('WILLIAMS, WILLIAMS &', 95),\n",
       " ('WILLIAMS-THOMAS, LESL', 95),\n",
       " ('THOMAS WILLIAMSON', 94),\n",
       " ('THOM WILLIAMS', 93),\n",
       " ('THOMAS, WILLIAM', 93),\n",
       " ('WILLIAM THOMAS', 92),\n",
       " ('WILLLIAMS, THOMAS', 92),\n",
       " ('THOMASITA WILLIAMS', 91),\n",
       " ('THOM WILLIAM S', 90),\n",
       " ('THOMAS', 90),\n",
       " ('VIRGINIA THOMAS-WILLIAMS', 90),\n",
       " ('WILLIAMSON, THOMAS', 89),\n",
       " ('THOMAS, WILLIAM C.', 88),\n",
       " ('THOMAS, WILLIAM E.', 88),\n",
       " ('THELMA WILLIAMS', 87),\n",
       " ('A THOMAS', 86),\n",
       " ('A WILLIAMS', 86),\n",
       " ('ANN THOMAS', 86),\n",
       " ('ANY THOMAS', 86),\n",
       " ('BUI THOMAS', 86),\n",
       " ('C THOMAS', 86),\n",
       " ('C WILLIAMS', 86),\n",
       " ('E THOMAS', 86),\n",
       " ('E WILLIAMS', 86),\n",
       " ('ENA THOMAS', 86),\n",
       " ('EVE THOMAS', 86),\n",
       " ('F THOMAS', 86),\n",
       " ('F WILLIAMS', 86),\n",
       " ('G THOMAS', 86),\n",
       " ('G WILLIAMS', 86),\n",
       " ('H THOMAS', 86),\n",
       " ('H WILLIAMS', 86),\n",
       " ('HOM THOMAS', 86),\n",
       " ('I THOMAS', 86),\n",
       " ('IAN THOMAS', 86),\n",
       " ('IRA THOMAS', 86),\n",
       " ('J THOMAS', 86),\n",
       " ('J WILLIAMS', 86),\n",
       " ('JOY THOMAS', 86),\n",
       " ('K THOMAS', 86),\n",
       " ('L THOMAS', 86),\n",
       " ('L WILLIAMS', 86),\n",
       " ('LEE THOMAS', 86),\n",
       " ('LI LI', 86),\n",
       " ('LI, LI', 86),\n",
       " ('LY, THOMAS', 86),\n",
       " ('M WILLIAMS', 86),\n",
       " ('N WILLIAMS', 86),\n",
       " ('NG THOMAS', 86),\n",
       " ('NG, THOMAS', 86),\n",
       " ('R THOMAS', 86),\n",
       " ('R WILLIAMS', 86),\n",
       " ('ROY THOMAS', 86),\n",
       " ('T WILLIAMS', 86),\n",
       " ('THOMAS CHU', 86),\n",
       " ('THOMAS ENG', 86),\n",
       " ('THOMAS FOX', 86),\n",
       " ('THOMAS KOO', 86),\n",
       " ('THOMAS KUO', 86),\n",
       " ('THOMAS LAI', 86),\n",
       " ('THOMAS LAM', 86),\n",
       " ('THOMAS LAU', 86),\n",
       " ('THOMAS LAX', 86),\n",
       " ('THOMAS LEE', 86),\n",
       " ('THOMAS LEI', 86),\n",
       " ('THOMAS LIU', 86),\n",
       " ('THOMAS M', 86),\n",
       " ('THOMAS MAK', 86),\n",
       " ('THOMAS MOY', 86),\n",
       " ('THOMAS NG', 86),\n",
       " ('THOMAS ROM', 86),\n",
       " ('THOMAS ROY', 86),\n",
       " ('THOMAS SAX', 86),\n",
       " ('THOMAS SU', 86),\n",
       " ('THOMAS TAM', 86),\n",
       " ('THOMAS UNA', 86),\n",
       " ('THOMAS YIP', 86),\n",
       " ('W WILLIAMS', 86),\n",
       " ('WILLIAM F THOMAS', 86),\n",
       " ('WILLIAM J. THOMAS', 86),\n",
       " ('WILLIAMS-THOMAS, LESLIE', 86),\n",
       " ('WU, THOMAS', 86),\n",
       " ('J&J WILLIAMS', 85),\n",
       " ('TOM WILLIAM', 85),\n",
       " ('WILLIAM HOMA', 85),\n",
       " ('LE, WILLIAM THOMAS', 84),\n",
       " ('THURMAN WILLIAMS', 84),\n",
       " ('WILLIAMSON, THOMAS P', 84),\n",
       " ('HOLMES WILLIAM', 83),\n",
       " ('NORMA WILLIAMS', 83),\n",
       " ('THOMAS S WILLS', 83),\n",
       " ('TOMIE WILLIAMS', 83),\n",
       " ('TOMMY WILLIAMS', 83),\n",
       " ('WILLIAMS THELMA', 83),\n",
       " ('THOMAS C. THOMAS', 82),\n",
       " ('THOMAS N THOMAS', 82),\n",
       " ('WILLIAMS HAWS', 82),\n",
       " ('WILLIAMS THOMASINA W', 82),\n",
       " ('WILLIAMS, THOMASINA H', 82),\n",
       " ('HOM, WILLIAM', 81),\n",
       " ('SO,WILLIAM', 81),\n",
       " ('THAI WILLIAM', 81),\n",
       " ('THELMA G WILLIAMS', 81),\n",
       " ('THOMAS WILHELMSEN', 81),\n",
       " ('THOMAS, WILLA MAE', 81),\n",
       " ('AGATHA WILLIAMS', 80),\n",
       " ('ALTHEA WILLIAMS', 80),\n",
       " ('Agatha Williams', 80),\n",
       " ('BERTHA WILLIAMS', 80),\n",
       " ('CROMAS, WILLIAM', 80),\n",
       " ('HERMAN WILLIAMS', 80),\n",
       " ('HORACE WILLIAMS', 80),\n",
       " ('HOWARD WILLIAMS', 80),\n",
       " ('MARTHA WILLIAMS', 80),\n",
       " ('Marcus Williams', 80),\n",
       " ('NATHAN WILLIAMS', 80),\n",
       " ('NORMAN WILLIAMS', 80),\n",
       " ('OSMAND WILLIAMS', 80),\n",
       " ('THOMAS PHILLIPS', 80),\n",
       " ('THOMAS WILLIAM PULEO', 80),\n",
       " ('THOMAS, LILLIAN', 80),\n",
       " ('THOMAS, WILLIAM L JR.', 80),\n",
       " ('THOMAS, WILLIAM M II', 80),\n",
       " ('THOMASHOWER, WILLIAM', 80),\n",
       " ('TOMMIE WILLIAMS', 80),\n",
       " ('W WILLIAM', 80),\n",
       " ('WILLIAM THOMPSON', 80),\n",
       " ('WILLIAMS, THEODUS', 80),\n",
       " ('ANTHONY A WILLIAMS', 79),\n",
       " ('BESTMAN S WILLIAMS', 79),\n",
       " ('COMIS WILLIAM', 79),\n",
       " ('CORA WILLIAMS', 79),\n",
       " ('EMMA WILLIAMS', 79),\n",
       " ('HAASE WILLIAM', 79),\n",
       " ('HORAK WILLIAM', 79),\n",
       " ('JOAN WILLIAMS', 79)]"
      ]
     },
     "execution_count": 13,
     "metadata": {},
     "output_type": "execute_result"
    }
   ],
   "source": [
    "doubt"
   ]
  },
  {
   "cell_type": "code",
   "execution_count": 14,
   "metadata": {
    "ExecuteTime": {
     "end_time": "2020-02-06T06:38:09.802013Z",
     "start_time": "2020-02-06T06:35:43.071161Z"
    }
   },
   "outputs": [],
   "source": [
    "doubt1=process.extract('Thomas Williams',mat,limit=200)"
   ]
  },
  {
   "cell_type": "code",
   "execution_count": 15,
   "metadata": {
    "ExecuteTime": {
     "end_time": "2020-02-06T06:41:48.886551Z",
     "start_time": "2020-02-06T06:41:48.877576Z"
    }
   },
   "outputs": [
    {
     "data": {
      "text/plain": [
       "[('THOMAS WILLIAMS', 100),\n",
       " ('THOMAS WILLLIAMS', 97),\n",
       " ('TOMAS WILLIAMS', 97),\n",
       " ('THOMAS H. WILLIAMS, J', 95),\n",
       " ('THOMAS K WILLIAMS', 95),\n",
       " ('THOMAS THOMAS', 95),\n",
       " ('THOMAS WILLIAMS SR', 95),\n",
       " ('THOMAS, THOMAS', 95),\n",
       " ('WILLIAMS THOMAS', 95),\n",
       " ('WILLIAMS THOMAS J', 95),\n",
       " ('WILLIAMS THOMAS M JR', 95),\n",
       " ('WILLIAMS, THOMAS', 95),\n",
       " ('WILLIAMS, THOMAS K', 95),\n",
       " ('WILLIAMS, THOMAS K.', 95),\n",
       " ('WILLIAMS, WILLIAMS &', 95),\n",
       " ('WILLIAMS-THOMAS, LESL', 95),\n",
       " ('THOMAS WILLIAMSON', 94),\n",
       " ('THOM WILLIAMS', 93),\n",
       " ('THOMAS, WILLIAM', 93),\n",
       " ('WILLIAM THOMAS', 92),\n",
       " ('WILLLIAMS, THOMAS', 92),\n",
       " ('THOMASITA WILLIAMS', 91),\n",
       " ('THOM WILLIAM S', 90),\n",
       " ('THOMAS', 90),\n",
       " ('VIRGINIA THOMAS-WILLIAMS', 90),\n",
       " ('WILLIAMSON, THOMAS', 89),\n",
       " ('THOMAS, WILLIAM C.', 88),\n",
       " ('THOMAS, WILLIAM E.', 88),\n",
       " ('THELMA WILLIAMS', 87),\n",
       " ('A THOMAS', 86),\n",
       " ('A WILLIAMS', 86),\n",
       " ('ANN THOMAS', 86),\n",
       " ('ANY THOMAS', 86),\n",
       " ('BUI THOMAS', 86),\n",
       " ('C THOMAS', 86),\n",
       " ('C WILLIAMS', 86),\n",
       " ('E THOMAS', 86),\n",
       " ('E WILLIAMS', 86),\n",
       " ('ENA THOMAS', 86),\n",
       " ('EVE THOMAS', 86),\n",
       " ('F THOMAS', 86),\n",
       " ('F WILLIAMS', 86),\n",
       " ('G THOMAS', 86),\n",
       " ('G WILLIAMS', 86),\n",
       " ('H THOMAS', 86),\n",
       " ('H WILLIAMS', 86),\n",
       " ('HOM THOMAS', 86),\n",
       " ('I THOMAS', 86),\n",
       " ('IAN THOMAS', 86),\n",
       " ('IRA THOMAS', 86),\n",
       " ('J THOMAS', 86),\n",
       " ('J WILLIAMS', 86),\n",
       " ('JOY THOMAS', 86),\n",
       " ('K THOMAS', 86),\n",
       " ('L THOMAS', 86),\n",
       " ('L WILLIAMS', 86),\n",
       " ('LEE THOMAS', 86),\n",
       " ('LI LI', 86),\n",
       " ('LI, LI', 86),\n",
       " ('LY, THOMAS', 86),\n",
       " ('M WILLIAMS', 86),\n",
       " ('N WILLIAMS', 86),\n",
       " ('NG THOMAS', 86),\n",
       " ('NG, THOMAS', 86),\n",
       " ('R THOMAS', 86),\n",
       " ('R WILLIAMS', 86),\n",
       " ('ROY THOMAS', 86),\n",
       " ('T WILLIAMS', 86),\n",
       " ('THOMAS CHU', 86),\n",
       " ('THOMAS ENG', 86),\n",
       " ('THOMAS FOX', 86),\n",
       " ('THOMAS KOO', 86),\n",
       " ('THOMAS KUO', 86),\n",
       " ('THOMAS LAI', 86),\n",
       " ('THOMAS LAM', 86),\n",
       " ('THOMAS LAU', 86),\n",
       " ('THOMAS LAX', 86),\n",
       " ('THOMAS LEE', 86),\n",
       " ('THOMAS LEI', 86),\n",
       " ('THOMAS LIU', 86),\n",
       " ('THOMAS M', 86),\n",
       " ('THOMAS MAK', 86),\n",
       " ('THOMAS MOY', 86),\n",
       " ('THOMAS NG', 86),\n",
       " ('THOMAS ROM', 86),\n",
       " ('THOMAS ROY', 86),\n",
       " ('THOMAS SAX', 86),\n",
       " ('THOMAS SU', 86),\n",
       " ('THOMAS TAM', 86),\n",
       " ('THOMAS UNA', 86),\n",
       " ('THOMAS YIP', 86),\n",
       " ('W WILLIAMS', 86),\n",
       " ('WILLIAM F THOMAS', 86),\n",
       " ('WILLIAM J. THOMAS', 86),\n",
       " ('WILLIAMS-THOMAS, LESLIE', 86),\n",
       " ('WU, THOMAS', 86),\n",
       " ('J&J WILLIAMS', 85),\n",
       " ('TOM WILLIAM', 85),\n",
       " ('WILLIAM HOMA', 85),\n",
       " ('LE, WILLIAM THOMAS', 84),\n",
       " ('THURMAN WILLIAMS', 84),\n",
       " ('WILLIAMSON, THOMAS P', 84),\n",
       " ('HOLMES WILLIAM', 83),\n",
       " ('NORMA WILLIAMS', 83),\n",
       " ('THOMAS S WILLS', 83),\n",
       " ('TOMIE WILLIAMS', 83),\n",
       " ('TOMMY WILLIAMS', 83),\n",
       " ('WILLIAMS THELMA', 83),\n",
       " ('THOMAS C. THOMAS', 82),\n",
       " ('THOMAS N THOMAS', 82),\n",
       " ('WILLIAMS HAWS', 82),\n",
       " ('WILLIAMS THOMASINA W', 82),\n",
       " ('WILLIAMS, THOMASINA H', 82),\n",
       " ('HOM, WILLIAM', 81),\n",
       " ('SO,WILLIAM', 81),\n",
       " ('THAI WILLIAM', 81),\n",
       " ('THELMA G WILLIAMS', 81),\n",
       " ('THOMAS WILHELMSEN', 81),\n",
       " ('THOMAS, WILLA MAE', 81),\n",
       " ('AGATHA WILLIAMS', 80),\n",
       " ('ALTHEA WILLIAMS', 80),\n",
       " ('Agatha Williams', 80),\n",
       " ('BERTHA WILLIAMS', 80),\n",
       " ('CROMAS, WILLIAM', 80),\n",
       " ('HERMAN WILLIAMS', 80),\n",
       " ('HORACE WILLIAMS', 80),\n",
       " ('HOWARD WILLIAMS', 80),\n",
       " ('MARTHA WILLIAMS', 80),\n",
       " ('Marcus Williams', 80),\n",
       " ('NATHAN WILLIAMS', 80),\n",
       " ('NORMAN WILLIAMS', 80),\n",
       " ('OSMAND WILLIAMS', 80),\n",
       " ('THOMAS PHILLIPS', 80),\n",
       " ('THOMAS WILLIAM PULEO', 80),\n",
       " ('THOMAS, LILLIAN', 80),\n",
       " ('THOMAS, WILLIAM L JR.', 80),\n",
       " ('THOMAS, WILLIAM M II', 80),\n",
       " ('THOMASHOWER, WILLIAM', 80),\n",
       " ('TOMMIE WILLIAMS', 80),\n",
       " ('W WILLIAM', 80),\n",
       " ('WILLIAM THOMPSON', 80),\n",
       " ('WILLIAMS, THEODUS', 80),\n",
       " ('ANTHONY A WILLIAMS', 79),\n",
       " ('BESTMAN S WILLIAMS', 79),\n",
       " ('COMIS WILLIAM', 79),\n",
       " ('CORA WILLIAMS', 79),\n",
       " ('EMMA WILLIAMS', 79),\n",
       " ('HAASE WILLIAM', 79),\n",
       " ('HORAK WILLIAM', 79),\n",
       " ('JOAN WILLIAMS', 79),\n",
       " ('LILLIAN THOMAS', 79),\n",
       " ('LOIS WILLIAMS', 79),\n",
       " ('MARK WILLIAMS', 79),\n",
       " ('MARY WILLIAMS', 79),\n",
       " ('MOSE WILLIAMS', 79),\n",
       " ('MR A WILLIAMS', 79),\n",
       " ('MR S WILLIAMS', 79),\n",
       " ('PETRONA S WILLIAMS', 79),\n",
       " ('RITA WILLIAMS', 79),\n",
       " ('ROSA WILLIAMS', 79),\n",
       " ('ROSE WILLIAMS', 79),\n",
       " ('THOMAS MILLAR', 79),\n",
       " ('THOMAS WILSON', 79),\n",
       " ('THOMPSON WILLIAM H', 79),\n",
       " ('THOMPSON WILLIAM R', 79),\n",
       " ('TIMS, WILLIAM', 79),\n",
       " ('TOYE WILLIAMS', 79),\n",
       " ('TROY WILLIAMS', 79),\n",
       " ('WILLIAM HOLMAN', 79),\n",
       " ('WILLIAM HOLMES', 79),\n",
       " ('WILLIAMS & BROMS', 79),\n",
       " ('WILLIAMS MAVIS', 79),\n",
       " ('WILLIAMS, NORMA', 79),\n",
       " ('WILLIAMS, TOMMY', 79),\n",
       " ('THOMAS , WILLIAM CHAD', 78),\n",
       " ('THOMAS, WILLIE A. MAE', 78),\n",
       " ('THOMPSON-WILLIAMS, SA', 78),\n",
       " ('ANTHONY WILLIAMS', 77),\n",
       " ('CHARLES WILLIAMS', 77),\n",
       " ('CHIMA K WILLIAMS', 77),\n",
       " ('CYNTHIA WILLIAMS', 77),\n",
       " ('DOUGLAS WILLIAMS', 77),\n",
       " ('ELLIS, THOMAS', 77),\n",
       " ('HO, WILLIAM', 77),\n",
       " ('HOLMES WILLIAM D', 77),\n",
       " ('HOMER E WILLIAMS', 77),\n",
       " ('LOLIS THOMAS', 77),\n",
       " ('MA, WILLIAM', 77),\n",
       " ('MILLS, THOMAS', 77),\n",
       " ('NORMA L WILLIAMS', 77),\n",
       " ('PILLA THOMAS', 77),\n",
       " ('POMALES, WILLIAM', 77),\n",
       " ('SILLA, THOMAS', 77),\n",
       " ('STAMATIS WILLIAM', 77),\n",
       " ('TAM WILLIAM', 77),\n",
       " ('TAMICKA WILLIAMS', 77),\n",
       " ('TAN WILLIAM', 77),\n",
       " ('THERESA WILLIAMS', 77),\n",
       " ('THOMAS GILL', 77),\n",
       " ('THOMAS LELI', 77)]"
      ]
     },
     "execution_count": 15,
     "metadata": {},
     "output_type": "execute_result"
    }
   ],
   "source": [
    "doubt1"
   ]
  },
  {
   "cell_type": "code",
   "execution_count": 16,
   "metadata": {
    "ExecuteTime": {
     "end_time": "2020-02-06T06:52:43.856283Z",
     "start_time": "2020-02-06T06:50:16.271518Z"
    }
   },
   "outputs": [],
   "source": [
    "doubt2=process.extract('Thomas Williams',mat,limit=250)"
   ]
  },
  {
   "cell_type": "code",
   "execution_count": 18,
   "metadata": {
    "ExecuteTime": {
     "end_time": "2020-02-06T09:16:50.083771Z",
     "start_time": "2020-02-06T09:16:50.071020Z"
    }
   },
   "outputs": [],
   "source": [
    "listing=['THOMAS WILLIAMS','THOMAS WILLLIAMS','TOMAS WILLIAMS','THOMAS H. WILLIAMS, J','THOMAS K WILLIAMS','THOMAS WILLIAMS SR','WILLIAMS THOMAS','WILLIAMS THOMAS J','WILLIAMS THOMAS M JR',\n",
    "      'WILLIAMS, THOMAS','WILLIAMS, THOMAS K','WILLIAMS, THOMAS K.','THOM WILLIAMS','WILLLIAMS, THOMAS','TOMIE WILLIAMS','TOMMY WILLIAMS','TOMMIE WILLIAMS',\n",
    "     'WILLIAMS, TOMMY']"
   ]
  },
  {
   "cell_type": "code",
   "execution_count": 24,
   "metadata": {
    "ExecuteTime": {
     "end_time": "2020-02-06T09:19:10.941877Z",
     "start_time": "2020-02-06T09:19:10.849404Z"
    }
   },
   "outputs": [],
   "source": [
    "Answer=Dataset.loc[Dataset['OWNER'].isin(listing), ['RECORD','OWNER']]"
   ]
  },
  {
   "cell_type": "code",
   "execution_count": 25,
   "metadata": {
    "ExecuteTime": {
     "end_time": "2020-02-06T09:19:29.628705Z",
     "start_time": "2020-02-06T09:19:29.622759Z"
    }
   },
   "outputs": [],
   "source": [
    "Answer.index=range(len(Answer.index))"
   ]
  },
  {
   "cell_type": "code",
   "execution_count": 26,
   "metadata": {
    "ExecuteTime": {
     "end_time": "2020-02-06T09:19:35.033806Z",
     "start_time": "2020-02-06T09:19:35.010865Z"
    }
   },
   "outputs": [
    {
     "data": {
      "text/html": [
       "<div>\n",
       "<style scoped>\n",
       "    .dataframe tbody tr th:only-of-type {\n",
       "        vertical-align: middle;\n",
       "    }\n",
       "\n",
       "    .dataframe tbody tr th {\n",
       "        vertical-align: top;\n",
       "    }\n",
       "\n",
       "    .dataframe thead th {\n",
       "        text-align: right;\n",
       "    }\n",
       "</style>\n",
       "<table border=\"1\" class=\"dataframe\">\n",
       "  <thead>\n",
       "    <tr style=\"text-align: right;\">\n",
       "      <th></th>\n",
       "      <th>RECORD</th>\n",
       "      <th>OWNER</th>\n",
       "    </tr>\n",
       "  </thead>\n",
       "  <tbody>\n",
       "    <tr>\n",
       "      <th>0</th>\n",
       "      <td>38071</td>\n",
       "      <td>WILLIAMS, THOMAS K.</td>\n",
       "    </tr>\n",
       "    <tr>\n",
       "      <th>1</th>\n",
       "      <td>111645</td>\n",
       "      <td>WILLLIAMS, THOMAS</td>\n",
       "    </tr>\n",
       "    <tr>\n",
       "      <th>2</th>\n",
       "      <td>122792</td>\n",
       "      <td>TOMMY WILLIAMS</td>\n",
       "    </tr>\n",
       "    <tr>\n",
       "      <th>3</th>\n",
       "      <td>133679</td>\n",
       "      <td>TOMMIE WILLIAMS</td>\n",
       "    </tr>\n",
       "    <tr>\n",
       "      <th>4</th>\n",
       "      <td>194484</td>\n",
       "      <td>THOM WILLIAMS</td>\n",
       "    </tr>\n",
       "    <tr>\n",
       "      <th>5</th>\n",
       "      <td>211809</td>\n",
       "      <td>TOMMY WILLIAMS</td>\n",
       "    </tr>\n",
       "    <tr>\n",
       "      <th>6</th>\n",
       "      <td>313601</td>\n",
       "      <td>WILLIAMS, TOMMY</td>\n",
       "    </tr>\n",
       "    <tr>\n",
       "      <th>7</th>\n",
       "      <td>317491</td>\n",
       "      <td>WILLIAMS THOMAS M JR</td>\n",
       "    </tr>\n",
       "    <tr>\n",
       "      <th>8</th>\n",
       "      <td>323760</td>\n",
       "      <td>THOMAS K WILLIAMS</td>\n",
       "    </tr>\n",
       "    <tr>\n",
       "      <th>9</th>\n",
       "      <td>325682</td>\n",
       "      <td>THOM WILLIAMS</td>\n",
       "    </tr>\n",
       "    <tr>\n",
       "      <th>10</th>\n",
       "      <td>341470</td>\n",
       "      <td>WILLIAMS, THOMAS</td>\n",
       "    </tr>\n",
       "    <tr>\n",
       "      <th>11</th>\n",
       "      <td>356102</td>\n",
       "      <td>WILLIAMS, THOMAS</td>\n",
       "    </tr>\n",
       "    <tr>\n",
       "      <th>12</th>\n",
       "      <td>382648</td>\n",
       "      <td>WILLIAMS, THOMAS K</td>\n",
       "    </tr>\n",
       "    <tr>\n",
       "      <th>13</th>\n",
       "      <td>403970</td>\n",
       "      <td>THOMAS H. WILLIAMS, J</td>\n",
       "    </tr>\n",
       "    <tr>\n",
       "      <th>14</th>\n",
       "      <td>412095</td>\n",
       "      <td>WILLIAMS THOMAS J</td>\n",
       "    </tr>\n",
       "    <tr>\n",
       "      <th>15</th>\n",
       "      <td>488303</td>\n",
       "      <td>TOMMY WILLIAMS</td>\n",
       "    </tr>\n",
       "    <tr>\n",
       "      <th>16</th>\n",
       "      <td>665697</td>\n",
       "      <td>TOMIE WILLIAMS</td>\n",
       "    </tr>\n",
       "    <tr>\n",
       "      <th>17</th>\n",
       "      <td>766988</td>\n",
       "      <td>TOMAS WILLIAMS</td>\n",
       "    </tr>\n",
       "    <tr>\n",
       "      <th>18</th>\n",
       "      <td>794381</td>\n",
       "      <td>TOMAS WILLIAMS</td>\n",
       "    </tr>\n",
       "    <tr>\n",
       "      <th>19</th>\n",
       "      <td>846210</td>\n",
       "      <td>THOMAS WILLIAMS</td>\n",
       "    </tr>\n",
       "    <tr>\n",
       "      <th>20</th>\n",
       "      <td>852562</td>\n",
       "      <td>WILLIAMS THOMAS</td>\n",
       "    </tr>\n",
       "    <tr>\n",
       "      <th>21</th>\n",
       "      <td>854150</td>\n",
       "      <td>WILLIAMS, THOMAS</td>\n",
       "    </tr>\n",
       "    <tr>\n",
       "      <th>22</th>\n",
       "      <td>854174</td>\n",
       "      <td>WILLIAMS THOMAS</td>\n",
       "    </tr>\n",
       "    <tr>\n",
       "      <th>23</th>\n",
       "      <td>857016</td>\n",
       "      <td>TOMMY WILLIAMS</td>\n",
       "    </tr>\n",
       "    <tr>\n",
       "      <th>24</th>\n",
       "      <td>891198</td>\n",
       "      <td>WILLIAMS THOMAS</td>\n",
       "    </tr>\n",
       "    <tr>\n",
       "      <th>25</th>\n",
       "      <td>895576</td>\n",
       "      <td>WILLIAMS, THOMAS</td>\n",
       "    </tr>\n",
       "    <tr>\n",
       "      <th>26</th>\n",
       "      <td>897260</td>\n",
       "      <td>THOMAS WILLIAMS SR</td>\n",
       "    </tr>\n",
       "    <tr>\n",
       "      <th>27</th>\n",
       "      <td>919231</td>\n",
       "      <td>WILLIAMS THOMAS</td>\n",
       "    </tr>\n",
       "    <tr>\n",
       "      <th>28</th>\n",
       "      <td>919252</td>\n",
       "      <td>WILLIAMS THOMAS</td>\n",
       "    </tr>\n",
       "    <tr>\n",
       "      <th>29</th>\n",
       "      <td>1001417</td>\n",
       "      <td>THOMAS WILLLIAMS</td>\n",
       "    </tr>\n",
       "  </tbody>\n",
       "</table>\n",
       "</div>"
      ],
      "text/plain": [
       "     RECORD                  OWNER\n",
       "0     38071    WILLIAMS, THOMAS K.\n",
       "1    111645      WILLLIAMS, THOMAS\n",
       "2    122792         TOMMY WILLIAMS\n",
       "3    133679        TOMMIE WILLIAMS\n",
       "4    194484          THOM WILLIAMS\n",
       "5    211809         TOMMY WILLIAMS\n",
       "6    313601        WILLIAMS, TOMMY\n",
       "7    317491   WILLIAMS THOMAS M JR\n",
       "8    323760      THOMAS K WILLIAMS\n",
       "9    325682          THOM WILLIAMS\n",
       "10   341470       WILLIAMS, THOMAS\n",
       "11   356102       WILLIAMS, THOMAS\n",
       "12   382648     WILLIAMS, THOMAS K\n",
       "13   403970  THOMAS H. WILLIAMS, J\n",
       "14   412095      WILLIAMS THOMAS J\n",
       "15   488303         TOMMY WILLIAMS\n",
       "16   665697         TOMIE WILLIAMS\n",
       "17   766988         TOMAS WILLIAMS\n",
       "18   794381         TOMAS WILLIAMS\n",
       "19   846210        THOMAS WILLIAMS\n",
       "20   852562        WILLIAMS THOMAS\n",
       "21   854150       WILLIAMS, THOMAS\n",
       "22   854174        WILLIAMS THOMAS\n",
       "23   857016         TOMMY WILLIAMS\n",
       "24   891198        WILLIAMS THOMAS\n",
       "25   895576       WILLIAMS, THOMAS\n",
       "26   897260     THOMAS WILLIAMS SR\n",
       "27   919231        WILLIAMS THOMAS\n",
       "28   919252        WILLIAMS THOMAS\n",
       "29  1001417       THOMAS WILLLIAMS"
      ]
     },
     "execution_count": 26,
     "metadata": {},
     "output_type": "execute_result"
    }
   ],
   "source": [
    "Answer"
   ]
  },
  {
   "cell_type": "code",
   "execution_count": 27,
   "metadata": {
    "ExecuteTime": {
     "end_time": "2020-02-06T09:42:53.147577Z",
     "start_time": "2020-02-06T09:42:53.132606Z"
    }
   },
   "outputs": [],
   "source": [
    "Answer.to_csv(\"Final List of Thomas Williams.csv\")"
   ]
  },
  {
   "cell_type": "code",
   "execution_count": null,
   "metadata": {},
   "outputs": [],
   "source": []
  }
 ],
 "metadata": {
  "kernelspec": {
   "display_name": "Python 3",
   "language": "python",
   "name": "python3"
  },
  "language_info": {
   "codemirror_mode": {
    "name": "ipython",
    "version": 3
   },
   "file_extension": ".py",
   "mimetype": "text/x-python",
   "name": "python",
   "nbconvert_exporter": "python",
   "pygments_lexer": "ipython3",
   "version": "3.7.4"
  },
  "toc": {
   "base_numbering": 1,
   "nav_menu": {},
   "number_sections": true,
   "sideBar": true,
   "skip_h1_title": false,
   "title_cell": "Table of Contents",
   "title_sidebar": "Contents",
   "toc_cell": false,
   "toc_position": {},
   "toc_section_display": true,
   "toc_window_display": false
  },
  "varInspector": {
   "cols": {
    "lenName": 16,
    "lenType": 16,
    "lenVar": 40
   },
   "kernels_config": {
    "python": {
     "delete_cmd_postfix": "",
     "delete_cmd_prefix": "del ",
     "library": "var_list.py",
     "varRefreshCmd": "print(var_dic_list())"
    },
    "r": {
     "delete_cmd_postfix": ") ",
     "delete_cmd_prefix": "rm(",
     "library": "var_list.r",
     "varRefreshCmd": "cat(var_dic_list()) "
    }
   },
   "types_to_exclude": [
    "module",
    "function",
    "builtin_function_or_method",
    "instance",
    "_Feature"
   ],
   "window_display": false
  }
 },
 "nbformat": 4,
 "nbformat_minor": 2
}
