{
 "cells": [
  {
   "cell_type": "markdown",
   "metadata": {},
   "source": [
    "(1) (2 points) Create a barchart that shows the overall valuation of the unicorn industries. (use\n",
    "plt.barh() to create a horizontal barchart. It takes the same arguments as plt.bar()). The color for\n",
    "the ‘Big Data’ bar is ‘deepskyblue’, and the rest of the bars is ‘lightgray’. "
   ]
  },
  {
   "cell_type": "code",
   "execution_count": 1,
   "metadata": {
    "ExecuteTime": {
     "end_time": "2019-12-17T16:06:52.567699Z",
     "start_time": "2019-12-17T16:06:47.299886Z"
    }
   },
   "outputs": [],
   "source": [
    "import matplotlib.pyplot as plt\n",
    "import pandas as pd"
   ]
  },
  {
   "cell_type": "code",
   "execution_count": 2,
   "metadata": {
    "ExecuteTime": {
     "end_time": "2019-12-17T16:07:13.205617Z",
     "start_time": "2019-12-17T16:07:13.179455Z"
    }
   },
   "outputs": [],
   "source": [
    "dataset1=pd.read_csv('unicorn.csv')"
   ]
  },
  {
   "cell_type": "code",
   "execution_count": 3,
   "metadata": {
    "ExecuteTime": {
     "end_time": "2019-12-17T16:07:21.233558Z",
     "start_time": "2019-12-17T16:07:21.193203Z"
    }
   },
   "outputs": [
    {
     "data": {
      "text/html": [
       "<div>\n",
       "<style scoped>\n",
       "    .dataframe tbody tr th:only-of-type {\n",
       "        vertical-align: middle;\n",
       "    }\n",
       "\n",
       "    .dataframe tbody tr th {\n",
       "        vertical-align: top;\n",
       "    }\n",
       "\n",
       "    .dataframe thead th {\n",
       "        text-align: right;\n",
       "    }\n",
       "</style>\n",
       "<table border=\"1\" class=\"dataframe\">\n",
       "  <thead>\n",
       "    <tr style=\"text-align: right;\">\n",
       "      <th></th>\n",
       "      <th>Company</th>\n",
       "      <th>Valuation</th>\n",
       "      <th>DateJoined</th>\n",
       "      <th>Country</th>\n",
       "      <th>Industry</th>\n",
       "      <th>SelectedInvestors</th>\n",
       "    </tr>\n",
       "  </thead>\n",
       "  <tbody>\n",
       "    <tr>\n",
       "      <td>0</td>\n",
       "      <td>Toutiao (Bytedance)</td>\n",
       "      <td>$75</td>\n",
       "      <td>4/7/17</td>\n",
       "      <td>China</td>\n",
       "      <td>Digital Media/ AI</td>\n",
       "      <td>Sequoia Capital China, SIG Asia Investments, S...</td>\n",
       "    </tr>\n",
       "    <tr>\n",
       "      <td>1</td>\n",
       "      <td>Uber</td>\n",
       "      <td>$72</td>\n",
       "      <td>8/23/13</td>\n",
       "      <td>USA</td>\n",
       "      <td>On-Demand</td>\n",
       "      <td>Lowercase Capital,\\n\\t  Benchmark Capital, Goo...</td>\n",
       "    </tr>\n",
       "    <tr>\n",
       "      <td>2</td>\n",
       "      <td>Didi Chuxing</td>\n",
       "      <td>$56</td>\n",
       "      <td>12/31/14</td>\n",
       "      <td>China</td>\n",
       "      <td>On-Demand</td>\n",
       "      <td>Matrix Partners, Tiger\\n\\t  Global Management,...</td>\n",
       "    </tr>\n",
       "    <tr>\n",
       "      <td>3</td>\n",
       "      <td>WeWork</td>\n",
       "      <td>$47</td>\n",
       "      <td>2/3/14</td>\n",
       "      <td>USA</td>\n",
       "      <td>Facilities</td>\n",
       "      <td>T. Rowe Price, Benchmark\\n\\t  Capital, SoftBan...</td>\n",
       "    </tr>\n",
       "    <tr>\n",
       "      <td>4</td>\n",
       "      <td>JUUL Labs</td>\n",
       "      <td>$38</td>\n",
       "      <td>12/20/17</td>\n",
       "      <td>USA</td>\n",
       "      <td>Consumer Electronics</td>\n",
       "      <td>Tiger Global Management</td>\n",
       "    </tr>\n",
       "  </tbody>\n",
       "</table>\n",
       "</div>"
      ],
      "text/plain": [
       "               Company Valuation DateJoined Country              Industry  \\\n",
       "0  Toutiao (Bytedance)      $75      4/7/17   China     Digital Media/ AI   \n",
       "1                 Uber      $72     8/23/13     USA             On-Demand   \n",
       "2         Didi Chuxing      $56    12/31/14   China             On-Demand   \n",
       "3               WeWork      $47      2/3/14     USA            Facilities   \n",
       "4            JUUL Labs      $38    12/20/17     USA  Consumer Electronics   \n",
       "\n",
       "                                   SelectedInvestors  \n",
       "0  Sequoia Capital China, SIG Asia Investments, S...  \n",
       "1  Lowercase Capital,\\n\\t  Benchmark Capital, Goo...  \n",
       "2  Matrix Partners, Tiger\\n\\t  Global Management,...  \n",
       "3  T. Rowe Price, Benchmark\\n\\t  Capital, SoftBan...  \n",
       "4                            Tiger Global Management  "
      ]
     },
     "execution_count": 3,
     "metadata": {},
     "output_type": "execute_result"
    }
   ],
   "source": [
    "dataset1.head()"
   ]
  },
  {
   "cell_type": "code",
   "execution_count": 11,
   "metadata": {
    "ExecuteTime": {
     "end_time": "2019-12-17T16:15:44.812265Z",
     "start_time": "2019-12-17T16:15:44.793851Z"
    }
   },
   "outputs": [],
   "source": [
    "dataset1['Valuation']=pd.to_numeric(dataset1.Valuation.str.replace('$',''))"
   ]
  },
  {
   "cell_type": "code",
   "execution_count": 16,
   "metadata": {
    "ExecuteTime": {
     "end_time": "2019-12-17T16:16:51.745057Z",
     "start_time": "2019-12-17T16:16:51.727660Z"
    }
   },
   "outputs": [],
   "source": [
    "industries=dataset1.groupby('Industry')['Valuation'].sum().sort_values(ascending=False)"
   ]
  },
  {
   "cell_type": "code",
   "execution_count": 17,
   "metadata": {
    "ExecuteTime": {
     "end_time": "2019-12-17T16:16:52.197871Z",
     "start_time": "2019-12-17T16:16:52.182352Z"
    }
   },
   "outputs": [
    {
     "data": {
      "text/plain": [
       "Industry\n",
       "On-Demand                       163.20\n",
       "Fintech                         105.04\n",
       "eCommerce/Marketplace            88.46\n",
       "Digital Media/ AI                75.00\n",
       "Internet Software & Services     69.64\n",
       "                                 ...  \n",
       "InsurTech                         1.00\n",
       "Health & Wellness                 1.00\n",
       "Digital Media                     1.00\n",
       "Digital health                    1.00\n",
       "ecommerce                         1.00\n",
       "Name: Valuation, Length: 107, dtype: float64"
      ]
     },
     "execution_count": 17,
     "metadata": {},
     "output_type": "execute_result"
    }
   ],
   "source": [
    "industries"
   ]
  },
  {
   "cell_type": "code",
   "execution_count": 50,
   "metadata": {
    "ExecuteTime": {
     "end_time": "2019-12-17T16:41:54.319651Z",
     "start_time": "2019-12-17T16:41:54.085509Z"
    }
   },
   "outputs": [
    {
     "data": {
      "image/png": "[encoded data removed]",
      "text/plain": [
       "<Figure size 432x288 with 1 Axes>"
      ]
     },
     "metadata": {
      "needs_background": "light"
     },
     "output_type": "display_data"
    }
   ],
   "source": [
    "Top10=industries[:10]\n",
    "colors=['lightgray']+['deepskyblue']+['lightgray']*8\n",
    "\n",
    "plt.barh(Top10.index,Top10,color=colors)\n",
    "plt.title('Top 10: Overall Valuation by Industry')\n",
    "plt.xlabel('Valuation')\n",
    "plt.xticks([0,50,100,150])\n",
    "ax=plt.gca()\n",
    "ax.set_xticklabels(['$0B','$50B','$100B','$150B'])\n",
    "plt.show()"
   ]
  },
  {
   "cell_type": "markdown",
   "metadata": {},
   "source": [
    "(2) (2 points) Create a Choropleth map that shows the location of the volcanoes in the USA. The\n",
    "color intensity of the dots on the map represent the elevation of these volcanoes. (Use cmap =\n",
    "‘Reds’ for the color shades of elevation, and color = ‘deepskyblue’ for the base map of the\n",
    "USA)"
   ]
  },
  {
   "cell_type": "code",
   "execution_count": 29,
   "metadata": {
    "ExecuteTime": {
     "end_time": "2019-12-17T16:29:41.950054Z",
     "start_time": "2019-12-17T16:29:41.941089Z"
    }
   },
   "outputs": [],
   "source": [
    "import geopandas as gpd\n",
    "from shapely.geometry import Point"
   ]
  },
  {
   "cell_type": "code",
   "execution_count": 26,
   "metadata": {
    "ExecuteTime": {
     "end_time": "2019-12-17T16:26:20.933676Z",
     "start_time": "2019-12-17T16:26:20.867630Z"
    }
   },
   "outputs": [],
   "source": [
    "usa=gpd.read_file('us-states.json')"
   ]
  },
  {
   "cell_type": "code",
   "execution_count": 28,
   "metadata": {
    "ExecuteTime": {
     "end_time": "2019-12-17T16:28:19.554078Z",
     "start_time": "2019-12-17T16:28:19.505520Z"
    }
   },
   "outputs": [
    {
     "data": {
      "text/html": [
       "<div>\n",
       "<style scoped>\n",
       "    .dataframe tbody tr th:only-of-type {\n",
       "        vertical-align: middle;\n",
       "    }\n",
       "\n",
       "    .dataframe tbody tr th {\n",
       "        vertical-align: top;\n",
       "    }\n",
       "\n",
       "    .dataframe thead th {\n",
       "        text-align: right;\n",
       "    }\n",
       "</style>\n",
       "<table border=\"1\" class=\"dataframe\">\n",
       "  <thead>\n",
       "    <tr style=\"text-align: right;\">\n",
       "      <th></th>\n",
       "      <th>VOLCANX020</th>\n",
       "      <th>NUMBER</th>\n",
       "      <th>NAME</th>\n",
       "      <th>LOCATION</th>\n",
       "      <th>STATUS</th>\n",
       "      <th>ELEV</th>\n",
       "      <th>TYPE</th>\n",
       "      <th>TIMEFRAME</th>\n",
       "      <th>LAT</th>\n",
       "      <th>LON</th>\n",
       "    </tr>\n",
       "  </thead>\n",
       "  <tbody>\n",
       "    <tr>\n",
       "      <td>0</td>\n",
       "      <td>509</td>\n",
       "      <td>1201-01=</td>\n",
       "      <td>Baker</td>\n",
       "      <td>US-Washington</td>\n",
       "      <td>Historical</td>\n",
       "      <td>3285</td>\n",
       "      <td>Stratovolcanoes</td>\n",
       "      <td>D3</td>\n",
       "      <td>48.776798</td>\n",
       "      <td>-121.810997</td>\n",
       "    </tr>\n",
       "    <tr>\n",
       "      <td>1</td>\n",
       "      <td>511</td>\n",
       "      <td>1201-02-</td>\n",
       "      <td>Glacier Peak</td>\n",
       "      <td>US-Washington</td>\n",
       "      <td>Tephrochronology</td>\n",
       "      <td>3213</td>\n",
       "      <td>Stratovolcano</td>\n",
       "      <td>D4</td>\n",
       "      <td>48.111801</td>\n",
       "      <td>-121.111000</td>\n",
       "    </tr>\n",
       "    <tr>\n",
       "      <td>2</td>\n",
       "      <td>513</td>\n",
       "      <td>1201-03-</td>\n",
       "      <td>Rainier</td>\n",
       "      <td>US-Washington</td>\n",
       "      <td>Dendrochronology</td>\n",
       "      <td>4392</td>\n",
       "      <td>Stratovolcano</td>\n",
       "      <td>D3</td>\n",
       "      <td>46.869801</td>\n",
       "      <td>-121.751000</td>\n",
       "    </tr>\n",
       "    <tr>\n",
       "      <td>3</td>\n",
       "      <td>515</td>\n",
       "      <td>1201-05-</td>\n",
       "      <td>St. Helens</td>\n",
       "      <td>US-Washington</td>\n",
       "      <td>Historical</td>\n",
       "      <td>2549</td>\n",
       "      <td>Stratovolcano</td>\n",
       "      <td>D1</td>\n",
       "      <td>46.199799</td>\n",
       "      <td>-122.181000</td>\n",
       "    </tr>\n",
       "    <tr>\n",
       "      <td>4</td>\n",
       "      <td>516</td>\n",
       "      <td>1201-04-</td>\n",
       "      <td>Adams</td>\n",
       "      <td>US-Washington</td>\n",
       "      <td>Tephrochronology</td>\n",
       "      <td>3742</td>\n",
       "      <td>Stratovolcano</td>\n",
       "      <td>D6</td>\n",
       "      <td>46.205799</td>\n",
       "      <td>-121.490997</td>\n",
       "    </tr>\n",
       "    <tr>\n",
       "      <td>...</td>\n",
       "      <td>...</td>\n",
       "      <td>...</td>\n",
       "      <td>...</td>\n",
       "      <td>...</td>\n",
       "      <td>...</td>\n",
       "      <td>...</td>\n",
       "      <td>...</td>\n",
       "      <td>...</td>\n",
       "      <td>...</td>\n",
       "      <td>...</td>\n",
       "    </tr>\n",
       "    <tr>\n",
       "      <td>57</td>\n",
       "      <td>580</td>\n",
       "      <td>1210-03-</td>\n",
       "      <td>Valles Caldera</td>\n",
       "      <td>US-New Mexico</td>\n",
       "      <td>Pleistocene-Fumarolic</td>\n",
       "      <td>3430</td>\n",
       "      <td>Caldera</td>\n",
       "      <td>Q</td>\n",
       "      <td>35.869999</td>\n",
       "      <td>-106.570999</td>\n",
       "    </tr>\n",
       "    <tr>\n",
       "      <td>58</td>\n",
       "      <td>581</td>\n",
       "      <td>1209-02-</td>\n",
       "      <td>Sunset Crater</td>\n",
       "      <td>US-Arizona</td>\n",
       "      <td>Dendrochronology</td>\n",
       "      <td>2447</td>\n",
       "      <td>Cinder cone</td>\n",
       "      <td>D6</td>\n",
       "      <td>35.369999</td>\n",
       "      <td>-111.501000</td>\n",
       "    </tr>\n",
       "    <tr>\n",
       "      <td>59</td>\n",
       "      <td>584</td>\n",
       "      <td>1203-20-</td>\n",
       "      <td>Amboy</td>\n",
       "      <td>US-California</td>\n",
       "      <td>Holocene</td>\n",
       "      <td>288</td>\n",
       "      <td>Cinder cone</td>\n",
       "      <td>U</td>\n",
       "      <td>34.549999</td>\n",
       "      <td>-115.780998</td>\n",
       "    </tr>\n",
       "    <tr>\n",
       "      <td>60</td>\n",
       "      <td>586</td>\n",
       "      <td>1210-02-</td>\n",
       "      <td>Zuni-Bandera</td>\n",
       "      <td>US-New Mexico</td>\n",
       "      <td>Anthropology</td>\n",
       "      <td>2550</td>\n",
       "      <td>Volcanic field</td>\n",
       "      <td>D7</td>\n",
       "      <td>34.799999</td>\n",
       "      <td>-108.001000</td>\n",
       "    </tr>\n",
       "    <tr>\n",
       "      <td>61</td>\n",
       "      <td>588</td>\n",
       "      <td>1210-01-</td>\n",
       "      <td>Carrizozo</td>\n",
       "      <td>US-New Mexico</td>\n",
       "      <td>Holocene</td>\n",
       "      <td>1731</td>\n",
       "      <td>Cinder cone</td>\n",
       "      <td>U</td>\n",
       "      <td>33.780102</td>\n",
       "      <td>-105.931000</td>\n",
       "    </tr>\n",
       "  </tbody>\n",
       "</table>\n",
       "<p>62 rows × 10 columns</p>\n",
       "</div>"
      ],
      "text/plain": [
       "    VOLCANX020    NUMBER            NAME       LOCATION  \\\n",
       "0          509  1201-01=           Baker  US-Washington   \n",
       "1          511  1201-02-    Glacier Peak  US-Washington   \n",
       "2          513  1201-03-         Rainier  US-Washington   \n",
       "3          515  1201-05-      St. Helens  US-Washington   \n",
       "4          516  1201-04-           Adams  US-Washington   \n",
       "..         ...       ...             ...            ...   \n",
       "57         580  1210-03-  Valles Caldera  US-New Mexico   \n",
       "58         581  1209-02-   Sunset Crater     US-Arizona   \n",
       "59         584  1203-20-           Amboy  US-California   \n",
       "60         586  1210-02-    Zuni-Bandera  US-New Mexico   \n",
       "61         588  1210-01-       Carrizozo  US-New Mexico   \n",
       "\n",
       "                   STATUS  ELEV             TYPE TIMEFRAME        LAT  \\\n",
       "0              Historical  3285  Stratovolcanoes        D3  48.776798   \n",
       "1        Tephrochronology  3213    Stratovolcano        D4  48.111801   \n",
       "2        Dendrochronology  4392    Stratovolcano        D3  46.869801   \n",
       "3              Historical  2549    Stratovolcano        D1  46.199799   \n",
       "4        Tephrochronology  3742    Stratovolcano        D6  46.205799   \n",
       "..                    ...   ...              ...       ...        ...   \n",
       "57  Pleistocene-Fumarolic  3430          Caldera         Q  35.869999   \n",
       "58       Dendrochronology  2447      Cinder cone        D6  35.369999   \n",
       "59               Holocene   288      Cinder cone         U  34.549999   \n",
       "60           Anthropology  2550   Volcanic field        D7  34.799999   \n",
       "61               Holocene  1731      Cinder cone         U  33.780102   \n",
       "\n",
       "           LON  \n",
       "0  -121.810997  \n",
       "1  -121.111000  \n",
       "2  -121.751000  \n",
       "3  -122.181000  \n",
       "4  -121.490997  \n",
       "..         ...  \n",
       "57 -106.570999  \n",
       "58 -111.501000  \n",
       "59 -115.780998  \n",
       "60 -108.001000  \n",
       "61 -105.931000  \n",
       "\n",
       "[62 rows x 10 columns]"
      ]
     },
     "execution_count": 28,
     "metadata": {},
     "output_type": "execute_result"
    }
   ],
   "source": [
    "volcano=pd.read_csv('Volcanoes_USA.csv')\n",
    "volcano"
   ]
  },
  {
   "cell_type": "code",
   "execution_count": 31,
   "metadata": {
    "ExecuteTime": {
     "end_time": "2019-12-17T16:30:58.612174Z",
     "start_time": "2019-12-17T16:30:58.588219Z"
    }
   },
   "outputs": [],
   "source": [
    "volcano['coordinate']=volcano[['LON','LAT']].values.tolist()\n",
    "volcano['coordinate']=volcano['coordinate'].apply(Point)\n",
    "volcano=gpd.GeoDataFrame(volcano,geometry='coordinate')"
   ]
  },
  {
   "cell_type": "code",
   "execution_count": 45,
   "metadata": {
    "ExecuteTime": {
     "end_time": "2019-12-17T16:39:23.156033Z",
     "start_time": "2019-12-17T16:39:22.851173Z"
    }
   },
   "outputs": [
    {
     "data": {
      "image/png": "[encoded data removed]",
      "text/plain": [
       "<Figure size 720x504 with 1 Axes>"
      ]
     },
     "metadata": {
      "needs_background": "light"
     },
     "output_type": "display_data"
    }
   ],
   "source": [
    "plt.figure(figsize=(10,7))\n",
    "ax=plt.gca()\n",
    "\n",
    "base=usa.plot(ax=ax,color='deepskyblue')\n",
    "volcano.plot(ax=base,column='ELEV',cmap='Reds',label='Elevation')\n",
    "plt.legend(loc='upper right')\n",
    "plt.title('Volcanes in the USA',size=22)\n",
    "plt.xlim((-127,-65))\n",
    "plt.ylim((23,51))\n",
    "plt.axis('off')\n",
    "plt.show()"
   ]
  },
  {
   "cell_type": "markdown",
   "metadata": {},
   "source": [
    "(3) (2 points) How much did Joey owe Chandler?"
   ]
  },
  {
   "cell_type": "code",
   "execution_count": 53,
   "metadata": {
    "ExecuteTime": {
     "end_time": "2019-12-17T16:44:22.767453Z",
     "start_time": "2019-12-17T16:44:22.753962Z"
    }
   },
   "outputs": [],
   "source": [
    "with open('friends.txt','r') as file:\n",
    "    friends=file.read()"
   ]
  },
  {
   "cell_type": "code",
   "execution_count": 54,
   "metadata": {
    "ExecuteTime": {
     "end_time": "2019-12-17T16:44:34.936149Z",
     "start_time": "2019-12-17T16:44:34.921077Z"
    }
   },
   "outputs": [
    {
     "data": {
      "text/plain": [
       "\"Joey says that there were 2 sets of head shots which cost $1000. Let's assume that the acting lessons, dancing lessons, and voice coach sessions were all one thousand on average. So now we're at $4000. He then says 3 years worth of rent, utilities, and food. They live in Manhattan in a nice area of The Village, in a 2 bedroom, 1 bath, apartment on one of the upper levels. That is a very expensive location to live in; today an apartment like that would cost around five thousand dollars a month easily, using Zillow.com as a guide (and I'm low balling it assuming they got a good deal). Using an online dollar appreciation site, and using the year 1997, i found that five thousand would translate too about three thousand and five hundred dollars (*Edit: which after researching was actually their monthly rent that was actually mentioned in the show, so spot on) for them. The rent was supposed to be split 2 ways, so this is 3 years of chandler paying Joey's one thousand two hundred and fifty dollars. So $45000 in rent alone. Now for utilities, bills, food. We can guess the utilities may have been one thousand a year so lets add another $1500 for the 3 years of joeys half. We know they had a phone and cable. Using today's basic phone and cable TV prices, lets say that would be one hundred a month (no cell phones/data remember) counting inflating for 1997 would be around seventy dollars a month; so Joey's half over 3 years would have been $1260. Now for food, this is huge. Joey is known to be a huge eater, and add that to the fact that the group goes out to eat constantly; while watching the show you see that not only does chandler cover him every time they get coffee/dinner, he also gives joey money for him to go on all of the dates he constantly goes on; as well as chandler buys all the groceries (Which would be a lot). I can only guess the amounts but lets say one hundred dollars a week on groceries plus one hundred dollars a week on pizza/takeout/coffee plus fifty dollars a week for Joey's dates, every week for 3 years (which i'll say counts as 1997 value). So $39000.\""
      ]
     },
     "execution_count": 54,
     "metadata": {},
     "output_type": "execute_result"
    }
   ],
   "source": [
    "friends"
   ]
  },
  {
   "cell_type": "code",
   "execution_count": 55,
   "metadata": {
    "ExecuteTime": {
     "end_time": "2019-12-17T16:45:55.739583Z",
     "start_time": "2019-12-17T16:45:55.730516Z"
    }
   },
   "outputs": [],
   "source": [
    "import re"
   ]
  },
  {
   "cell_type": "code",
   "execution_count": 58,
   "metadata": {
    "ExecuteTime": {
     "end_time": "2019-12-17T16:47:38.606395Z",
     "start_time": "2019-12-17T16:47:38.597540Z"
    }
   },
   "outputs": [],
   "source": [
    "spending=re.findall(r'\\$[0-9]*',friends)"
   ]
  },
  {
   "cell_type": "code",
   "execution_count": 60,
   "metadata": {
    "ExecuteTime": {
     "end_time": "2019-12-17T16:48:39.207454Z",
     "start_time": "2019-12-17T16:48:39.198334Z"
    }
   },
   "outputs": [],
   "source": [
    "total_owed=sum([pd.to_numeric(i[1:]) for i in spending])"
   ]
  },
  {
   "cell_type": "code",
   "execution_count": 62,
   "metadata": {
    "ExecuteTime": {
     "end_time": "2019-12-17T16:50:19.096139Z",
     "start_time": "2019-12-17T16:50:19.082301Z"
    }
   },
   "outputs": [
    {
     "data": {
      "text/plain": [
       "['$1000', '$4000', '$45000', '$1500', '$1260', '$39000']"
      ]
     },
     "execution_count": 62,
     "metadata": {},
     "output_type": "execute_result"
    }
   ],
   "source": [
    "spending"
   ]
  },
  {
   "cell_type": "code",
   "execution_count": 61,
   "metadata": {
    "ExecuteTime": {
     "end_time": "2019-12-17T16:48:43.682460Z",
     "start_time": "2019-12-17T16:48:43.666086Z"
    }
   },
   "outputs": [
    {
     "data": {
      "text/plain": [
       "91760"
      ]
     },
     "execution_count": 61,
     "metadata": {},
     "output_type": "execute_result"
    }
   ],
   "source": [
    "total_owed"
   ]
  },
  {
   "cell_type": "markdown",
   "metadata": {},
   "source": [
    "(4) (2 points) Read the datasciecne_internships.csv file and show the top 10 cities in California with\n",
    "the most internships in data science as follows. The color of the top 3 cities with most\n",
    "internships is “firebrick” and the rest are “grey”. The width of the line bars is 5, and the alpha\n",
    "level of these line bars is 0.7."
   ]
  },
  {
   "cell_type": "code",
   "execution_count": 64,
   "metadata": {
    "ExecuteTime": {
     "end_time": "2019-12-17T16:53:46.916096Z",
     "start_time": "2019-12-17T16:53:46.868604Z"
    }
   },
   "outputs": [
    {
     "data": {
      "text/html": [
       "<div>\n",
       "<style scoped>\n",
       "    .dataframe tbody tr th:only-of-type {\n",
       "        vertical-align: middle;\n",
       "    }\n",
       "\n",
       "    .dataframe tbody tr th {\n",
       "        vertical-align: top;\n",
       "    }\n",
       "\n",
       "    .dataframe thead th {\n",
       "        text-align: right;\n",
       "    }\n",
       "</style>\n",
       "<table border=\"1\" class=\"dataframe\">\n",
       "  <thead>\n",
       "    <tr style=\"text-align: right;\">\n",
       "      <th></th>\n",
       "      <th>company</th>\n",
       "      <th>position</th>\n",
       "      <th>location</th>\n",
       "      <th>job_url</th>\n",
       "    </tr>\n",
       "  </thead>\n",
       "  <tbody>\n",
       "    <tr>\n",
       "      <td>0</td>\n",
       "      <td>Salusive Health</td>\n",
       "      <td>Software Development / Data Science Internship</td>\n",
       "      <td>Palo Alto</td>\n",
       "      <td>https://www.indeed.com/pagead/clk?mo=r&amp;ad=-6NY...</td>\n",
       "    </tr>\n",
       "    <tr>\n",
       "      <td>1</td>\n",
       "      <td>SoFi</td>\n",
       "      <td>Data Science Intern</td>\n",
       "      <td>San Francisco</td>\n",
       "      <td>https://www.indeed.com/pagead/clk?mo=r&amp;ad=-6NY...</td>\n",
       "    </tr>\n",
       "    <tr>\n",
       "      <td>2</td>\n",
       "      <td>Esurance</td>\n",
       "      <td>Data Science Intern</td>\n",
       "      <td>San Francisco</td>\n",
       "      <td>https://www.indeed.com/pagead/clk?mo=r&amp;ad=-6NY...</td>\n",
       "    </tr>\n",
       "    <tr>\n",
       "      <td>3</td>\n",
       "      <td>GoGuardian</td>\n",
       "      <td>Data Infrastructure Engineer</td>\n",
       "      <td>El Segundo</td>\n",
       "      <td>https://www.indeed.com/pagead/clk?mo=r&amp;ad=-6NY...</td>\n",
       "    </tr>\n",
       "    <tr>\n",
       "      <td>4</td>\n",
       "      <td>Ticketmaster</td>\n",
       "      <td>Intern, Data Science (Summer 2020)</td>\n",
       "      <td>Hollywood</td>\n",
       "      <td>https://www.indeed.com/rc/clk?jk=6eecb3d1932cd...</td>\n",
       "    </tr>\n",
       "  </tbody>\n",
       "</table>\n",
       "</div>"
      ],
      "text/plain": [
       "           company                                        position  \\\n",
       "0  Salusive Health  Software Development / Data Science Internship   \n",
       "1             SoFi                             Data Science Intern   \n",
       "2         Esurance                             Data Science Intern   \n",
       "3       GoGuardian                    Data Infrastructure Engineer   \n",
       "4     Ticketmaster              Intern, Data Science (Summer 2020)   \n",
       "\n",
       "        location                                            job_url  \n",
       "0      Palo Alto  https://www.indeed.com/pagead/clk?mo=r&ad=-6NY...  \n",
       "1  San Francisco  https://www.indeed.com/pagead/clk?mo=r&ad=-6NY...  \n",
       "2  San Francisco  https://www.indeed.com/pagead/clk?mo=r&ad=-6NY...  \n",
       "3     El Segundo  https://www.indeed.com/pagead/clk?mo=r&ad=-6NY...  \n",
       "4      Hollywood  https://www.indeed.com/rc/clk?jk=6eecb3d1932cd...  "
      ]
     },
     "execution_count": 64,
     "metadata": {},
     "output_type": "execute_result"
    }
   ],
   "source": [
    "intern=pd.read_csv('datascience_internships.csv')\n",
    "intern.head()"
   ]
  },
  {
   "cell_type": "code",
   "execution_count": 83,
   "metadata": {
    "ExecuteTime": {
     "end_time": "2019-12-17T17:03:43.971873Z",
     "start_time": "2019-12-17T17:03:43.952105Z"
    }
   },
   "outputs": [],
   "source": [
    "cities=intern.groupby('location')['position'].count().sort_values()"
   ]
  },
  {
   "cell_type": "code",
   "execution_count": 84,
   "metadata": {
    "ExecuteTime": {
     "end_time": "2019-12-17T17:03:44.569947Z",
     "start_time": "2019-12-17T17:03:44.561208Z"
    }
   },
   "outputs": [],
   "source": [
    "city10=cities[-10:]"
   ]
  },
  {
   "cell_type": "code",
   "execution_count": 100,
   "metadata": {
    "ExecuteTime": {
     "end_time": "2019-12-17T17:13:05.105387Z",
     "start_time": "2019-12-17T17:13:04.770319Z"
    }
   },
   "outputs": [
    {
     "data": {
      "text/plain": [
       "Text(0.5, 0, 'Number of Internships')"
      ]
     },
     "execution_count": 100,
     "metadata": {},
     "output_type": "execute_result"
    },
    {
     "data": {
      "image/png": "[encoded data removed]",
      "text/plain": [
       "<Figure size 720x504 with 1 Axes>"
      ]
     },
     "metadata": {
      "needs_background": "light"
     },
     "output_type": "display_data"
    }
   ],
   "source": [
    "colors=['grey']*7+['firebrick']*3\n",
    "\n",
    "plt.figure(figsize=(10,7))\n",
    "plt.hlines(city10.index,xmin=0,xmax=2400,color='grey',linestyles=':',alpha=0.7)\n",
    "plt.hlines(city10.index,xmin=0,xmax=city10,color=colors,linewidth=5,alpha=0.7)\n",
    "plt.title('Top 10 Cities in California with\\n Summer Data Science Internships',size=20)\n",
    "plt.xlabel('Number of Internships')"
   ]
  },
  {
   "cell_type": "code",
   "execution_count": null,
   "metadata": {
    "ExecuteTime": {
     "end_time": "2019-12-17T17:13:09.119279Z",
     "start_time": "2019-12-17T17:13:09.091025Z"
    }
   },
   "outputs": [],
   "source": []
  },
  {
   "cell_type": "markdown",
   "metadata": {},
   "source": [
    "(5) (2 points) Use the following link to scrape and extract for each position the company name,\n",
    "company location, job title, and job description link.\n",
    "Link: https://www.indeed.com/jobs?q=data+science+intern&l=California"
   ]
  },
  {
   "cell_type": "code",
   "execution_count": 103,
   "metadata": {
    "ExecuteTime": {
     "end_time": "2019-12-17T17:14:07.408942Z",
     "start_time": "2019-12-17T17:14:07.402386Z"
    }
   },
   "outputs": [],
   "source": [
    "from bs4 import BeautifulSoup\n",
    "from urllib.request import urlopen"
   ]
  },
  {
   "cell_type": "code",
   "execution_count": 177,
   "metadata": {
    "ExecuteTime": {
     "end_time": "2019-12-17T17:55:20.223521Z",
     "start_time": "2019-12-17T17:55:19.849474Z"
    }
   },
   "outputs": [],
   "source": [
    "html=urlopen('https://www.indeed.com/jobs?q=data+science+intern&l=California')"
   ]
  },
  {
   "cell_type": "code",
   "execution_count": 178,
   "metadata": {
    "ExecuteTime": {
     "end_time": "2019-12-17T17:55:20.658666Z",
     "start_time": "2019-12-17T17:55:20.499465Z"
    }
   },
   "outputs": [],
   "source": [
    "soup=BeautifulSoup(html)"
   ]
  },
  {
   "cell_type": "code",
   "execution_count": 179,
   "metadata": {
    "ExecuteTime": {
     "end_time": "2019-12-17T17:55:20.919731Z",
     "start_time": "2019-12-17T17:55:20.899398Z"
    }
   },
   "outputs": [],
   "source": [
    "titles=soup.find_all('div',{'class':'title'})"
   ]
  },
  {
   "cell_type": "code",
   "execution_count": 180,
   "metadata": {
    "ExecuteTime": {
     "end_time": "2019-12-17T17:55:21.427406Z",
     "start_time": "2019-12-17T17:55:21.415913Z"
    }
   },
   "outputs": [],
   "source": [
    "titlename=[]\n",
    "\n",
    "for name in titles:\n",
    "    titlename.append(name.get_text().replace('\\n',''))"
   ]
  },
  {
   "cell_type": "code",
   "execution_count": 181,
   "metadata": {
    "ExecuteTime": {
     "end_time": "2019-12-17T17:55:23.204066Z",
     "start_time": "2019-12-17T17:55:23.196757Z"
    }
   },
   "outputs": [
    {
     "data": {
      "text/plain": [
       "['Postdoctoral Scholar for Multimodal Machine Learning and Nat...',\n",
       " 'Data Science - Summer Intern',\n",
       " 'Intern, Data Science (Summer 2020)',\n",
       " 'Data Science Intern',\n",
       " 'Business Intelligence Data Science Intern, Motion Pictures F...',\n",
       " 'Data Science Intern for I-Bank - NLP & Predictive Analytics',\n",
       " 'Data Science Intern',\n",
       " 'ML/Data Science Intern (Summer 2020)',\n",
       " 'Data Science Intern - Summer 2020',\n",
       " 'Data Science Intern - Gaming',\n",
       " 'Amplify Summer 2020 - Data Scientist Intern']"
      ]
     },
     "execution_count": 181,
     "metadata": {},
     "output_type": "execute_result"
    }
   ],
   "source": [
    "titlename"
   ]
  },
  {
   "cell_type": "code",
   "execution_count": 182,
   "metadata": {
    "ExecuteTime": {
     "end_time": "2019-12-17T17:55:25.850998Z",
     "start_time": "2019-12-17T17:55:25.837282Z"
    }
   },
   "outputs": [],
   "source": [
    "companies=soup.find_all('span',{'class':'company'})"
   ]
  },
  {
   "cell_type": "code",
   "execution_count": 183,
   "metadata": {
    "ExecuteTime": {
     "end_time": "2019-12-17T17:55:27.777877Z",
     "start_time": "2019-12-17T17:55:27.762404Z"
    }
   },
   "outputs": [],
   "source": [
    "companyname=[]\n",
    "\n",
    "for name in companies:\n",
    "    companyname.append(name.get_text().replace('\\n',''))"
   ]
  },
  {
   "cell_type": "code",
   "execution_count": 184,
   "metadata": {
    "ExecuteTime": {
     "end_time": "2019-12-17T17:55:28.372840Z",
     "start_time": "2019-12-17T17:55:28.357169Z"
    }
   },
   "outputs": [
    {
     "data": {
      "text/plain": [
       "['Institute for Creative Technologies',\n",
       " 'OpenX',\n",
       " 'Ticketmaster',\n",
       " 'Retina AI',\n",
       " 'Sony Pictures Entertainment, Inc.',\n",
       " 'Helm Capital',\n",
       " 'Twitch',\n",
       " 'Splunk',\n",
       " 'Cox Automotive',\n",
       " 'NVIDIA',\n",
       " 'City National Bank']"
      ]
     },
     "execution_count": 184,
     "metadata": {},
     "output_type": "execute_result"
    }
   ],
   "source": [
    "companyname"
   ]
  },
  {
   "cell_type": "code",
   "execution_count": 198,
   "metadata": {
    "ExecuteTime": {
     "end_time": "2019-12-17T17:58:14.360953Z",
     "start_time": "2019-12-17T17:58:14.322369Z"
    }
   },
   "outputs": [],
   "source": [
    "locations_div=soup.find_all('div',{'class':'location accessible-contrast-color-location'})\n",
    "locations_span=soup.find_all('span',{'class':'location accessible-contrast-color-location'})"
   ]
  },
  {
   "cell_type": "code",
   "execution_count": 199,
   "metadata": {
    "ExecuteTime": {
     "end_time": "2019-12-17T17:58:28.828747Z",
     "start_time": "2019-12-17T17:58:28.818237Z"
    }
   },
   "outputs": [],
   "source": [
    "locname=[]\n",
    "\n",
    "for name in locations_div:\n",
    "    locname.append(name.get_text())\n",
    "    \n",
    "for name in locations_span:\n",
    "    locname.append(name.get_text())"
   ]
  },
  {
   "cell_type": "code",
   "execution_count": 200,
   "metadata": {
    "ExecuteTime": {
     "end_time": "2019-12-17T17:58:30.973737Z",
     "start_time": "2019-12-17T17:58:30.960390Z"
    }
   },
   "outputs": [
    {
     "data": {
      "text/plain": [
       "['Playa Vista, CA',\n",
       " 'Los Angeles, CA',\n",
       " 'Hollywood, CA 90028',\n",
       " 'Santa Monica, CA',\n",
       " 'Culver City, CA 90232',\n",
       " 'Santa Monica, CA',\n",
       " 'San Francisco, CA 94104 (Financial District area)',\n",
       " 'San Francisco, CA',\n",
       " 'Irvine, CA 92618',\n",
       " 'Santa Clara, CA',\n",
       " 'Los Angeles, CA']"
      ]
     },
     "execution_count": 200,
     "metadata": {},
     "output_type": "execute_result"
    }
   ],
   "source": [
    "locname"
   ]
  },
  {
   "cell_type": "code",
   "execution_count": 195,
   "metadata": {
    "ExecuteTime": {
     "end_time": "2019-12-17T17:57:51.998831Z",
     "start_time": "2019-12-17T17:57:51.960302Z"
    }
   },
   "outputs": [],
   "source": [
    "links=soup.find_all('div',{'class':'title'})"
   ]
  },
  {
   "cell_type": "code",
   "execution_count": 196,
   "metadata": {
    "ExecuteTime": {
     "end_time": "2019-12-17T17:57:53.578657Z",
     "start_time": "2019-12-17T17:57:53.568649Z"
    }
   },
   "outputs": [],
   "source": [
    "linknames=[]\n",
    "\n",
    "for name in links:\n",
    "    linknames.append(name.findChild('a')['href'])"
   ]
  },
  {
   "cell_type": "code",
   "execution_count": 197,
   "metadata": {
    "ExecuteTime": {
     "end_time": "2019-12-17T17:57:54.100716Z",
     "start_time": "2019-12-17T17:57:54.084363Z"
    }
   },
   "outputs": [
    {
     "data": {
      "text/plain": [
       "['/pagead/clk?mo=r&ad=-6NYlbfkN0AbcLYJH6EEU2hhfUhIe4V-wtZUPXOEfJh72XLwlGjJwXW5GoFa_FpEwXnUioyetHTuGPE6o7_OHivZBQLgqDrF3jxxhu4ieZVBPjftf8yJfurwUfMjkYepwM_YEhvqkSalSUc8G4mbKK1qEPgjVMnal49V_9bNBS0nOMj_n0Y-kS0peVqeFyGqajLRmAHd6NyK3cRy9nP2m_tEumL6386DqSxGAOI1Y6cf7E-M631UwfSqDIY3_aZVgLCkLKDFBpLY3UH7Nz7nBNPO9EJ1eitlEbQWRneCjK99EZOtWsZgTqKi7ErL_5JR7iv8067Q3XykFiOCw0V5WsaMJ7BXhx-uoCzdLRH1BXFMctCODKjD5bHwHMgsUa2D1Tf71-s62RlikQsJKIb3BQh1vHqCtAtQqhPYMptEmDquUOKqnkevfQ==&p=0&fvj=0&vjs=3',\n",
       " '/rc/clk?jk=37fec60b919bc9eb&fccid=536f99c1c2da7f57&vjs=3',\n",
       " '/rc/clk?jk=6eecb3d1932cd55e&fccid=31696df7c99497fd&vjs=3',\n",
       " '/rc/clk?jk=c8027d26e43b6dd9&fccid=6c77b12b3695d0e0&vjs=3',\n",
       " '/rc/clk?jk=2cb0b85c7e6e7432&fccid=87296c430fc584e1&vjs=3',\n",
       " '/company/Helm-Capital/jobs/Data-Science-Intern-Bank-bf2022b03a1f1e9a?fccid=7618ffd5d857e76a&vjs=3',\n",
       " '/rc/clk?jk=ec88c85703fdb3ce&fccid=e21f6affbb4bb0b2&vjs=3',\n",
       " '/rc/clk?jk=9042480af958a610&fccid=aef928e89977f7f0&vjs=3',\n",
       " '/rc/clk?jk=91bb786ec49fdad7&fccid=7e465a3d521b3ac3&vjs=3',\n",
       " '/rc/clk?jk=d242e8e10d1c2355&fccid=c267f29f0f85e8b8&vjs=3',\n",
       " '/rc/clk?jk=ab7be303e2b1fc31&fccid=fcc08bf9b47571ef&vjs=3']"
      ]
     },
     "execution_count": 197,
     "metadata": {},
     "output_type": "execute_result"
    }
   ],
   "source": [
    "linknames"
   ]
  },
  {
   "cell_type": "code",
   "execution_count": 139,
   "metadata": {
    "ExecuteTime": {
     "end_time": "2019-12-17T17:36:18.471405Z",
     "start_time": "2019-12-17T17:36:18.463162Z"
    }
   },
   "outputs": [],
   "source": []
  },
  {
   "cell_type": "code",
   "execution_count": 142,
   "metadata": {
    "ExecuteTime": {
     "end_time": "2019-12-17T17:38:16.229888Z",
     "start_time": "2019-12-17T17:38:16.216296Z"
    }
   },
   "outputs": [
    {
     "data": {
      "text/plain": [
       "'/pagead/clk?mo=r&ad=-6NYlbfkN0CZXd4cJvEv79SO4_SS2kwCEvpViN3o8ch1Jvhx23LOYZSEEqjIOLGZ8M9TWnfpvuNV9hcbCxpCCFpVb6Ohyhw-JovwoTKhpai3qVYb4s8jKWhOiXPYTuQdlRI1whDrzGW2Gf-gfGCMsJgGrDTT_6HSmy65ghEJO_1K1HefpjkXw9ZZBR_m1DntXu6Cx8PmPbLakKdKGoDqcz5_3jrbQIfnBvQaS-22KlRBAPBrtlDpWPLU2r3qm6pHqPZ5GnC0lOffPZXhRipHvwHW-NN42sMrhVGLR5ZRo97Pz2_jxyjPzzwhrk8G0XOMNIq1JHaqJyVT08ahuoMyzVFo9GX0DS6QvhAyLMFPmODy9xIj5ALk8ClSxWqeO9TCBHiy9_Yk0jdJujmEkBbYFVYq_9zvHRTQ2yHl_GnOZIlJiGiCwFyknL-bE6MVZIv9SChS6Zkjc_8v1tDDJcwkmVJPrGlfn4jH&p=1&fvj=1&vjs=3'"
      ]
     },
     "execution_count": 142,
     "metadata": {},
     "output_type": "execute_result"
    }
   ],
   "source": [
    "emx['href']"
   ]
  },
  {
   "cell_type": "code",
   "execution_count": 143,
   "metadata": {
    "ExecuteTime": {
     "end_time": "2019-12-17T17:38:44.398342Z",
     "start_time": "2019-12-17T17:38:44.380242Z"
    }
   },
   "outputs": [
    {
     "ename": "KeyError",
     "evalue": "'href'",
     "output_type": "error",
     "traceback": [
      "\u001b[1;31m---------------------------------------------------------------------------\u001b[0m",
      "\u001b[1;31mKeyError\u001b[0m                                  Traceback (most recent call last)",
      "\u001b[1;32m<ipython-input-143-61c5244f0e7f>\u001b[0m in \u001b[0;36m<module>\u001b[1;34m\u001b[0m\n\u001b[1;32m----> 1\u001b[1;33m \u001b[0mexm\u001b[0m\u001b[1;33m[\u001b[0m\u001b[1;34m'href'\u001b[0m\u001b[1;33m]\u001b[0m\u001b[1;33m\u001b[0m\u001b[1;33m\u001b[0m\u001b[0m\n\u001b[0m",
      "\u001b[1;32mD:\\Anaconda\\lib\\site-packages\\bs4\\element.py\u001b[0m in \u001b[0;36m__getitem__\u001b[1;34m(self, key)\u001b[0m\n\u001b[0;32m    969\u001b[0m         \"\"\"tag[key] returns the value of the 'key' attribute for the tag,\n\u001b[0;32m    970\u001b[0m         and throws an exception if it's not there.\"\"\"\n\u001b[1;32m--> 971\u001b[1;33m         \u001b[1;32mreturn\u001b[0m \u001b[0mself\u001b[0m\u001b[1;33m.\u001b[0m\u001b[0mattrs\u001b[0m\u001b[1;33m[\u001b[0m\u001b[0mkey\u001b[0m\u001b[1;33m]\u001b[0m\u001b[1;33m\u001b[0m\u001b[1;33m\u001b[0m\u001b[0m\n\u001b[0m\u001b[0;32m    972\u001b[0m \u001b[1;33m\u001b[0m\u001b[0m\n\u001b[0;32m    973\u001b[0m     \u001b[1;32mdef\u001b[0m \u001b[0m__iter__\u001b[0m\u001b[1;33m(\u001b[0m\u001b[0mself\u001b[0m\u001b[1;33m)\u001b[0m\u001b[1;33m:\u001b[0m\u001b[1;33m\u001b[0m\u001b[1;33m\u001b[0m\u001b[0m\n",
      "\u001b[1;31mKeyError\u001b[0m: 'href'"
     ]
    }
   ],
   "source": []
  },
  {
   "cell_type": "code",
   "execution_count": 148,
   "metadata": {
    "ExecuteTime": {
     "end_time": "2019-12-17T17:42:08.620994Z",
     "start_time": "2019-12-17T17:42:08.604998Z"
    }
   },
   "outputs": [
    {
     "data": {
      "text/plain": [
       "14"
      ]
     },
     "execution_count": 148,
     "metadata": {},
     "output_type": "execute_result"
    }
   ],
   "source": [
    "len(linknames)"
   ]
  },
  {
   "cell_type": "code",
   "execution_count": 149,
   "metadata": {
    "ExecuteTime": {
     "end_time": "2019-12-17T17:43:51.122767Z",
     "start_time": "2019-12-17T17:43:51.111186Z"
    }
   },
   "outputs": [
    {
     "data": {
      "text/plain": [
       "14"
      ]
     },
     "execution_count": 149,
     "metadata": {},
     "output_type": "execute_result"
    }
   ],
   "source": [
    "len(titles)"
   ]
  },
  {
   "cell_type": "code",
   "execution_count": 152,
   "metadata": {
    "ExecuteTime": {
     "end_time": "2019-12-17T17:45:15.486451Z",
     "start_time": "2019-12-17T17:45:15.469290Z"
    }
   },
   "outputs": [
    {
     "data": {
      "text/plain": [
       "10"
      ]
     },
     "execution_count": 152,
     "metadata": {},
     "output_type": "execute_result"
    }
   ],
   "source": [
    "len(locations)"
   ]
  },
  {
   "cell_type": "code",
   "execution_count": 174,
   "metadata": {
    "ExecuteTime": {
     "end_time": "2019-12-17T17:53:10.175347Z",
     "start_time": "2019-12-17T17:53:10.158088Z"
    }
   },
   "outputs": [
    {
     "data": {
      "text/plain": [
       "[]"
      ]
     },
     "execution_count": 174,
     "metadata": {},
     "output_type": "execute_result"
    }
   ],
   "source": [
    "links[1].find_all('span',{'class':'location accessible-contrast-color-location'})"
   ]
  },
  {
   "cell_type": "code",
   "execution_count": 175,
   "metadata": {
    "ExecuteTime": {
     "end_time": "2019-12-17T17:53:17.708106Z",
     "start_time": "2019-12-17T17:53:17.690328Z"
    }
   },
   "outputs": [
    {
     "data": {
      "text/plain": [
       "<div class=\"title\">\n",
       "<a class=\"jobtitle turnstileLink\" data-tn-element=\"jobTitle\" href=\"/rc/clk?jk=6eecb3d1932cd55e&amp;fccid=31696df7c99497fd&amp;vjs=3\" id=\"jl_6eecb3d1932cd55e\" onclick=\"setRefineByCookie([]); return rclk(this,jobmap[1],true,0);\" onmousedown=\"return rclk(this,jobmap[1],0);\" rel=\"noopener nofollow\" target=\"_blank\" title=\"Intern, Data Science (Summer 2020)\">\n",
       "<b>Intern</b>, <b>Data</b> <b>Science</b> (Summer 2020)</a>\n",
       "</div>"
      ]
     },
     "execution_count": 175,
     "metadata": {},
     "output_type": "execute_result"
    }
   ],
   "source": []
  },
  {
   "cell_type": "code",
   "execution_count": 201,
   "metadata": {
    "ExecuteTime": {
     "end_time": "2019-12-17T17:58:36.286670Z",
     "start_time": "2019-12-17T17:58:36.277176Z"
    }
   },
   "outputs": [],
   "source": [
    "Jobtable=pd.DataFrame({'Company Name':companyname,'Job Name':titlename,'Location':locname,'Link':linknames})"
   ]
  },
  {
   "cell_type": "code",
   "execution_count": 202,
   "metadata": {
    "ExecuteTime": {
     "end_time": "2019-12-17T17:58:41.009639Z",
     "start_time": "2019-12-17T17:58:40.983734Z"
    }
   },
   "outputs": [
    {
     "data": {
      "text/html": [
       "<div>\n",
       "<style scoped>\n",
       "    .dataframe tbody tr th:only-of-type {\n",
       "        vertical-align: middle;\n",
       "    }\n",
       "\n",
       "    .dataframe tbody tr th {\n",
       "        vertical-align: top;\n",
       "    }\n",
       "\n",
       "    .dataframe thead th {\n",
       "        text-align: right;\n",
       "    }\n",
       "</style>\n",
       "<table border=\"1\" class=\"dataframe\">\n",
       "  <thead>\n",
       "    <tr style=\"text-align: right;\">\n",
       "      <th></th>\n",
       "      <th>Company Name</th>\n",
       "      <th>Job Name</th>\n",
       "      <th>Location</th>\n",
       "      <th>Link</th>\n",
       "    </tr>\n",
       "  </thead>\n",
       "  <tbody>\n",
       "    <tr>\n",
       "      <td>0</td>\n",
       "      <td>Institute for Creative Technologies</td>\n",
       "      <td>Postdoctoral Scholar for Multimodal Machine Le...</td>\n",
       "      <td>Playa Vista, CA</td>\n",
       "      <td>/pagead/clk?mo=r&amp;ad=-6NYlbfkN0AbcLYJH6EEU2hhfU...</td>\n",
       "    </tr>\n",
       "    <tr>\n",
       "      <td>1</td>\n",
       "      <td>OpenX</td>\n",
       "      <td>Data Science - Summer Intern</td>\n",
       "      <td>Los Angeles, CA</td>\n",
       "      <td>/rc/clk?jk=37fec60b919bc9eb&amp;fccid=536f99c1c2da...</td>\n",
       "    </tr>\n",
       "    <tr>\n",
       "      <td>2</td>\n",
       "      <td>Ticketmaster</td>\n",
       "      <td>Intern, Data Science (Summer 2020)</td>\n",
       "      <td>Hollywood, CA 90028</td>\n",
       "      <td>/rc/clk?jk=6eecb3d1932cd55e&amp;fccid=31696df7c994...</td>\n",
       "    </tr>\n",
       "    <tr>\n",
       "      <td>3</td>\n",
       "      <td>Retina AI</td>\n",
       "      <td>Data Science Intern</td>\n",
       "      <td>Santa Monica, CA</td>\n",
       "      <td>/rc/clk?jk=c8027d26e43b6dd9&amp;fccid=6c77b12b3695...</td>\n",
       "    </tr>\n",
       "    <tr>\n",
       "      <td>4</td>\n",
       "      <td>Sony Pictures Entertainment, Inc.</td>\n",
       "      <td>Business Intelligence Data Science Intern, Mot...</td>\n",
       "      <td>Culver City, CA 90232</td>\n",
       "      <td>/rc/clk?jk=2cb0b85c7e6e7432&amp;fccid=87296c430fc5...</td>\n",
       "    </tr>\n",
       "    <tr>\n",
       "      <td>5</td>\n",
       "      <td>Helm Capital</td>\n",
       "      <td>Data Science Intern for I-Bank - NLP &amp; Predict...</td>\n",
       "      <td>Santa Monica, CA</td>\n",
       "      <td>/company/Helm-Capital/jobs/Data-Science-Intern...</td>\n",
       "    </tr>\n",
       "    <tr>\n",
       "      <td>6</td>\n",
       "      <td>Twitch</td>\n",
       "      <td>Data Science Intern</td>\n",
       "      <td>San Francisco, CA 94104 (Financial District area)</td>\n",
       "      <td>/rc/clk?jk=ec88c85703fdb3ce&amp;fccid=e21f6affbb4b...</td>\n",
       "    </tr>\n",
       "    <tr>\n",
       "      <td>7</td>\n",
       "      <td>Splunk</td>\n",
       "      <td>ML/Data Science Intern (Summer 2020)</td>\n",
       "      <td>San Francisco, CA</td>\n",
       "      <td>/rc/clk?jk=9042480af958a610&amp;fccid=aef928e89977...</td>\n",
       "    </tr>\n",
       "    <tr>\n",
       "      <td>8</td>\n",
       "      <td>Cox Automotive</td>\n",
       "      <td>Data Science Intern - Summer 2020</td>\n",
       "      <td>Irvine, CA 92618</td>\n",
       "      <td>/rc/clk?jk=91bb786ec49fdad7&amp;fccid=7e465a3d521b...</td>\n",
       "    </tr>\n",
       "    <tr>\n",
       "      <td>9</td>\n",
       "      <td>NVIDIA</td>\n",
       "      <td>Data Science Intern - Gaming</td>\n",
       "      <td>Santa Clara, CA</td>\n",
       "      <td>/rc/clk?jk=d242e8e10d1c2355&amp;fccid=c267f29f0f85...</td>\n",
       "    </tr>\n",
       "    <tr>\n",
       "      <td>10</td>\n",
       "      <td>City National Bank</td>\n",
       "      <td>Amplify Summer 2020 - Data Scientist Intern</td>\n",
       "      <td>Los Angeles, CA</td>\n",
       "      <td>/rc/clk?jk=ab7be303e2b1fc31&amp;fccid=fcc08bf9b475...</td>\n",
       "    </tr>\n",
       "  </tbody>\n",
       "</table>\n",
       "</div>"
      ],
      "text/plain": [
       "                           Company Name  \\\n",
       "0   Institute for Creative Technologies   \n",
       "1                                 OpenX   \n",
       "2                          Ticketmaster   \n",
       "3                             Retina AI   \n",
       "4     Sony Pictures Entertainment, Inc.   \n",
       "5                          Helm Capital   \n",
       "6                                Twitch   \n",
       "7                                Splunk   \n",
       "8                        Cox Automotive   \n",
       "9                                NVIDIA   \n",
       "10                   City National Bank   \n",
       "\n",
       "                                             Job Name  \\\n",
       "0   Postdoctoral Scholar for Multimodal Machine Le...   \n",
       "1                        Data Science - Summer Intern   \n",
       "2                  Intern, Data Science (Summer 2020)   \n",
       "3                                 Data Science Intern   \n",
       "4   Business Intelligence Data Science Intern, Mot...   \n",
       "5   Data Science Intern for I-Bank - NLP & Predict...   \n",
       "6                                 Data Science Intern   \n",
       "7                ML/Data Science Intern (Summer 2020)   \n",
       "8                   Data Science Intern - Summer 2020   \n",
       "9                        Data Science Intern - Gaming   \n",
       "10        Amplify Summer 2020 - Data Scientist Intern   \n",
       "\n",
       "                                             Location  \\\n",
       "0                                     Playa Vista, CA   \n",
       "1                                     Los Angeles, CA   \n",
       "2                                 Hollywood, CA 90028   \n",
       "3                                    Santa Monica, CA   \n",
       "4                               Culver City, CA 90232   \n",
       "5                                    Santa Monica, CA   \n",
       "6   San Francisco, CA 94104 (Financial District area)   \n",
       "7                                   San Francisco, CA   \n",
       "8                                    Irvine, CA 92618   \n",
       "9                                     Santa Clara, CA   \n",
       "10                                    Los Angeles, CA   \n",
       "\n",
       "                                                 Link  \n",
       "0   /pagead/clk?mo=r&ad=-6NYlbfkN0AbcLYJH6EEU2hhfU...  \n",
       "1   /rc/clk?jk=37fec60b919bc9eb&fccid=536f99c1c2da...  \n",
       "2   /rc/clk?jk=6eecb3d1932cd55e&fccid=31696df7c994...  \n",
       "3   /rc/clk?jk=c8027d26e43b6dd9&fccid=6c77b12b3695...  \n",
       "4   /rc/clk?jk=2cb0b85c7e6e7432&fccid=87296c430fc5...  \n",
       "5   /company/Helm-Capital/jobs/Data-Science-Intern...  \n",
       "6   /rc/clk?jk=ec88c85703fdb3ce&fccid=e21f6affbb4b...  \n",
       "7   /rc/clk?jk=9042480af958a610&fccid=aef928e89977...  \n",
       "8   /rc/clk?jk=91bb786ec49fdad7&fccid=7e465a3d521b...  \n",
       "9   /rc/clk?jk=d242e8e10d1c2355&fccid=c267f29f0f85...  \n",
       "10  /rc/clk?jk=ab7be303e2b1fc31&fccid=fcc08bf9b475...  "
      ]
     },
     "execution_count": 202,
     "metadata": {},
     "output_type": "execute_result"
    }
   ],
   "source": [
    "Jobtable"
   ]
  },
  {
   "cell_type": "code",
   "execution_count": 247,
   "metadata": {
    "ExecuteTime": {
     "end_time": "2019-12-17T18:37:11.367990Z",
     "start_time": "2019-12-17T18:37:11.347817Z"
    }
   },
   "outputs": [],
   "source": [
    "loc=soup.find_all('div',{'class':'sjcl'})"
   ]
  },
  {
   "cell_type": "code",
   "execution_count": 262,
   "metadata": {
    "ExecuteTime": {
     "end_time": "2019-12-17T18:42:39.040205Z",
     "start_time": "2019-12-17T18:42:39.024961Z"
    }
   },
   "outputs": [],
   "source": [
    "locnames=[]\n",
    "for name in loc:\n",
    "    texting=name.find_all('span',{'class':'location accessible-contrast-color-location'})\n",
    "    if len(texting)==0:\n",
    "        texting=name.find_all('div',{'class':'location accessible-contrast-color-location'})[0].text\n",
    "        locnames.append(texting)\n",
    "    else:\n",
    "        locnames.append(texting[0].text)"
   ]
  },
  {
   "cell_type": "code",
   "execution_count": 263,
   "metadata": {
    "ExecuteTime": {
     "end_time": "2019-12-17T18:42:40.705750Z",
     "start_time": "2019-12-17T18:42:40.700483Z"
    }
   },
   "outputs": [
    {
     "data": {
      "text/plain": [
       "['Playa Vista, CA',\n",
       " 'Los Angeles, CA',\n",
       " 'Hollywood, CA 90028',\n",
       " 'Santa Monica, CA',\n",
       " 'Culver City, CA 90232',\n",
       " 'Santa Monica, CA',\n",
       " 'San Francisco, CA 94104 (Financial District area)',\n",
       " 'San Francisco, CA',\n",
       " 'Irvine, CA 92618',\n",
       " 'Santa Clara, CA',\n",
       " 'Los Angeles, CA']"
      ]
     },
     "execution_count": 263,
     "metadata": {},
     "output_type": "execute_result"
    }
   ],
   "source": [
    "locnames"
   ]
  },
  {
   "cell_type": "code",
   "execution_count": 236,
   "metadata": {
    "ExecuteTime": {
     "end_time": "2019-12-17T18:12:33.530404Z",
     "start_time": "2019-12-17T18:12:33.516780Z"
    }
   },
   "outputs": [
    {
     "data": {
      "text/plain": [
       "'Los Angeles, CA'"
      ]
     },
     "execution_count": 236,
     "metadata": {},
     "output_type": "execute_result"
    }
   ],
   "source": [
    "loc[1].find('span',{'class':'location accessible-contrast-color-location'}).text"
   ]
  },
  {
   "cell_type": "code",
   "execution_count": 221,
   "metadata": {
    "ExecuteTime": {
     "end_time": "2019-12-17T18:08:11.911525Z",
     "start_time": "2019-12-17T18:08:11.899165Z"
    }
   },
   "outputs": [],
   "source": [
    "text=loc[1].find('span',{'class':'location accessible-contrast-color-location'}).text"
   ]
  },
  {
   "cell_type": "code",
   "execution_count": 227,
   "metadata": {
    "ExecuteTime": {
     "end_time": "2019-12-17T18:09:43.189406Z",
     "start_time": "2019-12-17T18:09:43.176918Z"
    }
   },
   "outputs": [
    {
     "data": {
      "text/plain": [
       "<div class=\"location accessible-contrast-color-location\">Playa Vista, CA</div>"
      ]
     },
     "execution_count": 227,
     "metadata": {},
     "output_type": "execute_result"
    }
   ],
   "source": [
    "locnames[0]"
   ]
  },
  {
   "cell_type": "code",
   "execution_count": 239,
   "metadata": {
    "ExecuteTime": {
     "end_time": "2019-12-17T18:34:09.956426Z",
     "start_time": "2019-12-17T18:34:09.943610Z"
    }
   },
   "outputs": [
    {
     "data": {
      "text/plain": [
       "bs4.element.Tag"
      ]
     },
     "execution_count": 239,
     "metadata": {},
     "output_type": "execute_result"
    }
   ],
   "source": [
    "type(loc[1].find('span',{'class':'location accessible-contrast-color-location'}))"
   ]
  },
  {
   "cell_type": "code",
   "execution_count": 242,
   "metadata": {
    "ExecuteTime": {
     "end_time": "2019-12-17T18:35:21.016266Z",
     "start_time": "2019-12-17T18:35:21.000039Z"
    }
   },
   "outputs": [],
   "source": [
    "for name in loc:\n",
    "    texting=name.find('span',{'class':'location accessible-contrast-color-location'})"
   ]
  },
  {
   "cell_type": "code",
   "execution_count": 245,
   "metadata": {
    "ExecuteTime": {
     "end_time": "2019-12-17T18:35:49.346401Z",
     "start_time": "2019-12-17T18:35:49.334527Z"
    }
   },
   "outputs": [
    {
     "data": {
      "text/plain": [
       "'Los Angeles, CA'"
      ]
     },
     "execution_count": 245,
     "metadata": {},
     "output_type": "execute_result"
    }
   ],
   "source": [
    "texting.text"
   ]
  },
  {
   "cell_type": "code",
   "execution_count": 259,
   "metadata": {
    "ExecuteTime": {
     "end_time": "2019-12-17T18:41:04.268762Z",
     "start_time": "2019-12-17T18:41:04.247676Z"
    }
   },
   "outputs": [
    {
     "data": {
      "text/plain": [
       "[[],\n",
       " [<span class=\"location accessible-contrast-color-location\">Los Angeles, CA</span>],\n",
       " [<span class=\"location accessible-contrast-color-location\">Hollywood, CA 90028</span>],\n",
       " [<span class=\"location accessible-contrast-color-location\">Santa Monica, CA</span>],\n",
       " [<span class=\"location accessible-contrast-color-location\">Culver City, CA 90232</span>],\n",
       " [<span class=\"location accessible-contrast-color-location\">Santa Monica, CA</span>],\n",
       " [<span class=\"location accessible-contrast-color-location\">San Francisco, CA 94104 <span style=\"font-size: smaller\">(Financial District area)</span></span>],\n",
       " [<span class=\"location accessible-contrast-color-location\">San Francisco, CA</span>],\n",
       " [<span class=\"location accessible-contrast-color-location\">Irvine, CA 92618</span>],\n",
       " [<span class=\"location accessible-contrast-color-location\">Santa Clara, CA</span>],\n",
       " [<span class=\"location accessible-contrast-color-location\">Los Angeles, CA</span>]]"
      ]
     },
     "execution_count": 259,
     "metadata": {},
     "output_type": "execute_result"
    }
   ],
   "source": [
    "[name.find_all('span',{'class':'location accessible-contrast-color-location'}) for name in loc]"
   ]
  },
  {
   "cell_type": "code",
   "execution_count": 256,
   "metadata": {
    "ExecuteTime": {
     "end_time": "2019-12-17T18:39:31.526973Z",
     "start_time": "2019-12-17T18:39:31.515395Z"
    }
   },
   "outputs": [
    {
     "data": {
      "text/plain": [
       "str"
      ]
     },
     "execution_count": 256,
     "metadata": {},
     "output_type": "execute_result"
    }
   ],
   "source": [
    "type(loc[1].text)"
   ]
  },
  {
   "cell_type": "code",
   "execution_count": null,
   "metadata": {},
   "outputs": [],
   "source": []
  }
 ],
 "metadata": {
  "kernelspec": {
   "display_name": "Python 3",
   "language": "python",
   "name": "python3"
  },
  "language_info": {
   "codemirror_mode": {
    "name": "ipython",
    "version": 3
   },
   "file_extension": ".py",
   "mimetype": "text/x-python",
   "name": "python",
   "nbconvert_exporter": "python",
   "pygments_lexer": "ipython3",
   "version": "3.7.4"
  },
  "toc": {
   "base_numbering": 1,
   "nav_menu": {},
   "number_sections": true,
   "sideBar": true,
   "skip_h1_title": false,
   "title_cell": "Table of Contents",
   "title_sidebar": "Contents",
   "toc_cell": false,
   "toc_position": {},
   "toc_section_display": true,
   "toc_window_display": false
  },
  "varInspector": {
   "cols": {
    "lenName": 16,
    "lenType": 16,
    "lenVar": 40
   },
   "kernels_config": {
    "python": {
     "delete_cmd_postfix": "",
     "delete_cmd_prefix": "del ",
     "library": "var_list.py",
     "varRefreshCmd": "print(var_dic_list())"
    },
    "r": {
     "delete_cmd_postfix": ") ",
     "delete_cmd_prefix": "rm(",
     "library": "var_list.r",
     "varRefreshCmd": "cat(var_dic_list()) "
    }
   },
   "types_to_exclude": [
    "module",
    "function",
    "builtin_function_or_method",
    "instance",
    "_Feature"
   ],
   "window_display": false
  }
 },
 "nbformat": 4,
 "nbformat_minor": 2
}
