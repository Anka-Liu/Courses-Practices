{
 "cells": [
  {
   "cell_type": "code",
   "execution_count": 1,
   "metadata": {},
   "outputs": [
    {
     "name": "stdout",
     "output_type": "stream",
     "text": [
      "positive\n"
     ]
    }
   ],
   "source": [
    "#1.\n",
    "\n",
    "num=3\n",
    "\n",
    "if num > 0:\n",
    "    print('positive')\n",
    "else:\n",
    "    print('negative')"
   ]
  },
  {
   "cell_type": "code",
   "execution_count": 2,
   "metadata": {},
   "outputs": [
    {
     "name": "stdout",
     "output_type": "stream",
     "text": [
      "positive\n"
     ]
    }
   ],
   "source": [
    "#2.\n",
    "num=3\n",
    "\n",
    "if num > 0:\n",
    "    print('positive')\n",
    "elif num == 0:\n",
    "    print('zero')\n",
    "else:\n",
    "    print('negative')"
   ]
  },
  {
   "cell_type": "code",
   "execution_count": 3,
   "metadata": {},
   "outputs": [
    {
     "name": "stdout",
     "output_type": "stream",
     "text": [
      "Hello World!\n"
     ]
    }
   ],
   "source": [
    "#3.\n",
    "\n",
    "def my_function():\n",
    "    print('Hello World!')\n",
    "    \n",
    "\n",
    "my_function()"
   ]
  },
  {
   "cell_type": "code",
   "execution_count": 4,
   "metadata": {},
   "outputs": [
    {
     "name": "stdout",
     "output_type": "stream",
     "text": [
      "DSO\n"
     ]
    }
   ],
   "source": [
    "def myfunction(text):\n",
    "    print(text)\n",
    "    \n",
    "myfunction('DSO')"
   ]
  },
  {
   "cell_type": "code",
   "execution_count": 5,
   "metadata": {},
   "outputs": [
    {
     "name": "stdout",
     "output_type": "stream",
     "text": [
      "DSO\n"
     ]
    }
   ],
   "source": [
    "def myfunction(text='Hello World'):\n",
    "    print(text)\n",
    "    \n",
    "myfunction('DSO')"
   ]
  },
  {
   "cell_type": "code",
   "execution_count": 6,
   "metadata": {},
   "outputs": [],
   "source": [
    "def check_num(num):\n",
    "    if num > 0:\n",
    "        print('positive')\n",
    "    elif num == 0:\n",
    "        print('zero')\n",
    "    else:\n",
    "        print('negative')"
   ]
  },
  {
   "cell_type": "code",
   "execution_count": 8,
   "metadata": {},
   "outputs": [
    {
     "name": "stdout",
     "output_type": "stream",
     "text": [
      "negative\n"
     ]
    }
   ],
   "source": [
    "check_num(-1)"
   ]
  },
  {
   "cell_type": "code",
   "execution_count": 9,
   "metadata": {},
   "outputs": [
    {
     "data": {
      "text/plain": [
       "'ab'"
      ]
     },
     "execution_count": 9,
     "metadata": {},
     "output_type": "execute_result"
    }
   ],
   "source": [
    "'a'+'b'"
   ]
  },
  {
   "cell_type": "code",
   "execution_count": 1,
   "metadata": {},
   "outputs": [
    {
     "data": {
      "text/plain": [
       "<Figure size 800x600 with 7 Axes>"
      ]
     },
     "metadata": {},
     "output_type": "display_data"
    }
   ],
   "source": [
    "import numpy as np\n",
    "import matplotlib.pyplot as plt\n",
    "import matplotlib.ticker as ticker\n",
    "\n",
    "\n",
    "# Setup a plot such that only the bottom spine is shown\n",
    "def setup(ax):\n",
    "    ax.spines['right'].set_color('none')\n",
    "    ax.spines['left'].set_color('none')\n",
    "    ax.yaxis.set_major_locator(ticker.NullLocator())\n",
    "    ax.spines['top'].set_color('none')\n",
    "    ax.xaxis.set_ticks_position('bottom')\n",
    "    ax.tick_params(which='major', width=1.00, length=5)\n",
    "    ax.tick_params(which='minor', width=0.75, length=2.5, labelsize=10)\n",
    "    ax.set_xlim(0, 5)\n",
    "    ax.set_ylim(0, 1)\n",
    "    ax.patch.set_alpha(0.0)\n",
    "\n",
    "\n",
    "fig = plt.figure(figsize=(8, 6))\n",
    "n = 7\n",
    "\n",
    "# Null formatter\n",
    "ax = fig.add_subplot(n, 1, 1)\n",
    "setup(ax)\n",
    "ax.xaxis.set_major_locator(ticker.MultipleLocator(1.00))\n",
    "ax.xaxis.set_minor_locator(ticker.MultipleLocator(0.25))\n",
    "ax.xaxis.set_major_formatter(ticker.NullFormatter())\n",
    "ax.xaxis.set_minor_formatter(ticker.NullFormatter())\n",
    "ax.text(0.0, 0.1, \"NullFormatter()\", fontsize=16, transform=ax.transAxes)\n",
    "\n",
    "# Fixed formatter\n",
    "ax = fig.add_subplot(n, 1, 2)\n",
    "setup(ax)\n",
    "ax.xaxis.set_major_locator(ticker.MultipleLocator(1.0))\n",
    "ax.xaxis.set_minor_locator(ticker.MultipleLocator(0.25))\n",
    "majors = [\"\", \"0\", \"1\", \"2\", \"3\", \"4\", \"5\"]\n",
    "ax.xaxis.set_major_formatter(ticker.FixedFormatter(majors))\n",
    "minors = [\"\"] + [\"%.2f\" % (x-int(x)) if (x-int(x))\n",
    "                 else \"\" for x in np.arange(0, 5, 0.25)]\n",
    "ax.xaxis.set_minor_formatter(ticker.FixedFormatter(minors))\n",
    "ax.text(0.0, 0.1, \"FixedFormatter(['', '0', '1', ...])\",\n",
    "        fontsize=15, transform=ax.transAxes)\n",
    "\n",
    "\n",
    "# FuncFormatter can be used as a decorator\n",
    "@ticker.FuncFormatter\n",
    "def major_formatter(x, pos):\n",
    "    return \"[%.2f]\" % x\n",
    "\n",
    "\n",
    "ax = fig.add_subplot(n, 1, 3)\n",
    "setup(ax)\n",
    "ax.xaxis.set_major_locator(ticker.MultipleLocator(1.00))\n",
    "ax.xaxis.set_minor_locator(ticker.MultipleLocator(0.25))\n",
    "ax.xaxis.set_major_formatter(major_formatter)\n",
    "ax.text(0.0, 0.1, 'FuncFormatter(lambda x, pos: \"[%.2f]\" % x)',\n",
    "        fontsize=15, transform=ax.transAxes)\n",
    "\n",
    "\n",
    "# FormatStr formatter\n",
    "ax = fig.add_subplot(n, 1, 4)\n",
    "setup(ax)\n",
    "ax.xaxis.set_major_locator(ticker.MultipleLocator(1.00))\n",
    "ax.xaxis.set_minor_locator(ticker.MultipleLocator(0.25))\n",
    "ax.xaxis.set_major_formatter(ticker.FormatStrFormatter(\">%d<\"))\n",
    "ax.text(0.0, 0.1, \"FormatStrFormatter('>%d<')\",\n",
    "        fontsize=15, transform=ax.transAxes)\n",
    "\n",
    "# Scalar formatter\n",
    "ax = fig.add_subplot(n, 1, 5)\n",
    "setup(ax)\n",
    "ax.xaxis.set_major_locator(ticker.AutoLocator())\n",
    "ax.xaxis.set_minor_locator(ticker.AutoMinorLocator())\n",
    "ax.xaxis.set_major_formatter(ticker.ScalarFormatter(useMathText=True))\n",
    "ax.text(0.0, 0.1, \"ScalarFormatter()\", fontsize=15, transform=ax.transAxes)\n",
    "\n",
    "# StrMethod formatter\n",
    "ax = fig.add_subplot(n, 1, 6)\n",
    "setup(ax)\n",
    "ax.xaxis.set_major_locator(ticker.MultipleLocator(1.00))\n",
    "ax.xaxis.set_minor_locator(ticker.MultipleLocator(0.25))\n",
    "ax.xaxis.set_major_formatter(ticker.StrMethodFormatter(\"{x}\"))\n",
    "ax.text(0.0, 0.1, \"StrMethodFormatter('{x}')\",\n",
    "        fontsize=15, transform=ax.transAxes)\n",
    "\n",
    "# Percent formatter\n",
    "ax = fig.add_subplot(n, 1, 7)\n",
    "setup(ax)\n",
    "ax.xaxis.set_major_locator(ticker.MultipleLocator(1.00))\n",
    "ax.xaxis.set_minor_locator(ticker.MultipleLocator(0.25))\n",
    "ax.xaxis.set_major_formatter(ticker.PercentFormatter(xmax=5))\n",
    "ax.text(0.0, 0.1, \"PercentFormatter(xmax=5)\",\n",
    "        fontsize=15, transform=ax.transAxes)\n",
    "\n",
    "# Push the top of the top axes outside the figure because we only show the\n",
    "# bottom spine.\n",
    "fig.subplots_adjust(left=0.05, right=0.95, bottom=0.05, top=1.05)\n",
    "\n",
    "plt.show()"
   ]
  },
  {
   "cell_type": "code",
   "execution_count": 2,
   "metadata": {},
   "outputs": [],
   "source": [
    "plt.show()"
   ]
  },
  {
   "cell_type": "code",
   "execution_count": 2,
   "metadata": {},
   "outputs": [
    {
     "name": "stdout",
     "output_type": "stream",
     "text": [
      "marker0\n"
     ]
    }
   ],
   "source": [
    "print(\"marker\",0,sep='')"
   ]
  },
  {
   "cell_type": "code",
   "execution_count": 4,
   "metadata": {},
   "outputs": [],
   "source": [
    "import pandas as pd"
   ]
  },
  {
   "cell_type": "code",
   "execution_count": 6,
   "metadata": {},
   "outputs": [],
   "source": [
    "import matplotlib.pyplot as plt"
   ]
  },
  {
   "cell_type": "code",
   "execution_count": null,
   "metadata": {},
   "outputs": [],
   "source": []
  }
 ],
 "metadata": {
  "kernelspec": {
   "display_name": "Python 3",
   "language": "python",
   "name": "python3"
  },
  "language_info": {
   "codemirror_mode": {
    "name": "ipython",
    "version": 3
   },
   "file_extension": ".py",
   "mimetype": "text/x-python",
   "name": "python",
   "nbconvert_exporter": "python",
   "pygments_lexer": "ipython3",
   "version": "3.7.1"
  }
 },
 "nbformat": 4,
 "nbformat_minor": 2
}
