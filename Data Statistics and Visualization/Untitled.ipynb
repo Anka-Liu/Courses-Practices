{
 "cells": [
  {
   "cell_type": "code",
   "execution_count": 1,
   "metadata": {
    "ExecuteTime": {
     "end_time": "2020-02-14T22:04:55.276897Z",
     "start_time": "2020-02-14T22:04:53.493193Z"
    }
   },
   "outputs": [],
   "source": [
    "from tweepy.streaming import StreamListener\n",
    "from tweepy import OAuthHandler\n",
    "from tweepy import Stream\n",
    "from tweepy import API\n",
    "from tweepy import Cursor\n",
    "import pandas as pd\n",
    "import numpy as np\n",
    "import matplotlib.pyplot as plt\n",
    "import re"
   ]
  },
  {
   "cell_type": "code",
   "execution_count": 19,
   "metadata": {
    "ExecuteTime": {
     "end_time": "2020-02-14T22:36:23.253850Z",
     "start_time": "2020-02-14T22:36:23.247791Z"
    }
   },
   "outputs": [],
   "source": [
    "ACCESS_TOKEN = '1228185935650537480-SVcIHegEvGQS55llYXDhuwFeqHgX6I'\n",
    "ACCESS_TOKEN_SECRET = 'jzm8DM1GnTzCpGrS7kjpDZYQS9cSzZJ37OSQf2vO6myA6'\n",
    "CONSUMER_KEY = 'N9rGzmL7XbvgRcSzcXf01oXnc'\n",
    "CONSUMER_SECRET = 'l9zV6owaPjooMu0UQ7gLuh9UnJV2veD91WrTlvGZdY8wr9GVA5'"
   ]
  },
  {
   "cell_type": "code",
   "execution_count": 20,
   "metadata": {
    "ExecuteTime": {
     "end_time": "2020-02-14T22:36:29.675543Z",
     "start_time": "2020-02-14T22:36:29.670557Z"
    }
   },
   "outputs": [],
   "source": [
    "auth = OAuthHandler(CONSUMER_KEY, CONSUMER_SECRET)\n",
    "auth.set_access_token(ACCESS_TOKEN, ACCESS_TOKEN_SECRET)"
   ]
  },
  {
   "cell_type": "code",
   "execution_count": 39,
   "metadata": {
    "ExecuteTime": {
     "end_time": "2020-02-14T22:52:30.278951Z",
     "start_time": "2020-02-14T22:52:29.968596Z"
    }
   },
   "outputs": [],
   "source": [
    "twitter_client = API(auth)\n",
    "twitter_user = \"uscmarshall\"\n",
    "num_tweets = 20\n",
    "num_friends = 3\n",
    "\n",
    "search=twitter_client.user_timeline(id=twitter_user,count=20,tweet_mode=\"extended\")\n",
    "new=[[tweet.full_text] for tweet in search]"
   ]
  },
  {
   "cell_type": "code",
   "execution_count": 51,
   "metadata": {
    "ExecuteTime": {
     "end_time": "2020-02-15T00:00:51.598234Z",
     "start_time": "2020-02-15T00:00:51.585742Z"
    }
   },
   "outputs": [
    {
     "data": {
      "text/plain": [
       "Status(_api=<tweepy.api.API object at 0x000001C8A6B4D308>, _json={'created_at': 'Fri Feb 14 11:45:58 +0000 2020', 'id': 1228284243949867013, 'id_str': '1228284243949867013', 'full_text': 'RT @voxeu: A new study by @ProfJoaoGomes @Wharton Mete Kilic, @USCMarshall &amp; Sebastien Plante @UWBusiness examines the impact of a joint re…', 'truncated': False, 'display_text_range': [0, 144], 'entities': {'hashtags': [], 'symbols': [], 'user_mentions': [{'screen_name': 'voxeu', 'name': 'VoxEU', 'id': 15342208, 'id_str': '15342208', 'indices': [3, 9]}, {'screen_name': 'ProfJoaoGomes', 'name': 'Joao Gomes', 'id': 2562041893, 'id_str': '2562041893', 'indices': [26, 40]}, {'screen_name': 'Wharton', 'name': 'Wharton School', 'id': 7717612, 'id_str': '7717612', 'indices': [41, 49]}, {'screen_name': 'USCMarshall', 'name': 'USC Marshall', 'id': 161475427, 'id_str': '161475427', 'indices': [62, 74]}, {'screen_name': 'UWBusiness', 'name': 'Wisconsin School of Business', 'id': 84362048, 'id_str': '84362048', 'indices': [98, 109]}], 'urls': []}, 'source': '<a href=\"http://twitter.com/download/iphone\" rel=\"nofollow\">Twitter for iPhone</a>', 'in_reply_to_status_id': None, 'in_reply_to_status_id_str': None, 'in_reply_to_user_id': None, 'in_reply_to_user_id_str': None, 'in_reply_to_screen_name': None, 'user': {'id': 161475427, 'id_str': '161475427', 'name': 'USC Marshall', 'screen_name': 'USCMarshall', 'location': 'Los Angeles', 'description': 'The official Twitter account of the USC Marshall School of Business #USCMarshall | Instagram @USCMarshall', 'url': 'http://t.co/6JAJAxudsC', 'entities': {'url': {'urls': [{'url': 'http://t.co/6JAJAxudsC', 'expanded_url': 'http://marshall.usc.edu/', 'display_url': 'marshall.usc.edu', 'indices': [0, 22]}]}, 'description': {'urls': []}}, 'protected': False, 'followers_count': 8852, 'friends_count': 861, 'listed_count': 274, 'created_at': 'Wed Jun 30 23:28:31 +0000 2010', 'favourites_count': 3127, 'utc_offset': None, 'time_zone': None, 'geo_enabled': False, 'verified': True, 'statuses_count': 3260, 'lang': None, 'contributors_enabled': False, 'is_translator': False, 'is_translation_enabled': False, 'profile_background_color': '990000', 'profile_background_image_url': 'http://abs.twimg.com/images/themes/theme1/bg.png', 'profile_background_image_url_https': 'https://abs.twimg.com/images/themes/theme1/bg.png', 'profile_background_tile': True, 'profile_image_url': 'http://pbs.twimg.com/profile_images/877683375024111616/25WAv-1W_normal.jpg', 'profile_image_url_https': 'https://pbs.twimg.com/profile_images/877683375024111616/25WAv-1W_normal.jpg', 'profile_banner_url': 'https://pbs.twimg.com/profile_banners/161475427/1531259800', 'profile_link_color': '990000', 'profile_sidebar_border_color': 'FFCC00', 'profile_sidebar_fill_color': 'FCF4C5', 'profile_text_color': '000000', 'profile_use_background_image': True, 'has_extended_profile': False, 'default_profile': False, 'default_profile_image': False, 'following': False, 'follow_request_sent': False, 'notifications': False, 'translator_type': 'none'}, 'geo': None, 'coordinates': None, 'place': None, 'contributors': None, 'retweeted_status': {'created_at': 'Tue Feb 11 13:35:04 +0000 2020', 'id': 1227224534224441345, 'id_str': '1227224534224441345', 'full_text': 'A new study by @ProfJoaoGomes @Wharton Mete Kilic, @USCMarshall &amp; Sebastien Plante @UWBusiness examines the impact of a joint resolution of US #Congress in June 1933 that invalidated gold clauses, which allowed for repayment in #Gold as well as paper - https://t.co/tBIUpwkGwv https://t.co/NCkkv8Cx04', 'truncated': False, 'display_text_range': [0, 280], 'entities': {'hashtags': [{'text': 'Congress', 'indices': [147, 156]}, {'text': 'Gold', 'indices': [232, 237]}], 'symbols': [], 'user_mentions': [{'screen_name': 'ProfJoaoGomes', 'name': 'Joao Gomes', 'id': 2562041893, 'id_str': '2562041893', 'indices': [15, 29]}, {'screen_name': 'Wharton', 'name': 'Wharton School', 'id': 7717612, 'id_str': '7717612', 'indices': [30, 38]}, {'screen_name': 'USCMarshall', 'name': 'USC Marshall', 'id': 161475427, 'id_str': '161475427', 'indices': [51, 63]}, {'screen_name': 'UWBusiness', 'name': 'Wisconsin School of Business', 'id': 84362048, 'id_str': '84362048', 'indices': [87, 98]}], 'urls': [{'url': 'https://t.co/tBIUpwkGwv', 'expanded_url': 'http://ow.ly/GBQu50yjctH', 'display_url': 'ow.ly/GBQu50yjctH', 'indices': [257, 280]}], 'media': [{'id': 1227224531875631105, 'id_str': '1227224531875631105', 'indices': [281, 304], 'media_url': 'http://pbs.twimg.com/media/EQf6NaoXkAE9Vid.jpg', 'media_url_https': 'https://pbs.twimg.com/media/EQf6NaoXkAE9Vid.jpg', 'url': 'https://t.co/NCkkv8Cx04', 'display_url': 'pic.twitter.com/NCkkv8Cx04', 'expanded_url': 'https://twitter.com/voxeu/status/1227224534224441345/photo/1', 'type': 'photo', 'sizes': {'thumb': {'w': 150, 'h': 150, 'resize': 'crop'}, 'medium': {'w': 1200, 'h': 670, 'resize': 'fit'}, 'small': {'w': 680, 'h': 380, 'resize': 'fit'}, 'large': {'w': 1200, 'h': 670, 'resize': 'fit'}}}]}, 'extended_entities': {'media': [{'id': 1227224531875631105, 'id_str': '1227224531875631105', 'indices': [281, 304], 'media_url': 'http://pbs.twimg.com/media/EQf6NaoXkAE9Vid.jpg', 'media_url_https': 'https://pbs.twimg.com/media/EQf6NaoXkAE9Vid.jpg', 'url': 'https://t.co/NCkkv8Cx04', 'display_url': 'pic.twitter.com/NCkkv8Cx04', 'expanded_url': 'https://twitter.com/voxeu/status/1227224534224441345/photo/1', 'type': 'photo', 'sizes': {'thumb': {'w': 150, 'h': 150, 'resize': 'crop'}, 'medium': {'w': 1200, 'h': 670, 'resize': 'fit'}, 'small': {'w': 680, 'h': 380, 'resize': 'fit'}, 'large': {'w': 1200, 'h': 670, 'resize': 'fit'}}}]}, 'source': '<a href=\"https://www.hootsuite.com\" rel=\"nofollow\">Hootsuite Inc.</a>', 'in_reply_to_status_id': None, 'in_reply_to_status_id_str': None, 'in_reply_to_user_id': None, 'in_reply_to_user_id_str': None, 'in_reply_to_screen_name': None, 'user': {'id': 15342208, 'id_str': '15342208', 'name': 'VoxEU', 'screen_name': 'voxeu', 'location': 'London, United Kingdom', 'description': 'VoxEU is a policy portal run by @cepr_org. It posts research based policy analysis from leading economists.\\nVisit our development economics branch @vox_dev', 'url': 'https://t.co/eUVvc5ifCW', 'entities': {'url': {'urls': [{'url': 'https://t.co/eUVvc5ifCW', 'expanded_url': 'http://www.voxeu.org', 'display_url': 'voxeu.org', 'indices': [0, 23]}]}, 'description': {'urls': []}}, 'protected': False, 'followers_count': 36580, 'friends_count': 100, 'listed_count': 1466, 'created_at': 'Mon Jul 07 14:16:15 +0000 2008', 'favourites_count': 1806, 'utc_offset': None, 'time_zone': None, 'geo_enabled': False, 'verified': False, 'statuses_count': 19536, 'lang': None, 'contributors_enabled': False, 'is_translator': False, 'is_translation_enabled': False, 'profile_background_color': 'FFFFFF', 'profile_background_image_url': 'http://abs.twimg.com/images/themes/theme1/bg.png', 'profile_background_image_url_https': 'https://abs.twimg.com/images/themes/theme1/bg.png', 'profile_background_tile': True, 'profile_image_url': 'http://pbs.twimg.com/profile_images/875642116650573825/RTmduaQ4_normal.jpg', 'profile_image_url_https': 'https://pbs.twimg.com/profile_images/875642116650573825/RTmduaQ4_normal.jpg', 'profile_banner_url': 'https://pbs.twimg.com/profile_banners/15342208/1571152567', 'profile_link_color': 'E95A0B', 'profile_sidebar_border_color': '0027B2', 'profile_sidebar_fill_color': '8ABCD5', 'profile_text_color': '000000', 'profile_use_background_image': True, 'has_extended_profile': False, 'default_profile': False, 'default_profile_image': False, 'following': False, 'follow_request_sent': False, 'notifications': False, 'translator_type': 'none'}, 'geo': None, 'coordinates': None, 'place': None, 'contributors': None, 'is_quote_status': False, 'retweet_count': 4, 'favorite_count': 4, 'favorited': False, 'retweeted': False, 'possibly_sensitive': False, 'lang': 'en'}, 'is_quote_status': False, 'retweet_count': 4, 'favorite_count': 0, 'favorited': False, 'retweeted': False, 'lang': 'en'}, created_at=datetime.datetime(2020, 2, 14, 11, 45, 58), id=1228284243949867013, id_str='1228284243949867013', full_text='RT @voxeu: A new study by @ProfJoaoGomes @Wharton Mete Kilic, @USCMarshall &amp; Sebastien Plante @UWBusiness examines the impact of a joint re…', truncated=False, display_text_range=[0, 144], entities={'hashtags': [], 'symbols': [], 'user_mentions': [{'screen_name': 'voxeu', 'name': 'VoxEU', 'id': 15342208, 'id_str': '15342208', 'indices': [3, 9]}, {'screen_name': 'ProfJoaoGomes', 'name': 'Joao Gomes', 'id': 2562041893, 'id_str': '2562041893', 'indices': [26, 40]}, {'screen_name': 'Wharton', 'name': 'Wharton School', 'id': 7717612, 'id_str': '7717612', 'indices': [41, 49]}, {'screen_name': 'USCMarshall', 'name': 'USC Marshall', 'id': 161475427, 'id_str': '161475427', 'indices': [62, 74]}, {'screen_name': 'UWBusiness', 'name': 'Wisconsin School of Business', 'id': 84362048, 'id_str': '84362048', 'indices': [98, 109]}], 'urls': []}, source='Twitter for iPhone', source_url='http://twitter.com/download/iphone', in_reply_to_status_id=None, in_reply_to_status_id_str=None, in_reply_to_user_id=None, in_reply_to_user_id_str=None, in_reply_to_screen_name=None, author=User(_api=<tweepy.api.API object at 0x000001C8A6B4D308>, _json={'id': 161475427, 'id_str': '161475427', 'name': 'USC Marshall', 'screen_name': 'USCMarshall', 'location': 'Los Angeles', 'description': 'The official Twitter account of the USC Marshall School of Business #USCMarshall | Instagram @USCMarshall', 'url': 'http://t.co/6JAJAxudsC', 'entities': {'url': {'urls': [{'url': 'http://t.co/6JAJAxudsC', 'expanded_url': 'http://marshall.usc.edu/', 'display_url': 'marshall.usc.edu', 'indices': [0, 22]}]}, 'description': {'urls': []}}, 'protected': False, 'followers_count': 8852, 'friends_count': 861, 'listed_count': 274, 'created_at': 'Wed Jun 30 23:28:31 +0000 2010', 'favourites_count': 3127, 'utc_offset': None, 'time_zone': None, 'geo_enabled': False, 'verified': True, 'statuses_count': 3260, 'lang': None, 'contributors_enabled': False, 'is_translator': False, 'is_translation_enabled': False, 'profile_background_color': '990000', 'profile_background_image_url': 'http://abs.twimg.com/images/themes/theme1/bg.png', 'profile_background_image_url_https': 'https://abs.twimg.com/images/themes/theme1/bg.png', 'profile_background_tile': True, 'profile_image_url': 'http://pbs.twimg.com/profile_images/877683375024111616/25WAv-1W_normal.jpg', 'profile_image_url_https': 'https://pbs.twimg.com/profile_images/877683375024111616/25WAv-1W_normal.jpg', 'profile_banner_url': 'https://pbs.twimg.com/profile_banners/161475427/1531259800', 'profile_link_color': '990000', 'profile_sidebar_border_color': 'FFCC00', 'profile_sidebar_fill_color': 'FCF4C5', 'profile_text_color': '000000', 'profile_use_background_image': True, 'has_extended_profile': False, 'default_profile': False, 'default_profile_image': False, 'following': False, 'follow_request_sent': False, 'notifications': False, 'translator_type': 'none'}, id=161475427, id_str='161475427', name='USC Marshall', screen_name='USCMarshall', location='Los Angeles', description='The official Twitter account of the USC Marshall School of Business #USCMarshall | Instagram @USCMarshall', url='http://t.co/6JAJAxudsC', entities={'url': {'urls': [{'url': 'http://t.co/6JAJAxudsC', 'expanded_url': 'http://marshall.usc.edu/', 'display_url': 'marshall.usc.edu', 'indices': [0, 22]}]}, 'description': {'urls': []}}, protected=False, followers_count=8852, friends_count=861, listed_count=274, created_at=datetime.datetime(2010, 6, 30, 23, 28, 31), favourites_count=3127, utc_offset=None, time_zone=None, geo_enabled=False, verified=True, statuses_count=3260, lang=None, contributors_enabled=False, is_translator=False, is_translation_enabled=False, profile_background_color='990000', profile_background_image_url='http://abs.twimg.com/images/themes/theme1/bg.png', profile_background_image_url_https='https://abs.twimg.com/images/themes/theme1/bg.png', profile_background_tile=True, profile_image_url='http://pbs.twimg.com/profile_images/877683375024111616/25WAv-1W_normal.jpg', profile_image_url_https='https://pbs.twimg.com/profile_images/877683375024111616/25WAv-1W_normal.jpg', profile_banner_url='https://pbs.twimg.com/profile_banners/161475427/1531259800', profile_link_color='990000', profile_sidebar_border_color='FFCC00', profile_sidebar_fill_color='FCF4C5', profile_text_color='000000', profile_use_background_image=True, has_extended_profile=False, default_profile=False, default_profile_image=False, following=False, follow_request_sent=False, notifications=False, translator_type='none'), user=User(_api=<tweepy.api.API object at 0x000001C8A6B4D308>, _json={'id': 161475427, 'id_str': '161475427', 'name': 'USC Marshall', 'screen_name': 'USCMarshall', 'location': 'Los Angeles', 'description': 'The official Twitter account of the USC Marshall School of Business #USCMarshall | Instagram @USCMarshall', 'url': 'http://t.co/6JAJAxudsC', 'entities': {'url': {'urls': [{'url': 'http://t.co/6JAJAxudsC', 'expanded_url': 'http://marshall.usc.edu/', 'display_url': 'marshall.usc.edu', 'indices': [0, 22]}]}, 'description': {'urls': []}}, 'protected': False, 'followers_count': 8852, 'friends_count': 861, 'listed_count': 274, 'created_at': 'Wed Jun 30 23:28:31 +0000 2010', 'favourites_count': 3127, 'utc_offset': None, 'time_zone': None, 'geo_enabled': False, 'verified': True, 'statuses_count': 3260, 'lang': None, 'contributors_enabled': False, 'is_translator': False, 'is_translation_enabled': False, 'profile_background_color': '990000', 'profile_background_image_url': 'http://abs.twimg.com/images/themes/theme1/bg.png', 'profile_background_image_url_https': 'https://abs.twimg.com/images/themes/theme1/bg.png', 'profile_background_tile': True, 'profile_image_url': 'http://pbs.twimg.com/profile_images/877683375024111616/25WAv-1W_normal.jpg', 'profile_image_url_https': 'https://pbs.twimg.com/profile_images/877683375024111616/25WAv-1W_normal.jpg', 'profile_banner_url': 'https://pbs.twimg.com/profile_banners/161475427/1531259800', 'profile_link_color': '990000', 'profile_sidebar_border_color': 'FFCC00', 'profile_sidebar_fill_color': 'FCF4C5', 'profile_text_color': '000000', 'profile_use_background_image': True, 'has_extended_profile': False, 'default_profile': False, 'default_profile_image': False, 'following': False, 'follow_request_sent': False, 'notifications': False, 'translator_type': 'none'}, id=161475427, id_str='161475427', name='USC Marshall', screen_name='USCMarshall', location='Los Angeles', description='The official Twitter account of the USC Marshall School of Business #USCMarshall | Instagram @USCMarshall', url='http://t.co/6JAJAxudsC', entities={'url': {'urls': [{'url': 'http://t.co/6JAJAxudsC', 'expanded_url': 'http://marshall.usc.edu/', 'display_url': 'marshall.usc.edu', 'indices': [0, 22]}]}, 'description': {'urls': []}}, protected=False, followers_count=8852, friends_count=861, listed_count=274, created_at=datetime.datetime(2010, 6, 30, 23, 28, 31), favourites_count=3127, utc_offset=None, time_zone=None, geo_enabled=False, verified=True, statuses_count=3260, lang=None, contributors_enabled=False, is_translator=False, is_translation_enabled=False, profile_background_color='990000', profile_background_image_url='http://abs.twimg.com/images/themes/theme1/bg.png', profile_background_image_url_https='https://abs.twimg.com/images/themes/theme1/bg.png', profile_background_tile=True, profile_image_url='http://pbs.twimg.com/profile_images/877683375024111616/25WAv-1W_normal.jpg', profile_image_url_https='https://pbs.twimg.com/profile_images/877683375024111616/25WAv-1W_normal.jpg', profile_banner_url='https://pbs.twimg.com/profile_banners/161475427/1531259800', profile_link_color='990000', profile_sidebar_border_color='FFCC00', profile_sidebar_fill_color='FCF4C5', profile_text_color='000000', profile_use_background_image=True, has_extended_profile=False, default_profile=False, default_profile_image=False, following=False, follow_request_sent=False, notifications=False, translator_type='none'), geo=None, coordinates=None, place=None, contributors=None, retweeted_status=Status(_api=<tweepy.api.API object at 0x000001C8A6B4D308>, _json={'created_at': 'Tue Feb 11 13:35:04 +0000 2020', 'id': 1227224534224441345, 'id_str': '1227224534224441345', 'full_text': 'A new study by @ProfJoaoGomes @Wharton Mete Kilic, @USCMarshall &amp; Sebastien Plante @UWBusiness examines the impact of a joint resolution of US #Congress in June 1933 that invalidated gold clauses, which allowed for repayment in #Gold as well as paper - https://t.co/tBIUpwkGwv https://t.co/NCkkv8Cx04', 'truncated': False, 'display_text_range': [0, 280], 'entities': {'hashtags': [{'text': 'Congress', 'indices': [147, 156]}, {'text': 'Gold', 'indices': [232, 237]}], 'symbols': [], 'user_mentions': [{'screen_name': 'ProfJoaoGomes', 'name': 'Joao Gomes', 'id': 2562041893, 'id_str': '2562041893', 'indices': [15, 29]}, {'screen_name': 'Wharton', 'name': 'Wharton School', 'id': 7717612, 'id_str': '7717612', 'indices': [30, 38]}, {'screen_name': 'USCMarshall', 'name': 'USC Marshall', 'id': 161475427, 'id_str': '161475427', 'indices': [51, 63]}, {'screen_name': 'UWBusiness', 'name': 'Wisconsin School of Business', 'id': 84362048, 'id_str': '84362048', 'indices': [87, 98]}], 'urls': [{'url': 'https://t.co/tBIUpwkGwv', 'expanded_url': 'http://ow.ly/GBQu50yjctH', 'display_url': 'ow.ly/GBQu50yjctH', 'indices': [257, 280]}], 'media': [{'id': 1227224531875631105, 'id_str': '1227224531875631105', 'indices': [281, 304], 'media_url': 'http://pbs.twimg.com/media/EQf6NaoXkAE9Vid.jpg', 'media_url_https': 'https://pbs.twimg.com/media/EQf6NaoXkAE9Vid.jpg', 'url': 'https://t.co/NCkkv8Cx04', 'display_url': 'pic.twitter.com/NCkkv8Cx04', 'expanded_url': 'https://twitter.com/voxeu/status/1227224534224441345/photo/1', 'type': 'photo', 'sizes': {'thumb': {'w': 150, 'h': 150, 'resize': 'crop'}, 'medium': {'w': 1200, 'h': 670, 'resize': 'fit'}, 'small': {'w': 680, 'h': 380, 'resize': 'fit'}, 'large': {'w': 1200, 'h': 670, 'resize': 'fit'}}}]}, 'extended_entities': {'media': [{'id': 1227224531875631105, 'id_str': '1227224531875631105', 'indices': [281, 304], 'media_url': 'http://pbs.twimg.com/media/EQf6NaoXkAE9Vid.jpg', 'media_url_https': 'https://pbs.twimg.com/media/EQf6NaoXkAE9Vid.jpg', 'url': 'https://t.co/NCkkv8Cx04', 'display_url': 'pic.twitter.com/NCkkv8Cx04', 'expanded_url': 'https://twitter.com/voxeu/status/1227224534224441345/photo/1', 'type': 'photo', 'sizes': {'thumb': {'w': 150, 'h': 150, 'resize': 'crop'}, 'medium': {'w': 1200, 'h': 670, 'resize': 'fit'}, 'small': {'w': 680, 'h': 380, 'resize': 'fit'}, 'large': {'w': 1200, 'h': 670, 'resize': 'fit'}}}]}, 'source': '<a href=\"https://www.hootsuite.com\" rel=\"nofollow\">Hootsuite Inc.</a>', 'in_reply_to_status_id': None, 'in_reply_to_status_id_str': None, 'in_reply_to_user_id': None, 'in_reply_to_user_id_str': None, 'in_reply_to_screen_name': None, 'user': {'id': 15342208, 'id_str': '15342208', 'name': 'VoxEU', 'screen_name': 'voxeu', 'location': 'London, United Kingdom', 'description': 'VoxEU is a policy portal run by @cepr_org. It posts research based policy analysis from leading economists.\\nVisit our development economics branch @vox_dev', 'url': 'https://t.co/eUVvc5ifCW', 'entities': {'url': {'urls': [{'url': 'https://t.co/eUVvc5ifCW', 'expanded_url': 'http://www.voxeu.org', 'display_url': 'voxeu.org', 'indices': [0, 23]}]}, 'description': {'urls': []}}, 'protected': False, 'followers_count': 36580, 'friends_count': 100, 'listed_count': 1466, 'created_at': 'Mon Jul 07 14:16:15 +0000 2008', 'favourites_count': 1806, 'utc_offset': None, 'time_zone': None, 'geo_enabled': False, 'verified': False, 'statuses_count': 19536, 'lang': None, 'contributors_enabled': False, 'is_translator': False, 'is_translation_enabled': False, 'profile_background_color': 'FFFFFF', 'profile_background_image_url': 'http://abs.twimg.com/images/themes/theme1/bg.png', 'profile_background_image_url_https': 'https://abs.twimg.com/images/themes/theme1/bg.png', 'profile_background_tile': True, 'profile_image_url': 'http://pbs.twimg.com/profile_images/875642116650573825/RTmduaQ4_normal.jpg', 'profile_image_url_https': 'https://pbs.twimg.com/profile_images/875642116650573825/RTmduaQ4_normal.jpg', 'profile_banner_url': 'https://pbs.twimg.com/profile_banners/15342208/1571152567', 'profile_link_color': 'E95A0B', 'profile_sidebar_border_color': '0027B2', 'profile_sidebar_fill_color': '8ABCD5', 'profile_text_color': '000000', 'profile_use_background_image': True, 'has_extended_profile': False, 'default_profile': False, 'default_profile_image': False, 'following': False, 'follow_request_sent': False, 'notifications': False, 'translator_type': 'none'}, 'geo': None, 'coordinates': None, 'place': None, 'contributors': None, 'is_quote_status': False, 'retweet_count': 4, 'favorite_count': 4, 'favorited': False, 'retweeted': False, 'possibly_sensitive': False, 'lang': 'en'}, created_at=datetime.datetime(2020, 2, 11, 13, 35, 4), id=1227224534224441345, id_str='1227224534224441345', full_text='A new study by @ProfJoaoGomes @Wharton Mete Kilic, @USCMarshall &amp; Sebastien Plante @UWBusiness examines the impact of a joint resolution of US #Congress in June 1933 that invalidated gold clauses, which allowed for repayment in #Gold as well as paper - https://t.co/tBIUpwkGwv https://t.co/NCkkv8Cx04', truncated=False, display_text_range=[0, 280], entities={'hashtags': [{'text': 'Congress', 'indices': [147, 156]}, {'text': 'Gold', 'indices': [232, 237]}], 'symbols': [], 'user_mentions': [{'screen_name': 'ProfJoaoGomes', 'name': 'Joao Gomes', 'id': 2562041893, 'id_str': '2562041893', 'indices': [15, 29]}, {'screen_name': 'Wharton', 'name': 'Wharton School', 'id': 7717612, 'id_str': '7717612', 'indices': [30, 38]}, {'screen_name': 'USCMarshall', 'name': 'USC Marshall', 'id': 161475427, 'id_str': '161475427', 'indices': [51, 63]}, {'screen_name': 'UWBusiness', 'name': 'Wisconsin School of Business', 'id': 84362048, 'id_str': '84362048', 'indices': [87, 98]}], 'urls': [{'url': 'https://t.co/tBIUpwkGwv', 'expanded_url': 'http://ow.ly/GBQu50yjctH', 'display_url': 'ow.ly/GBQu50yjctH', 'indices': [257, 280]}], 'media': [{'id': 1227224531875631105, 'id_str': '1227224531875631105', 'indices': [281, 304], 'media_url': 'http://pbs.twimg.com/media/EQf6NaoXkAE9Vid.jpg', 'media_url_https': 'https://pbs.twimg.com/media/EQf6NaoXkAE9Vid.jpg', 'url': 'https://t.co/NCkkv8Cx04', 'display_url': 'pic.twitter.com/NCkkv8Cx04', 'expanded_url': 'https://twitter.com/voxeu/status/1227224534224441345/photo/1', 'type': 'photo', 'sizes': {'thumb': {'w': 150, 'h': 150, 'resize': 'crop'}, 'medium': {'w': 1200, 'h': 670, 'resize': 'fit'}, 'small': {'w': 680, 'h': 380, 'resize': 'fit'}, 'large': {'w': 1200, 'h': 670, 'resize': 'fit'}}}]}, extended_entities={'media': [{'id': 1227224531875631105, 'id_str': '1227224531875631105', 'indices': [281, 304], 'media_url': 'http://pbs.twimg.com/media/EQf6NaoXkAE9Vid.jpg', 'media_url_https': 'https://pbs.twimg.com/media/EQf6NaoXkAE9Vid.jpg', 'url': 'https://t.co/NCkkv8Cx04', 'display_url': 'pic.twitter.com/NCkkv8Cx04', 'expanded_url': 'https://twitter.com/voxeu/status/1227224534224441345/photo/1', 'type': 'photo', 'sizes': {'thumb': {'w': 150, 'h': 150, 'resize': 'crop'}, 'medium': {'w': 1200, 'h': 670, 'resize': 'fit'}, 'small': {'w': 680, 'h': 380, 'resize': 'fit'}, 'large': {'w': 1200, 'h': 670, 'resize': 'fit'}}}]}, source='Hootsuite Inc.', source_url='https://www.hootsuite.com', in_reply_to_status_id=None, in_reply_to_status_id_str=None, in_reply_to_user_id=None, in_reply_to_user_id_str=None, in_reply_to_screen_name=None, author=User(_api=<tweepy.api.API object at 0x000001C8A6B4D308>, _json={'id': 15342208, 'id_str': '15342208', 'name': 'VoxEU', 'screen_name': 'voxeu', 'location': 'London, United Kingdom', 'description': 'VoxEU is a policy portal run by @cepr_org. It posts research based policy analysis from leading economists.\\nVisit our development economics branch @vox_dev', 'url': 'https://t.co/eUVvc5ifCW', 'entities': {'url': {'urls': [{'url': 'https://t.co/eUVvc5ifCW', 'expanded_url': 'http://www.voxeu.org', 'display_url': 'voxeu.org', 'indices': [0, 23]}]}, 'description': {'urls': []}}, 'protected': False, 'followers_count': 36580, 'friends_count': 100, 'listed_count': 1466, 'created_at': 'Mon Jul 07 14:16:15 +0000 2008', 'favourites_count': 1806, 'utc_offset': None, 'time_zone': None, 'geo_enabled': False, 'verified': False, 'statuses_count': 19536, 'lang': None, 'contributors_enabled': False, 'is_translator': False, 'is_translation_enabled': False, 'profile_background_color': 'FFFFFF', 'profile_background_image_url': 'http://abs.twimg.com/images/themes/theme1/bg.png', 'profile_background_image_url_https': 'https://abs.twimg.com/images/themes/theme1/bg.png', 'profile_background_tile': True, 'profile_image_url': 'http://pbs.twimg.com/profile_images/875642116650573825/RTmduaQ4_normal.jpg', 'profile_image_url_https': 'https://pbs.twimg.com/profile_images/875642116650573825/RTmduaQ4_normal.jpg', 'profile_banner_url': 'https://pbs.twimg.com/profile_banners/15342208/1571152567', 'profile_link_color': 'E95A0B', 'profile_sidebar_border_color': '0027B2', 'profile_sidebar_fill_color': '8ABCD5', 'profile_text_color': '000000', 'profile_use_background_image': True, 'has_extended_profile': False, 'default_profile': False, 'default_profile_image': False, 'following': False, 'follow_request_sent': False, 'notifications': False, 'translator_type': 'none'}, id=15342208, id_str='15342208', name='VoxEU', screen_name='voxeu', location='London, United Kingdom', description='VoxEU is a policy portal run by @cepr_org. It posts research based policy analysis from leading economists.\\nVisit our development economics branch @vox_dev', url='https://t.co/eUVvc5ifCW', entities={'url': {'urls': [{'url': 'https://t.co/eUVvc5ifCW', 'expanded_url': 'http://www.voxeu.org', 'display_url': 'voxeu.org', 'indices': [0, 23]}]}, 'description': {'urls': []}}, protected=False, followers_count=36580, friends_count=100, listed_count=1466, created_at=datetime.datetime(2008, 7, 7, 14, 16, 15), favourites_count=1806, utc_offset=None, time_zone=None, geo_enabled=False, verified=False, statuses_count=19536, lang=None, contributors_enabled=False, is_translator=False, is_translation_enabled=False, profile_background_color='FFFFFF', profile_background_image_url='http://abs.twimg.com/images/themes/theme1/bg.png', profile_background_image_url_https='https://abs.twimg.com/images/themes/theme1/bg.png', profile_background_tile=True, profile_image_url='http://pbs.twimg.com/profile_images/875642116650573825/RTmduaQ4_normal.jpg', profile_image_url_https='https://pbs.twimg.com/profile_images/875642116650573825/RTmduaQ4_normal.jpg', profile_banner_url='https://pbs.twimg.com/profile_banners/15342208/1571152567', profile_link_color='E95A0B', profile_sidebar_border_color='0027B2', profile_sidebar_fill_color='8ABCD5', profile_text_color='000000', profile_use_background_image=True, has_extended_profile=False, default_profile=False, default_profile_image=False, following=False, follow_request_sent=False, notifications=False, translator_type='none'), user=User(_api=<tweepy.api.API object at 0x000001C8A6B4D308>, _json={'id': 15342208, 'id_str': '15342208', 'name': 'VoxEU', 'screen_name': 'voxeu', 'location': 'London, United Kingdom', 'description': 'VoxEU is a policy portal run by @cepr_org. It posts research based policy analysis from leading economists.\\nVisit our development economics branch @vox_dev', 'url': 'https://t.co/eUVvc5ifCW', 'entities': {'url': {'urls': [{'url': 'https://t.co/eUVvc5ifCW', 'expanded_url': 'http://www.voxeu.org', 'display_url': 'voxeu.org', 'indices': [0, 23]}]}, 'description': {'urls': []}}, 'protected': False, 'followers_count': 36580, 'friends_count': 100, 'listed_count': 1466, 'created_at': 'Mon Jul 07 14:16:15 +0000 2008', 'favourites_count': 1806, 'utc_offset': None, 'time_zone': None, 'geo_enabled': False, 'verified': False, 'statuses_count': 19536, 'lang': None, 'contributors_enabled': False, 'is_translator': False, 'is_translation_enabled': False, 'profile_background_color': 'FFFFFF', 'profile_background_image_url': 'http://abs.twimg.com/images/themes/theme1/bg.png', 'profile_background_image_url_https': 'https://abs.twimg.com/images/themes/theme1/bg.png', 'profile_background_tile': True, 'profile_image_url': 'http://pbs.twimg.com/profile_images/875642116650573825/RTmduaQ4_normal.jpg', 'profile_image_url_https': 'https://pbs.twimg.com/profile_images/875642116650573825/RTmduaQ4_normal.jpg', 'profile_banner_url': 'https://pbs.twimg.com/profile_banners/15342208/1571152567', 'profile_link_color': 'E95A0B', 'profile_sidebar_border_color': '0027B2', 'profile_sidebar_fill_color': '8ABCD5', 'profile_text_color': '000000', 'profile_use_background_image': True, 'has_extended_profile': False, 'default_profile': False, 'default_profile_image': False, 'following': False, 'follow_request_sent': False, 'notifications': False, 'translator_type': 'none'}, id=15342208, id_str='15342208', name='VoxEU', screen_name='voxeu', location='London, United Kingdom', description='VoxEU is a policy portal run by @cepr_org. It posts research based policy analysis from leading economists.\\nVisit our development economics branch @vox_dev', url='https://t.co/eUVvc5ifCW', entities={'url': {'urls': [{'url': 'https://t.co/eUVvc5ifCW', 'expanded_url': 'http://www.voxeu.org', 'display_url': 'voxeu.org', 'indices': [0, 23]}]}, 'description': {'urls': []}}, protected=False, followers_count=36580, friends_count=100, listed_count=1466, created_at=datetime.datetime(2008, 7, 7, 14, 16, 15), favourites_count=1806, utc_offset=None, time_zone=None, geo_enabled=False, verified=False, statuses_count=19536, lang=None, contributors_enabled=False, is_translator=False, is_translation_enabled=False, profile_background_color='FFFFFF', profile_background_image_url='http://abs.twimg.com/images/themes/theme1/bg.png', profile_background_image_url_https='https://abs.twimg.com/images/themes/theme1/bg.png', profile_background_tile=True, profile_image_url='http://pbs.twimg.com/profile_images/875642116650573825/RTmduaQ4_normal.jpg', profile_image_url_https='https://pbs.twimg.com/profile_images/875642116650573825/RTmduaQ4_normal.jpg', profile_banner_url='https://pbs.twimg.com/profile_banners/15342208/1571152567', profile_link_color='E95A0B', profile_sidebar_border_color='0027B2', profile_sidebar_fill_color='8ABCD5', profile_text_color='000000', profile_use_background_image=True, has_extended_profile=False, default_profile=False, default_profile_image=False, following=False, follow_request_sent=False, notifications=False, translator_type='none'), geo=None, coordinates=None, place=None, contributors=None, is_quote_status=False, retweet_count=4, favorite_count=4, favorited=False, retweeted=False, possibly_sensitive=False, lang='en'), is_quote_status=False, retweet_count=4, favorite_count=0, favorited=False, retweeted=False, lang='en')"
      ]
     },
     "execution_count": 51,
     "metadata": {},
     "output_type": "execute_result"
    }
   ],
   "source": [
    "search[0]"
   ]
  },
  {
   "cell_type": "code",
   "execution_count": 29,
   "metadata": {
    "ExecuteTime": {
     "end_time": "2020-02-14T22:43:21.587477Z",
     "start_time": "2020-02-14T22:43:21.579499Z"
    }
   },
   "outputs": [],
   "source": [
    "df = pd.DataFrame(data=[tweet.full_text for tweet in tweets], columns=['tweets'])"
   ]
  },
  {
   "cell_type": "code",
   "execution_count": 30,
   "metadata": {
    "ExecuteTime": {
     "end_time": "2020-02-14T22:43:22.495836Z",
     "start_time": "2020-02-14T22:43:22.487888Z"
    }
   },
   "outputs": [
    {
     "data": {
      "text/plain": [
       "'RT @voxeu: A new study by @ProfJoaoGomes @Wharton Mete Kilic, @USCMarshall &amp; Sebastien Plante @UWBusiness examines the impact of a joint re…'"
      ]
     },
     "execution_count": 30,
     "metadata": {},
     "output_type": "execute_result"
    }
   ],
   "source": [
    "df.iloc[0,0]"
   ]
  },
  {
   "cell_type": "code",
   "execution_count": 32,
   "metadata": {
    "ExecuteTime": {
     "end_time": "2020-02-14T22:44:25.497370Z",
     "start_time": "2020-02-14T22:44:25.490425Z"
    }
   },
   "outputs": [
    {
     "data": {
      "text/html": [
       "<div>\n",
       "<style scoped>\n",
       "    .dataframe tbody tr th:only-of-type {\n",
       "        vertical-align: middle;\n",
       "    }\n",
       "\n",
       "    .dataframe tbody tr th {\n",
       "        vertical-align: top;\n",
       "    }\n",
       "\n",
       "    .dataframe thead th {\n",
       "        text-align: right;\n",
       "    }\n",
       "</style>\n",
       "<table border=\"1\" class=\"dataframe\">\n",
       "  <thead>\n",
       "    <tr style=\"text-align: right;\">\n",
       "      <th></th>\n",
       "      <th>tweets</th>\n",
       "    </tr>\n",
       "  </thead>\n",
       "  <tbody>\n",
       "    <tr>\n",
       "      <th>0</th>\n",
       "      <td>RT @voxeu: A new study by @ProfJoaoGomes @Whar...</td>\n",
       "    </tr>\n",
       "    <tr>\n",
       "      <th>1</th>\n",
       "      <td>Earn your graduate degree from #USC. Applicati...</td>\n",
       "    </tr>\n",
       "    <tr>\n",
       "      <th>2</th>\n",
       "      <td>RT @USCGlobalHealth: A few spots still availab...</td>\n",
       "    </tr>\n",
       "    <tr>\n",
       "      <th>3</th>\n",
       "      <td>.@USCMarshall professor @GregWAutry spoke with...</td>\n",
       "    </tr>\n",
       "    <tr>\n",
       "      <th>4</th>\n",
       "      <td>RT @dotLA: Among the contestants at this year’...</td>\n",
       "    </tr>\n",
       "    <tr>\n",
       "      <th>5</th>\n",
       "      <td>RT @USCGlobalHealth: On Weds Feb 12, Joel Lams...</td>\n",
       "    </tr>\n",
       "    <tr>\n",
       "      <th>6</th>\n",
       "      <td>RT @USCMilitary: A beautiful collaboration. @U...</td>\n",
       "    </tr>\n",
       "    <tr>\n",
       "      <th>7</th>\n",
       "      <td>Now that #academyawards2020 are over, what's t...</td>\n",
       "    </tr>\n",
       "    <tr>\n",
       "      <th>8</th>\n",
       "      <td>RT @ama_journals: We are pleased to announce @...</td>\n",
       "    </tr>\n",
       "    <tr>\n",
       "      <th>9</th>\n",
       "      <td>RT @USCAlumni: Daniel Zakowski '91, CEO of Rea...</td>\n",
       "    </tr>\n",
       "    <tr>\n",
       "      <th>10</th>\n",
       "      <td>RT @FMI_ORG: Turns out younger generations pre...</td>\n",
       "    </tr>\n",
       "    <tr>\n",
       "      <th>11</th>\n",
       "      <td>The online info session for our Masters in Foo...</td>\n",
       "    </tr>\n",
       "    <tr>\n",
       "      <th>12</th>\n",
       "      <td>Later this morning, join @USCMarshall for a ke...</td>\n",
       "    </tr>\n",
       "    <tr>\n",
       "      <th>13</th>\n",
       "      <td>RT @nytimes: 60 years ago, in 1960, 17 countri...</td>\n",
       "    </tr>\n",
       "    <tr>\n",
       "      <th>14</th>\n",
       "      <td>.@USC_GSCM was recently recognized as the top ...</td>\n",
       "    </tr>\n",
       "    <tr>\n",
       "      <th>15</th>\n",
       "      <td>Nick Vyas, director of @USC_GSCM, spoke to @FT...</td>\n",
       "    </tr>\n",
       "    <tr>\n",
       "      <th>16</th>\n",
       "      <td>RT @dailytrojan: Five USC students from @USCIo...</td>\n",
       "    </tr>\n",
       "    <tr>\n",
       "      <th>17</th>\n",
       "      <td>RT @USCGlobalHealth: The @USCGlobalHealth &amp;amp...</td>\n",
       "    </tr>\n",
       "    <tr>\n",
       "      <th>18</th>\n",
       "      <td>Our faculty sets us apart from other programs....</td>\n",
       "    </tr>\n",
       "    <tr>\n",
       "      <th>19</th>\n",
       "      <td>\"Corporate America has arguably become a labor...</td>\n",
       "    </tr>\n",
       "  </tbody>\n",
       "</table>\n",
       "</div>"
      ],
      "text/plain": [
       "                                               tweets\n",
       "0   RT @voxeu: A new study by @ProfJoaoGomes @Whar...\n",
       "1   Earn your graduate degree from #USC. Applicati...\n",
       "2   RT @USCGlobalHealth: A few spots still availab...\n",
       "3   .@USCMarshall professor @GregWAutry spoke with...\n",
       "4   RT @dotLA: Among the contestants at this year’...\n",
       "5   RT @USCGlobalHealth: On Weds Feb 12, Joel Lams...\n",
       "6   RT @USCMilitary: A beautiful collaboration. @U...\n",
       "7   Now that #academyawards2020 are over, what's t...\n",
       "8   RT @ama_journals: We are pleased to announce @...\n",
       "9   RT @USCAlumni: Daniel Zakowski '91, CEO of Rea...\n",
       "10  RT @FMI_ORG: Turns out younger generations pre...\n",
       "11  The online info session for our Masters in Foo...\n",
       "12  Later this morning, join @USCMarshall for a ke...\n",
       "13  RT @nytimes: 60 years ago, in 1960, 17 countri...\n",
       "14  .@USC_GSCM was recently recognized as the top ...\n",
       "15  Nick Vyas, director of @USC_GSCM, spoke to @FT...\n",
       "16  RT @dailytrojan: Five USC students from @USCIo...\n",
       "17  RT @USCGlobalHealth: The @USCGlobalHealth &amp...\n",
       "18  Our faculty sets us apart from other programs....\n",
       "19  \"Corporate America has arguably become a labor..."
      ]
     },
     "execution_count": 32,
     "metadata": {},
     "output_type": "execute_result"
    }
   ],
   "source": [
    "df"
   ]
  },
  {
   "cell_type": "code",
   "execution_count": 58,
   "metadata": {
    "ExecuteTime": {
     "end_time": "2020-02-15T00:34:46.486286Z",
     "start_time": "2020-02-15T00:34:45.804071Z"
    }
   },
   "outputs": [],
   "source": [
    "Ford=twitter_client.search(q='Ford Motor Company',count=1000)"
   ]
  },
  {
   "cell_type": "code",
   "execution_count": 59,
   "metadata": {
    "ExecuteTime": {
     "end_time": "2020-02-15T00:34:47.227784Z",
     "start_time": "2020-02-15T00:34:47.218816Z"
    }
   },
   "outputs": [
    {
     "data": {
      "text/plain": [
       "100"
      ]
     },
     "execution_count": 59,
     "metadata": {},
     "output_type": "execute_result"
    }
   ],
   "source": [
    "len(Ford)"
   ]
  },
  {
   "cell_type": "code",
   "execution_count": 60,
   "metadata": {
    "ExecuteTime": {
     "end_time": "2020-02-15T00:34:48.372468Z",
     "start_time": "2020-02-15T00:34:48.367489Z"
    }
   },
   "outputs": [
    {
     "data": {
      "text/plain": [
       "['When everything seems to be going against you, remember that the airplane takes off against the wind, not with it.-… https://t.co/jPPmv9GdI4',\n",
       " 'When everything seems to be going against you, remember that the airplane takes off against the wind, not with it.-… https://t.co/Vg1Ed02y1t',\n",
       " '@hewitt_nancy Good evening. Please send Ford Motor Company a DM with more information regarding this situation. I w… https://t.co/2MQjPmr6i5',\n",
       " '@ElMajeSabe Good afternoon. Please send Ford Motor Company a DM with more information regarding this situation. I w… https://t.co/S4K7MAf5AN',\n",
       " 'Ford Is In The Doghouse - Ford Motor Company (NYSE:F) | Seeking Alpha https://t.co/2I2l1wQfmg',\n",
       " 'Technician job training program, launched in Pittsburgh, rolls out nationally: The program, run by Ford Motor Compa… https://t.co/iPkUkULtsS',\n",
       " '@mrlevine @WSJ Henry Ford the third should replace him Hackett as President and CEO of Ford motor Company.',\n",
       " '@strraypuppy Good afternoon. Please send Ford Motor Company a DM with more information regarding this situation. I… https://t.co/bNfvQFMFFh',\n",
       " 'Ford Motor Company (F) stock dropped by 1.7576%! Currently priced at 8.105. https://t.co/PQ0t4MScer',\n",
       " 'Did you know? The Ford Motor Company has licensed a company in Tulsa to build all-new, all-metal 1965 to 1970 Musta… https://t.co/28kr2NKAWB',\n",
       " '@ParzivalLightm1 Please send Ford Motor Company a DM with more details, including your VIN and approximate mileage.… https://t.co/rQ4Y46w34k',\n",
       " \"RT @historylvrsclub: Ford's Gyron (Concept Car), 1961. See more pics: https://t.co/I8ICppYVV5 https://t.co/fKPke5XLka\",\n",
       " 'RT @michael_aip: Listening to @kenatcman CTO Ford Motor Company speak at the 2020 @CESSEorg CEO conference. What a treat! @fordmotorco http…',\n",
       " 'RT @AutomotiveWomen: It was announced today that President Joe Hinrichs of @Ford Motor Company is retiring. Mr. Hinrichs, we thank you for…',\n",
       " 'Ford Motor Company did this to my daughter! INSIDE THE CAR! https://t.co/JFk4UvlJQh',\n",
       " 'FORD MOTOR COMPANY SELLS CARS THAT INJURE THEIR CUSTOMERS AND THEIR FAMILIES! “JIM HACKETT”  PLEASE ADDRESS THIS IS… https://t.co/DrDawNZ8Ud',\n",
       " 'RT @KelleyBlueBook: What has 4-doors, goes from 0-60 in 4 seconds, and is electric? The new Ford Motor Company Mustang SUV. 🐎\\n\\n#YourCarGuid…',\n",
       " 'The Thurgood Marshall College Fund (TMCF), and Ford Motor Company Fund offer seven scholarships of up to $6,200 for… https://t.co/SZF8iRWpcY',\n",
       " '@tbo30 Good morning. Please send Ford Motor Company a DM with more information regarding this situation. I would li… https://t.co/rRKZyqZ3Up',\n",
       " '@AmloLaApp @lopezobrador_ @Ford @Forbes_Mexico Y que tiene que ver #ElCacaAMLO con una decision de FORD MOTOR COMPA… https://t.co/tFf1DTy6it',\n",
       " '@DwightWhittaker Yep, Industrial. Retired form Ford Motor Company,',\n",
       " 'When everything seems to be going against you, remember that the airplane takes off against the wind, not with it.-… https://t.co/GseGSvihf4',\n",
       " 'Truck startup and Tesla rival Nikola announces plans for electric pickup: Meet the Nikola Badger #ICYMI https://t.co/P8VxKUHDZM',\n",
       " 'RT @bbcbrasil: Há 92 anos, o magnata fundador da Ford Motor Company tentou criar uma cidade aos moldes e valores americanos no meio da selv…',\n",
       " '“Whether you think you can, or think you can’t — you’re right.”  –Henry Ford, Ford Motor Company Founder',\n",
       " '@MirStonebraker @FordPerformance Please send Ford Motor Company a DM with more details, including your VIN and appr… https://t.co/4q86H2t6pH',\n",
       " '@jncochran0069 Please send Ford Motor Company a DM with more details, including your VIN and approximate mileage. I… https://t.co/QaTKof403n',\n",
       " '1:18-Scale 2019 Ford GT #9 Heritage Edition Sculpture \\n\\n1:18-Scale 2019 Ford GT #9 Heritage Edition Sculpture With… https://t.co/v4LYhOIyxD',\n",
       " '@rickmonroe Please send Ford Motor Company a DM with more details, including your VIN and approximate mileage. I wo… https://t.co/Qs5cCQw7Gz',\n",
       " \"With Final approval this strategic partnership will be a Win Win for both company's. \\n\\n https://t.co/ZKpKXxl621\",\n",
       " 'Prior to his session at @DataCentreWorld, IT Facilities Planning &amp; Engineering Lead at @Ford, Mark Howell provides… https://t.co/SgEhSvO70w',\n",
       " 'Prior to his session at @DataCentreWorld, IT Facilities Planning &amp; Engineering Lead at @Ford, Mark Howell provides… https://t.co/fnO6Q59XdD',\n",
       " 'RT @bbcbrasil: Há 92 anos, o magnata fundador da Ford Motor Company tentou criar uma cidade aos moldes e valores americanos no meio da selv…',\n",
       " \"@Ford Motor Company has announced two more editions to it's supercar the Ford GT. Find out what changes have been m… https://t.co/p1EKTRlIOW\",\n",
       " \"#BizAfrica: Landmark investment secured for 60MW Djibouti Wind Farm Project | Yale Women's Leadership Programme lau… https://t.co/zofDajQ0tT\",\n",
       " \"Landmark investment secured for 60MW Djibouti Wind Farm Project | Yale Women's Leadership Programme launches in Par… https://t.co/jHQ8UULsmE\",\n",
       " 'RT @bbcbrasil: Há 92 anos, o magnata fundador da Ford Motor Company tentou criar uma cidade aos moldes e valores americanos no meio da selv…',\n",
       " 'RT @CMusedtrucks: Ford &amp; Slater is the one of the largest DAF Trucks dealership groups in the UK selling new and quality used trucks. There…',\n",
       " 'RT @bbcbrasil: Há 92 anos, o magnata fundador da Ford Motor Company tentou criar uma cidade aos moldes e valores americanos no meio da selv…',\n",
       " '4x4 Vans : Quigley Motor Company, Inc. &gt; Quigley Products &gt; Quigley 4x4 Ford Transit Vans &gt; Pricing Guide\\nhttps://t.co/RIcI5z0vKk',\n",
       " 'When everything seems to be going against you, remember that the airplane takes off against the wind, not with it.-… https://t.co/gVrCUC5E3n',\n",
       " 'RT @bbcbrasil: Há 92 anos, o magnata fundador da Ford Motor Company tentou criar uma cidade aos moldes e valores americanos no meio da selv…',\n",
       " 'RT @bbcbrasil: Há 92 anos, o magnata fundador da Ford Motor Company tentou criar uma cidade aos moldes e valores americanos no meio da selv…',\n",
       " 'When everything seems to be going against you, remember that the airplane takes off against the wind, not with it.-… https://t.co/li0odqKE1G',\n",
       " 'RT @bbcbrasil: Há 92 anos, o magnata fundador da Ford Motor Company tentou criar uma cidade aos moldes e valores americanos no meio da selv…',\n",
       " 'RT @bbcbrasil: Há 92 anos, o magnata fundador da Ford Motor Company tentou criar uma cidade aos moldes e valores americanos no meio da selv…',\n",
       " 'RT @AutosTrucksRods: 1947 Ford Woodie Wagon..From 1929 up to 1951 Ford Motor Company sold the most popular woodie station wagons during tho…',\n",
       " 'RT @bbcbrasil: Há 92 anos, o magnata fundador da Ford Motor Company tentou criar uma cidade aos moldes e valores americanos no meio da selv…',\n",
       " 'RT @bbcbrasil: Há 92 anos, o magnata fundador da Ford Motor Company tentou criar uma cidade aos moldes e valores americanos no meio da selv…',\n",
       " 'RT @bbcbrasil: Há 92 anos, o magnata fundador da Ford Motor Company tentou criar uma cidade aos moldes e valores americanos no meio da selv…',\n",
       " 'RT @bbcbrasil: Há 92 anos, o magnata fundador da Ford Motor Company tentou criar uma cidade aos moldes e valores americanos no meio da selv…',\n",
       " 'RT @bbcbrasil: Há 92 anos, o magnata fundador da Ford Motor Company tentou criar uma cidade aos moldes e valores americanos no meio da selv…',\n",
       " '#RDRJ  RT @bbcbrasil: Há 92 anos, o magnata fundador da Ford Motor Company tentou criar uma cidade aos moldes e val… https://t.co/LYadecNTLH',\n",
       " 'RT @bbcbrasil: Há 92 anos, o magnata fundador da Ford Motor Company tentou criar uma cidade aos moldes e valores americanos no meio da selv…',\n",
       " 'RT @bbcbrasil: Há 92 anos, o magnata fundador da Ford Motor Company tentou criar uma cidade aos moldes e valores americanos no meio da selv…',\n",
       " \"With Final approval this strategic partnership will be a Win Win for both company's. \\n\\n https://t.co/HQijIkqTqR\",\n",
       " 'RT @bbcbrasil: Há 92 anos, o magnata fundador da Ford Motor Company tentou criar uma cidade aos moldes e valores americanos no meio da selv…',\n",
       " 'Há 92 anos, o magnata fundador da Ford Motor Company tentou criar uma cidade aos moldes e valores americanos no mei… https://t.co/mYUcTCCtrr',\n",
       " '@Abrugh94 @TeamHendrick @AxaltaRacing @WilliamByron @DISupdates Chinese Ford Motor Company has something to say on that heh',\n",
       " '@AokElizabeth I wish I was a Ford Motor Company heir. Lol  Too funny!!!',\n",
       " 'RT @patosins: D-FORD DESIGN THINKING CATALYST at Ford Motor Company #Innovation #designthinking via https://t.co/51Q7uqVBnT https://t.co/Kg…',\n",
       " 'D-FORD DESIGN THINKING CATALYST at Ford Motor Company #Innovation #designthinking via https://t.co/51Q7uqVBnT https://t.co/KgsJcNIw26',\n",
       " '@bigshirley1979 @Ford Had a Fusion Hybrid as a company car for about a year, and loved it.  But the motor on my wif… https://t.co/HsVsXmViCE',\n",
       " \"@Foolich @brianlilley Next time Unifor has a strike with Ford Motor company I'll tell them to take their holiday ti… https://t.co/0ueIFaSP8P\",\n",
       " 'F-150 flawlessly incorporates the Harley theme inside and out, but it is pricey.\\nFord Motor Company regularly inclu… https://t.co/EOBa3AAiXf',\n",
       " '4x4 Vans : Quigley Motor Company, Inc. &gt; Quigley Products &gt; Quigley 4x4 Ford Transit Vans &gt; Pricing Guide\\nhttps://t.co/5Tfe5ilplJ',\n",
       " \"RT @historylvrsclub: Ford's Gyron (Concept Car), 1961. See more pics: https://t.co/I8ICppYVV5 https://t.co/fKPke5XLka\",\n",
       " 'When everything seems to be going against you, remember that the airplane takes off against the wind, not with it.-… https://t.co/BXJTBBFRqQ',\n",
       " 'Aristeo was awarded a Michigan #Concrete Association Excellence in Concrete #Award for our part in the Ford Motor C… https://t.co/4P5P4R0dyH',\n",
       " \"RT @historylvrsclub: Ford's Gyron (Concept Car), 1961. See more pics: https://t.co/I8ICppYVV5 https://t.co/fKPke5XLka\",\n",
       " '@MaximusCrassus @RespectSoftware @ericslo84421467 @pops095 @CassiusKing16 @Cernovich @BonginoReport You keep gettin… https://t.co/DwXrWkyyEs',\n",
       " \"RT @historylvrsclub: Ford's Gyron (Concept Car), 1961. See more pics: https://t.co/I8ICppYVV5 https://t.co/fKPke5XLka\",\n",
       " 'RT @mrlevine: Ford F-150, Mustang, SYNC 3 Propel Ford Motor Company To Top 3 Ranking In J.D. Power 2020 Vehicle Dependability Study: https:…',\n",
       " \"RT @historylvrsclub: Ford's Gyron (Concept Car), 1961. See more pics: https://t.co/I8ICppYVV5 https://t.co/fKPke5XLka\",\n",
       " '2013-18 Ford Flex and Lincoln MKT and 2013-18 Ford Taurus Police Interceptor among vehicles included in safety reca… https://t.co/Ya8z1gbYlZ',\n",
       " \"RT @historylvrsclub: Ford's Gyron (Concept Car), 1961. See more pics: https://t.co/I8ICppYVV5 https://t.co/fKPke5XLka\",\n",
       " \"RT @historylvrsclub: Ford's Gyron (Concept Car), 1961. See more pics: https://t.co/I8ICppYVV5 https://t.co/fKPke5XLka\",\n",
       " 'The Ford Fusion is a four-door, five-passenger mid-size sedan manufactured and marketed by the Ford Motor Company.… https://t.co/IS3D0xr5CA',\n",
       " \"RT @historylvrsclub: Ford's Gyron (Concept Car), 1961. See more pics: https://t.co/I8ICppYVV5 https://t.co/fKPke5XLka\",\n",
       " \"RT @historylvrsclub: Ford's Gyron (Concept Car), 1961. See more pics: https://t.co/I8ICppYVV5 https://t.co/fKPke5XLka\",\n",
       " 'Reading a Law case where a husband and wife owned a 1991 Mustang and put in their wills that if both of them should… https://t.co/Et4qliJszq',\n",
       " \"RT @historylvrsclub: Ford's Gyron (Concept Car), 1961. See more pics: https://t.co/I8ICppYVV5 https://t.co/fKPke5XLka\",\n",
       " \"RT @historylvrsclub: Ford's Gyron (Concept Car), 1961. See more pics: https://t.co/I8ICppYVV5 https://t.co/fKPke5XLka\",\n",
       " \"RT @historylvrsclub: Ford's Gyron (Concept Car), 1961. See more pics: https://t.co/I8ICppYVV5 https://t.co/fKPke5XLka\",\n",
       " 'RT @GISTNetwork: Yisel Cabrera develops and directs philanthropic, charitable, and community relations programs of @Ford Motor Company Fund…',\n",
       " \"RT @historylvrsclub: Ford's Gyron (Concept Car), 1961. See more pics: https://t.co/I8ICppYVV5 https://t.co/fKPke5XLka\",\n",
       " \"RT @historylvrsclub: Ford's Gyron (Concept Car), 1961. See more pics: https://t.co/I8ICppYVV5 https://t.co/fKPke5XLka\",\n",
       " \"RT @historylvrsclub: Ford's Gyron (Concept Car), 1961. See more pics: https://t.co/I8ICppYVV5 https://t.co/fKPke5XLka\",\n",
       " \"RT @historylvrsclub: Ford's Gyron (Concept Car), 1961. See more pics: https://t.co/I8ICppYVV5 https://t.co/fKPke5XLka\",\n",
       " \"RT @historylvrsclub: Ford's Gyron (Concept Car), 1961. See more pics: https://t.co/I8ICppYVV5 https://t.co/fKPke5XLka\",\n",
       " \"RT @historylvrsclub: Ford's Gyron (Concept Car), 1961. See more pics: https://t.co/I8ICppYVV5 https://t.co/fKPke5XLka\",\n",
       " \"RT @historylvrsclub: Ford's Gyron (Concept Car), 1961. See more pics: https://t.co/I8ICppYVV5 https://t.co/fKPke5XLka\",\n",
       " '@Ford\\n\\n@FordMustang\\n\\nJust your daily reminder that the #MustangMachE is #NotAMustang and that nearly the entire… https://t.co/orGDt2ADYA',\n",
       " \"RT @historylvrsclub: Ford's Gyron (Concept Car), 1961. See more pics: https://t.co/I8ICppYVV5 https://t.co/fKPke5XLka\",\n",
       " \"RT @historylvrsclub: Ford's Gyron (Concept Car), 1961. See more pics: https://t.co/I8ICppYVV5 https://t.co/fKPke5XLka\",\n",
       " \"RT @historylvrsclub: Ford's Gyron (Concept Car), 1961. See more pics: https://t.co/I8ICppYVV5 https://t.co/fKPke5XLka\",\n",
       " \"RT @historylvrsclub: Ford's Gyron (Concept Car), 1961. See more pics: https://t.co/I8ICppYVV5 https://t.co/fKPke5XLka\",\n",
       " \"RT @historylvrsclub: Ford's Gyron (Concept Car), 1961. See more pics: https://t.co/I8ICppYVV5 https://t.co/fKPke5XLka\",\n",
       " \"RT @historylvrsclub: Ford's Gyron (Concept Car), 1961. See more pics: https://t.co/I8ICppYVV5 https://t.co/fKPke5XLka\",\n",
       " \"RT @historylvrsclub: Ford's Gyron (Concept Car), 1961. See more pics: https://t.co/I8ICppYVV5 https://t.co/fKPke5XLka\"]"
      ]
     },
     "execution_count": 60,
     "metadata": {},
     "output_type": "execute_result"
    }
   ],
   "source": [
    "[tweet.text for tweet in Ford]"
   ]
  },
  {
   "cell_type": "code",
   "execution_count": null,
   "metadata": {},
   "outputs": [],
   "source": [
    "import preprocesso"
   ]
  }
 ],
 "metadata": {
  "kernelspec": {
   "display_name": "Python 3",
   "language": "python",
   "name": "python3"
  },
  "language_info": {
   "codemirror_mode": {
    "name": "ipython",
    "version": 3
   },
   "file_extension": ".py",
   "mimetype": "text/x-python",
   "name": "python",
   "nbconvert_exporter": "python",
   "pygments_lexer": "ipython3",
   "version": "3.7.4"
  },
  "toc": {
   "base_numbering": 1,
   "nav_menu": {},
   "number_sections": true,
   "sideBar": true,
   "skip_h1_title": false,
   "title_cell": "Table of Contents",
   "title_sidebar": "Contents",
   "toc_cell": false,
   "toc_position": {},
   "toc_section_display": true,
   "toc_window_display": false
  },
  "varInspector": {
   "cols": {
    "lenName": 16,
    "lenType": 16,
    "lenVar": 40
   },
   "kernels_config": {
    "python": {
     "delete_cmd_postfix": "",
     "delete_cmd_prefix": "del ",
     "library": "var_list.py",
     "varRefreshCmd": "print(var_dic_list())"
    },
    "r": {
     "delete_cmd_postfix": ") ",
     "delete_cmd_prefix": "rm(",
     "library": "var_list.r",
     "varRefreshCmd": "cat(var_dic_list()) "
    }
   },
   "types_to_exclude": [
    "module",
    "function",
    "builtin_function_or_method",
    "instance",
    "_Feature"
   ],
   "window_display": false
  }
 },
 "nbformat": 4,
 "nbformat_minor": 2
}
